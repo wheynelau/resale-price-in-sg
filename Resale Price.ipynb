{
 "cells": [
  {
   "cell_type": "markdown",
   "metadata": {
    "pycharm": {
     "name": "#%% md\n"
    }
   },
   "source": [
    "# Resale data in Singapore - EDA\n",
    "\n",
    "This notebook analyses the Resale data in Singapore from 1990 to 2021\n",
    "\n",
    "The machine learning models is in the other notebooks: Resale Prices with lat lon and Resale price prediction\n",
    "\n",
    "All data is available from data.gov.sg"
   ]
  },
  {
   "cell_type": "code",
   "execution_count": 2,
   "metadata": {
    "pycharm": {
     "name": "#%%\n"
    }
   },
   "outputs": [],
   "source": [
    "import pandas as pd\n",
    "import numpy as np\n",
    "import seaborn as sns\n",
    "import matplotlib.pyplot as plt\n",
    "from sklearn.model_selection import train_test_split\n",
    "import datetime"
   ]
  },
  {
   "cell_type": "markdown",
   "metadata": {
    "pycharm": {
     "name": "#%% md\n"
    }
   },
   "source": [
    "## Preprocessing and cleaning"
   ]
  },
  {
   "cell_type": "code",
   "execution_count": 3,
   "metadata": {
    "pycharm": {
     "name": "#%%\n"
    }
   },
   "outputs": [],
   "source": [
    "resale_1990_1999 =  pd.read_csv(\n",
    "    'resale-flat-prices/resale-flat-prices-based-on-approval-date-1990-1999.csv',\n",
    "                               parse_dates=True)\n",
    "resale_2000_2012 = pd.read_csv(\n",
    "    'resale-flat-prices/resale-flat-prices-based-on-approval-date-2000-feb-2012.csv',\n",
    "                               parse_dates=True)\n",
    "\n",
    "resale_2012_2014 = pd.read_csv(\n",
    "    'resale-flat-prices/resale-flat-prices-based-on-registration-date-from-mar-2012-to-dec-2014.csv',\n",
    "                               parse_dates=True)\n",
    "resale_2015_2016 = pd.read_csv(\n",
    "    'resale-flat-prices/resale-flat-prices-based-on-registration-date-from-jan-2015-to-dec-2016.csv',\n",
    "                               parse_dates=True)\n",
    "resale_2017 = pd.read_csv(\n",
    "    'resale-flat-prices/resale-flat-prices-based-on-registration-date-from-jan-2017-onwards.csv',\n",
    "                               parse_dates=True)"
   ]
  },
  {
   "cell_type": "code",
   "execution_count": 4,
   "metadata": {
    "pycharm": {
     "name": "#%%\n"
    }
   },
   "outputs": [
    {
     "data": {
      "text/plain": "     month        town flat_type block       street_name storey_range  \\\n0  1990-01  ANG MO KIO    1 ROOM   309  ANG MO KIO AVE 1     10 TO 12   \n1  1990-01  ANG MO KIO    1 ROOM   309  ANG MO KIO AVE 1     04 TO 06   \n2  1990-01  ANG MO KIO    1 ROOM   309  ANG MO KIO AVE 1     10 TO 12   \n3  1990-01  ANG MO KIO    1 ROOM   309  ANG MO KIO AVE 1     07 TO 09   \n4  1990-01  ANG MO KIO    3 ROOM   216  ANG MO KIO AVE 1     04 TO 06   \n\n   floor_area_sqm      flat_model  lease_commence_date  resale_price  \\\n0            31.0        IMPROVED                 1977        9000.0   \n1            31.0        IMPROVED                 1977        6000.0   \n2            31.0        IMPROVED                 1977        8000.0   \n3            31.0        IMPROVED                 1977        6000.0   \n4            73.0  NEW GENERATION                 1976       47200.0   \n\n  remaining_lease  \n0             NaN  \n1             NaN  \n2             NaN  \n3             NaN  \n4             NaN  ",
      "text/html": "<div>\n<style scoped>\n    .dataframe tbody tr th:only-of-type {\n        vertical-align: middle;\n    }\n\n    .dataframe tbody tr th {\n        vertical-align: top;\n    }\n\n    .dataframe thead th {\n        text-align: right;\n    }\n</style>\n<table border=\"1\" class=\"dataframe\">\n  <thead>\n    <tr style=\"text-align: right;\">\n      <th></th>\n      <th>month</th>\n      <th>town</th>\n      <th>flat_type</th>\n      <th>block</th>\n      <th>street_name</th>\n      <th>storey_range</th>\n      <th>floor_area_sqm</th>\n      <th>flat_model</th>\n      <th>lease_commence_date</th>\n      <th>resale_price</th>\n      <th>remaining_lease</th>\n    </tr>\n  </thead>\n  <tbody>\n    <tr>\n      <th>0</th>\n      <td>1990-01</td>\n      <td>ANG MO KIO</td>\n      <td>1 ROOM</td>\n      <td>309</td>\n      <td>ANG MO KIO AVE 1</td>\n      <td>10 TO 12</td>\n      <td>31.0</td>\n      <td>IMPROVED</td>\n      <td>1977</td>\n      <td>9000.0</td>\n      <td>NaN</td>\n    </tr>\n    <tr>\n      <th>1</th>\n      <td>1990-01</td>\n      <td>ANG MO KIO</td>\n      <td>1 ROOM</td>\n      <td>309</td>\n      <td>ANG MO KIO AVE 1</td>\n      <td>04 TO 06</td>\n      <td>31.0</td>\n      <td>IMPROVED</td>\n      <td>1977</td>\n      <td>6000.0</td>\n      <td>NaN</td>\n    </tr>\n    <tr>\n      <th>2</th>\n      <td>1990-01</td>\n      <td>ANG MO KIO</td>\n      <td>1 ROOM</td>\n      <td>309</td>\n      <td>ANG MO KIO AVE 1</td>\n      <td>10 TO 12</td>\n      <td>31.0</td>\n      <td>IMPROVED</td>\n      <td>1977</td>\n      <td>8000.0</td>\n      <td>NaN</td>\n    </tr>\n    <tr>\n      <th>3</th>\n      <td>1990-01</td>\n      <td>ANG MO KIO</td>\n      <td>1 ROOM</td>\n      <td>309</td>\n      <td>ANG MO KIO AVE 1</td>\n      <td>07 TO 09</td>\n      <td>31.0</td>\n      <td>IMPROVED</td>\n      <td>1977</td>\n      <td>6000.0</td>\n      <td>NaN</td>\n    </tr>\n    <tr>\n      <th>4</th>\n      <td>1990-01</td>\n      <td>ANG MO KIO</td>\n      <td>3 ROOM</td>\n      <td>216</td>\n      <td>ANG MO KIO AVE 1</td>\n      <td>04 TO 06</td>\n      <td>73.0</td>\n      <td>NEW GENERATION</td>\n      <td>1976</td>\n      <td>47200.0</td>\n      <td>NaN</td>\n    </tr>\n  </tbody>\n</table>\n</div>"
     },
     "execution_count": 4,
     "metadata": {},
     "output_type": "execute_result"
    }
   ],
   "source": [
    "#Combine 3 csv into one with concat\n",
    "df = pd.concat([resale_1990_1999,resale_2000_2012,resale_2012_2014,resale_2015_2016,resale_2017],ignore_index = True)\n",
    "# view headers\n",
    "df.head()"
   ]
  },
  {
   "cell_type": "code",
   "execution_count": 5,
   "outputs": [
    {
     "data": {
      "text/plain": "0    10 TO 12\n1    04 TO 06\n2    10 TO 12\n3    07 TO 09\n4    04 TO 06\nName: storey_range, dtype: object"
     },
     "execution_count": 5,
     "metadata": {},
     "output_type": "execute_result"
    }
   ],
   "source": [
    "# View storey range\n",
    "df['storey_range'].head()"
   ],
   "metadata": {
    "collapsed": false,
    "pycharm": {
     "name": "#%%\n"
    }
   }
  },
  {
   "cell_type": "code",
   "execution_count": 17,
   "outputs": [
    {
     "data": {
      "text/plain": "    0   1\n0  10  12\n1   4   6\n2  10  12\n3   7   9\n4   4   6",
      "text/html": "<div>\n<style scoped>\n    .dataframe tbody tr th:only-of-type {\n        vertical-align: middle;\n    }\n\n    .dataframe tbody tr th {\n        vertical-align: top;\n    }\n\n    .dataframe thead th {\n        text-align: right;\n    }\n</style>\n<table border=\"1\" class=\"dataframe\">\n  <thead>\n    <tr style=\"text-align: right;\">\n      <th></th>\n      <th>0</th>\n      <th>1</th>\n    </tr>\n  </thead>\n  <tbody>\n    <tr>\n      <th>0</th>\n      <td>10</td>\n      <td>12</td>\n    </tr>\n    <tr>\n      <th>1</th>\n      <td>4</td>\n      <td>6</td>\n    </tr>\n    <tr>\n      <th>2</th>\n      <td>10</td>\n      <td>12</td>\n    </tr>\n    <tr>\n      <th>3</th>\n      <td>7</td>\n      <td>9</td>\n    </tr>\n    <tr>\n      <th>4</th>\n      <td>4</td>\n      <td>6</td>\n    </tr>\n  </tbody>\n</table>\n</div>"
     },
     "execution_count": 17,
     "metadata": {},
     "output_type": "execute_result"
    }
   ],
   "source": [
    "# split storey range into two columns with a low and high\n",
    "df_storey =df['storey_range'].str.split(pat = \" TO \", expand=True)\n",
    "df_storey = df_storey.astype(int)\n",
    "df_storey.head()"
   ],
   "metadata": {
    "collapsed": false,
    "pycharm": {
     "name": "#%%\n"
    }
   }
  },
  {
   "cell_type": "code",
   "execution_count": 18,
   "outputs": [],
   "source": [
    "storey_range= df_storey.mean(axis = 1)"
   ],
   "metadata": {
    "collapsed": false,
    "pycharm": {
     "name": "#%%\n"
    }
   }
  },
  {
   "cell_type": "code",
   "execution_count": 39,
   "outputs": [
    {
     "data": {
      "text/plain": "<Figure size 432x288 with 1 Axes>",
      "image/png": "[encoded data removed]"
     },
     "metadata": {},
     "output_type": "display_data"
    },
    {
     "data": {
      "text/plain": "<Figure size 432x288 with 1 Axes>",
      "image/png": "[encoded data removed]"
     },
     "metadata": {},
     "output_type": "display_data"
    }
   ],
   "source": [
    "# reason for this plot is to show most of the flats being sold\n",
    "storey_range.plot(kind= 'hist',xlim = (0,30),bins = 20)\n",
    "plt.show()\n",
    "storey_range.plot(kind = 'hist',xlim = (30,100) ,ylim = (0,1000), bins =20)\n",
    "plt.show()"
   ],
   "metadata": {
    "collapsed": false,
    "pycharm": {
     "name": "#%%\n"
    }
   }
  },
  {
   "cell_type": "code",
   "execution_count": 6,
   "metadata": {
    "pycharm": {
     "name": "#%%\n"
    }
   },
   "outputs": [
    {
     "data": {
      "text/html": [
       "<div>\n",
       "<style scoped>\n",
       "    .dataframe tbody tr th:only-of-type {\n",
       "        vertical-align: middle;\n",
       "    }\n",
       "\n",
       "    .dataframe tbody tr th {\n",
       "        vertical-align: top;\n",
       "    }\n",
       "\n",
       "    .dataframe thead th {\n",
       "        text-align: right;\n",
       "    }\n",
       "</style>\n",
       "<table border=\"1\" class=\"dataframe\">\n",
       "  <thead>\n",
       "    <tr style=\"text-align: right;\">\n",
       "      <th></th>\n",
       "      <th>month</th>\n",
       "      <th>town</th>\n",
       "      <th>flat_type</th>\n",
       "      <th>floor_area_sqm</th>\n",
       "      <th>flat_model</th>\n",
       "      <th>lease_commence_date</th>\n",
       "      <th>resale_price</th>\n",
       "      <th>remaining_lease</th>\n",
       "      <th>Storey</th>\n",
       "    </tr>\n",
       "  </thead>\n",
       "  <tbody>\n",
       "    <tr>\n",
       "      <th>0</th>\n",
       "      <td>1990-01</td>\n",
       "      <td>ANG MO KIO</td>\n",
       "      <td>1 ROOM</td>\n",
       "      <td>31.0</td>\n",
       "      <td>IMPROVED</td>\n",
       "      <td>1977</td>\n",
       "      <td>9000.0</td>\n",
       "      <td>NaN</td>\n",
       "      <td>11.0</td>\n",
       "    </tr>\n",
       "    <tr>\n",
       "      <th>1</th>\n",
       "      <td>1990-01</td>\n",
       "      <td>ANG MO KIO</td>\n",
       "      <td>1 ROOM</td>\n",
       "      <td>31.0</td>\n",
       "      <td>IMPROVED</td>\n",
       "      <td>1977</td>\n",
       "      <td>6000.0</td>\n",
       "      <td>NaN</td>\n",
       "      <td>5.0</td>\n",
       "    </tr>\n",
       "    <tr>\n",
       "      <th>2</th>\n",
       "      <td>1990-01</td>\n",
       "      <td>ANG MO KIO</td>\n",
       "      <td>1 ROOM</td>\n",
       "      <td>31.0</td>\n",
       "      <td>IMPROVED</td>\n",
       "      <td>1977</td>\n",
       "      <td>8000.0</td>\n",
       "      <td>NaN</td>\n",
       "      <td>11.0</td>\n",
       "    </tr>\n",
       "    <tr>\n",
       "      <th>3</th>\n",
       "      <td>1990-01</td>\n",
       "      <td>ANG MO KIO</td>\n",
       "      <td>1 ROOM</td>\n",
       "      <td>31.0</td>\n",
       "      <td>IMPROVED</td>\n",
       "      <td>1977</td>\n",
       "      <td>6000.0</td>\n",
       "      <td>NaN</td>\n",
       "      <td>8.0</td>\n",
       "    </tr>\n",
       "    <tr>\n",
       "      <th>4</th>\n",
       "      <td>1990-01</td>\n",
       "      <td>ANG MO KIO</td>\n",
       "      <td>3 ROOM</td>\n",
       "      <td>73.0</td>\n",
       "      <td>NEW GENERATION</td>\n",
       "      <td>1976</td>\n",
       "      <td>47200.0</td>\n",
       "      <td>NaN</td>\n",
       "      <td>5.0</td>\n",
       "    </tr>\n",
       "    <tr>\n",
       "      <th>...</th>\n",
       "      <td>...</td>\n",
       "      <td>...</td>\n",
       "      <td>...</td>\n",
       "      <td>...</td>\n",
       "      <td>...</td>\n",
       "      <td>...</td>\n",
       "      <td>...</td>\n",
       "      <td>...</td>\n",
       "      <td>...</td>\n",
       "    </tr>\n",
       "    <tr>\n",
       "      <th>854246</th>\n",
       "      <td>2021-09</td>\n",
       "      <td>YISHUN</td>\n",
       "      <td>5 ROOM</td>\n",
       "      <td>113.0</td>\n",
       "      <td>Improved</td>\n",
       "      <td>2017</td>\n",
       "      <td>655000.0</td>\n",
       "      <td>95 years</td>\n",
       "      <td>11.0</td>\n",
       "    </tr>\n",
       "    <tr>\n",
       "      <th>854247</th>\n",
       "      <td>2021-09</td>\n",
       "      <td>YISHUN</td>\n",
       "      <td>5 ROOM</td>\n",
       "      <td>127.0</td>\n",
       "      <td>Improved</td>\n",
       "      <td>1988</td>\n",
       "      <td>620000.0</td>\n",
       "      <td>65 years 05 months</td>\n",
       "      <td>5.0</td>\n",
       "    </tr>\n",
       "    <tr>\n",
       "      <th>854248</th>\n",
       "      <td>2021-09</td>\n",
       "      <td>YISHUN</td>\n",
       "      <td>5 ROOM</td>\n",
       "      <td>122.0</td>\n",
       "      <td>Improved</td>\n",
       "      <td>1988</td>\n",
       "      <td>545000.0</td>\n",
       "      <td>65 years 08 months</td>\n",
       "      <td>5.0</td>\n",
       "    </tr>\n",
       "    <tr>\n",
       "      <th>854249</th>\n",
       "      <td>2021-09</td>\n",
       "      <td>YISHUN</td>\n",
       "      <td>EXECUTIVE</td>\n",
       "      <td>142.0</td>\n",
       "      <td>Apartment</td>\n",
       "      <td>1987</td>\n",
       "      <td>648000.0</td>\n",
       "      <td>64 years 08 months</td>\n",
       "      <td>11.0</td>\n",
       "    </tr>\n",
       "    <tr>\n",
       "      <th>854250</th>\n",
       "      <td>2021-09</td>\n",
       "      <td>YISHUN</td>\n",
       "      <td>EXECUTIVE</td>\n",
       "      <td>142.0</td>\n",
       "      <td>Apartment</td>\n",
       "      <td>1988</td>\n",
       "      <td>732000.0</td>\n",
       "      <td>65 years 05 months</td>\n",
       "      <td>8.0</td>\n",
       "    </tr>\n",
       "  </tbody>\n",
       "</table>\n",
       "<p>854251 rows × 9 columns</p>\n",
       "</div>"
      ],
      "text/plain": [
       "          month        town  flat_type  floor_area_sqm      flat_model  \\\n",
       "0       1990-01  ANG MO KIO     1 ROOM            31.0        IMPROVED   \n",
       "1       1990-01  ANG MO KIO     1 ROOM            31.0        IMPROVED   \n",
       "2       1990-01  ANG MO KIO     1 ROOM            31.0        IMPROVED   \n",
       "3       1990-01  ANG MO KIO     1 ROOM            31.0        IMPROVED   \n",
       "4       1990-01  ANG MO KIO     3 ROOM            73.0  NEW GENERATION   \n",
       "...         ...         ...        ...             ...             ...   \n",
       "854246  2021-09      YISHUN     5 ROOM           113.0        Improved   \n",
       "854247  2021-09      YISHUN     5 ROOM           127.0        Improved   \n",
       "854248  2021-09      YISHUN     5 ROOM           122.0        Improved   \n",
       "854249  2021-09      YISHUN  EXECUTIVE           142.0       Apartment   \n",
       "854250  2021-09      YISHUN  EXECUTIVE           142.0       Apartment   \n",
       "\n",
       "        lease_commence_date  resale_price     remaining_lease  Storey  \n",
       "0                      1977        9000.0                 NaN    11.0  \n",
       "1                      1977        6000.0                 NaN     5.0  \n",
       "2                      1977        8000.0                 NaN    11.0  \n",
       "3                      1977        6000.0                 NaN     8.0  \n",
       "4                      1976       47200.0                 NaN     5.0  \n",
       "...                     ...           ...                 ...     ...  \n",
       "854246                 2017      655000.0            95 years    11.0  \n",
       "854247                 1988      620000.0  65 years 05 months     5.0  \n",
       "854248                 1988      545000.0  65 years 08 months     5.0  \n",
       "854249                 1987      648000.0  64 years 08 months    11.0  \n",
       "854250                 1988      732000.0  65 years 05 months     8.0  \n",
       "\n",
       "[854251 rows x 9 columns]"
      ]
     },
     "execution_count": 6,
     "metadata": {},
     "output_type": "execute_result"
    }
   ],
   "source": [
    "# Create target variable Dataframe\n",
    "# Drop block, storey range and street name as irrelevant and difficult to work with\n",
    "# Check .info() of features\n",
    "\n",
    "price= df['resale_price']\n",
    "features = df.drop(columns = ['block','storey_range','street_name'], axis = 1)\n",
    "features = pd.concat([features,df_storeyrange],axis=1)\n",
    "features = features.rename(columns={0: \"Storey\"})\n",
    "features"
   ]
  },
  {
   "cell_type": "code",
   "execution_count": 7,
   "metadata": {
    "pycharm": {
     "name": "#%%\n"
    }
   },
   "outputs": [
    {
     "data": {
      "text/plain": [
       "array(['1 ROOM', '3 ROOM', '4 ROOM', '5 ROOM', '2 ROOM', 'EXECUTIVE',\n",
       "       'MULTI GENERATION', 'MULTI-GENERATION'], dtype=object)"
      ]
     },
     "execution_count": 7,
     "metadata": {},
     "output_type": "execute_result"
    }
   ],
   "source": [
    "features['flat_type'].unique()"
   ]
  },
  {
   "cell_type": "code",
   "execution_count": 8,
   "metadata": {
    "pycharm": {
     "name": "#%%\n"
    }
   },
   "outputs": [
    {
     "data": {
      "text/plain": [
       "array(['1 ROOM', '3 ROOM', '4 ROOM', '5 ROOM', '2 ROOM', 'EXECUTIVE',\n",
       "       'MULTI-GENERATION'], dtype=object)"
      ]
     },
     "execution_count": 8,
     "metadata": {},
     "output_type": "execute_result"
    }
   ],
   "source": [
    "features['flat_type'] = features['flat_type'].map({'MULTI GENERATION': 'MULTI-GENERATION'}).fillna(features['flat_type'])\n",
    "features['flat_type'].unique()"
   ]
  },
  {
   "cell_type": "code",
   "execution_count": 9,
   "metadata": {
    "pycharm": {
     "name": "#%%\n"
    }
   },
   "outputs": [
    {
     "data": {
      "text/plain": [
       "month                   string\n",
       "town                    string\n",
       "flat_type               string\n",
       "floor_area_sqm         float64\n",
       "flat_model              string\n",
       "lease_commence_date      Int64\n",
       "resale_price           float64\n",
       "remaining_lease         object\n",
       "Storey                   Int64\n",
       "dtype: object"
      ]
     },
     "execution_count": 9,
     "metadata": {},
     "output_type": "execute_result"
    }
   ],
   "source": [
    "# Convert objects to best possible dtypes\n",
    "features = features.infer\n",
    "features.dtypes"
   ]
  },
  {
   "cell_type": "markdown",
   "metadata": {
    "pycharm": {
     "name": "#%% md\n"
    }
   },
   "source": [
    "### Dealing with NaN values\n",
    "\n",
    "Remaining_lease has many NaN values. Instead of dropping it or imputing, it can be estimated with the difference in month and lease commencement date. This is also based on the assumption that the lease is 99 years long. "
   ]
  },
  {
   "cell_type": "code",
   "execution_count": 10,
   "metadata": {
    "pycharm": {
     "name": "#%%\n"
    }
   },
   "outputs": [
    {
     "data": {
      "text/html": [
       "<div>\n",
       "<style scoped>\n",
       "    .dataframe tbody tr th:only-of-type {\n",
       "        vertical-align: middle;\n",
       "    }\n",
       "\n",
       "    .dataframe tbody tr th {\n",
       "        vertical-align: top;\n",
       "    }\n",
       "\n",
       "    .dataframe thead th {\n",
       "        text-align: right;\n",
       "    }\n",
       "</style>\n",
       "<table border=\"1\" class=\"dataframe\">\n",
       "  <thead>\n",
       "    <tr style=\"text-align: right;\">\n",
       "      <th></th>\n",
       "      <th>month</th>\n",
       "      <th>town</th>\n",
       "      <th>flat_type</th>\n",
       "      <th>floor_area_sqm</th>\n",
       "      <th>flat_model</th>\n",
       "      <th>lease_commence_date</th>\n",
       "      <th>resale_price</th>\n",
       "      <th>remaining_lease</th>\n",
       "      <th>Storey</th>\n",
       "      <th>lease_commence_dt</th>\n",
       "    </tr>\n",
       "  </thead>\n",
       "  <tbody>\n",
       "    <tr>\n",
       "      <th>560246</th>\n",
       "      <td>2008-10-01</td>\n",
       "      <td>JURONG WEST</td>\n",
       "      <td>4 ROOM</td>\n",
       "      <td>107.0</td>\n",
       "      <td>Model A</td>\n",
       "      <td>1984</td>\n",
       "      <td>265000.0</td>\n",
       "      <td>NaN</td>\n",
       "      <td>5</td>\n",
       "      <td>1984-01-01</td>\n",
       "    </tr>\n",
       "    <tr>\n",
       "      <th>829777</th>\n",
       "      <td>2020-11-01</td>\n",
       "      <td>HOUGANG</td>\n",
       "      <td>3 ROOM</td>\n",
       "      <td>67.0</td>\n",
       "      <td>New Generation</td>\n",
       "      <td>1985</td>\n",
       "      <td>283000.0</td>\n",
       "      <td>64 years 01 month</td>\n",
       "      <td>5</td>\n",
       "      <td>1985-01-01</td>\n",
       "    </tr>\n",
       "    <tr>\n",
       "      <th>289206</th>\n",
       "      <td>2000-01-01</td>\n",
       "      <td>TOA PAYOH</td>\n",
       "      <td>4 ROOM</td>\n",
       "      <td>82.0</td>\n",
       "      <td>Improved</td>\n",
       "      <td>1975</td>\n",
       "      <td>258000.0</td>\n",
       "      <td>NaN</td>\n",
       "      <td>17</td>\n",
       "      <td>1975-01-01</td>\n",
       "    </tr>\n",
       "    <tr>\n",
       "      <th>652100</th>\n",
       "      <td>2011-12-01</td>\n",
       "      <td>ANG MO KIO</td>\n",
       "      <td>3 ROOM</td>\n",
       "      <td>67.0</td>\n",
       "      <td>New Generation</td>\n",
       "      <td>1979</td>\n",
       "      <td>344000.0</td>\n",
       "      <td>NaN</td>\n",
       "      <td>14</td>\n",
       "      <td>1979-01-01</td>\n",
       "    </tr>\n",
       "    <tr>\n",
       "      <th>26856</th>\n",
       "      <td>1992-02-01</td>\n",
       "      <td>BUKIT MERAH</td>\n",
       "      <td>1 ROOM</td>\n",
       "      <td>29.0</td>\n",
       "      <td>IMPROVED</td>\n",
       "      <td>1969</td>\n",
       "      <td>9500.0</td>\n",
       "      <td>NaN</td>\n",
       "      <td>5</td>\n",
       "      <td>1969-01-01</td>\n",
       "    </tr>\n",
       "  </tbody>\n",
       "</table>\n",
       "</div>"
      ],
      "text/plain": [
       "            month         town flat_type  floor_area_sqm      flat_model  \\\n",
       "560246 2008-10-01  JURONG WEST    4 ROOM           107.0         Model A   \n",
       "829777 2020-11-01      HOUGANG    3 ROOM            67.0  New Generation   \n",
       "289206 2000-01-01    TOA PAYOH    4 ROOM            82.0        Improved   \n",
       "652100 2011-12-01   ANG MO KIO    3 ROOM            67.0  New Generation   \n",
       "26856  1992-02-01  BUKIT MERAH    1 ROOM            29.0        IMPROVED   \n",
       "\n",
       "        lease_commence_date  resale_price    remaining_lease  Storey  \\\n",
       "560246                 1984      265000.0                NaN       5   \n",
       "829777                 1985      283000.0  64 years 01 month       5   \n",
       "289206                 1975      258000.0                NaN      17   \n",
       "652100                 1979      344000.0                NaN      14   \n",
       "26856                  1969        9500.0                NaN       5   \n",
       "\n",
       "       lease_commence_dt  \n",
       "560246        1984-01-01  \n",
       "829777        1985-01-01  \n",
       "289206        1975-01-01  \n",
       "652100        1979-01-01  \n",
       "26856         1969-01-01  "
      ]
     },
     "execution_count": 10,
     "metadata": {},
     "output_type": "execute_result"
    }
   ],
   "source": [
    "# Convert month and lease_commence_date to datetime \n",
    "features['lease_commence_dt']=pd.to_datetime(features['lease_commence_date'],format=\"%Y\")\n",
    "features['month'] = pd.to_datetime(features['month'],format=\"%Y-%m\")\n",
    "features.sample(5)"
   ]
  },
  {
   "cell_type": "code",
   "execution_count": 11,
   "metadata": {
    "pycharm": {
     "name": "#%%\n"
    }
   },
   "outputs": [],
   "source": [
    "# Create new col remaining_lease_dt which is the difference between month and lease_commence_date\n",
    "features['current_lease_dt']=features['month']-features['lease_commence_dt']\n",
    "features['current_lease_year'] = features['current_lease_dt'] / np.timedelta64(1, 'Y')\n",
    "features['remaining_lease_year'] = 99-features['current_lease_year']"
   ]
  },
  {
   "cell_type": "code",
   "execution_count": 12,
   "metadata": {
    "pycharm": {
     "name": "#%%\n"
    }
   },
   "outputs": [
    {
     "data": {
      "text/html": [
       "<div>\n",
       "<style scoped>\n",
       "    .dataframe tbody tr th:only-of-type {\n",
       "        vertical-align: middle;\n",
       "    }\n",
       "\n",
       "    .dataframe tbody tr th {\n",
       "        vertical-align: top;\n",
       "    }\n",
       "\n",
       "    .dataframe thead th {\n",
       "        text-align: right;\n",
       "    }\n",
       "</style>\n",
       "<table border=\"1\" class=\"dataframe\">\n",
       "  <thead>\n",
       "    <tr style=\"text-align: right;\">\n",
       "      <th></th>\n",
       "      <th>month</th>\n",
       "      <th>town</th>\n",
       "      <th>flat_type</th>\n",
       "      <th>floor_area_sqm</th>\n",
       "      <th>flat_model</th>\n",
       "      <th>lease_commence_date</th>\n",
       "      <th>resale_price</th>\n",
       "      <th>remaining_lease</th>\n",
       "      <th>Storey</th>\n",
       "      <th>lease_commence_dt</th>\n",
       "      <th>current_lease_dt</th>\n",
       "      <th>current_lease_year</th>\n",
       "      <th>remaining_lease_year</th>\n",
       "    </tr>\n",
       "  </thead>\n",
       "  <tbody>\n",
       "    <tr>\n",
       "      <th>854246</th>\n",
       "      <td>2021-09-01</td>\n",
       "      <td>YISHUN</td>\n",
       "      <td>5 ROOM</td>\n",
       "      <td>113.0</td>\n",
       "      <td>Improved</td>\n",
       "      <td>2017</td>\n",
       "      <td>655000.0</td>\n",
       "      <td>95 years</td>\n",
       "      <td>11</td>\n",
       "      <td>2017-01-01</td>\n",
       "      <td>1704 days</td>\n",
       "      <td>4.665394</td>\n",
       "      <td>94.334606</td>\n",
       "    </tr>\n",
       "    <tr>\n",
       "      <th>854247</th>\n",
       "      <td>2021-09-01</td>\n",
       "      <td>YISHUN</td>\n",
       "      <td>5 ROOM</td>\n",
       "      <td>127.0</td>\n",
       "      <td>Improved</td>\n",
       "      <td>1988</td>\n",
       "      <td>620000.0</td>\n",
       "      <td>65 years 05 months</td>\n",
       "      <td>5</td>\n",
       "      <td>1988-01-01</td>\n",
       "      <td>12297 days</td>\n",
       "      <td>33.668042</td>\n",
       "      <td>65.331958</td>\n",
       "    </tr>\n",
       "    <tr>\n",
       "      <th>854248</th>\n",
       "      <td>2021-09-01</td>\n",
       "      <td>YISHUN</td>\n",
       "      <td>5 ROOM</td>\n",
       "      <td>122.0</td>\n",
       "      <td>Improved</td>\n",
       "      <td>1988</td>\n",
       "      <td>545000.0</td>\n",
       "      <td>65 years 08 months</td>\n",
       "      <td>5</td>\n",
       "      <td>1988-01-01</td>\n",
       "      <td>12297 days</td>\n",
       "      <td>33.668042</td>\n",
       "      <td>65.331958</td>\n",
       "    </tr>\n",
       "    <tr>\n",
       "      <th>854249</th>\n",
       "      <td>2021-09-01</td>\n",
       "      <td>YISHUN</td>\n",
       "      <td>EXECUTIVE</td>\n",
       "      <td>142.0</td>\n",
       "      <td>Apartment</td>\n",
       "      <td>1987</td>\n",
       "      <td>648000.0</td>\n",
       "      <td>64 years 08 months</td>\n",
       "      <td>11</td>\n",
       "      <td>1987-01-01</td>\n",
       "      <td>12662 days</td>\n",
       "      <td>34.667379</td>\n",
       "      <td>64.332621</td>\n",
       "    </tr>\n",
       "    <tr>\n",
       "      <th>854250</th>\n",
       "      <td>2021-09-01</td>\n",
       "      <td>YISHUN</td>\n",
       "      <td>EXECUTIVE</td>\n",
       "      <td>142.0</td>\n",
       "      <td>Apartment</td>\n",
       "      <td>1988</td>\n",
       "      <td>732000.0</td>\n",
       "      <td>65 years 05 months</td>\n",
       "      <td>8</td>\n",
       "      <td>1988-01-01</td>\n",
       "      <td>12297 days</td>\n",
       "      <td>33.668042</td>\n",
       "      <td>65.331958</td>\n",
       "    </tr>\n",
       "  </tbody>\n",
       "</table>\n",
       "</div>"
      ],
      "text/plain": [
       "            month    town  flat_type  floor_area_sqm flat_model  \\\n",
       "854246 2021-09-01  YISHUN     5 ROOM           113.0   Improved   \n",
       "854247 2021-09-01  YISHUN     5 ROOM           127.0   Improved   \n",
       "854248 2021-09-01  YISHUN     5 ROOM           122.0   Improved   \n",
       "854249 2021-09-01  YISHUN  EXECUTIVE           142.0  Apartment   \n",
       "854250 2021-09-01  YISHUN  EXECUTIVE           142.0  Apartment   \n",
       "\n",
       "        lease_commence_date  resale_price     remaining_lease  Storey  \\\n",
       "854246                 2017      655000.0            95 years      11   \n",
       "854247                 1988      620000.0  65 years 05 months       5   \n",
       "854248                 1988      545000.0  65 years 08 months       5   \n",
       "854249                 1987      648000.0  64 years 08 months      11   \n",
       "854250                 1988      732000.0  65 years 05 months       8   \n",
       "\n",
       "       lease_commence_dt current_lease_dt  current_lease_year  \\\n",
       "854246        2017-01-01        1704 days            4.665394   \n",
       "854247        1988-01-01       12297 days           33.668042   \n",
       "854248        1988-01-01       12297 days           33.668042   \n",
       "854249        1987-01-01       12662 days           34.667379   \n",
       "854250        1988-01-01       12297 days           33.668042   \n",
       "\n",
       "        remaining_lease_year  \n",
       "854246             94.334606  \n",
       "854247             65.331958  \n",
       "854248             65.331958  \n",
       "854249             64.332621  \n",
       "854250             65.331958  "
      ]
     },
     "execution_count": 12,
     "metadata": {},
     "output_type": "execute_result"
    }
   ],
   "source": [
    "#Check if the values are similar\n",
    "features.tail()"
   ]
  },
  {
   "cell_type": "code",
   "execution_count": 13,
   "metadata": {
    "pycharm": {
     "name": "#%%\n"
    }
   },
   "outputs": [
    {
     "data": {
      "text/html": [
       "<div>\n",
       "<style scoped>\n",
       "    .dataframe tbody tr th:only-of-type {\n",
       "        vertical-align: middle;\n",
       "    }\n",
       "\n",
       "    .dataframe tbody tr th {\n",
       "        vertical-align: top;\n",
       "    }\n",
       "\n",
       "    .dataframe thead th {\n",
       "        text-align: right;\n",
       "    }\n",
       "</style>\n",
       "<table border=\"1\" class=\"dataframe\">\n",
       "  <thead>\n",
       "    <tr style=\"text-align: right;\">\n",
       "      <th></th>\n",
       "      <th>month</th>\n",
       "      <th>town</th>\n",
       "      <th>flat_type</th>\n",
       "      <th>floor_area_sqm</th>\n",
       "      <th>flat_model</th>\n",
       "      <th>lease_commence_date</th>\n",
       "      <th>resale_price</th>\n",
       "      <th>Storey</th>\n",
       "      <th>lease_commence_dt</th>\n",
       "      <th>remaining_lease_year</th>\n",
       "    </tr>\n",
       "  </thead>\n",
       "  <tbody>\n",
       "    <tr>\n",
       "      <th>0</th>\n",
       "      <td>1990-01-01</td>\n",
       "      <td>ANG MO KIO</td>\n",
       "      <td>1 ROOM</td>\n",
       "      <td>31.0</td>\n",
       "      <td>IMPROVED</td>\n",
       "      <td>1977</td>\n",
       "      <td>9000.0</td>\n",
       "      <td>11</td>\n",
       "      <td>1977-01-01</td>\n",
       "      <td>86.000418</td>\n",
       "    </tr>\n",
       "    <tr>\n",
       "      <th>1</th>\n",
       "      <td>1990-01-01</td>\n",
       "      <td>ANG MO KIO</td>\n",
       "      <td>1 ROOM</td>\n",
       "      <td>31.0</td>\n",
       "      <td>IMPROVED</td>\n",
       "      <td>1977</td>\n",
       "      <td>6000.0</td>\n",
       "      <td>5</td>\n",
       "      <td>1977-01-01</td>\n",
       "      <td>86.000418</td>\n",
       "    </tr>\n",
       "    <tr>\n",
       "      <th>2</th>\n",
       "      <td>1990-01-01</td>\n",
       "      <td>ANG MO KIO</td>\n",
       "      <td>1 ROOM</td>\n",
       "      <td>31.0</td>\n",
       "      <td>IMPROVED</td>\n",
       "      <td>1977</td>\n",
       "      <td>8000.0</td>\n",
       "      <td>11</td>\n",
       "      <td>1977-01-01</td>\n",
       "      <td>86.000418</td>\n",
       "    </tr>\n",
       "    <tr>\n",
       "      <th>3</th>\n",
       "      <td>1990-01-01</td>\n",
       "      <td>ANG MO KIO</td>\n",
       "      <td>1 ROOM</td>\n",
       "      <td>31.0</td>\n",
       "      <td>IMPROVED</td>\n",
       "      <td>1977</td>\n",
       "      <td>6000.0</td>\n",
       "      <td>8</td>\n",
       "      <td>1977-01-01</td>\n",
       "      <td>86.000418</td>\n",
       "    </tr>\n",
       "    <tr>\n",
       "      <th>4</th>\n",
       "      <td>1990-01-01</td>\n",
       "      <td>ANG MO KIO</td>\n",
       "      <td>3 ROOM</td>\n",
       "      <td>73.0</td>\n",
       "      <td>NEW GENERATION</td>\n",
       "      <td>1976</td>\n",
       "      <td>47200.0</td>\n",
       "      <td>5</td>\n",
       "      <td>1976-01-01</td>\n",
       "      <td>84.998344</td>\n",
       "    </tr>\n",
       "    <tr>\n",
       "      <th>...</th>\n",
       "      <td>...</td>\n",
       "      <td>...</td>\n",
       "      <td>...</td>\n",
       "      <td>...</td>\n",
       "      <td>...</td>\n",
       "      <td>...</td>\n",
       "      <td>...</td>\n",
       "      <td>...</td>\n",
       "      <td>...</td>\n",
       "      <td>...</td>\n",
       "    </tr>\n",
       "    <tr>\n",
       "      <th>854246</th>\n",
       "      <td>2021-09-01</td>\n",
       "      <td>YISHUN</td>\n",
       "      <td>5 ROOM</td>\n",
       "      <td>113.0</td>\n",
       "      <td>Improved</td>\n",
       "      <td>2017</td>\n",
       "      <td>655000.0</td>\n",
       "      <td>11</td>\n",
       "      <td>2017-01-01</td>\n",
       "      <td>94.334606</td>\n",
       "    </tr>\n",
       "    <tr>\n",
       "      <th>854247</th>\n",
       "      <td>2021-09-01</td>\n",
       "      <td>YISHUN</td>\n",
       "      <td>5 ROOM</td>\n",
       "      <td>127.0</td>\n",
       "      <td>Improved</td>\n",
       "      <td>1988</td>\n",
       "      <td>620000.0</td>\n",
       "      <td>5</td>\n",
       "      <td>1988-01-01</td>\n",
       "      <td>65.331958</td>\n",
       "    </tr>\n",
       "    <tr>\n",
       "      <th>854248</th>\n",
       "      <td>2021-09-01</td>\n",
       "      <td>YISHUN</td>\n",
       "      <td>5 ROOM</td>\n",
       "      <td>122.0</td>\n",
       "      <td>Improved</td>\n",
       "      <td>1988</td>\n",
       "      <td>545000.0</td>\n",
       "      <td>5</td>\n",
       "      <td>1988-01-01</td>\n",
       "      <td>65.331958</td>\n",
       "    </tr>\n",
       "    <tr>\n",
       "      <th>854249</th>\n",
       "      <td>2021-09-01</td>\n",
       "      <td>YISHUN</td>\n",
       "      <td>EXECUTIVE</td>\n",
       "      <td>142.0</td>\n",
       "      <td>Apartment</td>\n",
       "      <td>1987</td>\n",
       "      <td>648000.0</td>\n",
       "      <td>11</td>\n",
       "      <td>1987-01-01</td>\n",
       "      <td>64.332621</td>\n",
       "    </tr>\n",
       "    <tr>\n",
       "      <th>854250</th>\n",
       "      <td>2021-09-01</td>\n",
       "      <td>YISHUN</td>\n",
       "      <td>EXECUTIVE</td>\n",
       "      <td>142.0</td>\n",
       "      <td>Apartment</td>\n",
       "      <td>1988</td>\n",
       "      <td>732000.0</td>\n",
       "      <td>8</td>\n",
       "      <td>1988-01-01</td>\n",
       "      <td>65.331958</td>\n",
       "    </tr>\n",
       "  </tbody>\n",
       "</table>\n",
       "<p>854251 rows × 10 columns</p>\n",
       "</div>"
      ],
      "text/plain": [
       "            month        town  flat_type  floor_area_sqm      flat_model  \\\n",
       "0      1990-01-01  ANG MO KIO     1 ROOM            31.0        IMPROVED   \n",
       "1      1990-01-01  ANG MO KIO     1 ROOM            31.0        IMPROVED   \n",
       "2      1990-01-01  ANG MO KIO     1 ROOM            31.0        IMPROVED   \n",
       "3      1990-01-01  ANG MO KIO     1 ROOM            31.0        IMPROVED   \n",
       "4      1990-01-01  ANG MO KIO     3 ROOM            73.0  NEW GENERATION   \n",
       "...           ...         ...        ...             ...             ...   \n",
       "854246 2021-09-01      YISHUN     5 ROOM           113.0        Improved   \n",
       "854247 2021-09-01      YISHUN     5 ROOM           127.0        Improved   \n",
       "854248 2021-09-01      YISHUN     5 ROOM           122.0        Improved   \n",
       "854249 2021-09-01      YISHUN  EXECUTIVE           142.0       Apartment   \n",
       "854250 2021-09-01      YISHUN  EXECUTIVE           142.0       Apartment   \n",
       "\n",
       "        lease_commence_date  resale_price  Storey lease_commence_dt  \\\n",
       "0                      1977        9000.0      11        1977-01-01   \n",
       "1                      1977        6000.0       5        1977-01-01   \n",
       "2                      1977        8000.0      11        1977-01-01   \n",
       "3                      1977        6000.0       8        1977-01-01   \n",
       "4                      1976       47200.0       5        1976-01-01   \n",
       "...                     ...           ...     ...               ...   \n",
       "854246                 2017      655000.0      11        2017-01-01   \n",
       "854247                 1988      620000.0       5        1988-01-01   \n",
       "854248                 1988      545000.0       5        1988-01-01   \n",
       "854249                 1987      648000.0      11        1987-01-01   \n",
       "854250                 1988      732000.0       8        1988-01-01   \n",
       "\n",
       "        remaining_lease_year  \n",
       "0                  86.000418  \n",
       "1                  86.000418  \n",
       "2                  86.000418  \n",
       "3                  86.000418  \n",
       "4                  84.998344  \n",
       "...                      ...  \n",
       "854246             94.334606  \n",
       "854247             65.331958  \n",
       "854248             65.331958  \n",
       "854249             64.332621  \n",
       "854250             65.331958  \n",
       "\n",
       "[854251 rows x 10 columns]"
      ]
     },
     "execution_count": 13,
     "metadata": {},
     "output_type": "execute_result"
    }
   ],
   "source": [
    "features = features.drop(columns = ['remaining_lease','current_lease_year','current_lease_dt']\n",
    "                         ,axis=1)\n",
    "features"
   ]
  },
  {
   "cell_type": "code",
   "execution_count": 14,
   "metadata": {
    "pycharm": {
     "name": "#%%\n"
    }
   },
   "outputs": [
    {
     "data": {
      "text/html": [
       "<div>\n",
       "<style scoped>\n",
       "    .dataframe tbody tr th:only-of-type {\n",
       "        vertical-align: middle;\n",
       "    }\n",
       "\n",
       "    .dataframe tbody tr th {\n",
       "        vertical-align: top;\n",
       "    }\n",
       "\n",
       "    .dataframe thead th {\n",
       "        text-align: right;\n",
       "    }\n",
       "</style>\n",
       "<table border=\"1\" class=\"dataframe\">\n",
       "  <thead>\n",
       "    <tr style=\"text-align: right;\">\n",
       "      <th></th>\n",
       "      <th>month</th>\n",
       "      <th>town</th>\n",
       "      <th>flat_type</th>\n",
       "      <th>floor_area_sqm</th>\n",
       "      <th>flat_model</th>\n",
       "      <th>lease_commence_date</th>\n",
       "      <th>resale_price</th>\n",
       "      <th>Storey</th>\n",
       "      <th>lease_commence_dt</th>\n",
       "      <th>remaining_lease_year</th>\n",
       "    </tr>\n",
       "  </thead>\n",
       "  <tbody>\n",
       "    <tr>\n",
       "      <th>509473</th>\n",
       "      <td>2006-11-01</td>\n",
       "      <td>TOA PAYOH</td>\n",
       "      <td>3 ROOM</td>\n",
       "      <td>67.0</td>\n",
       "      <td>Standard</td>\n",
       "      <td>1969</td>\n",
       "      <td>170000.0</td>\n",
       "      <td>2</td>\n",
       "      <td>1969-01-01</td>\n",
       "      <td>61.167601</td>\n",
       "    </tr>\n",
       "    <tr>\n",
       "      <th>675759</th>\n",
       "      <td>2012-12-01</td>\n",
       "      <td>CHOA CHU KANG</td>\n",
       "      <td>5 ROOM</td>\n",
       "      <td>110.0</td>\n",
       "      <td>Improved</td>\n",
       "      <td>2002</td>\n",
       "      <td>485000.0</td>\n",
       "      <td>5</td>\n",
       "      <td>2002-01-01</td>\n",
       "      <td>88.083965</td>\n",
       "    </tr>\n",
       "    <tr>\n",
       "      <th>604779</th>\n",
       "      <td>2010-03-01</td>\n",
       "      <td>WOODLANDS</td>\n",
       "      <td>5 ROOM</td>\n",
       "      <td>128.0</td>\n",
       "      <td>Premium Apartment</td>\n",
       "      <td>1999</td>\n",
       "      <td>414000.0</td>\n",
       "      <td>11</td>\n",
       "      <td>1999-01-01</td>\n",
       "      <td>87.837553</td>\n",
       "    </tr>\n",
       "    <tr>\n",
       "      <th>480614</th>\n",
       "      <td>2005-11-01</td>\n",
       "      <td>HOUGANG</td>\n",
       "      <td>3 ROOM</td>\n",
       "      <td>73.0</td>\n",
       "      <td>New Generation</td>\n",
       "      <td>1978</td>\n",
       "      <td>175000.0</td>\n",
       "      <td>8</td>\n",
       "      <td>1978-01-01</td>\n",
       "      <td>71.166437</td>\n",
       "    </tr>\n",
       "    <tr>\n",
       "      <th>50491</th>\n",
       "      <td>1993-09-01</td>\n",
       "      <td>JURONG EAST</td>\n",
       "      <td>4 ROOM</td>\n",
       "      <td>95.0</td>\n",
       "      <td>NEW GENERATION</td>\n",
       "      <td>1983</td>\n",
       "      <td>131500.0</td>\n",
       "      <td>2</td>\n",
       "      <td>1983-01-01</td>\n",
       "      <td>88.333114</td>\n",
       "    </tr>\n",
       "  </tbody>\n",
       "</table>\n",
       "</div>"
      ],
      "text/plain": [
       "            month           town flat_type  floor_area_sqm         flat_model  \\\n",
       "509473 2006-11-01      TOA PAYOH    3 ROOM            67.0           Standard   \n",
       "675759 2012-12-01  CHOA CHU KANG    5 ROOM           110.0           Improved   \n",
       "604779 2010-03-01      WOODLANDS    5 ROOM           128.0  Premium Apartment   \n",
       "480614 2005-11-01        HOUGANG    3 ROOM            73.0     New Generation   \n",
       "50491  1993-09-01    JURONG EAST    4 ROOM            95.0     NEW GENERATION   \n",
       "\n",
       "        lease_commence_date  resale_price  Storey lease_commence_dt  \\\n",
       "509473                 1969      170000.0       2        1969-01-01   \n",
       "675759                 2002      485000.0       5        2002-01-01   \n",
       "604779                 1999      414000.0      11        1999-01-01   \n",
       "480614                 1978      175000.0       8        1978-01-01   \n",
       "50491                  1983      131500.0       2        1983-01-01   \n",
       "\n",
       "        remaining_lease_year  \n",
       "509473             61.167601  \n",
       "675759             88.083965  \n",
       "604779             87.837553  \n",
       "480614             71.166437  \n",
       "50491              88.333114  "
      ]
     },
     "execution_count": 14,
     "metadata": {},
     "output_type": "execute_result"
    }
   ],
   "source": [
    "features.sample(5)"
   ]
  },
  {
   "cell_type": "markdown",
   "metadata": {
    "pycharm": {
     "name": "#%% md\n"
    }
   },
   "source": [
    "## Data analysis"
   ]
  },
  {
   "cell_type": "markdown",
   "metadata": {
    "pycharm": {
     "name": "#%% md\n"
    }
   },
   "source": [
    "## Annual trend in number of resales"
   ]
  },
  {
   "cell_type": "code",
   "execution_count": 15,
   "metadata": {
    "scrolled": true,
    "pycharm": {
     "name": "#%%\n"
    }
   },
   "outputs": [
    {
     "data": {
      "text/html": [
       "<div>\n",
       "<style scoped>\n",
       "    .dataframe tbody tr th:only-of-type {\n",
       "        vertical-align: middle;\n",
       "    }\n",
       "\n",
       "    .dataframe tbody tr th {\n",
       "        vertical-align: top;\n",
       "    }\n",
       "\n",
       "    .dataframe thead th {\n",
       "        text-align: right;\n",
       "    }\n",
       "</style>\n",
       "<table border=\"1\" class=\"dataframe\">\n",
       "  <thead>\n",
       "    <tr style=\"text-align: right;\">\n",
       "      <th></th>\n",
       "      <th>No of Resales</th>\n",
       "    </tr>\n",
       "    <tr>\n",
       "      <th>month</th>\n",
       "      <th></th>\n",
       "    </tr>\n",
       "  </thead>\n",
       "  <tbody>\n",
       "    <tr>\n",
       "      <th>1990-12-31</th>\n",
       "      <td>12505</td>\n",
       "    </tr>\n",
       "    <tr>\n",
       "      <th>1991-12-31</th>\n",
       "      <td>12855</td>\n",
       "    </tr>\n",
       "    <tr>\n",
       "      <th>1992-12-31</th>\n",
       "      <td>14503</td>\n",
       "    </tr>\n",
       "    <tr>\n",
       "      <th>1993-12-31</th>\n",
       "      <td>18116</td>\n",
       "    </tr>\n",
       "    <tr>\n",
       "      <th>1994-12-31</th>\n",
       "      <td>26373</td>\n",
       "    </tr>\n",
       "  </tbody>\n",
       "</table>\n",
       "</div>"
      ],
      "text/plain": [
       "            No of Resales\n",
       "month                    \n",
       "1990-12-31          12505\n",
       "1991-12-31          12855\n",
       "1992-12-31          14503\n",
       "1993-12-31          18116\n",
       "1994-12-31          26373"
      ]
     },
     "execution_count": 15,
     "metadata": {},
     "output_type": "execute_result"
    }
   ],
   "source": [
    "count = features.resample('A', on='month').agg({'town':'count'})\n",
    "count = count.rename(columns={\"town\":\"No of Resales\"})\n",
    "count.head()"
   ]
  },
  {
   "cell_type": "code",
   "execution_count": 16,
   "metadata": {
    "pycharm": {
     "name": "#%%\n"
    }
   },
   "outputs": [
    {
     "data": {
      "text/plain": [
       "<AxesSubplot:xlabel='month', ylabel='No of Resales'>"
      ]
     },
     "execution_count": 16,
     "metadata": {},
     "output_type": "execute_result"
    },
    {
     "data": {
      "image/png": "[encoded data removed]",
      "text/plain": [
       "<Figure size 864x576 with 1 Axes>"
      ]
     },
     "metadata": {
      "needs_background": "light"
     },
     "output_type": "display_data"
    }
   ],
   "source": [
    "plt.figure(figsize = (12,8))\n",
    "sns.lineplot(data=count,x='month',y='No of Resales')"
   ]
  },
  {
   "cell_type": "markdown",
   "metadata": {
    "pycharm": {
     "name": "#%% md\n"
    }
   },
   "source": [
    "## Average cost of housing from 1990 to 2021"
   ]
  },
  {
   "cell_type": "code",
   "execution_count": 17,
   "metadata": {
    "pycharm": {
     "name": "#%%\n"
    }
   },
   "outputs": [
    {
     "data": {
      "text/html": [
       "<div>\n",
       "<style scoped>\n",
       "    .dataframe tbody tr th:only-of-type {\n",
       "        vertical-align: middle;\n",
       "    }\n",
       "\n",
       "    .dataframe tbody tr th {\n",
       "        vertical-align: top;\n",
       "    }\n",
       "\n",
       "    .dataframe thead th {\n",
       "        text-align: right;\n",
       "    }\n",
       "</style>\n",
       "<table border=\"1\" class=\"dataframe\">\n",
       "  <thead>\n",
       "    <tr style=\"text-align: right;\">\n",
       "      <th></th>\n",
       "      <th>resale_price</th>\n",
       "    </tr>\n",
       "    <tr>\n",
       "      <th>month</th>\n",
       "      <th></th>\n",
       "    </tr>\n",
       "  </thead>\n",
       "  <tbody>\n",
       "    <tr>\n",
       "      <th>1990-12-31</th>\n",
       "      <td>68086.142263</td>\n",
       "    </tr>\n",
       "    <tr>\n",
       "      <th>1991-12-31</th>\n",
       "      <td>73588.938934</td>\n",
       "    </tr>\n",
       "    <tr>\n",
       "      <th>1992-12-31</th>\n",
       "      <td>84372.635731</td>\n",
       "    </tr>\n",
       "    <tr>\n",
       "      <th>1993-12-31</th>\n",
       "      <td>132807.719750</td>\n",
       "    </tr>\n",
       "    <tr>\n",
       "      <th>1994-12-31</th>\n",
       "      <td>172619.529936</td>\n",
       "    </tr>\n",
       "  </tbody>\n",
       "</table>\n",
       "</div>"
      ],
      "text/plain": [
       "             resale_price\n",
       "month                    \n",
       "1990-12-31   68086.142263\n",
       "1991-12-31   73588.938934\n",
       "1992-12-31   84372.635731\n",
       "1993-12-31  132807.719750\n",
       "1994-12-31  172619.529936"
      ]
     },
     "execution_count": 17,
     "metadata": {},
     "output_type": "execute_result"
    }
   ],
   "source": [
    "avg = features.resample('A', on='month').agg({'resale_price':np.mean})\n",
    "avg = avg.rename(columns={\"town\":\"Avg Resale Prices\"})\n",
    "avg.head()"
   ]
  },
  {
   "cell_type": "code",
   "execution_count": 18,
   "metadata": {
    "pycharm": {
     "name": "#%%\n"
    }
   },
   "outputs": [
    {
     "data": {
      "text/plain": [
       "<AxesSubplot:xlabel='month', ylabel='resale_price'>"
      ]
     },
     "execution_count": 18,
     "metadata": {},
     "output_type": "execute_result"
    },
    {
     "data": {
      "image/png": "[encoded data removed]",
      "text/plain": [
       "<Figure size 864x576 with 1 Axes>"
      ]
     },
     "metadata": {
      "needs_background": "light"
     },
     "output_type": "display_data"
    }
   ],
   "source": [
    "plt.figure(figsize = (12,8))\n",
    "sns.lineplot(data=avg,x='month',y='resale_price')"
   ]
  },
  {
   "cell_type": "markdown",
   "metadata": {
    "pycharm": {
     "name": "#%% md\n"
    }
   },
   "source": [
    "## Top 5 locations with resale flats since 1990"
   ]
  },
  {
   "cell_type": "code",
   "execution_count": 19,
   "metadata": {
    "pycharm": {
     "name": "#%%\n"
    }
   },
   "outputs": [
    {
     "data": {
      "image/png": "[encoded data removed]",
      "text/plain": [
       "<Figure size 864x720 with 1 Axes>"
      ]
     },
     "metadata": {
      "needs_background": "light"
     },
     "output_type": "display_data"
    }
   ],
   "source": [
    "plt.figure(figsize = (12,10))\n",
    "graph = sns.countplot(data=features,\n",
    "                      x='town',\n",
    "                      order=features['town'].value_counts(ascending=True).index)\n",
    "plt.xticks(rotation=90)\n",
    "for p in graph.patches:\n",
    "    graph.annotate(format(p.get_height()), (p.get_x()+0.2, p.get_height()+1000),\n",
    "                  rotation=90,\n",
    "                  fontsize=11)"
   ]
  },
  {
   "cell_type": "markdown",
   "metadata": {
    "pycharm": {
     "name": "#%% md\n"
    }
   },
   "source": [
    "## Histogram plot of remaining lease\n",
    "\n",
    "From the plot we can see most of the houses sold were right after the Minumum occupancy period of 5 years."
   ]
  },
  {
   "cell_type": "code",
   "execution_count": 20,
   "metadata": {
    "pycharm": {
     "name": "#%%\n"
    }
   },
   "outputs": [
    {
     "data": {
      "image/png": "[encoded data removed]",
      "text/plain": [
       "<Figure size 864x648 with 1 Axes>"
      ]
     },
     "metadata": {
      "needs_background": "light"
     },
     "output_type": "display_data"
    }
   ],
   "source": [
    "plt.figure(figsize = (12,9))\n",
    "graph = sns.histplot(data=features,\n",
    "                    x='remaining_lease_year',\n",
    "                    bins=20)"
   ]
  },
  {
   "cell_type": "markdown",
   "metadata": {
    "pycharm": {
     "name": "#%% md\n"
    }
   },
   "source": [
    "### Top 5 flat types"
   ]
  },
  {
   "cell_type": "code",
   "execution_count": 21,
   "metadata": {
    "pycharm": {
     "name": "#%%\n"
    }
   },
   "outputs": [
    {
     "data": {
      "image/png": "[encoded data removed]",
      "text/plain": [
       "<Figure size 864x576 with 1 Axes>"
      ]
     },
     "metadata": {
      "needs_background": "light"
     },
     "output_type": "display_data"
    }
   ],
   "source": [
    "plt.figure(figsize = (12,8))\n",
    "graph = sns.countplot(data=features,\n",
    "                      x='flat_type',\n",
    "                      order=features['flat_type'].value_counts(ascending=True).index)\n",
    "for p in graph.patches:\n",
    "    graph.annotate(format(p.get_height()), (p.get_x()+0.2, p.get_height()+1000))"
   ]
  },
  {
   "cell_type": "markdown",
   "metadata": {
    "pycharm": {
     "name": "#%% md\n"
    }
   },
   "source": [
    "## Trend of resales right after MOP. \n",
    "\n",
    "I use the value 93 to filter out remaining leases below 93. The assumption of 2 years is for searching of buyers and the time required to process the transaction. "
   ]
  },
  {
   "cell_type": "code",
   "execution_count": 22,
   "metadata": {
    "pycharm": {
     "name": "#%%\n"
    }
   },
   "outputs": [
    {
     "data": {
      "text/plain": [
       "(102375, 10)"
      ]
     },
     "execution_count": 22,
     "metadata": {},
     "output_type": "execute_result"
    }
   ],
   "source": [
    "mop_resale = features[features['remaining_lease_year']>93]\n",
    "mop_resale.shape # Show number of total resales with lease above 93"
   ]
  },
  {
   "cell_type": "code",
   "execution_count": 23,
   "metadata": {
    "pycharm": {
     "name": "#%%\n"
    }
   },
   "outputs": [],
   "source": [
    "mop_resale = mop_resale.resample('A', on='month').agg({'town':'count'})"
   ]
  },
  {
   "cell_type": "code",
   "execution_count": 24,
   "metadata": {
    "pycharm": {
     "name": "#%%\n"
    }
   },
   "outputs": [
    {
     "data": {
      "text/html": [
       "<div>\n",
       "<style scoped>\n",
       "    .dataframe tbody tr th:only-of-type {\n",
       "        vertical-align: middle;\n",
       "    }\n",
       "\n",
       "    .dataframe tbody tr th {\n",
       "        vertical-align: top;\n",
       "    }\n",
       "\n",
       "    .dataframe thead th {\n",
       "        text-align: right;\n",
       "    }\n",
       "</style>\n",
       "<table border=\"1\" class=\"dataframe\">\n",
       "  <thead>\n",
       "    <tr style=\"text-align: right;\">\n",
       "      <th></th>\n",
       "      <th>town</th>\n",
       "    </tr>\n",
       "    <tr>\n",
       "      <th>month</th>\n",
       "      <th></th>\n",
       "    </tr>\n",
       "  </thead>\n",
       "  <tbody>\n",
       "    <tr>\n",
       "      <th>2001-12-31</th>\n",
       "      <td>9861</td>\n",
       "    </tr>\n",
       "    <tr>\n",
       "      <th>1999-12-31</th>\n",
       "      <td>8816</td>\n",
       "    </tr>\n",
       "    <tr>\n",
       "      <th>2002-12-31</th>\n",
       "      <td>8677</td>\n",
       "    </tr>\n",
       "    <tr>\n",
       "      <th>2000-12-31</th>\n",
       "      <td>6847</td>\n",
       "    </tr>\n",
       "    <tr>\n",
       "      <th>1998-12-31</th>\n",
       "      <td>6281</td>\n",
       "    </tr>\n",
       "  </tbody>\n",
       "</table>\n",
       "</div>"
      ],
      "text/plain": [
       "            town\n",
       "month           \n",
       "2001-12-31  9861\n",
       "1999-12-31  8816\n",
       "2002-12-31  8677\n",
       "2000-12-31  6847\n",
       "1998-12-31  6281"
      ]
     },
     "execution_count": 24,
     "metadata": {},
     "output_type": "execute_result"
    }
   ],
   "source": [
    "mop_resale.sort_values(by='town',ascending=False).head(5) # Resample to annual and sum it up"
   ]
  },
  {
   "cell_type": "code",
   "execution_count": 25,
   "metadata": {
    "pycharm": {
     "name": "#%%\n"
    }
   },
   "outputs": [
    {
     "data": {
      "text/plain": [
       "<AxesSubplot:xlabel='month', ylabel='town'>"
      ]
     },
     "execution_count": 25,
     "metadata": {},
     "output_type": "execute_result"
    },
    {
     "data": {
      "image/png": "[encoded data removed]",
      "text/plain": [
       "<Figure size 864x576 with 1 Axes>"
      ]
     },
     "metadata": {
      "needs_background": "light"
     },
     "output_type": "display_data"
    }
   ],
   "source": [
    "plt.figure(figsize = (12,8))\n",
    "sns.lineplot(data=mop_resale,x='month',y='town')"
   ]
  },
  {
   "cell_type": "markdown",
   "metadata": {
    "pycharm": {
     "name": "#%% md\n"
    }
   },
   "source": [
    "From the above graph and data, the top 5 sales in MOP occured in 1998-2002 inclusive. After decreasing from 2001 till 2015, it begun to rise again. More data is needed to see if the trend is continuing. "
   ]
  },
  {
   "cell_type": "markdown",
   "metadata": {
    "pycharm": {
     "name": "#%% md\n"
    }
   },
   "source": [
    "## Flat by age"
   ]
  },
  {
   "cell_type": "code",
   "execution_count": 35,
   "metadata": {
    "pycharm": {
     "name": "#%%\n"
    }
   },
   "outputs": [
    {
     "data": {
      "text/plain": [
       "0         44\n",
       "1         44\n",
       "2         44\n",
       "3         44\n",
       "4         45\n",
       "          ..\n",
       "854246     4\n",
       "854247    33\n",
       "854248    33\n",
       "854249    34\n",
       "854250    33\n",
       "Name: age, Length: 854251, dtype: Int64"
      ]
     },
     "execution_count": 35,
     "metadata": {},
     "output_type": "execute_result"
    }
   ],
   "source": [
    "features['age'] = 2021-features['lease_commence_date']\n",
    "features['age'] # Current year - commence date"
   ]
  },
  {
   "cell_type": "markdown",
   "metadata": {
    "pycharm": {
     "name": "#%% md\n"
    }
   },
   "source": [
    "### hist plot of all flat age"
   ]
  },
  {
   "cell_type": "code",
   "execution_count": 27,
   "metadata": {
    "pycharm": {
     "name": "#%%\n"
    }
   },
   "outputs": [
    {
     "data": {
      "image/png": "[encoded data removed]",
      "text/plain": [
       "<Figure size 864x648 with 1 Axes>"
      ]
     },
     "metadata": {
      "needs_background": "light"
     },
     "output_type": "display_data"
    }
   ],
   "source": [
    "plt.figure(figsize = (12,9))\n",
    "graph = sns.histplot(data=features,\n",
    "                    x='age',\n",
    "                    bins=20)"
   ]
  },
  {
   "cell_type": "markdown",
   "metadata": {
    "pycharm": {
     "name": "#%% md\n"
    }
   },
   "source": [
    "### Age by town"
   ]
  },
  {
   "cell_type": "code",
   "execution_count": 32,
   "metadata": {
    "pycharm": {
     "name": "#%%\n"
    }
   },
   "outputs": [
    {
     "data": {
      "text/html": [
       "<div>\n",
       "<style scoped>\n",
       "    .dataframe tbody tr th:only-of-type {\n",
       "        vertical-align: middle;\n",
       "    }\n",
       "\n",
       "    .dataframe tbody tr th {\n",
       "        vertical-align: top;\n",
       "    }\n",
       "\n",
       "    .dataframe thead th {\n",
       "        text-align: right;\n",
       "    }\n",
       "</style>\n",
       "<table border=\"1\" class=\"dataframe\">\n",
       "  <thead>\n",
       "    <tr style=\"text-align: right;\">\n",
       "      <th></th>\n",
       "      <th>age</th>\n",
       "    </tr>\n",
       "    <tr>\n",
       "      <th>town</th>\n",
       "      <th></th>\n",
       "    </tr>\n",
       "  </thead>\n",
       "  <tbody>\n",
       "    <tr>\n",
       "      <th>QUEENSTOWN</th>\n",
       "      <td>47</td>\n",
       "    </tr>\n",
       "    <tr>\n",
       "      <th>TOA PAYOH</th>\n",
       "      <td>46</td>\n",
       "    </tr>\n",
       "    <tr>\n",
       "      <th>MARINE PARADE</th>\n",
       "      <td>46</td>\n",
       "    </tr>\n",
       "    <tr>\n",
       "      <th>BUKIT MERAH</th>\n",
       "      <td>43</td>\n",
       "    </tr>\n",
       "    <tr>\n",
       "      <th>CLEMENTI</th>\n",
       "      <td>42</td>\n",
       "    </tr>\n",
       "  </tbody>\n",
       "</table>\n",
       "</div>"
      ],
      "text/plain": [
       "               age\n",
       "town              \n",
       "QUEENSTOWN      47\n",
       "TOA PAYOH       46\n",
       "MARINE PARADE   46\n",
       "BUKIT MERAH     43\n",
       "CLEMENTI        42"
      ]
     },
     "execution_count": 32,
     "metadata": {},
     "output_type": "execute_result"
    }
   ],
   "source": [
    "avg_town_age= features.groupby('town')['age'].median()\n",
    "avg_town_age = avg_town_age.to_frame()\n",
    "avg_town_age.sort_values(by='age',ascending=False).head(5)"
   ]
  },
  {
   "cell_type": "code",
   "execution_count": 34,
   "metadata": {
    "pycharm": {
     "name": "#%%\n"
    }
   },
   "outputs": [
    {
     "data": {
      "image/png": "[encoded data removed]",
      "text/plain": [
       "<Figure size 864x720 with 1 Axes>"
      ]
     },
     "metadata": {
      "needs_background": "light"
     },
     "output_type": "display_data"
    }
   ],
   "source": [
    "plt.figure(figsize = (12,10))\n",
    "sns.barplot(data=avg_town_age,\n",
    "            x=avg_town_age.index,\n",
    "            y ='age',\n",
    "            order=avg_town_age.sort_values(by='age',ascending=True).index)\n",
    "plt.xticks(rotation=90)\n",
    "plt.show()"
   ]
  },
  {
   "cell_type": "markdown",
   "metadata": {
    "pycharm": {
     "name": "#%% md\n"
    }
   },
   "source": [
    "## Build new Dataframe to analyse data by town from 2012 onwards\n",
    "\n",
    "Reason is due to the rising prices from 1990 that will skew the data. "
   ]
  },
  {
   "cell_type": "code",
   "execution_count": 36,
   "metadata": {
    "scrolled": true,
    "pycharm": {
     "name": "#%%\n"
    }
   },
   "outputs": [
    {
     "data": {
      "text/html": [
       "<div>\n",
       "<style scoped>\n",
       "    .dataframe tbody tr th:only-of-type {\n",
       "        vertical-align: middle;\n",
       "    }\n",
       "\n",
       "    .dataframe tbody tr th {\n",
       "        vertical-align: top;\n",
       "    }\n",
       "\n",
       "    .dataframe thead th {\n",
       "        text-align: right;\n",
       "    }\n",
       "</style>\n",
       "<table border=\"1\" class=\"dataframe\">\n",
       "  <thead>\n",
       "    <tr style=\"text-align: right;\">\n",
       "      <th></th>\n",
       "      <th>month</th>\n",
       "      <th>town</th>\n",
       "      <th>flat_type</th>\n",
       "      <th>floor_area_sqm</th>\n",
       "      <th>flat_model</th>\n",
       "      <th>lease_commence_date</th>\n",
       "      <th>resale_price</th>\n",
       "      <th>Storey</th>\n",
       "      <th>lease_commence_dt</th>\n",
       "      <th>remaining_lease_year</th>\n",
       "      <th>age</th>\n",
       "    </tr>\n",
       "  </thead>\n",
       "  <tbody>\n",
       "    <tr>\n",
       "      <th>596524</th>\n",
       "      <td>2010-01-01</td>\n",
       "      <td>ANG MO KIO</td>\n",
       "      <td>2 ROOM</td>\n",
       "      <td>44.0</td>\n",
       "      <td>Improved</td>\n",
       "      <td>1977</td>\n",
       "      <td>202000.0</td>\n",
       "      <td>11</td>\n",
       "      <td>1977-01-01</td>\n",
       "      <td>66.000007</td>\n",
       "      <td>44</td>\n",
       "    </tr>\n",
       "    <tr>\n",
       "      <th>596525</th>\n",
       "      <td>2010-01-01</td>\n",
       "      <td>ANG MO KIO</td>\n",
       "      <td>2 ROOM</td>\n",
       "      <td>44.0</td>\n",
       "      <td>Improved</td>\n",
       "      <td>1978</td>\n",
       "      <td>208000.0</td>\n",
       "      <td>2</td>\n",
       "      <td>1978-01-01</td>\n",
       "      <td>66.999343</td>\n",
       "      <td>43</td>\n",
       "    </tr>\n",
       "    <tr>\n",
       "      <th>596526</th>\n",
       "      <td>2010-01-01</td>\n",
       "      <td>ANG MO KIO</td>\n",
       "      <td>2 ROOM</td>\n",
       "      <td>44.0</td>\n",
       "      <td>Improved</td>\n",
       "      <td>1978</td>\n",
       "      <td>180000.0</td>\n",
       "      <td>8</td>\n",
       "      <td>1978-01-01</td>\n",
       "      <td>66.999343</td>\n",
       "      <td>43</td>\n",
       "    </tr>\n",
       "    <tr>\n",
       "      <th>596527</th>\n",
       "      <td>2010-01-01</td>\n",
       "      <td>ANG MO KIO</td>\n",
       "      <td>2 ROOM</td>\n",
       "      <td>44.0</td>\n",
       "      <td>Improved</td>\n",
       "      <td>1978</td>\n",
       "      <td>180000.0</td>\n",
       "      <td>8</td>\n",
       "      <td>1978-01-01</td>\n",
       "      <td>66.999343</td>\n",
       "      <td>43</td>\n",
       "    </tr>\n",
       "    <tr>\n",
       "      <th>596528</th>\n",
       "      <td>2010-01-01</td>\n",
       "      <td>ANG MO KIO</td>\n",
       "      <td>2 ROOM</td>\n",
       "      <td>44.0</td>\n",
       "      <td>Improved</td>\n",
       "      <td>1977</td>\n",
       "      <td>198000.0</td>\n",
       "      <td>2</td>\n",
       "      <td>1977-01-01</td>\n",
       "      <td>66.000007</td>\n",
       "      <td>44</td>\n",
       "    </tr>\n",
       "    <tr>\n",
       "      <th>...</th>\n",
       "      <td>...</td>\n",
       "      <td>...</td>\n",
       "      <td>...</td>\n",
       "      <td>...</td>\n",
       "      <td>...</td>\n",
       "      <td>...</td>\n",
       "      <td>...</td>\n",
       "      <td>...</td>\n",
       "      <td>...</td>\n",
       "      <td>...</td>\n",
       "      <td>...</td>\n",
       "    </tr>\n",
       "    <tr>\n",
       "      <th>854246</th>\n",
       "      <td>2021-09-01</td>\n",
       "      <td>YISHUN</td>\n",
       "      <td>5 ROOM</td>\n",
       "      <td>113.0</td>\n",
       "      <td>Improved</td>\n",
       "      <td>2017</td>\n",
       "      <td>655000.0</td>\n",
       "      <td>11</td>\n",
       "      <td>2017-01-01</td>\n",
       "      <td>94.334606</td>\n",
       "      <td>4</td>\n",
       "    </tr>\n",
       "    <tr>\n",
       "      <th>854247</th>\n",
       "      <td>2021-09-01</td>\n",
       "      <td>YISHUN</td>\n",
       "      <td>5 ROOM</td>\n",
       "      <td>127.0</td>\n",
       "      <td>Improved</td>\n",
       "      <td>1988</td>\n",
       "      <td>620000.0</td>\n",
       "      <td>5</td>\n",
       "      <td>1988-01-01</td>\n",
       "      <td>65.331958</td>\n",
       "      <td>33</td>\n",
       "    </tr>\n",
       "    <tr>\n",
       "      <th>854248</th>\n",
       "      <td>2021-09-01</td>\n",
       "      <td>YISHUN</td>\n",
       "      <td>5 ROOM</td>\n",
       "      <td>122.0</td>\n",
       "      <td>Improved</td>\n",
       "      <td>1988</td>\n",
       "      <td>545000.0</td>\n",
       "      <td>5</td>\n",
       "      <td>1988-01-01</td>\n",
       "      <td>65.331958</td>\n",
       "      <td>33</td>\n",
       "    </tr>\n",
       "    <tr>\n",
       "      <th>854249</th>\n",
       "      <td>2021-09-01</td>\n",
       "      <td>YISHUN</td>\n",
       "      <td>EXECUTIVE</td>\n",
       "      <td>142.0</td>\n",
       "      <td>Apartment</td>\n",
       "      <td>1987</td>\n",
       "      <td>648000.0</td>\n",
       "      <td>11</td>\n",
       "      <td>1987-01-01</td>\n",
       "      <td>64.332621</td>\n",
       "      <td>34</td>\n",
       "    </tr>\n",
       "    <tr>\n",
       "      <th>854250</th>\n",
       "      <td>2021-09-01</td>\n",
       "      <td>YISHUN</td>\n",
       "      <td>EXECUTIVE</td>\n",
       "      <td>142.0</td>\n",
       "      <td>Apartment</td>\n",
       "      <td>1988</td>\n",
       "      <td>732000.0</td>\n",
       "      <td>8</td>\n",
       "      <td>1988-01-01</td>\n",
       "      <td>65.331958</td>\n",
       "      <td>33</td>\n",
       "    </tr>\n",
       "  </tbody>\n",
       "</table>\n",
       "<p>257727 rows × 11 columns</p>\n",
       "</div>"
      ],
      "text/plain": [
       "            month        town  flat_type  floor_area_sqm flat_model  \\\n",
       "596524 2010-01-01  ANG MO KIO     2 ROOM            44.0   Improved   \n",
       "596525 2010-01-01  ANG MO KIO     2 ROOM            44.0   Improved   \n",
       "596526 2010-01-01  ANG MO KIO     2 ROOM            44.0   Improved   \n",
       "596527 2010-01-01  ANG MO KIO     2 ROOM            44.0   Improved   \n",
       "596528 2010-01-01  ANG MO KIO     2 ROOM            44.0   Improved   \n",
       "...           ...         ...        ...             ...        ...   \n",
       "854246 2021-09-01      YISHUN     5 ROOM           113.0   Improved   \n",
       "854247 2021-09-01      YISHUN     5 ROOM           127.0   Improved   \n",
       "854248 2021-09-01      YISHUN     5 ROOM           122.0   Improved   \n",
       "854249 2021-09-01      YISHUN  EXECUTIVE           142.0  Apartment   \n",
       "854250 2021-09-01      YISHUN  EXECUTIVE           142.0  Apartment   \n",
       "\n",
       "        lease_commence_date  resale_price  Storey lease_commence_dt  \\\n",
       "596524                 1977      202000.0      11        1977-01-01   \n",
       "596525                 1978      208000.0       2        1978-01-01   \n",
       "596526                 1978      180000.0       8        1978-01-01   \n",
       "596527                 1978      180000.0       8        1978-01-01   \n",
       "596528                 1977      198000.0       2        1977-01-01   \n",
       "...                     ...           ...     ...               ...   \n",
       "854246                 2017      655000.0      11        2017-01-01   \n",
       "854247                 1988      620000.0       5        1988-01-01   \n",
       "854248                 1988      545000.0       5        1988-01-01   \n",
       "854249                 1987      648000.0      11        1987-01-01   \n",
       "854250                 1988      732000.0       8        1988-01-01   \n",
       "\n",
       "        remaining_lease_year  age  \n",
       "596524             66.000007   44  \n",
       "596525             66.999343   43  \n",
       "596526             66.999343   43  \n",
       "596527             66.999343   43  \n",
       "596528             66.000007   44  \n",
       "...                      ...  ...  \n",
       "854246             94.334606    4  \n",
       "854247             65.331958   33  \n",
       "854248             65.331958   33  \n",
       "854249             64.332621   34  \n",
       "854250             65.331958   33  \n",
       "\n",
       "[257727 rows x 11 columns]"
      ]
     },
     "execution_count": 36,
     "metadata": {},
     "output_type": "execute_result"
    }
   ],
   "source": [
    "features2 = features[features.month>='2010-01-01']\n",
    "features2"
   ]
  },
  {
   "cell_type": "code",
   "execution_count": 37,
   "metadata": {
    "pycharm": {
     "name": "#%%\n"
    }
   },
   "outputs": [
    {
     "data": {
      "text/html": [
       "<div>\n",
       "<style scoped>\n",
       "    .dataframe tbody tr th:only-of-type {\n",
       "        vertical-align: middle;\n",
       "    }\n",
       "\n",
       "    .dataframe tbody tr th {\n",
       "        vertical-align: top;\n",
       "    }\n",
       "\n",
       "    .dataframe thead th {\n",
       "        text-align: right;\n",
       "    }\n",
       "</style>\n",
       "<table border=\"1\" class=\"dataframe\">\n",
       "  <thead>\n",
       "    <tr style=\"text-align: right;\">\n",
       "      <th></th>\n",
       "      <th>Avg Resale</th>\n",
       "    </tr>\n",
       "    <tr>\n",
       "      <th>town</th>\n",
       "      <th></th>\n",
       "    </tr>\n",
       "  </thead>\n",
       "  <tbody>\n",
       "    <tr>\n",
       "      <th>BUKIT TIMAH</th>\n",
       "      <td>668037.0</td>\n",
       "    </tr>\n",
       "    <tr>\n",
       "      <th>BISHAN</th>\n",
       "      <td>592654.0</td>\n",
       "    </tr>\n",
       "    <tr>\n",
       "      <th>CENTRAL AREA</th>\n",
       "      <td>570714.0</td>\n",
       "    </tr>\n",
       "    <tr>\n",
       "      <th>BUKIT MERAH</th>\n",
       "      <td>540824.0</td>\n",
       "    </tr>\n",
       "    <tr>\n",
       "      <th>QUEENSTOWN</th>\n",
       "      <td>523074.0</td>\n",
       "    </tr>\n",
       "  </tbody>\n",
       "</table>\n",
       "</div>"
      ],
      "text/plain": [
       "              Avg Resale\n",
       "town                    \n",
       "BUKIT TIMAH     668037.0\n",
       "BISHAN          592654.0\n",
       "CENTRAL AREA    570714.0\n",
       "BUKIT MERAH     540824.0\n",
       "QUEENSTOWN      523074.0"
      ]
     },
     "execution_count": 37,
     "metadata": {},
     "output_type": "execute_result"
    }
   ],
   "source": [
    "avg_town= features2.groupby('town')['resale_price'].mean()\n",
    "avg_town = avg_town.to_frame()\n",
    "avg_town = avg_town.rename(columns={\"resale_price\": \"Avg Resale\"})\n",
    "avg_town = avg_town.round(0)\n",
    "avg_town.sort_values(by = 'Avg Resale', ascending=False).head(5)"
   ]
  },
  {
   "cell_type": "code",
   "execution_count": 38,
   "metadata": {
    "pycharm": {
     "name": "#%%\n"
    }
   },
   "outputs": [
    {
     "data": {
      "text/html": [
       "<div>\n",
       "<style scoped>\n",
       "    .dataframe tbody tr th:only-of-type {\n",
       "        vertical-align: middle;\n",
       "    }\n",
       "\n",
       "    .dataframe tbody tr th {\n",
       "        vertical-align: top;\n",
       "    }\n",
       "\n",
       "    .dataframe thead th {\n",
       "        text-align: right;\n",
       "    }\n",
       "</style>\n",
       "<table border=\"1\" class=\"dataframe\">\n",
       "  <thead>\n",
       "    <tr style=\"text-align: right;\">\n",
       "      <th></th>\n",
       "      <th>Med Resale</th>\n",
       "    </tr>\n",
       "    <tr>\n",
       "      <th>town</th>\n",
       "      <th></th>\n",
       "    </tr>\n",
       "  </thead>\n",
       "  <tbody>\n",
       "    <tr>\n",
       "      <th>BUKIT TIMAH</th>\n",
       "      <td>668000.0</td>\n",
       "    </tr>\n",
       "    <tr>\n",
       "      <th>BISHAN</th>\n",
       "      <td>570000.0</td>\n",
       "    </tr>\n",
       "    <tr>\n",
       "      <th>BUKIT MERAH</th>\n",
       "      <td>543500.0</td>\n",
       "    </tr>\n",
       "    <tr>\n",
       "      <th>PASIR RIS</th>\n",
       "      <td>475000.0</td>\n",
       "    </tr>\n",
       "    <tr>\n",
       "      <th>CENTRAL AREA</th>\n",
       "      <td>471000.0</td>\n",
       "    </tr>\n",
       "  </tbody>\n",
       "</table>\n",
       "</div>"
      ],
      "text/plain": [
       "              Med Resale\n",
       "town                    \n",
       "BUKIT TIMAH     668000.0\n",
       "BISHAN          570000.0\n",
       "BUKIT MERAH     543500.0\n",
       "PASIR RIS       475000.0\n",
       "CENTRAL AREA    471000.0"
      ]
     },
     "execution_count": 38,
     "metadata": {},
     "output_type": "execute_result"
    }
   ],
   "source": [
    "med_town= features2.groupby('town')['resale_price'].median()\n",
    "med_town = med_town.to_frame()\n",
    "med_town = med_town.rename(columns={\"resale_price\": \"Med Resale\"})\n",
    "med_town = med_town.round(0)\n",
    "med_town.sort_values(by = 'Med Resale', ascending=False).head(5)"
   ]
  },
  {
   "cell_type": "code",
   "execution_count": 39,
   "metadata": {
    "pycharm": {
     "name": "#%%\n"
    }
   },
   "outputs": [
    {
     "data": {
      "text/html": [
       "<div>\n",
       "<style scoped>\n",
       "    .dataframe tbody tr th:only-of-type {\n",
       "        vertical-align: middle;\n",
       "    }\n",
       "\n",
       "    .dataframe tbody tr th {\n",
       "        vertical-align: top;\n",
       "    }\n",
       "\n",
       "    .dataframe thead th {\n",
       "        text-align: right;\n",
       "    }\n",
       "</style>\n",
       "<table border=\"1\" class=\"dataframe\">\n",
       "  <thead>\n",
       "    <tr style=\"text-align: right;\">\n",
       "      <th></th>\n",
       "      <th>Count Resale</th>\n",
       "    </tr>\n",
       "    <tr>\n",
       "      <th>town</th>\n",
       "      <th></th>\n",
       "    </tr>\n",
       "  </thead>\n",
       "  <tbody>\n",
       "    <tr>\n",
       "      <th>WOODLANDS</th>\n",
       "      <td>20160</td>\n",
       "    </tr>\n",
       "    <tr>\n",
       "      <th>JURONG WEST</th>\n",
       "      <td>19796</td>\n",
       "    </tr>\n",
       "    <tr>\n",
       "      <th>SENGKANG</th>\n",
       "      <td>18217</td>\n",
       "    </tr>\n",
       "    <tr>\n",
       "      <th>TAMPINES</th>\n",
       "      <td>17897</td>\n",
       "    </tr>\n",
       "    <tr>\n",
       "      <th>YISHUN</th>\n",
       "      <td>16710</td>\n",
       "    </tr>\n",
       "  </tbody>\n",
       "</table>\n",
       "</div>"
      ],
      "text/plain": [
       "             Count Resale\n",
       "town                     \n",
       "WOODLANDS           20160\n",
       "JURONG WEST         19796\n",
       "SENGKANG            18217\n",
       "TAMPINES            17897\n",
       "YISHUN              16710"
      ]
     },
     "execution_count": 39,
     "metadata": {},
     "output_type": "execute_result"
    }
   ],
   "source": [
    "count_town= features2.groupby('town')['resale_price'].count()\n",
    "count_town = count_town.to_frame()\n",
    "count_town = count_town.rename(columns={\"resale_price\": \"Count Resale\"})\n",
    "count_town = count_town.round(0)\n",
    "count_town.sort_values(by = 'Count Resale', ascending=False).head(5)"
   ]
  },
  {
   "cell_type": "code",
   "execution_count": 40,
   "metadata": {
    "pycharm": {
     "name": "#%%\n"
    }
   },
   "outputs": [],
   "source": [
    "## List of oldest towns from 2012"
   ]
  },
  {
   "cell_type": "code",
   "execution_count": 41,
   "metadata": {
    "pycharm": {
     "name": "#%%\n"
    }
   },
   "outputs": [
    {
     "ename": "NameError",
     "evalue": "name 'Age_town' is not defined",
     "output_type": "error",
     "traceback": [
      "\u001B[1;31m---------------------------------------------------------------------------\u001B[0m",
      "\u001B[1;31mNameError\u001B[0m                                 Traceback (most recent call last)",
      "\u001B[1;32m<ipython-input-41-2cd8fb86bf10>\u001B[0m in \u001B[0;36m<module>\u001B[1;34m\u001B[0m\n\u001B[1;32m----> 1\u001B[1;33m \u001B[0mtown_df\u001B[0m \u001B[1;33m=\u001B[0m \u001B[0mavg_town\u001B[0m\u001B[1;33m.\u001B[0m\u001B[0mmerge\u001B[0m\u001B[1;33m(\u001B[0m\u001B[0mmed_town\u001B[0m\u001B[1;33m,\u001B[0m \u001B[0mon\u001B[0m\u001B[1;33m=\u001B[0m\u001B[1;34m'town'\u001B[0m\u001B[1;33m)\u001B[0m\u001B[1;33m.\u001B[0m\u001B[0mmerge\u001B[0m\u001B[1;33m(\u001B[0m\u001B[0mcount_town\u001B[0m\u001B[1;33m,\u001B[0m\u001B[0mon\u001B[0m\u001B[1;33m=\u001B[0m\u001B[1;34m'town'\u001B[0m\u001B[1;33m)\u001B[0m\u001B[1;33m.\u001B[0m\u001B[0mmerge\u001B[0m\u001B[1;33m(\u001B[0m\u001B[0mAge_town\u001B[0m\u001B[1;33m,\u001B[0m\u001B[0mon\u001B[0m\u001B[1;33m=\u001B[0m\u001B[1;34m'town'\u001B[0m\u001B[1;33m)\u001B[0m\u001B[1;33m\u001B[0m\u001B[1;33m\u001B[0m\u001B[0m\n\u001B[0m\u001B[0;32m      2\u001B[0m \u001B[0mtown_df\u001B[0m\u001B[1;33m.\u001B[0m\u001B[0msort_values\u001B[0m\u001B[1;33m(\u001B[0m\u001B[0mby\u001B[0m\u001B[1;33m=\u001B[0m\u001B[1;34m'Remaining Lease'\u001B[0m\u001B[1;33m,\u001B[0m \u001B[0mascending\u001B[0m\u001B[1;33m=\u001B[0m\u001B[1;32mFalse\u001B[0m\u001B[1;33m)\u001B[0m\u001B[1;33m.\u001B[0m\u001B[0mhead\u001B[0m\u001B[1;33m(\u001B[0m\u001B[1;36m10\u001B[0m\u001B[1;33m)\u001B[0m\u001B[1;33m\u001B[0m\u001B[1;33m\u001B[0m\u001B[0m\n",
      "\u001B[1;31mNameError\u001B[0m: name 'Age_town' is not defined"
     ]
    }
   ],
   "source": [
    "town_df = avg_town.merge(med_town, on='town').merge(count_town,on='town').merge(Age_town,on='town')\n",
    "town_df.sort_values(by='Remaining Lease', ascending=False).head(10)"
   ]
  },
  {
   "cell_type": "markdown",
   "metadata": {
    "pycharm": {
     "name": "#%% md\n"
    }
   },
   "source": [
    "### Highest price based on flat type and flat model, followed by average thereafter"
   ]
  },
  {
   "cell_type": "code",
   "execution_count": null,
   "metadata": {
    "pycharm": {
     "name": "#%%\n"
    }
   },
   "outputs": [],
   "source": [
    "max_features =features2.groupby(['flat_type','flat_model'])['resale_price'].max()\n",
    "df_max= max_features.to_frame()\n",
    "df_max = df_max.round(0)\n",
    "df_max.sort_values(by = 'resale_price', ascending=False).head(10)"
   ]
  },
  {
   "cell_type": "code",
   "execution_count": null,
   "metadata": {
    "pycharm": {
     "name": "#%%\n"
    }
   },
   "outputs": [],
   "source": [
    "# Shows the mean price based on flat type and flat model\n",
    "mean_features =features2.groupby(['flat_type','flat_model'])['resale_price'].mean()\n",
    "df_mean= mean_features.to_frame()\n",
    "df_mean = df_mean.round(0)\n",
    "df_mean.sort_values(by = 'resale_price', ascending=False).head(10)"
   ]
  }
 ],
 "metadata": {
  "kernelspec": {
   "display_name": "Python 3",
   "language": "python",
   "name": "python3"
  },
  "language_info": {
   "codemirror_mode": {
    "name": "ipython",
    "version": 3
   },
   "file_extension": ".py",
   "mimetype": "text/x-python",
   "name": "python",
   "nbconvert_exporter": "python",
   "pygments_lexer": "ipython3",
   "version": "3.8.5"
  }
 },
 "nbformat": 4,
 "nbformat_minor": 4
}