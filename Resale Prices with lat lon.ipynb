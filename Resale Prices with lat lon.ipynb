{
 "cells": [
  {
   "cell_type": "markdown",
   "metadata": {
    "pycharm": {
     "name": "#%% md\n"
    }
   },
   "source": [
    "# Resale price with latitude and longitude data\n",
    "\n",
    "Using knowledge that I found on openmaps API article, I decided to give it a try to see if inputting raw latitude and longitude data can assist in making the model more robust. The csv was prepared for in \"write new csv.py\" , this was to save the latitude and longitude data so there will not be a need to request for lat and lon data every time.\n",
    "\n",
    "I also intend to use this knowledge to further improve by adding new features such as distance to mrt, distance to malls, number of nearby malls, distance to town."
   ]
  },
  {
   "cell_type": "markdown",
   "metadata": {
    "collapsed": false,
    "pycharm": {
     "name": "#%% md\n"
    }
   },
   "source": [
    "## 1. Import packages and getting the data"
   ]
  },
  {
   "cell_type": "code",
   "execution_count": 3,
   "metadata": {
    "pycharm": {
     "name": "#%%\n"
    }
   },
   "outputs": [
    {
     "name": "stdout",
     "output_type": "stream",
     "text": [
      "Num GPUs Available:  1\n"
     ]
    }
   ],
   "source": [
    "import pandas as pd\n",
    "import numpy as np\n",
    "import seaborn as sns\n",
    "import matplotlib.pyplot as plt\n",
    "from common_func import *\n",
    "import math\n",
    "from sklearn.model_selection import train_test_split\n",
    "import tensorflow as tf\n",
    "%matplotlib inline\n",
    "print(\"Num GPUs Available: \", len(tf.config.list_physical_devices('GPU')))"
   ]
  },
  {
   "cell_type": "code",
   "execution_count": 4,
   "metadata": {
    "pycharm": {
     "name": "#%%\n"
    }
   },
   "outputs": [],
   "source": [
    "# Read csv as dataframe\n",
    "\n",
    "data = pd.read_csv('data/geo_coords_data.csv', parse_dates=True,index_col=0 )"
   ]
  },
  {
   "cell_type": "code",
   "execution_count": 5,
   "metadata": {
    "collapsed": false,
    "pycharm": {
     "name": "#%%\n"
    }
   },
   "outputs": [
    {
     "data": {
      "text/html": [
       "<div>\n",
       "<style scoped>\n",
       "    .dataframe tbody tr th:only-of-type {\n",
       "        vertical-align: middle;\n",
       "    }\n",
       "\n",
       "    .dataframe tbody tr th {\n",
       "        vertical-align: top;\n",
       "    }\n",
       "\n",
       "    .dataframe thead th {\n",
       "        text-align: right;\n",
       "    }\n",
       "</style>\n",
       "<table border=\"1\" class=\"dataframe\">\n",
       "  <thead>\n",
       "    <tr style=\"text-align: right;\">\n",
       "      <th></th>\n",
       "      <th>count</th>\n",
       "      <th>mean</th>\n",
       "      <th>std</th>\n",
       "      <th>min</th>\n",
       "      <th>25%</th>\n",
       "      <th>50%</th>\n",
       "      <th>75%</th>\n",
       "      <th>max</th>\n",
       "    </tr>\n",
       "  </thead>\n",
       "  <tbody>\n",
       "    <tr>\n",
       "      <th>storey_range</th>\n",
       "      <td>224463.0</td>\n",
       "      <td>8.405091</td>\n",
       "      <td>5.641079</td>\n",
       "      <td>2.000000</td>\n",
       "      <td>5.000000</td>\n",
       "      <td>8.000000</td>\n",
       "      <td>11.000000</td>\n",
       "      <td>5.000000e+01</td>\n",
       "    </tr>\n",
       "    <tr>\n",
       "      <th>floor_area_sqm</th>\n",
       "      <td>224463.0</td>\n",
       "      <td>97.271200</td>\n",
       "      <td>24.329626</td>\n",
       "      <td>31.000000</td>\n",
       "      <td>76.000000</td>\n",
       "      <td>95.000000</td>\n",
       "      <td>112.000000</td>\n",
       "      <td>2.800000e+02</td>\n",
       "    </tr>\n",
       "    <tr>\n",
       "      <th>resale_price</th>\n",
       "      <td>224463.0</td>\n",
       "      <td>463256.760303</td>\n",
       "      <td>150795.112175</td>\n",
       "      <td>140000.000000</td>\n",
       "      <td>355000.000000</td>\n",
       "      <td>435000.000000</td>\n",
       "      <td>540000.000000</td>\n",
       "      <td>1.418000e+06</td>\n",
       "    </tr>\n",
       "    <tr>\n",
       "      <th>remaining_lease_year</th>\n",
       "      <td>224463.0</td>\n",
       "      <td>74.448621</td>\n",
       "      <td>12.388411</td>\n",
       "      <td>43.250738</td>\n",
       "      <td>64.669384</td>\n",
       "      <td>73.671622</td>\n",
       "      <td>84.250895</td>\n",
       "      <td>9.783639e+01</td>\n",
       "    </tr>\n",
       "    <tr>\n",
       "      <th>LAT</th>\n",
       "      <td>224463.0</td>\n",
       "      <td>1.366286</td>\n",
       "      <td>0.042754</td>\n",
       "      <td>1.270380</td>\n",
       "      <td>1.336285</td>\n",
       "      <td>1.364647</td>\n",
       "      <td>1.393629</td>\n",
       "      <td>1.457071e+00</td>\n",
       "    </tr>\n",
       "    <tr>\n",
       "      <th>LONG</th>\n",
       "      <td>224463.0</td>\n",
       "      <td>103.840507</td>\n",
       "      <td>0.072144</td>\n",
       "      <td>103.685228</td>\n",
       "      <td>103.776710</td>\n",
       "      <td>103.845626</td>\n",
       "      <td>103.899249</td>\n",
       "      <td>1.039878e+02</td>\n",
       "    </tr>\n",
       "  </tbody>\n",
       "</table>\n",
       "</div>"
      ],
      "text/plain": [
       "                         count           mean            std            min  \\\n",
       "storey_range          224463.0       8.405091       5.641079       2.000000   \n",
       "floor_area_sqm        224463.0      97.271200      24.329626      31.000000   \n",
       "resale_price          224463.0  463256.760303  150795.112175  140000.000000   \n",
       "remaining_lease_year  224463.0      74.448621      12.388411      43.250738   \n",
       "LAT                   224463.0       1.366286       0.042754       1.270380   \n",
       "LONG                  224463.0     103.840507       0.072144     103.685228   \n",
       "\n",
       "                                25%            50%            75%  \\\n",
       "storey_range               5.000000       8.000000      11.000000   \n",
       "floor_area_sqm            76.000000      95.000000     112.000000   \n",
       "resale_price          355000.000000  435000.000000  540000.000000   \n",
       "remaining_lease_year      64.669384      73.671622      84.250895   \n",
       "LAT                        1.336285       1.364647       1.393629   \n",
       "LONG                     103.776710     103.845626     103.899249   \n",
       "\n",
       "                               max  \n",
       "storey_range          5.000000e+01  \n",
       "floor_area_sqm        2.800000e+02  \n",
       "resale_price          1.418000e+06  \n",
       "remaining_lease_year  9.783639e+01  \n",
       "LAT                   1.457071e+00  \n",
       "LONG                  1.039878e+02  "
      ]
     },
     "execution_count": 5,
     "metadata": {},
     "output_type": "execute_result"
    }
   ],
   "source": [
    "#  describe data\n",
    "data.describe().transpose()"
   ]
  },
  {
   "cell_type": "code",
   "execution_count": 6,
   "metadata": {
    "collapsed": false,
    "pycharm": {
     "name": "#%%\n"
    }
   },
   "outputs": [
    {
     "data": {
      "text/plain": [
       "month                    object\n",
       "town                     object\n",
       "flat_type                object\n",
       "storey_range            float64\n",
       "floor_area_sqm          float64\n",
       "flat_model               object\n",
       "resale_price            float64\n",
       "lease_commence_dt        object\n",
       "remaining_lease_year    float64\n",
       "LAT                     float64\n",
       "LONG                    float64\n",
       "dtype: object"
      ]
     },
     "execution_count": 6,
     "metadata": {},
     "output_type": "execute_result"
    }
   ],
   "source": [
    "data.dtypes"
   ]
  },
  {
   "cell_type": "code",
   "execution_count": 7,
   "metadata": {
    "pycharm": {
     "name": "#%%\n"
    }
   },
   "outputs": [
    {
     "data": {
      "text/html": [
       "<div>\n",
       "<style scoped>\n",
       "    .dataframe tbody tr th:only-of-type {\n",
       "        vertical-align: middle;\n",
       "    }\n",
       "\n",
       "    .dataframe tbody tr th {\n",
       "        vertical-align: top;\n",
       "    }\n",
       "\n",
       "    .dataframe thead th {\n",
       "        text-align: right;\n",
       "    }\n",
       "</style>\n",
       "<table border=\"1\" class=\"dataframe\">\n",
       "  <thead>\n",
       "    <tr style=\"text-align: right;\">\n",
       "      <th></th>\n",
       "      <th>month</th>\n",
       "      <th>town</th>\n",
       "      <th>flat_type</th>\n",
       "      <th>storey_range</th>\n",
       "      <th>floor_area_sqm</th>\n",
       "      <th>flat_model</th>\n",
       "      <th>resale_price</th>\n",
       "      <th>lease_commence_dt</th>\n",
       "      <th>remaining_lease_year</th>\n",
       "      <th>LAT</th>\n",
       "      <th>LONG</th>\n",
       "    </tr>\n",
       "  </thead>\n",
       "  <tbody>\n",
       "    <tr>\n",
       "      <th>0</th>\n",
       "      <td>2012-03-01</td>\n",
       "      <td>ANG MO KIO</td>\n",
       "      <td>2 ROOM</td>\n",
       "      <td>8.0</td>\n",
       "      <td>45.0</td>\n",
       "      <td>Improved</td>\n",
       "      <td>250000.0</td>\n",
       "      <td>1986-01-01</td>\n",
       "      <td>72.836561</td>\n",
       "      <td>1.374694</td>\n",
       "      <td>103.836463</td>\n",
       "    </tr>\n",
       "    <tr>\n",
       "      <th>1</th>\n",
       "      <td>2012-03-01</td>\n",
       "      <td>ANG MO KIO</td>\n",
       "      <td>2 ROOM</td>\n",
       "      <td>3.0</td>\n",
       "      <td>44.0</td>\n",
       "      <td>Improved</td>\n",
       "      <td>265000.0</td>\n",
       "      <td>1980-01-01</td>\n",
       "      <td>66.835068</td>\n",
       "      <td>1.373401</td>\n",
       "      <td>103.849073</td>\n",
       "    </tr>\n",
       "    <tr>\n",
       "      <th>2</th>\n",
       "      <td>2012-03-01</td>\n",
       "      <td>ANG MO KIO</td>\n",
       "      <td>3 ROOM</td>\n",
       "      <td>8.0</td>\n",
       "      <td>68.0</td>\n",
       "      <td>New Generation</td>\n",
       "      <td>315000.0</td>\n",
       "      <td>1980-01-01</td>\n",
       "      <td>66.835068</td>\n",
       "      <td>1.379395</td>\n",
       "      <td>103.839157</td>\n",
       "    </tr>\n",
       "    <tr>\n",
       "      <th>3</th>\n",
       "      <td>2012-03-01</td>\n",
       "      <td>ANG MO KIO</td>\n",
       "      <td>3 ROOM</td>\n",
       "      <td>3.0</td>\n",
       "      <td>67.0</td>\n",
       "      <td>New Generation</td>\n",
       "      <td>320000.0</td>\n",
       "      <td>1984-01-01</td>\n",
       "      <td>70.835151</td>\n",
       "      <td>1.362758</td>\n",
       "      <td>103.858015</td>\n",
       "    </tr>\n",
       "    <tr>\n",
       "      <th>4</th>\n",
       "      <td>2012-03-01</td>\n",
       "      <td>ANG MO KIO</td>\n",
       "      <td>3 ROOM</td>\n",
       "      <td>8.0</td>\n",
       "      <td>67.0</td>\n",
       "      <td>New Generation</td>\n",
       "      <td>321000.0</td>\n",
       "      <td>1980-01-01</td>\n",
       "      <td>66.835068</td>\n",
       "      <td>1.379867</td>\n",
       "      <td>103.835977</td>\n",
       "    </tr>\n",
       "  </tbody>\n",
       "</table>\n",
       "</div>"
      ],
      "text/plain": [
       "        month        town flat_type  storey_range  floor_area_sqm  \\\n",
       "0  2012-03-01  ANG MO KIO    2 ROOM           8.0            45.0   \n",
       "1  2012-03-01  ANG MO KIO    2 ROOM           3.0            44.0   \n",
       "2  2012-03-01  ANG MO KIO    3 ROOM           8.0            68.0   \n",
       "3  2012-03-01  ANG MO KIO    3 ROOM           3.0            67.0   \n",
       "4  2012-03-01  ANG MO KIO    3 ROOM           8.0            67.0   \n",
       "\n",
       "       flat_model  resale_price lease_commence_dt  remaining_lease_year  \\\n",
       "0        Improved      250000.0        1986-01-01             72.836561   \n",
       "1        Improved      265000.0        1980-01-01             66.835068   \n",
       "2  New Generation      315000.0        1980-01-01             66.835068   \n",
       "3  New Generation      320000.0        1984-01-01             70.835151   \n",
       "4  New Generation      321000.0        1980-01-01             66.835068   \n",
       "\n",
       "        LAT        LONG  \n",
       "0  1.374694  103.836463  \n",
       "1  1.373401  103.849073  \n",
       "2  1.379395  103.839157  \n",
       "3  1.362758  103.858015  \n",
       "4  1.379867  103.835977  "
      ]
     },
     "execution_count": 7,
     "metadata": {},
     "output_type": "execute_result"
    }
   ],
   "source": [
    "data.head(5)"
   ]
  },
  {
   "cell_type": "code",
   "execution_count": 8,
   "metadata": {
    "collapsed": false,
    "pycharm": {
     "name": "#%%\n"
    }
   },
   "outputs": [
    {
     "data": {
      "text/html": [
       "<div>\n",
       "<style scoped>\n",
       "    .dataframe tbody tr th:only-of-type {\n",
       "        vertical-align: middle;\n",
       "    }\n",
       "\n",
       "    .dataframe tbody tr th {\n",
       "        vertical-align: top;\n",
       "    }\n",
       "\n",
       "    .dataframe thead tr th {\n",
       "        text-align: left;\n",
       "    }\n",
       "\n",
       "    .dataframe thead tr:last-of-type th {\n",
       "        text-align: right;\n",
       "    }\n",
       "</style>\n",
       "<table border=\"1\" class=\"dataframe\">\n",
       "  <thead>\n",
       "    <tr>\n",
       "      <th></th>\n",
       "      <th colspan=\"2\" halign=\"left\">resale_price</th>\n",
       "      <th colspan=\"2\" halign=\"left\">floor_area_sqm</th>\n",
       "    </tr>\n",
       "    <tr>\n",
       "      <th></th>\n",
       "      <th>mean</th>\n",
       "      <th>median</th>\n",
       "      <th>mean</th>\n",
       "      <th>median</th>\n",
       "    </tr>\n",
       "    <tr>\n",
       "      <th>flat_type</th>\n",
       "      <th></th>\n",
       "      <th></th>\n",
       "      <th></th>\n",
       "      <th></th>\n",
       "    </tr>\n",
       "  </thead>\n",
       "  <tbody>\n",
       "    <tr>\n",
       "      <th>1 ROOM</th>\n",
       "      <td>208529.709091</td>\n",
       "      <td>210000.0</td>\n",
       "      <td>31.000000</td>\n",
       "      <td>31.0</td>\n",
       "    </tr>\n",
       "    <tr>\n",
       "      <th>2 ROOM</th>\n",
       "      <td>252781.063815</td>\n",
       "      <td>250000.0</td>\n",
       "      <td>45.828921</td>\n",
       "      <td>46.0</td>\n",
       "    </tr>\n",
       "    <tr>\n",
       "      <th>3 ROOM</th>\n",
       "      <td>333658.000892</td>\n",
       "      <td>322000.0</td>\n",
       "      <td>68.180607</td>\n",
       "      <td>67.0</td>\n",
       "    </tr>\n",
       "    <tr>\n",
       "      <th>4 ROOM</th>\n",
       "      <td>459850.769344</td>\n",
       "      <td>432000.0</td>\n",
       "      <td>95.470284</td>\n",
       "      <td>93.0</td>\n",
       "    </tr>\n",
       "    <tr>\n",
       "      <th>5 ROOM</th>\n",
       "      <td>553968.728887</td>\n",
       "      <td>518000.0</td>\n",
       "      <td>118.071744</td>\n",
       "      <td>119.0</td>\n",
       "    </tr>\n",
       "    <tr>\n",
       "      <th>EXECUTIVE</th>\n",
       "      <td>651415.164864</td>\n",
       "      <td>630000.0</td>\n",
       "      <td>144.341030</td>\n",
       "      <td>145.0</td>\n",
       "    </tr>\n",
       "    <tr>\n",
       "      <th>MULTI-GENERATION</th>\n",
       "      <td>798068.782609</td>\n",
       "      <td>790000.0</td>\n",
       "      <td>160.152174</td>\n",
       "      <td>164.0</td>\n",
       "    </tr>\n",
       "  </tbody>\n",
       "</table>\n",
       "</div>"
      ],
      "text/plain": [
       "                   resale_price           floor_area_sqm       \n",
       "                           mean    median           mean median\n",
       "flat_type                                                      \n",
       "1 ROOM            208529.709091  210000.0      31.000000   31.0\n",
       "2 ROOM            252781.063815  250000.0      45.828921   46.0\n",
       "3 ROOM            333658.000892  322000.0      68.180607   67.0\n",
       "4 ROOM            459850.769344  432000.0      95.470284   93.0\n",
       "5 ROOM            553968.728887  518000.0     118.071744  119.0\n",
       "EXECUTIVE         651415.164864  630000.0     144.341030  145.0\n",
       "MULTI-GENERATION  798068.782609  790000.0     160.152174  164.0"
      ]
     },
     "execution_count": 8,
     "metadata": {},
     "output_type": "execute_result"
    }
   ],
   "source": [
    "data.groupby(\"flat_type\")[['resale_price','floor_area_sqm']].agg([np.mean,np.median])"
   ]
  },
  {
   "cell_type": "code",
   "execution_count": 9,
   "metadata": {
    "collapsed": false,
    "pycharm": {
     "name": "#%%\n"
    }
   },
   "outputs": [
    {
     "data": {
      "image/png": "[encoded data removed]",
      "text/plain": [
       "<Figure size 360x360 with 1 Axes>"
      ]
     },
     "metadata": {
      "needs_background": "light"
     },
     "output_type": "display_data"
    }
   ],
   "source": [
    "\n",
    "ax = sns.catplot(x='flat_type',y='resale_price',data = data,kind ='box')"
   ]
  },
  {
   "cell_type": "markdown",
   "metadata": {
    "collapsed": false,
    "pycharm": {
     "name": "#%% md\n"
    }
   },
   "source": [
    "### Creating the distance from lat and lon\n",
    "\n",
    "Latitude and longitude of central area is about 1.300556, 103.821667 (source:wiki), using this info we can calculate the distance to town"
   ]
  },
  {
   "cell_type": "code",
   "execution_count": 13,
   "metadata": {
    "collapsed": false,
    "pycharm": {
     "name": "#%%\n"
    }
   },
   "outputs": [],
   "source": [
    "# conversion represents 111km: 1deg\n",
    "\n",
    "conversion = 111"
   ]
  },
  {
   "cell_type": "code",
   "execution_count": 14,
   "metadata": {
    "collapsed": false,
    "pycharm": {
     "name": "#%%\n"
    }
   },
   "outputs": [],
   "source": [
    "central = np.array([1.300556, 103.821667])\n",
    "# find distance to town\n",
    "\n",
    "coords_array = data[['LAT','LONG']].to_numpy()"
   ]
  },
  {
   "cell_type": "code",
   "execution_count": 15,
   "metadata": {
    "collapsed": false,
    "pycharm": {
     "name": "#%%\n"
    }
   },
   "outputs": [],
   "source": [
    "data['distance_to_town']= np.linalg.norm(coords_array - central,axis=1)*conversion"
   ]
  },
  {
   "cell_type": "code",
   "execution_count": 16,
   "metadata": {
    "collapsed": false,
    "pycharm": {
     "name": "#%%\n"
    }
   },
   "outputs": [],
   "source": [
    "mrt = pd.read_csv('amenities/mrt.csv')\n",
    "malls = pd.read_csv('amenities/malls.csv')"
   ]
  },
  {
   "cell_type": "code",
   "execution_count": 17,
   "metadata": {
    "collapsed": false,
    "pycharm": {
     "name": "#%%\n"
    }
   },
   "outputs": [],
   "source": [
    "mrt_array = mrt[['LAT','LONG']].to_numpy()\n",
    "malls_array = malls[['LAT','LONG']].to_numpy()"
   ]
  },
  {
   "cell_type": "markdown",
   "metadata": {
    "collapsed": false,
    "pycharm": {
     "name": "#%% md\n"
    }
   },
   "source": [
    "## Getting info from our lat and long data"
   ]
  },
  {
   "cell_type": "code",
   "execution_count": 18,
   "metadata": {
    "collapsed": false,
    "pycharm": {
     "name": "#%%\n"
    }
   },
   "outputs": [
    {
     "name": "stdout",
     "output_type": "stream",
     "text": [
      "CPU times: total: 2.75 s\n",
      "Wall time: 2.87 s\n"
     ]
    }
   ],
   "source": [
    "%%time\n",
    "# let's set some conditions\n",
    "# nearest mrt and number of malls\n",
    "\n",
    "distance_to_mrt = np.empty((len(coords_array),1))\n",
    "for index,coords in enumerate(coords_array):\n",
    "    distance_to_mrt[index] = min(np.linalg.norm(coords - mrt_array,axis=1))*conversion\n",
    "data['distance_to_mrt'] = distance_to_mrt"
   ]
  },
  {
   "cell_type": "code",
   "execution_count": 19,
   "metadata": {
    "collapsed": false,
    "pycharm": {
     "name": "#%%\n"
    }
   },
   "outputs": [
    {
     "name": "stdout",
     "output_type": "stream",
     "text": [
      "CPU times: total: 2.12 s\n",
      "Wall time: 2.2 s\n"
     ]
    }
   ],
   "source": [
    "%%time\n",
    "\n",
    "distance_to_mall = np.empty((len(coords_array),1))\n",
    "for index,coords in enumerate(coords_array):\n",
    "    distance_to_mall[index] = min(np.linalg.norm(coords - malls_array,axis=1))*conversion\n",
    "data['distance_to_mall'] = distance_to_mall"
   ]
  },
  {
   "cell_type": "code",
   "execution_count": 20,
   "metadata": {
    "collapsed": false,
    "pycharm": {
     "name": "#%%\n"
    }
   },
   "outputs": [
    {
     "name": "stdout",
     "output_type": "stream",
     "text": [
      "Max distance from one mall to flat is 3.2023km\n"
     ]
    }
   ],
   "source": [
    "max_distance = max(distance_to_mall)\n",
    "print(f\"Max distance from one mall to flat is {max_distance[0]:.4f}km\")"
   ]
  },
  {
   "cell_type": "code",
   "execution_count": 21,
   "metadata": {
    "collapsed": false,
    "pycharm": {
     "name": "#%%\n"
    }
   },
   "outputs": [
    {
     "name": "stdout",
     "output_type": "stream",
     "text": [
      "CPU times: total: 1.95 s\n",
      "Wall time: 2.01 s\n"
     ]
    }
   ],
   "source": [
    "%%time\n",
    "\n",
    "# Rational of using max distance is to set it as the reference\n",
    "radius = math.ceil(max_distance[0])/conversion\n",
    "number_of_malls = np.empty((len(coords_array),1))\n",
    "for index,coords in enumerate(coords_array):\n",
    "    number_of_malls[index] = (np.linalg.norm(coords- malls_array,axis=1)<radius).sum()\n",
    "\n",
    "data['number_of_malls'] = number_of_malls"
   ]
  },
  {
   "cell_type": "code",
   "execution_count": 23,
   "metadata": {
    "collapsed": false,
    "pycharm": {
     "name": "#%%\n"
    }
   },
   "outputs": [
    {
     "data": {
      "text/html": [
       "<div>\n",
       "<style scoped>\n",
       "    .dataframe tbody tr th:only-of-type {\n",
       "        vertical-align: middle;\n",
       "    }\n",
       "\n",
       "    .dataframe tbody tr th {\n",
       "        vertical-align: top;\n",
       "    }\n",
       "\n",
       "    .dataframe thead th {\n",
       "        text-align: right;\n",
       "    }\n",
       "</style>\n",
       "<table border=\"1\" class=\"dataframe\">\n",
       "  <thead>\n",
       "    <tr style=\"text-align: right;\">\n",
       "      <th></th>\n",
       "      <th>month</th>\n",
       "      <th>town</th>\n",
       "      <th>flat_type</th>\n",
       "      <th>storey_range</th>\n",
       "      <th>floor_area_sqm</th>\n",
       "      <th>flat_model</th>\n",
       "      <th>resale_price</th>\n",
       "      <th>lease_commence_dt</th>\n",
       "      <th>remaining_lease_year</th>\n",
       "      <th>LAT</th>\n",
       "      <th>LONG</th>\n",
       "      <th>distance_to_town</th>\n",
       "      <th>distance_to_mrt</th>\n",
       "      <th>distance_to_mall</th>\n",
       "      <th>number_of_malls</th>\n",
       "    </tr>\n",
       "  </thead>\n",
       "  <tbody>\n",
       "    <tr>\n",
       "      <th>38559</th>\n",
       "      <td>2014-03-01</td>\n",
       "      <td>CENTRAL AREA</td>\n",
       "      <td>3 ROOM</td>\n",
       "      <td>2.0</td>\n",
       "      <td>81.0</td>\n",
       "      <td>Model A</td>\n",
       "      <td>405000.0</td>\n",
       "      <td>1984-01-01</td>\n",
       "      <td>68.836479</td>\n",
       "      <td>1.307435</td>\n",
       "      <td>103.854714</td>\n",
       "      <td>3.746846</td>\n",
       "      <td>0.259479</td>\n",
       "      <td>0.300752</td>\n",
       "      <td>43.0</td>\n",
       "    </tr>\n",
       "    <tr>\n",
       "      <th>175049</th>\n",
       "      <td>2020-12-01</td>\n",
       "      <td>CENTRAL AREA</td>\n",
       "      <td>3 ROOM</td>\n",
       "      <td>11.0</td>\n",
       "      <td>68.0</td>\n",
       "      <td>Improved</td>\n",
       "      <td>440800.0</td>\n",
       "      <td>1986-01-01</td>\n",
       "      <td>64.083472</td>\n",
       "      <td>1.299009</td>\n",
       "      <td>103.852285</td>\n",
       "      <td>3.402920</td>\n",
       "      <td>0.214594</td>\n",
       "      <td>0.354919</td>\n",
       "      <td>43.0</td>\n",
       "    </tr>\n",
       "    <tr>\n",
       "      <th>193850</th>\n",
       "      <td>2021-08-01</td>\n",
       "      <td>CENTRAL AREA</td>\n",
       "      <td>3 ROOM</td>\n",
       "      <td>5.0</td>\n",
       "      <td>73.0</td>\n",
       "      <td>Model A</td>\n",
       "      <td>420000.0</td>\n",
       "      <td>1985-01-01</td>\n",
       "      <td>62.418824</td>\n",
       "      <td>1.305707</td>\n",
       "      <td>103.854943</td>\n",
       "      <td>3.737650</td>\n",
       "      <td>0.071143</td>\n",
       "      <td>0.365286</td>\n",
       "      <td>43.0</td>\n",
       "    </tr>\n",
       "    <tr>\n",
       "      <th>193847</th>\n",
       "      <td>2021-08-01</td>\n",
       "      <td>CENTRAL AREA</td>\n",
       "      <td>3 ROOM</td>\n",
       "      <td>5.0</td>\n",
       "      <td>58.0</td>\n",
       "      <td>Standard</td>\n",
       "      <td>330000.0</td>\n",
       "      <td>1974-01-01</td>\n",
       "      <td>51.417914</td>\n",
       "      <td>1.303461</td>\n",
       "      <td>103.850709</td>\n",
       "      <td>3.239783</td>\n",
       "      <td>0.232760</td>\n",
       "      <td>0.263089</td>\n",
       "      <td>43.0</td>\n",
       "    </tr>\n",
       "    <tr>\n",
       "      <th>193846</th>\n",
       "      <td>2021-08-01</td>\n",
       "      <td>CENTRAL AREA</td>\n",
       "      <td>3 ROOM</td>\n",
       "      <td>11.0</td>\n",
       "      <td>56.0</td>\n",
       "      <td>Standard</td>\n",
       "      <td>363000.0</td>\n",
       "      <td>1974-01-01</td>\n",
       "      <td>51.417914</td>\n",
       "      <td>1.303461</td>\n",
       "      <td>103.850709</td>\n",
       "      <td>3.239783</td>\n",
       "      <td>0.232760</td>\n",
       "      <td>0.263089</td>\n",
       "      <td>43.0</td>\n",
       "    </tr>\n",
       "  </tbody>\n",
       "</table>\n",
       "</div>"
      ],
      "text/plain": [
       "             month          town flat_type  storey_range  floor_area_sqm  \\\n",
       "38559   2014-03-01  CENTRAL AREA    3 ROOM           2.0            81.0   \n",
       "175049  2020-12-01  CENTRAL AREA    3 ROOM          11.0            68.0   \n",
       "193850  2021-08-01  CENTRAL AREA    3 ROOM           5.0            73.0   \n",
       "193847  2021-08-01  CENTRAL AREA    3 ROOM           5.0            58.0   \n",
       "193846  2021-08-01  CENTRAL AREA    3 ROOM          11.0            56.0   \n",
       "\n",
       "       flat_model  resale_price lease_commence_dt  remaining_lease_year  \\\n",
       "38559     Model A      405000.0        1984-01-01             68.836479   \n",
       "175049   Improved      440800.0        1986-01-01             64.083472   \n",
       "193850    Model A      420000.0        1985-01-01             62.418824   \n",
       "193847   Standard      330000.0        1974-01-01             51.417914   \n",
       "193846   Standard      363000.0        1974-01-01             51.417914   \n",
       "\n",
       "             LAT        LONG  distance_to_town  distance_to_mrt  \\\n",
       "38559   1.307435  103.854714          3.746846         0.259479   \n",
       "175049  1.299009  103.852285          3.402920         0.214594   \n",
       "193850  1.305707  103.854943          3.737650         0.071143   \n",
       "193847  1.303461  103.850709          3.239783         0.232760   \n",
       "193846  1.303461  103.850709          3.239783         0.232760   \n",
       "\n",
       "        distance_to_mall  number_of_malls  \n",
       "38559           0.300752             43.0  \n",
       "175049          0.354919             43.0  \n",
       "193850          0.365286             43.0  \n",
       "193847          0.263089             43.0  \n",
       "193846          0.263089             43.0  "
      ]
     },
     "execution_count": 23,
     "metadata": {},
     "output_type": "execute_result"
    }
   ],
   "source": [
    "data.sort_values(by=\"number_of_malls\",ascending=False).head()"
   ]
  },
  {
   "cell_type": "code",
   "execution_count": 24,
   "metadata": {
    "collapsed": false,
    "pycharm": {
     "name": "#%%\n"
    }
   },
   "outputs": [],
   "source": [
    "data['year'] = pd.to_datetime(data['month']).dt.year"
   ]
  },
  {
   "cell_type": "code",
   "execution_count": 25,
   "metadata": {
    "collapsed": false,
    "pycharm": {
     "name": "#%%\n"
    }
   },
   "outputs": [],
   "source": [
    "#Drop lease_commence_dt\n",
    "y = data['resale_price']\n",
    "data_final = data.drop(columns=['town','lease_commence_dt','month','resale_price','LAT','LONG'],axis=1)"
   ]
  },
  {
   "cell_type": "code",
   "execution_count": 26,
   "metadata": {
    "pycharm": {
     "name": "#%%\n"
    }
   },
   "outputs": [],
   "source": [
    "# Create dummies variables and map room sizes to number. The room numbers are found on the hdb website.\n",
    "# For 5 rooms, there's an additional area catered for a study room, however due to its size, I mapped it to\n",
    "# the value of 4.5\n",
    "#\n",
    "dummies = ['flat_model']\n",
    "data_final['flat_cat'] = data_final.flat_type.map({'2 ROOM':2,\n",
    "                                                   '3 ROOM':3,\n",
    "                                                   '4 ROOM':4,\n",
    "                                                   '5 ROOM': 5,\n",
    "                                                   '1 ROOM':1,\n",
    "                                                   'EXECUTIVE': 6,\n",
    "                                                    'MULTI-GENERATION':7})\n",
    "data_dummies = pd.get_dummies(data_final,columns=dummies,drop_first=True)"
   ]
  },
  {
   "cell_type": "code",
   "execution_count": 27,
   "metadata": {
    "pycharm": {
     "name": "#%%\n"
    },
    "scrolled": false
   },
   "outputs": [
    {
     "data": {
      "text/html": [
       "<div>\n",
       "<style scoped>\n",
       "    .dataframe tbody tr th:only-of-type {\n",
       "        vertical-align: middle;\n",
       "    }\n",
       "\n",
       "    .dataframe tbody tr th {\n",
       "        vertical-align: top;\n",
       "    }\n",
       "\n",
       "    .dataframe thead th {\n",
       "        text-align: right;\n",
       "    }\n",
       "</style>\n",
       "<table border=\"1\" class=\"dataframe\">\n",
       "  <thead>\n",
       "    <tr style=\"text-align: right;\">\n",
       "      <th></th>\n",
       "      <th>storey_range</th>\n",
       "      <th>floor_area_sqm</th>\n",
       "      <th>remaining_lease_year</th>\n",
       "      <th>distance_to_town</th>\n",
       "      <th>distance_to_mrt</th>\n",
       "      <th>distance_to_mall</th>\n",
       "      <th>number_of_malls</th>\n",
       "      <th>year</th>\n",
       "      <th>flat_cat</th>\n",
       "      <th>flat_model_3Gen</th>\n",
       "      <th>...</th>\n",
       "      <th>flat_model_Multi Generation</th>\n",
       "      <th>flat_model_New Generation</th>\n",
       "      <th>flat_model_Premium Apartment</th>\n",
       "      <th>flat_model_Premium Apartment Loft</th>\n",
       "      <th>flat_model_Premium Maisonette</th>\n",
       "      <th>flat_model_Simplified</th>\n",
       "      <th>flat_model_Standard</th>\n",
       "      <th>flat_model_Terrace</th>\n",
       "      <th>flat_model_Type S1</th>\n",
       "      <th>flat_model_Type S2</th>\n",
       "    </tr>\n",
       "  </thead>\n",
       "  <tbody>\n",
       "    <tr>\n",
       "      <th>0</th>\n",
       "      <td>8.0</td>\n",
       "      <td>45.0</td>\n",
       "      <td>72.836561</td>\n",
       "      <td>8.391626</td>\n",
       "      <td>1.225290</td>\n",
       "      <td>1.457889</td>\n",
       "      <td>3.0</td>\n",
       "      <td>2012</td>\n",
       "      <td>2</td>\n",
       "      <td>0</td>\n",
       "      <td>...</td>\n",
       "      <td>0</td>\n",
       "      <td>0</td>\n",
       "      <td>0</td>\n",
       "      <td>0</td>\n",
       "      <td>0</td>\n",
       "      <td>0</td>\n",
       "      <td>0</td>\n",
       "      <td>0</td>\n",
       "      <td>0</td>\n",
       "      <td>0</td>\n",
       "    </tr>\n",
       "    <tr>\n",
       "      <th>1</th>\n",
       "      <td>3.0</td>\n",
       "      <td>44.0</td>\n",
       "      <td>66.835068</td>\n",
       "      <td>8.639114</td>\n",
       "      <td>0.388701</td>\n",
       "      <td>0.450175</td>\n",
       "      <td>5.0</td>\n",
       "      <td>2012</td>\n",
       "      <td>2</td>\n",
       "      <td>0</td>\n",
       "      <td>...</td>\n",
       "      <td>0</td>\n",
       "      <td>0</td>\n",
       "      <td>0</td>\n",
       "      <td>0</td>\n",
       "      <td>0</td>\n",
       "      <td>0</td>\n",
       "      <td>0</td>\n",
       "      <td>0</td>\n",
       "      <td>0</td>\n",
       "      <td>0</td>\n",
       "    </tr>\n",
       "    <tr>\n",
       "      <th>2</th>\n",
       "      <td>8.0</td>\n",
       "      <td>68.0</td>\n",
       "      <td>66.835068</td>\n",
       "      <td>8.963859</td>\n",
       "      <td>0.694080</td>\n",
       "      <td>1.517844</td>\n",
       "      <td>3.0</td>\n",
       "      <td>2012</td>\n",
       "      <td>3</td>\n",
       "      <td>0</td>\n",
       "      <td>...</td>\n",
       "      <td>0</td>\n",
       "      <td>1</td>\n",
       "      <td>0</td>\n",
       "      <td>0</td>\n",
       "      <td>0</td>\n",
       "      <td>0</td>\n",
       "      <td>0</td>\n",
       "      <td>0</td>\n",
       "      <td>0</td>\n",
       "      <td>0</td>\n",
       "    </tr>\n",
       "    <tr>\n",
       "      <th>3</th>\n",
       "      <td>3.0</td>\n",
       "      <td>67.0</td>\n",
       "      <td>70.835151</td>\n",
       "      <td>7.996832</td>\n",
       "      <td>1.231076</td>\n",
       "      <td>1.289399</td>\n",
       "      <td>7.0</td>\n",
       "      <td>2012</td>\n",
       "      <td>3</td>\n",
       "      <td>0</td>\n",
       "      <td>...</td>\n",
       "      <td>0</td>\n",
       "      <td>1</td>\n",
       "      <td>0</td>\n",
       "      <td>0</td>\n",
       "      <td>0</td>\n",
       "      <td>0</td>\n",
       "      <td>0</td>\n",
       "      <td>0</td>\n",
       "      <td>0</td>\n",
       "      <td>0</td>\n",
       "    </tr>\n",
       "    <tr>\n",
       "      <th>4</th>\n",
       "      <td>8.0</td>\n",
       "      <td>67.0</td>\n",
       "      <td>66.835068</td>\n",
       "      <td>8.945618</td>\n",
       "      <td>1.017583</td>\n",
       "      <td>1.810552</td>\n",
       "      <td>3.0</td>\n",
       "      <td>2012</td>\n",
       "      <td>3</td>\n",
       "      <td>0</td>\n",
       "      <td>...</td>\n",
       "      <td>0</td>\n",
       "      <td>1</td>\n",
       "      <td>0</td>\n",
       "      <td>0</td>\n",
       "      <td>0</td>\n",
       "      <td>0</td>\n",
       "      <td>0</td>\n",
       "      <td>0</td>\n",
       "      <td>0</td>\n",
       "      <td>0</td>\n",
       "    </tr>\n",
       "  </tbody>\n",
       "</table>\n",
       "<p>5 rows × 29 columns</p>\n",
       "</div>"
      ],
      "text/plain": [
       "   storey_range  floor_area_sqm  remaining_lease_year  distance_to_town  \\\n",
       "0           8.0            45.0             72.836561          8.391626   \n",
       "1           3.0            44.0             66.835068          8.639114   \n",
       "2           8.0            68.0             66.835068          8.963859   \n",
       "3           3.0            67.0             70.835151          7.996832   \n",
       "4           8.0            67.0             66.835068          8.945618   \n",
       "\n",
       "   distance_to_mrt  distance_to_mall  number_of_malls  year  flat_cat  \\\n",
       "0         1.225290          1.457889              3.0  2012         2   \n",
       "1         0.388701          0.450175              5.0  2012         2   \n",
       "2         0.694080          1.517844              3.0  2012         3   \n",
       "3         1.231076          1.289399              7.0  2012         3   \n",
       "4         1.017583          1.810552              3.0  2012         3   \n",
       "\n",
       "   flat_model_3Gen  ...  flat_model_Multi Generation  \\\n",
       "0                0  ...                            0   \n",
       "1                0  ...                            0   \n",
       "2                0  ...                            0   \n",
       "3                0  ...                            0   \n",
       "4                0  ...                            0   \n",
       "\n",
       "   flat_model_New Generation  flat_model_Premium Apartment  \\\n",
       "0                          0                             0   \n",
       "1                          0                             0   \n",
       "2                          1                             0   \n",
       "3                          1                             0   \n",
       "4                          1                             0   \n",
       "\n",
       "   flat_model_Premium Apartment Loft  flat_model_Premium Maisonette  \\\n",
       "0                                  0                              0   \n",
       "1                                  0                              0   \n",
       "2                                  0                              0   \n",
       "3                                  0                              0   \n",
       "4                                  0                              0   \n",
       "\n",
       "   flat_model_Simplified  flat_model_Standard  flat_model_Terrace  \\\n",
       "0                      0                    0                   0   \n",
       "1                      0                    0                   0   \n",
       "2                      0                    0                   0   \n",
       "3                      0                    0                   0   \n",
       "4                      0                    0                   0   \n",
       "\n",
       "   flat_model_Type S1  flat_model_Type S2  \n",
       "0                   0                   0  \n",
       "1                   0                   0  \n",
       "2                   0                   0  \n",
       "3                   0                   0  \n",
       "4                   0                   0  \n",
       "\n",
       "[5 rows x 29 columns]"
      ]
     },
     "execution_count": 27,
     "metadata": {},
     "output_type": "execute_result"
    }
   ],
   "source": [
    "\n",
    "data_dummies = data_dummies.drop(columns='flat_type') # Drop 'flat_type'\n",
    "data_dummies.head(5)"
   ]
  },
  {
   "cell_type": "code",
   "execution_count": 34,
   "metadata": {
    "pycharm": {
     "name": "#%%\n"
    }
   },
   "outputs": [],
   "source": [
    "# Create X and y variables\n",
    "X= data_dummies"
   ]
  },
  {
   "cell_type": "markdown",
   "metadata": {
    "pycharm": {
     "name": "#%% md\n"
    }
   },
   "source": [
    "## Feature importances using ExtraTreesRegressor"
   ]
  },
  {
   "cell_type": "code",
   "execution_count": 35,
   "metadata": {
    "pycharm": {
     "name": "#%%\n"
    }
   },
   "outputs": [
    {
     "data": {
      "text/html": [
       "<style>#sk-container-id-2 {color: black;background-color: white;}#sk-container-id-2 pre{padding: 0;}#sk-container-id-2 div.sk-toggleable {background-color: white;}#sk-container-id-2 label.sk-toggleable__label {cursor: pointer;display: block;width: 100%;margin-bottom: 0;padding: 0.3em;box-sizing: border-box;text-align: center;}#sk-container-id-2 label.sk-toggleable__label-arrow:before {content: \"▸\";float: left;margin-right: 0.25em;color: #696969;}#sk-container-id-2 label.sk-toggleable__label-arrow:hover:before {color: black;}#sk-container-id-2 div.sk-estimator:hover label.sk-toggleable__label-arrow:before {color: black;}#sk-container-id-2 div.sk-toggleable__content {max-height: 0;max-width: 0;overflow: hidden;text-align: left;background-color: #f0f8ff;}#sk-container-id-2 div.sk-toggleable__content pre {margin: 0.2em;color: black;border-radius: 0.25em;background-color: #f0f8ff;}#sk-container-id-2 input.sk-toggleable__control:checked~div.sk-toggleable__content {max-height: 200px;max-width: 100%;overflow: auto;}#sk-container-id-2 input.sk-toggleable__control:checked~label.sk-toggleable__label-arrow:before {content: \"▾\";}#sk-container-id-2 div.sk-estimator input.sk-toggleable__control:checked~label.sk-toggleable__label {background-color: #d4ebff;}#sk-container-id-2 div.sk-label input.sk-toggleable__control:checked~label.sk-toggleable__label {background-color: #d4ebff;}#sk-container-id-2 input.sk-hidden--visually {border: 0;clip: rect(1px 1px 1px 1px);clip: rect(1px, 1px, 1px, 1px);height: 1px;margin: -1px;overflow: hidden;padding: 0;position: absolute;width: 1px;}#sk-container-id-2 div.sk-estimator {font-family: monospace;background-color: #f0f8ff;border: 1px dotted black;border-radius: 0.25em;box-sizing: border-box;margin-bottom: 0.5em;}#sk-container-id-2 div.sk-estimator:hover {background-color: #d4ebff;}#sk-container-id-2 div.sk-parallel-item::after {content: \"\";width: 100%;border-bottom: 1px solid gray;flex-grow: 1;}#sk-container-id-2 div.sk-label:hover label.sk-toggleable__label {background-color: #d4ebff;}#sk-container-id-2 div.sk-serial::before {content: \"\";position: absolute;border-left: 1px solid gray;box-sizing: border-box;top: 0;bottom: 0;left: 50%;z-index: 0;}#sk-container-id-2 div.sk-serial {display: flex;flex-direction: column;align-items: center;background-color: white;padding-right: 0.2em;padding-left: 0.2em;position: relative;}#sk-container-id-2 div.sk-item {position: relative;z-index: 1;}#sk-container-id-2 div.sk-parallel {display: flex;align-items: stretch;justify-content: center;background-color: white;position: relative;}#sk-container-id-2 div.sk-item::before, #sk-container-id-2 div.sk-parallel-item::before {content: \"\";position: absolute;border-left: 1px solid gray;box-sizing: border-box;top: 0;bottom: 0;left: 50%;z-index: -1;}#sk-container-id-2 div.sk-parallel-item {display: flex;flex-direction: column;z-index: 1;position: relative;background-color: white;}#sk-container-id-2 div.sk-parallel-item:first-child::after {align-self: flex-end;width: 50%;}#sk-container-id-2 div.sk-parallel-item:last-child::after {align-self: flex-start;width: 50%;}#sk-container-id-2 div.sk-parallel-item:only-child::after {width: 0;}#sk-container-id-2 div.sk-dashed-wrapped {border: 1px dashed gray;margin: 0 0.4em 0.5em 0.4em;box-sizing: border-box;padding-bottom: 0.4em;background-color: white;}#sk-container-id-2 div.sk-label label {font-family: monospace;font-weight: bold;display: inline-block;line-height: 1.2em;}#sk-container-id-2 div.sk-label-container {text-align: center;}#sk-container-id-2 div.sk-container {/* jupyter's `normalize.less` sets `[hidden] { display: none; }` but bootstrap.min.css set `[hidden] { display: none !important; }` so we also need the `!important` here to be able to override the default hidden behavior on the sphinx rendered scikit-learn.org. See: https://github.com/scikit-learn/scikit-learn/issues/21755 */display: inline-block !important;position: relative;}#sk-container-id-2 div.sk-text-repr-fallback {display: none;}</style><div id=\"sk-container-id-2\" class=\"sk-top-container\"><div class=\"sk-text-repr-fallback\"><pre>ExtraTreesRegressor(n_estimators=50)</pre><b>In a Jupyter environment, please rerun this cell to show the HTML representation or trust the notebook. <br />On GitHub, the HTML representation is unable to render, please try loading this page with nbviewer.org.</b></div><div class=\"sk-container\" hidden><div class=\"sk-item\"><div class=\"sk-estimator sk-toggleable\"><input class=\"sk-toggleable__control sk-hidden--visually\" id=\"sk-estimator-id-2\" type=\"checkbox\" checked><label for=\"sk-estimator-id-2\" class=\"sk-toggleable__label sk-toggleable__label-arrow\">ExtraTreesRegressor</label><div class=\"sk-toggleable__content\"><pre>ExtraTreesRegressor(n_estimators=50)</pre></div></div></div></div></div>"
      ],
      "text/plain": [
       "ExtraTreesRegressor(n_estimators=50)"
      ]
     },
     "execution_count": 35,
     "metadata": {},
     "output_type": "execute_result"
    }
   ],
   "source": [
    "from sklearn.ensemble import ExtraTreesRegressor\n",
    "\n",
    "sel=ExtraTreesRegressor(n_estimators=50)\n",
    "\n",
    "sel.fit(X,y)"
   ]
  },
  {
   "cell_type": "code",
   "execution_count": 36,
   "metadata": {
    "pycharm": {
     "name": "#%%\n"
    }
   },
   "outputs": [
    {
     "data": {
      "image/png": "[encoded data removed]",
      "text/plain": [
       "<Figure size 720x288 with 1 Axes>"
      ]
     },
     "metadata": {
      "needs_background": "light"
     },
     "output_type": "display_data"
    }
   ],
   "source": [
    "plt.figure(figsize = (10,4))\n",
    "feat_impt = pd.Series(sel.feature_importances_, index=X.columns)\n",
    "feat_impt.nlargest(10).plot(kind='bar')\n",
    "plt.show()"
   ]
  },
  {
   "cell_type": "markdown",
   "metadata": {
    "pycharm": {
     "name": "#%% md\n"
    }
   },
   "source": [
    "First is flat cat, and we can observe that distance_to_town has the second highest importance, which seems logical as houses get more expensive the nearer to town.\n",
    "\n",
    "we will drop all dummies of flat_model as it does not contribute much"
   ]
  },
  {
   "cell_type": "markdown",
   "metadata": {
    "collapsed": false,
    "pycharm": {
     "name": "#%% md\n"
    }
   },
   "source": [
    "## Features selection"
   ]
  },
  {
   "cell_type": "code",
   "execution_count": 37,
   "metadata": {
    "collapsed": false,
    "pycharm": {
     "name": "#%%\n"
    }
   },
   "outputs": [
    {
     "data": {
      "text/html": [
       "<div>\n",
       "<style scoped>\n",
       "    .dataframe tbody tr th:only-of-type {\n",
       "        vertical-align: middle;\n",
       "    }\n",
       "\n",
       "    .dataframe tbody tr th {\n",
       "        vertical-align: top;\n",
       "    }\n",
       "\n",
       "    .dataframe thead th {\n",
       "        text-align: right;\n",
       "    }\n",
       "</style>\n",
       "<table border=\"1\" class=\"dataframe\">\n",
       "  <thead>\n",
       "    <tr style=\"text-align: right;\">\n",
       "      <th></th>\n",
       "      <th>flat_type</th>\n",
       "      <th>storey_range</th>\n",
       "      <th>floor_area_sqm</th>\n",
       "      <th>flat_model</th>\n",
       "      <th>remaining_lease_year</th>\n",
       "      <th>distance_to_town</th>\n",
       "      <th>distance_to_mrt</th>\n",
       "      <th>distance_to_mall</th>\n",
       "      <th>number_of_malls</th>\n",
       "      <th>year</th>\n",
       "      <th>flat_cat</th>\n",
       "    </tr>\n",
       "  </thead>\n",
       "  <tbody>\n",
       "    <tr>\n",
       "      <th>0</th>\n",
       "      <td>2 ROOM</td>\n",
       "      <td>8.0</td>\n",
       "      <td>45.0</td>\n",
       "      <td>Improved</td>\n",
       "      <td>72.836561</td>\n",
       "      <td>8.391626</td>\n",
       "      <td>1.225290</td>\n",
       "      <td>1.457889</td>\n",
       "      <td>3.0</td>\n",
       "      <td>2012</td>\n",
       "      <td>2</td>\n",
       "    </tr>\n",
       "    <tr>\n",
       "      <th>1</th>\n",
       "      <td>2 ROOM</td>\n",
       "      <td>3.0</td>\n",
       "      <td>44.0</td>\n",
       "      <td>Improved</td>\n",
       "      <td>66.835068</td>\n",
       "      <td>8.639114</td>\n",
       "      <td>0.388701</td>\n",
       "      <td>0.450175</td>\n",
       "      <td>5.0</td>\n",
       "      <td>2012</td>\n",
       "      <td>2</td>\n",
       "    </tr>\n",
       "    <tr>\n",
       "      <th>2</th>\n",
       "      <td>3 ROOM</td>\n",
       "      <td>8.0</td>\n",
       "      <td>68.0</td>\n",
       "      <td>New Generation</td>\n",
       "      <td>66.835068</td>\n",
       "      <td>8.963859</td>\n",
       "      <td>0.694080</td>\n",
       "      <td>1.517844</td>\n",
       "      <td>3.0</td>\n",
       "      <td>2012</td>\n",
       "      <td>3</td>\n",
       "    </tr>\n",
       "    <tr>\n",
       "      <th>3</th>\n",
       "      <td>3 ROOM</td>\n",
       "      <td>3.0</td>\n",
       "      <td>67.0</td>\n",
       "      <td>New Generation</td>\n",
       "      <td>70.835151</td>\n",
       "      <td>7.996832</td>\n",
       "      <td>1.231076</td>\n",
       "      <td>1.289399</td>\n",
       "      <td>7.0</td>\n",
       "      <td>2012</td>\n",
       "      <td>3</td>\n",
       "    </tr>\n",
       "    <tr>\n",
       "      <th>4</th>\n",
       "      <td>3 ROOM</td>\n",
       "      <td>8.0</td>\n",
       "      <td>67.0</td>\n",
       "      <td>New Generation</td>\n",
       "      <td>66.835068</td>\n",
       "      <td>8.945618</td>\n",
       "      <td>1.017583</td>\n",
       "      <td>1.810552</td>\n",
       "      <td>3.0</td>\n",
       "      <td>2012</td>\n",
       "      <td>3</td>\n",
       "    </tr>\n",
       "  </tbody>\n",
       "</table>\n",
       "</div>"
      ],
      "text/plain": [
       "  flat_type  storey_range  floor_area_sqm      flat_model  \\\n",
       "0    2 ROOM           8.0            45.0        Improved   \n",
       "1    2 ROOM           3.0            44.0        Improved   \n",
       "2    3 ROOM           8.0            68.0  New Generation   \n",
       "3    3 ROOM           3.0            67.0  New Generation   \n",
       "4    3 ROOM           8.0            67.0  New Generation   \n",
       "\n",
       "   remaining_lease_year  distance_to_town  distance_to_mrt  distance_to_mall  \\\n",
       "0             72.836561          8.391626         1.225290          1.457889   \n",
       "1             66.835068          8.639114         0.388701          0.450175   \n",
       "2             66.835068          8.963859         0.694080          1.517844   \n",
       "3             70.835151          7.996832         1.231076          1.289399   \n",
       "4             66.835068          8.945618         1.017583          1.810552   \n",
       "\n",
       "   number_of_malls  year  flat_cat  \n",
       "0              3.0  2012         2  \n",
       "1              5.0  2012         2  \n",
       "2              3.0  2012         3  \n",
       "3              7.0  2012         3  \n",
       "4              3.0  2012         3  "
      ]
     },
     "execution_count": 37,
     "metadata": {},
     "output_type": "execute_result"
    }
   ],
   "source": [
    "data_final.head()"
   ]
  },
  {
   "cell_type": "code",
   "execution_count": 38,
   "metadata": {
    "collapsed": false,
    "pycharm": {
     "name": "#%%\n"
    }
   },
   "outputs": [],
   "source": [
    "# drop unnessary columns\n",
    "\n",
    "X1 = data_final.drop(columns=['flat_type','flat_model'])"
   ]
  },
  {
   "cell_type": "code",
   "execution_count": 39,
   "metadata": {
    "collapsed": false,
    "pycharm": {
     "name": "#%%\n"
    }
   },
   "outputs": [],
   "source": [
    "from sklearn.model_selection import train_test_split\n",
    "\n",
    "X_train,X_test,y_train,y_test = train_test_split(X1,y,test_size=0.2)"
   ]
  },
  {
   "cell_type": "markdown",
   "metadata": {
    "collapsed": false,
    "pycharm": {
     "name": "#%% md\n"
    }
   },
   "source": [
    "# Model building"
   ]
  },
  {
   "cell_type": "markdown",
   "metadata": {
    "pycharm": {
     "name": "#%% md\n"
    }
   },
   "source": [
    "## Random Forest Regressor"
   ]
  },
  {
   "cell_type": "code",
   "execution_count": 40,
   "metadata": {
    "pycharm": {
     "name": "#%%\n"
    }
   },
   "outputs": [],
   "source": [
    "from sklearn.ensemble import RandomForestRegressor\n",
    "rtree=RandomForestRegressor(n_estimators=200,random_state=42)"
   ]
  },
  {
   "cell_type": "code",
   "execution_count": 41,
   "metadata": {
    "pycharm": {
     "name": "#%%\n"
    }
   },
   "outputs": [
    {
     "data": {
      "text/html": [
       "<style>#sk-container-id-3 {color: black;background-color: white;}#sk-container-id-3 pre{padding: 0;}#sk-container-id-3 div.sk-toggleable {background-color: white;}#sk-container-id-3 label.sk-toggleable__label {cursor: pointer;display: block;width: 100%;margin-bottom: 0;padding: 0.3em;box-sizing: border-box;text-align: center;}#sk-container-id-3 label.sk-toggleable__label-arrow:before {content: \"▸\";float: left;margin-right: 0.25em;color: #696969;}#sk-container-id-3 label.sk-toggleable__label-arrow:hover:before {color: black;}#sk-container-id-3 div.sk-estimator:hover label.sk-toggleable__label-arrow:before {color: black;}#sk-container-id-3 div.sk-toggleable__content {max-height: 0;max-width: 0;overflow: hidden;text-align: left;background-color: #f0f8ff;}#sk-container-id-3 div.sk-toggleable__content pre {margin: 0.2em;color: black;border-radius: 0.25em;background-color: #f0f8ff;}#sk-container-id-3 input.sk-toggleable__control:checked~div.sk-toggleable__content {max-height: 200px;max-width: 100%;overflow: auto;}#sk-container-id-3 input.sk-toggleable__control:checked~label.sk-toggleable__label-arrow:before {content: \"▾\";}#sk-container-id-3 div.sk-estimator input.sk-toggleable__control:checked~label.sk-toggleable__label {background-color: #d4ebff;}#sk-container-id-3 div.sk-label input.sk-toggleable__control:checked~label.sk-toggleable__label {background-color: #d4ebff;}#sk-container-id-3 input.sk-hidden--visually {border: 0;clip: rect(1px 1px 1px 1px);clip: rect(1px, 1px, 1px, 1px);height: 1px;margin: -1px;overflow: hidden;padding: 0;position: absolute;width: 1px;}#sk-container-id-3 div.sk-estimator {font-family: monospace;background-color: #f0f8ff;border: 1px dotted black;border-radius: 0.25em;box-sizing: border-box;margin-bottom: 0.5em;}#sk-container-id-3 div.sk-estimator:hover {background-color: #d4ebff;}#sk-container-id-3 div.sk-parallel-item::after {content: \"\";width: 100%;border-bottom: 1px solid gray;flex-grow: 1;}#sk-container-id-3 div.sk-label:hover label.sk-toggleable__label {background-color: #d4ebff;}#sk-container-id-3 div.sk-serial::before {content: \"\";position: absolute;border-left: 1px solid gray;box-sizing: border-box;top: 0;bottom: 0;left: 50%;z-index: 0;}#sk-container-id-3 div.sk-serial {display: flex;flex-direction: column;align-items: center;background-color: white;padding-right: 0.2em;padding-left: 0.2em;position: relative;}#sk-container-id-3 div.sk-item {position: relative;z-index: 1;}#sk-container-id-3 div.sk-parallel {display: flex;align-items: stretch;justify-content: center;background-color: white;position: relative;}#sk-container-id-3 div.sk-item::before, #sk-container-id-3 div.sk-parallel-item::before {content: \"\";position: absolute;border-left: 1px solid gray;box-sizing: border-box;top: 0;bottom: 0;left: 50%;z-index: -1;}#sk-container-id-3 div.sk-parallel-item {display: flex;flex-direction: column;z-index: 1;position: relative;background-color: white;}#sk-container-id-3 div.sk-parallel-item:first-child::after {align-self: flex-end;width: 50%;}#sk-container-id-3 div.sk-parallel-item:last-child::after {align-self: flex-start;width: 50%;}#sk-container-id-3 div.sk-parallel-item:only-child::after {width: 0;}#sk-container-id-3 div.sk-dashed-wrapped {border: 1px dashed gray;margin: 0 0.4em 0.5em 0.4em;box-sizing: border-box;padding-bottom: 0.4em;background-color: white;}#sk-container-id-3 div.sk-label label {font-family: monospace;font-weight: bold;display: inline-block;line-height: 1.2em;}#sk-container-id-3 div.sk-label-container {text-align: center;}#sk-container-id-3 div.sk-container {/* jupyter's `normalize.less` sets `[hidden] { display: none; }` but bootstrap.min.css set `[hidden] { display: none !important; }` so we also need the `!important` here to be able to override the default hidden behavior on the sphinx rendered scikit-learn.org. See: https://github.com/scikit-learn/scikit-learn/issues/21755 */display: inline-block !important;position: relative;}#sk-container-id-3 div.sk-text-repr-fallback {display: none;}</style><div id=\"sk-container-id-3\" class=\"sk-top-container\"><div class=\"sk-text-repr-fallback\"><pre>RandomForestRegressor(n_estimators=200, random_state=42)</pre><b>In a Jupyter environment, please rerun this cell to show the HTML representation or trust the notebook. <br />On GitHub, the HTML representation is unable to render, please try loading this page with nbviewer.org.</b></div><div class=\"sk-container\" hidden><div class=\"sk-item\"><div class=\"sk-estimator sk-toggleable\"><input class=\"sk-toggleable__control sk-hidden--visually\" id=\"sk-estimator-id-3\" type=\"checkbox\" checked><label for=\"sk-estimator-id-3\" class=\"sk-toggleable__label sk-toggleable__label-arrow\">RandomForestRegressor</label><div class=\"sk-toggleable__content\"><pre>RandomForestRegressor(n_estimators=200, random_state=42)</pre></div></div></div></div></div>"
      ],
      "text/plain": [
       "RandomForestRegressor(n_estimators=200, random_state=42)"
      ]
     },
     "execution_count": 41,
     "metadata": {},
     "output_type": "execute_result"
    }
   ],
   "source": [
    "rtree.fit(X_train,y_train)"
   ]
  },
  {
   "cell_type": "code",
   "execution_count": 42,
   "metadata": {
    "pycharm": {
     "name": "#%%\n"
    }
   },
   "outputs": [],
   "source": [
    "y_pred_rf = rtree.predict(X_test)"
   ]
  },
  {
   "cell_type": "markdown",
   "metadata": {
    "collapsed": false,
    "pycharm": {
     "name": "#%% md\n"
    }
   },
   "source": [
    "### Get metrics"
   ]
  },
  {
   "cell_type": "code",
   "execution_count": 43,
   "metadata": {
    "collapsed": false,
    "pycharm": {
     "name": "#%%\n"
    }
   },
   "outputs": [],
   "source": [
    "from sklearn.metrics import mean_squared_error,mean_absolute_error,r2_score\n",
    "def print_metrics(actual:pd.DataFrame,pred:pd.DataFrame,model_name:str) -> dict:\n",
    "    mae = mean_absolute_error(actual,pred)\n",
    "    rmse = np.sqrt(mean_squared_error(actual,pred))\n",
    "    rs = r2_score(actual,pred)\n",
    "    print(f\"Scores for {model_name.upper()}\\n\"\n",
    "          f\"Mean absolute error: {mae}\\n\"\n",
    "          f\"RMSE: {rmse}\\n\"\n",
    "          f\"R score: {rs}\\n\")\n",
    "    return {\"Model\": model_name.upper(),\"MAE\": mae, \"RMSE\": rmse, \"R score\": rs}"
   ]
  },
  {
   "cell_type": "code",
   "execution_count": 44,
   "metadata": {
    "collapsed": false,
    "pycharm": {
     "name": "#%%\n"
    }
   },
   "outputs": [
    {
     "name": "stdout",
     "output_type": "stream",
     "text": [
      "Scores for RANDOM FOREST\n",
      "Mean absolute error: 18525.23689644646\n",
      "RMSE: 26366.759998909878\n",
      "R score: 0.9693699465204636\n",
      "\n"
     ]
    },
    {
     "data": {
      "text/plain": [
       "{'Model': 'RANDOM FOREST',\n",
       " 'MAE': 18525.23689644646,\n",
       " 'RMSE': 26366.759998909878,\n",
       " 'R score': 0.9693699465204636}"
      ]
     },
     "execution_count": 44,
     "metadata": {},
     "output_type": "execute_result"
    }
   ],
   "source": [
    "print_metrics(y_test,y_pred_rf,\"Random Forest\")"
   ]
  },
  {
   "cell_type": "code",
   "execution_count": 45,
   "metadata": {
    "pycharm": {
     "name": "#%%\n"
    }
   },
   "outputs": [
    {
     "name": "stdout",
     "output_type": "stream",
     "text": [
      "0.9957760682076\n",
      "0.9693699465204636\n"
     ]
    }
   ],
   "source": [
    "# Overfit check\n",
    "\n",
    "print(rtree.score(X_train,y_train))\n",
    "print(rtree.score(X_test,y_test))"
   ]
  },
  {
   "cell_type": "markdown",
   "metadata": {
    "pycharm": {
     "name": "#%% md\n"
    }
   },
   "source": [
    "## Hyper-Parameter tuning with XGBoost and HalvingGridSearchCV"
   ]
  },
  {
   "cell_type": "code",
   "execution_count": 46,
   "metadata": {
    "pycharm": {
     "name": "#%%\n"
    }
   },
   "outputs": [],
   "source": [
    "#Using halving grid\n",
    "from sklearn.experimental import enable_halving_search_cv\n",
    "from sklearn.model_selection import HalvingGridSearchCV\n",
    "params = {\n",
    "        'colsample_bytree': [0.5, 0.7,0.9],\n",
    "        'max_depth': [7,9,11],\n",
    "        'n_estimators' : [300, 400, 500, 600],\n",
    "        'subsample' : [0.7,0.8,0.9],\n",
    "        'objective': ['reg:squarederror']\n",
    "    \n",
    "        }"
   ]
  },
  {
   "cell_type": "code",
   "execution_count": 47,
   "metadata": {
    "pycharm": {
     "name": "#%%\n"
    }
   },
   "outputs": [
    {
     "name": "stdout",
     "output_type": "stream",
     "text": [
      "n_iterations: 5\n",
      "n_required_iterations: 5\n",
      "n_possible_iterations: 5\n",
      "min_resources_: 2216\n",
      "max_resources_: 179570\n",
      "aggressive_elimination: False\n",
      "factor: 3\n",
      "----------\n",
      "iter: 0\n",
      "n_candidates: 108\n",
      "n_resources: 2216\n",
      "Fitting 3 folds for each of 108 candidates, totalling 324 fits\n",
      "----------\n",
      "iter: 4\n",
      "n_candidates: 2\n",
      "n_resources: 179496\n",
      "Fitting 3 folds for each of 2 candidates, totalling 6 fits\n",
      "----------\n",
      "iter: 3\n",
      "n_candidates: 4\n",
      "n_resources: 59832\n",
      "Fitting 3 folds for each of 4 candidates, totalling 12 fits\n",
      "----------\n",
      "iter: 1\n",
      "n_candidates: 36\n",
      "n_resources: 6648\n",
      "Fitting 3 folds for each of 36 candidates, totalling 108 fits\n",
      "----------\n",
      "iter: 2\n",
      "n_candidates: 12\n",
      "n_resources: 19944\n",
      "Fitting 3 folds for each of 12 candidates, totalling 36 fits\n"
     ]
    },
    {
     "data": {
      "text/plain": [
       "{'colsample_bytree': 0.7,\n",
       " 'max_depth': 7,\n",
       " 'n_estimators': 600,\n",
       " 'objective': 'reg:squarederror',\n",
       " 'subsample': 0.8}"
      ]
     },
     "execution_count": 47,
     "metadata": {},
     "output_type": "execute_result"
    }
   ],
   "source": [
    "from xgboost import XGBRegressor\n",
    "xgbooster = XGBRegressor()\n",
    "gridxg = HalvingGridSearchCV(\n",
    "                    estimator=xgbooster,\n",
    "                    param_grid=params,\n",
    "                    cv=3,\n",
    "                    n_jobs=6,\n",
    "                    verbose=1,\n",
    "                    min_resources='exhaust',\n",
    "    error_score ='raise'\n",
    ")\n",
    "gridxg.fit(X_train,y_train)\n",
    "\n",
    "gridxg.best_params_"
   ]
  },
  {
   "cell_type": "code",
   "execution_count": 48,
   "metadata": {
    "pycharm": {
     "name": "#%%\n"
    },
    "scrolled": true
   },
   "outputs": [
    {
     "name": "stderr",
     "output_type": "stream",
     "text": [
      "c:\\users\\wayne\\.virtualenvs\\162 test\\lib\\site-packages\\xgboost\\sklearn.py:793: UserWarning: `early_stopping_rounds` in `fit` method is deprecated for better compatibility with scikit-learn, use `early_stopping_rounds` in constructor or`set_params` instead.\n",
      "  warnings.warn(\n"
     ]
    },
    {
     "name": "stdout",
     "output_type": "stream",
     "text": [
      "CPU times: total: 3min 46s\n",
      "Wall time: 30.2 s\n"
     ]
    },
    {
     "data": {
      "text/html": [
       "<style>#sk-container-id-4 {color: black;background-color: white;}#sk-container-id-4 pre{padding: 0;}#sk-container-id-4 div.sk-toggleable {background-color: white;}#sk-container-id-4 label.sk-toggleable__label {cursor: pointer;display: block;width: 100%;margin-bottom: 0;padding: 0.3em;box-sizing: border-box;text-align: center;}#sk-container-id-4 label.sk-toggleable__label-arrow:before {content: \"▸\";float: left;margin-right: 0.25em;color: #696969;}#sk-container-id-4 label.sk-toggleable__label-arrow:hover:before {color: black;}#sk-container-id-4 div.sk-estimator:hover label.sk-toggleable__label-arrow:before {color: black;}#sk-container-id-4 div.sk-toggleable__content {max-height: 0;max-width: 0;overflow: hidden;text-align: left;background-color: #f0f8ff;}#sk-container-id-4 div.sk-toggleable__content pre {margin: 0.2em;color: black;border-radius: 0.25em;background-color: #f0f8ff;}#sk-container-id-4 input.sk-toggleable__control:checked~div.sk-toggleable__content {max-height: 200px;max-width: 100%;overflow: auto;}#sk-container-id-4 input.sk-toggleable__control:checked~label.sk-toggleable__label-arrow:before {content: \"▾\";}#sk-container-id-4 div.sk-estimator input.sk-toggleable__control:checked~label.sk-toggleable__label {background-color: #d4ebff;}#sk-container-id-4 div.sk-label input.sk-toggleable__control:checked~label.sk-toggleable__label {background-color: #d4ebff;}#sk-container-id-4 input.sk-hidden--visually {border: 0;clip: rect(1px 1px 1px 1px);clip: rect(1px, 1px, 1px, 1px);height: 1px;margin: -1px;overflow: hidden;padding: 0;position: absolute;width: 1px;}#sk-container-id-4 div.sk-estimator {font-family: monospace;background-color: #f0f8ff;border: 1px dotted black;border-radius: 0.25em;box-sizing: border-box;margin-bottom: 0.5em;}#sk-container-id-4 div.sk-estimator:hover {background-color: #d4ebff;}#sk-container-id-4 div.sk-parallel-item::after {content: \"\";width: 100%;border-bottom: 1px solid gray;flex-grow: 1;}#sk-container-id-4 div.sk-label:hover label.sk-toggleable__label {background-color: #d4ebff;}#sk-container-id-4 div.sk-serial::before {content: \"\";position: absolute;border-left: 1px solid gray;box-sizing: border-box;top: 0;bottom: 0;left: 50%;z-index: 0;}#sk-container-id-4 div.sk-serial {display: flex;flex-direction: column;align-items: center;background-color: white;padding-right: 0.2em;padding-left: 0.2em;position: relative;}#sk-container-id-4 div.sk-item {position: relative;z-index: 1;}#sk-container-id-4 div.sk-parallel {display: flex;align-items: stretch;justify-content: center;background-color: white;position: relative;}#sk-container-id-4 div.sk-item::before, #sk-container-id-4 div.sk-parallel-item::before {content: \"\";position: absolute;border-left: 1px solid gray;box-sizing: border-box;top: 0;bottom: 0;left: 50%;z-index: -1;}#sk-container-id-4 div.sk-parallel-item {display: flex;flex-direction: column;z-index: 1;position: relative;background-color: white;}#sk-container-id-4 div.sk-parallel-item:first-child::after {align-self: flex-end;width: 50%;}#sk-container-id-4 div.sk-parallel-item:last-child::after {align-self: flex-start;width: 50%;}#sk-container-id-4 div.sk-parallel-item:only-child::after {width: 0;}#sk-container-id-4 div.sk-dashed-wrapped {border: 1px dashed gray;margin: 0 0.4em 0.5em 0.4em;box-sizing: border-box;padding-bottom: 0.4em;background-color: white;}#sk-container-id-4 div.sk-label label {font-family: monospace;font-weight: bold;display: inline-block;line-height: 1.2em;}#sk-container-id-4 div.sk-label-container {text-align: center;}#sk-container-id-4 div.sk-container {/* jupyter's `normalize.less` sets `[hidden] { display: none; }` but bootstrap.min.css set `[hidden] { display: none !important; }` so we also need the `!important` here to be able to override the default hidden behavior on the sphinx rendered scikit-learn.org. See: https://github.com/scikit-learn/scikit-learn/issues/21755 */display: inline-block !important;position: relative;}#sk-container-id-4 div.sk-text-repr-fallback {display: none;}</style><div id=\"sk-container-id-4\" class=\"sk-top-container\"><div class=\"sk-text-repr-fallback\"><pre>XGBRegressor(base_score=0.5, booster=&#x27;gbtree&#x27;, callbacks=None,\n",
       "             colsample_bylevel=1, colsample_bynode=1, colsample_bytree=0.9,\n",
       "             early_stopping_rounds=None, enable_categorical=False,\n",
       "             eval_metric=None, gamma=0, gpu_id=-1, grow_policy=&#x27;depthwise&#x27;,\n",
       "             importance_type=None, interaction_constraints=&#x27;&#x27;,\n",
       "             learning_rate=0.1, max_bin=256, max_cat_to_onehot=4,\n",
       "             max_delta_step=0, max_depth=7, max_leaves=0, min_child_weight=1,\n",
       "             missing=nan, monotone_constraints=&#x27;()&#x27;, n_estimators=600, n_jobs=0,\n",
       "             num_parallel_tree=1, predictor=&#x27;auto&#x27;, random_state=0, reg_alpha=0,\n",
       "             reg_lambda=1, ...)</pre><b>In a Jupyter environment, please rerun this cell to show the HTML representation or trust the notebook. <br />On GitHub, the HTML representation is unable to render, please try loading this page with nbviewer.org.</b></div><div class=\"sk-container\" hidden><div class=\"sk-item\"><div class=\"sk-estimator sk-toggleable\"><input class=\"sk-toggleable__control sk-hidden--visually\" id=\"sk-estimator-id-4\" type=\"checkbox\" checked><label for=\"sk-estimator-id-4\" class=\"sk-toggleable__label sk-toggleable__label-arrow\">XGBRegressor</label><div class=\"sk-toggleable__content\"><pre>XGBRegressor(base_score=0.5, booster=&#x27;gbtree&#x27;, callbacks=None,\n",
       "             colsample_bylevel=1, colsample_bynode=1, colsample_bytree=0.9,\n",
       "             early_stopping_rounds=None, enable_categorical=False,\n",
       "             eval_metric=None, gamma=0, gpu_id=-1, grow_policy=&#x27;depthwise&#x27;,\n",
       "             importance_type=None, interaction_constraints=&#x27;&#x27;,\n",
       "             learning_rate=0.1, max_bin=256, max_cat_to_onehot=4,\n",
       "             max_delta_step=0, max_depth=7, max_leaves=0, min_child_weight=1,\n",
       "             missing=nan, monotone_constraints=&#x27;()&#x27;, n_estimators=600, n_jobs=0,\n",
       "             num_parallel_tree=1, predictor=&#x27;auto&#x27;, random_state=0, reg_alpha=0,\n",
       "             reg_lambda=1, ...)</pre></div></div></div></div></div>"
      ],
      "text/plain": [
       "XGBRegressor(base_score=0.5, booster='gbtree', callbacks=None,\n",
       "             colsample_bylevel=1, colsample_bynode=1, colsample_bytree=0.9,\n",
       "             early_stopping_rounds=None, enable_categorical=False,\n",
       "             eval_metric=None, gamma=0, gpu_id=-1, grow_policy='depthwise',\n",
       "             importance_type=None, interaction_constraints='',\n",
       "             learning_rate=0.1, max_bin=256, max_cat_to_onehot=4,\n",
       "             max_delta_step=0, max_depth=7, max_leaves=0, min_child_weight=1,\n",
       "             missing=nan, monotone_constraints='()', n_estimators=600, n_jobs=0,\n",
       "             num_parallel_tree=1, predictor='auto', random_state=0, reg_alpha=0,\n",
       "             reg_lambda=1, ...)"
      ]
     },
     "execution_count": 48,
     "metadata": {},
     "output_type": "execute_result"
    }
   ],
   "source": [
    "xgb_model = XGBRegressor(\n",
    "                objective='reg:squarederror',\n",
    "                colsample_bytree=0.9,\n",
    "                learning_rate=0.1,\n",
    "                max_depth=7,\n",
    "                n_estimators=600,\n",
    "                subsample=0.8\n",
    "                )\n",
    "%time xgb_model.fit(X_train,y_train,early_stopping_rounds=5,eval_set=[(X_test,y_test)],verbose=False)"
   ]
  },
  {
   "cell_type": "code",
   "execution_count": 49,
   "metadata": {
    "pycharm": {
     "name": "#%%\n"
    }
   },
   "outputs": [],
   "source": [
    "y_pred_xgb = xgb_model.predict(X_test) # Fit model\n"
   ]
  },
  {
   "cell_type": "code",
   "execution_count": 50,
   "metadata": {
    "collapsed": false,
    "pycharm": {
     "name": "#%%\n"
    }
   },
   "outputs": [
    {
     "name": "stdout",
     "output_type": "stream",
     "text": [
      "0.9800430567537908\n",
      "0.9722922999595943\n"
     ]
    }
   ],
   "source": [
    "#Overfit check\n",
    "\n",
    "print(xgb_model.score(X_train,y_train))\n",
    "\n",
    "print(xgb_model.score(X_test,y_test))"
   ]
  },
  {
   "cell_type": "markdown",
   "metadata": {
    "collapsed": false,
    "pycharm": {
     "name": "#%% md\n"
    }
   },
   "source": [
    "# Let's try out DNN"
   ]
  },
  {
   "cell_type": "code",
   "execution_count": 51,
   "metadata": {
    "collapsed": false,
    "pycharm": {
     "name": "#%%\n"
    }
   },
   "outputs": [],
   "source": [
    "import tensorflow as tf\n",
    "from tensorflow import keras\n",
    "from tensorflow.keras import layers\n",
    "\n",
    "def build_and_compile_model(norm):\n",
    "    model = keras.Sequential([\n",
    "        norm,\n",
    "        layers.Dense(64, activation='relu'),\n",
    "        layers.Dense(64, activation='relu'),\n",
    "        layers.Dense(64, activation='relu'),\n",
    "        layers.Dense(1)\n",
    "    ])\n",
    "\n",
    "    model.compile(loss='mean_squared_error',\n",
    "                  optimizer=tf.keras.optimizers.Adam(0.001))\n",
    "\n",
    "    return model"
   ]
  },
  {
   "cell_type": "code",
   "execution_count": 52,
   "metadata": {
    "collapsed": false,
    "pycharm": {
     "name": "#%%\n"
    }
   },
   "outputs": [
    {
     "name": "stdout",
     "output_type": "stream",
     "text": [
      "[[8.4178391e+00 9.7258980e+01 7.4441742e+01 1.1301194e+01 8.1216133e-01\n",
      "  9.7684407e-01 8.1692419e+00 2.0173428e+03 4.1213140e+00]]\n",
      "Model: \"sequential\"\n",
      "_________________________________________________________________\n",
      " Layer (type)                Output Shape              Param #   \n",
      "=================================================================\n",
      " normalization (Normalizatio  (None, 9)                19        \n",
      " n)                                                              \n",
      "                                                                 \n",
      " dense (Dense)               (None, 64)                640       \n",
      "                                                                 \n",
      " dense_1 (Dense)             (None, 64)                4160      \n",
      "                                                                 \n",
      " dense_2 (Dense)             (None, 64)                4160      \n",
      "                                                                 \n",
      " dense_3 (Dense)             (None, 1)                 65        \n",
      "                                                                 \n",
      "=================================================================\n",
      "Total params: 9,044\n",
      "Trainable params: 9,025\n",
      "Non-trainable params: 19\n",
      "_________________________________________________________________\n"
     ]
    }
   ],
   "source": [
    "normalizer = tf.keras.layers.Normalization(axis=-1)\n",
    "normalizer.adapt(np.array(X_train))\n",
    "print(normalizer.mean.numpy())\n",
    "dnn_model = build_and_compile_model(normalizer)\n",
    "dnn_model.summary()"
   ]
  },
  {
   "cell_type": "code",
   "execution_count": 53,
   "metadata": {
    "collapsed": false,
    "pycharm": {
     "name": "#%%\n"
    }
   },
   "outputs": [],
   "source": [
    "from tensorflow.keras.callbacks import EarlyStopping\n",
    "\n",
    "\n",
    "early_stopping = EarlyStopping(monitor= 'val_loss',patience=5)"
   ]
  },
  {
   "cell_type": "code",
   "execution_count": 54,
   "metadata": {
    "collapsed": false,
    "pycharm": {
     "name": "#%%\n"
    }
   },
   "outputs": [
    {
     "name": "stdout",
     "output_type": "stream",
     "text": [
      "Epoch 1/100\n",
      "1053/1053 [==============================] - 7s 4ms/step - loss: 101539995648.0000 - val_loss: 10871970816.0000\n",
      "Epoch 2/100\n",
      "1053/1053 [==============================] - 4s 4ms/step - loss: 7380371968.0000 - val_loss: 5254398464.0000\n",
      "Epoch 3/100\n",
      "1053/1053 [==============================] - 4s 4ms/step - loss: 4585805824.0000 - val_loss: 3989596672.0000\n",
      "Epoch 4/100\n",
      "1053/1053 [==============================] - 4s 4ms/step - loss: 3837297920.0000 - val_loss: 3595478528.0000\n",
      "Epoch 5/100\n",
      "1053/1053 [==============================] - 4s 4ms/step - loss: 3570681600.0000 - val_loss: 3432982528.0000\n",
      "Epoch 6/100\n",
      "1053/1053 [==============================] - 4s 4ms/step - loss: 3425068288.0000 - val_loss: 3296705280.0000\n",
      "Epoch 7/100\n",
      "1053/1053 [==============================] - 4s 4ms/step - loss: 3305957120.0000 - val_loss: 3185650688.0000\n",
      "Epoch 8/100\n",
      "1053/1053 [==============================] - 4s 4ms/step - loss: 3196530432.0000 - val_loss: 3079534592.0000\n",
      "Epoch 9/100\n",
      "1053/1053 [==============================] - 4s 4ms/step - loss: 3092980480.0000 - val_loss: 2982865664.0000\n",
      "Epoch 10/100\n",
      "1053/1053 [==============================] - 4s 4ms/step - loss: 2992016640.0000 - val_loss: 2880930304.0000\n",
      "Epoch 11/100\n",
      "1053/1053 [==============================] - 4s 4ms/step - loss: 2891534336.0000 - val_loss: 2782811904.0000\n",
      "Epoch 12/100\n",
      "1053/1053 [==============================] - 4s 4ms/step - loss: 2790064384.0000 - val_loss: 2694340096.0000\n",
      "Epoch 13/100\n",
      "1053/1053 [==============================] - 3s 3ms/step - loss: 2694417920.0000 - val_loss: 2600560384.0000\n",
      "Epoch 14/100\n",
      "1053/1053 [==============================] - 3s 3ms/step - loss: 2603822848.0000 - val_loss: 2514335744.0000\n",
      "Epoch 15/100\n",
      "1053/1053 [==============================] - 3s 3ms/step - loss: 2516900352.0000 - val_loss: 2423917312.0000\n",
      "Epoch 16/100\n",
      "1053/1053 [==============================] - 3s 3ms/step - loss: 2432072960.0000 - val_loss: 2343206144.0000\n",
      "Epoch 17/100\n",
      "1053/1053 [==============================] - 3s 3ms/step - loss: 2370516224.0000 - val_loss: 2297348352.0000\n",
      "Epoch 18/100\n",
      "1053/1053 [==============================] - 3s 3ms/step - loss: 2326193920.0000 - val_loss: 2261141504.0000\n",
      "Epoch 19/100\n",
      "1053/1053 [==============================] - 3s 3ms/step - loss: 2292650240.0000 - val_loss: 2234530304.0000\n",
      "Epoch 20/100\n",
      "1053/1053 [==============================] - 3s 3ms/step - loss: 2266874368.0000 - val_loss: 2209497344.0000\n",
      "Epoch 21/100\n",
      "1053/1053 [==============================] - 3s 3ms/step - loss: 2246734080.0000 - val_loss: 2187726592.0000\n",
      "Epoch 22/100\n",
      "1053/1053 [==============================] - 3s 3ms/step - loss: 2224955904.0000 - val_loss: 2171275776.0000\n",
      "Epoch 23/100\n",
      "1053/1053 [==============================] - 3s 3ms/step - loss: 2207177984.0000 - val_loss: 2162289920.0000\n",
      "Epoch 24/100\n",
      "1053/1053 [==============================] - 3s 3ms/step - loss: 2192283392.0000 - val_loss: 2133947264.0000\n",
      "Epoch 25/100\n",
      "1053/1053 [==============================] - 3s 3ms/step - loss: 2178514944.0000 - val_loss: 2122812800.0000\n",
      "Epoch 26/100\n",
      "1053/1053 [==============================] - 3s 3ms/step - loss: 2164965376.0000 - val_loss: 2115998720.0000\n",
      "Epoch 27/100\n",
      "1053/1053 [==============================] - 3s 3ms/step - loss: 2153666048.0000 - val_loss: 2096186752.0000\n",
      "Epoch 28/100\n",
      "1053/1053 [==============================] - 3s 3ms/step - loss: 2141497600.0000 - val_loss: 2102943616.0000\n",
      "Epoch 29/100\n",
      "1053/1053 [==============================] - 3s 3ms/step - loss: 2130980608.0000 - val_loss: 2079329280.0000\n",
      "Epoch 30/100\n",
      "1053/1053 [==============================] - 3s 3ms/step - loss: 2121483392.0000 - val_loss: 2065073536.0000\n",
      "Epoch 31/100\n",
      "1053/1053 [==============================] - 3s 3ms/step - loss: 2110390528.0000 - val_loss: 2056468608.0000\n",
      "Epoch 32/100\n",
      "1053/1053 [==============================] - 3s 3ms/step - loss: 2103640704.0000 - val_loss: 2047088640.0000\n",
      "Epoch 33/100\n",
      "1053/1053 [==============================] - 3s 3ms/step - loss: 2094565760.0000 - val_loss: 2047579392.0000\n",
      "Epoch 34/100\n",
      "1053/1053 [==============================] - 3s 3ms/step - loss: 2087592576.0000 - val_loss: 2036240256.0000\n",
      "Epoch 35/100\n",
      "1053/1053 [==============================] - 3s 3ms/step - loss: 2077697664.0000 - val_loss: 2031622144.0000\n",
      "Epoch 36/100\n",
      "1053/1053 [==============================] - 3s 3ms/step - loss: 2072860160.0000 - val_loss: 2030485632.0000\n",
      "Epoch 37/100\n",
      "1053/1053 [==============================] - 3s 3ms/step - loss: 2066033152.0000 - val_loss: 2024544640.0000\n",
      "Epoch 38/100\n",
      "1053/1053 [==============================] - 3s 3ms/step - loss: 2058515968.0000 - val_loss: 2007723904.0000\n",
      "Epoch 39/100\n",
      "1053/1053 [==============================] - 3s 3ms/step - loss: 2051778816.0000 - val_loss: 2004825344.0000\n",
      "Epoch 40/100\n",
      "1053/1053 [==============================] - 3s 3ms/step - loss: 2045299200.0000 - val_loss: 1998410880.0000\n",
      "Epoch 41/100\n",
      "1053/1053 [==============================] - 3s 3ms/step - loss: 2038096000.0000 - val_loss: 1990284672.0000\n",
      "Epoch 42/100\n",
      "1053/1053 [==============================] - 3s 3ms/step - loss: 2033018880.0000 - val_loss: 2001792512.0000\n",
      "Epoch 43/100\n",
      "1053/1053 [==============================] - 3s 3ms/step - loss: 2023903488.0000 - val_loss: 1978534784.0000\n",
      "Epoch 44/100\n",
      "1053/1053 [==============================] - 3s 3ms/step - loss: 2018360448.0000 - val_loss: 1962221952.0000\n",
      "Epoch 45/100\n",
      "1053/1053 [==============================] - 3s 3ms/step - loss: 2009843840.0000 - val_loss: 1957656704.0000\n",
      "Epoch 46/100\n",
      "1053/1053 [==============================] - 3s 3ms/step - loss: 2004784384.0000 - val_loss: 1951124992.0000\n",
      "Epoch 47/100\n",
      "1053/1053 [==============================] - 3s 3ms/step - loss: 1996883712.0000 - val_loss: 1943506432.0000\n",
      "Epoch 48/100\n",
      "1053/1053 [==============================] - 3s 3ms/step - loss: 1990217600.0000 - val_loss: 1938440704.0000\n",
      "Epoch 49/100\n",
      "1053/1053 [==============================] - 3s 3ms/step - loss: 1983791104.0000 - val_loss: 1928681216.0000\n",
      "Epoch 50/100\n",
      "1053/1053 [==============================] - 3s 3ms/step - loss: 1976921344.0000 - val_loss: 1931909120.0000\n",
      "Epoch 51/100\n",
      "1053/1053 [==============================] - 3s 3ms/step - loss: 1971224064.0000 - val_loss: 1916281856.0000\n",
      "Epoch 52/100\n",
      "1053/1053 [==============================] - 3s 3ms/step - loss: 1965202560.0000 - val_loss: 1914206848.0000\n",
      "Epoch 53/100\n",
      "1053/1053 [==============================] - 3s 3ms/step - loss: 1958599680.0000 - val_loss: 1907896064.0000\n",
      "Epoch 54/100\n",
      "1053/1053 [==============================] - 3s 3ms/step - loss: 1951282176.0000 - val_loss: 1900417280.0000\n",
      "Epoch 55/100\n",
      "1053/1053 [==============================] - 3s 3ms/step - loss: 1943665664.0000 - val_loss: 1894782720.0000\n",
      "Epoch 56/100\n",
      "1053/1053 [==============================] - 3s 3ms/step - loss: 1938333696.0000 - val_loss: 1888518272.0000\n",
      "Epoch 57/100\n",
      "1053/1053 [==============================] - 3s 3ms/step - loss: 1929526912.0000 - val_loss: 1885202560.0000\n",
      "Epoch 58/100\n",
      "1053/1053 [==============================] - 3s 3ms/step - loss: 1923217792.0000 - val_loss: 1870663296.0000\n",
      "Epoch 59/100\n",
      "1053/1053 [==============================] - 3s 3ms/step - loss: 1915877632.0000 - val_loss: 1862414720.0000\n",
      "Epoch 60/100\n",
      "1053/1053 [==============================] - 3s 3ms/step - loss: 1907419008.0000 - val_loss: 1858048512.0000\n",
      "Epoch 61/100\n",
      "1053/1053 [==============================] - 3s 3ms/step - loss: 1898451328.0000 - val_loss: 1848352256.0000\n",
      "Epoch 62/100\n",
      "1053/1053 [==============================] - 3s 3ms/step - loss: 1892757632.0000 - val_loss: 1841646336.0000\n",
      "Epoch 63/100\n",
      "1053/1053 [==============================] - 3s 3ms/step - loss: 1884891392.0000 - val_loss: 1840667392.0000\n",
      "Epoch 64/100\n",
      "1053/1053 [==============================] - 3s 3ms/step - loss: 1878275584.0000 - val_loss: 1832025600.0000\n",
      "Epoch 65/100\n",
      "1053/1053 [==============================] - 3s 3ms/step - loss: 1871969152.0000 - val_loss: 1828217216.0000\n",
      "Epoch 66/100\n",
      "1053/1053 [==============================] - 3s 3ms/step - loss: 1865699968.0000 - val_loss: 1846178944.0000\n",
      "Epoch 67/100\n",
      "1053/1053 [==============================] - 3s 3ms/step - loss: 1859581184.0000 - val_loss: 1818030720.0000\n",
      "Epoch 68/100\n",
      "1053/1053 [==============================] - 3s 3ms/step - loss: 1852994688.0000 - val_loss: 1803226496.0000\n",
      "Epoch 69/100\n",
      "1053/1053 [==============================] - 3s 3ms/step - loss: 1848995840.0000 - val_loss: 1801415296.0000\n",
      "Epoch 70/100\n",
      "1053/1053 [==============================] - 3s 3ms/step - loss: 1842054144.0000 - val_loss: 1811479680.0000\n",
      "Epoch 71/100\n",
      "1053/1053 [==============================] - 3s 3ms/step - loss: 1835333504.0000 - val_loss: 1791527936.0000\n",
      "Epoch 72/100\n",
      "1053/1053 [==============================] - 3s 3ms/step - loss: 1828796800.0000 - val_loss: 1785543552.0000\n",
      "Epoch 73/100\n",
      "1053/1053 [==============================] - 3s 3ms/step - loss: 1825337088.0000 - val_loss: 1775086336.0000\n",
      "Epoch 74/100\n",
      "1053/1053 [==============================] - 3s 3ms/step - loss: 1818789888.0000 - val_loss: 1790043648.0000\n",
      "Epoch 75/100\n",
      "1053/1053 [==============================] - 3s 3ms/step - loss: 1814794240.0000 - val_loss: 1769723520.0000\n",
      "Epoch 76/100\n",
      "1053/1053 [==============================] - 3s 3ms/step - loss: 1807495936.0000 - val_loss: 1755873024.0000\n",
      "Epoch 77/100\n",
      "1053/1053 [==============================] - 3s 3ms/step - loss: 1801806336.0000 - val_loss: 1756478592.0000\n",
      "Epoch 78/100\n",
      "1053/1053 [==============================] - 3s 3ms/step - loss: 1794680704.0000 - val_loss: 1749659008.0000\n",
      "Epoch 79/100\n",
      "1053/1053 [==============================] - 3s 3ms/step - loss: 1789091328.0000 - val_loss: 1742231040.0000\n",
      "Epoch 80/100\n",
      "1053/1053 [==============================] - 3s 3ms/step - loss: 1784391552.0000 - val_loss: 1735185792.0000\n",
      "Epoch 81/100\n",
      "1053/1053 [==============================] - 3s 3ms/step - loss: 1780154240.0000 - val_loss: 1747079424.0000\n",
      "Epoch 82/100\n",
      "1053/1053 [==============================] - 3s 3ms/step - loss: 1773088000.0000 - val_loss: 1725183488.0000\n",
      "Epoch 83/100\n",
      "1053/1053 [==============================] - 3s 3ms/step - loss: 1769091456.0000 - val_loss: 1722567680.0000\n",
      "Epoch 84/100\n",
      "1053/1053 [==============================] - 3s 3ms/step - loss: 1762607488.0000 - val_loss: 1730360576.0000\n",
      "Epoch 85/100\n",
      "1053/1053 [==============================] - 3s 3ms/step - loss: 1758148608.0000 - val_loss: 1712288256.0000\n",
      "Epoch 86/100\n",
      "1053/1053 [==============================] - 3s 3ms/step - loss: 1752076800.0000 - val_loss: 1707908992.0000\n",
      "Epoch 87/100\n",
      "1053/1053 [==============================] - 3s 3ms/step - loss: 1749117952.0000 - val_loss: 1699167488.0000\n",
      "Epoch 88/100\n",
      "1053/1053 [==============================] - 3s 3ms/step - loss: 1743350912.0000 - val_loss: 1694633728.0000\n",
      "Epoch 89/100\n",
      "1053/1053 [==============================] - 3s 3ms/step - loss: 1737730304.0000 - val_loss: 1690625792.0000\n",
      "Epoch 90/100\n",
      "1053/1053 [==============================] - 3s 3ms/step - loss: 1732172672.0000 - val_loss: 1690028672.0000\n",
      "Epoch 91/100\n",
      "1053/1053 [==============================] - 3s 3ms/step - loss: 1727132288.0000 - val_loss: 1680638592.0000\n",
      "Epoch 92/100\n",
      "1053/1053 [==============================] - 3s 3ms/step - loss: 1724550784.0000 - val_loss: 1678806912.0000\n",
      "Epoch 93/100\n",
      "1053/1053 [==============================] - 3s 3ms/step - loss: 1719823232.0000 - val_loss: 1679643776.0000\n",
      "Epoch 94/100\n",
      "1053/1053 [==============================] - 3s 3ms/step - loss: 1715965312.0000 - val_loss: 1673819392.0000\n",
      "Epoch 95/100\n",
      "1053/1053 [==============================] - 3s 3ms/step - loss: 1712089216.0000 - val_loss: 1674790016.0000\n",
      "Epoch 96/100\n",
      "1053/1053 [==============================] - 3s 3ms/step - loss: 1710364288.0000 - val_loss: 1667784448.0000\n",
      "Epoch 97/100\n",
      "1053/1053 [==============================] - 3s 3ms/step - loss: 1706216448.0000 - val_loss: 1654911488.0000\n",
      "Epoch 98/100\n",
      "1053/1053 [==============================] - 3s 3ms/step - loss: 1701032192.0000 - val_loss: 1656454144.0000\n",
      "Epoch 99/100\n",
      "1053/1053 [==============================] - 3s 3ms/step - loss: 1698337408.0000 - val_loss: 1661325440.0000\n",
      "Epoch 100/100\n",
      "1053/1053 [==============================] - 3s 3ms/step - loss: 1696667392.0000 - val_loss: 1651667584.0000\n",
      "CPU times: total: 6min 28s\n",
      "Wall time: 5min 16s\n"
     ]
    }
   ],
   "source": [
    "%%time\n",
    "history = dnn_model.fit(\n",
    "    X_train,\n",
    "    y_train,\n",
    "    validation_split=0.25,\n",
    "    verbose=1,\n",
    "    epochs=100,\n",
    "    batch_size = 128,\n",
    "    callbacks=[early_stopping])"
   ]
  },
  {
   "cell_type": "code",
   "execution_count": 55,
   "metadata": {
    "collapsed": false,
    "pycharm": {
     "name": "#%%\n"
    }
   },
   "outputs": [
    {
     "data": {
      "image/png": "[encoded data removed]",
      "text/plain": [
       "<Figure size 432x288 with 1 Axes>"
      ]
     },
     "metadata": {
      "needs_background": "light"
     },
     "output_type": "display_data"
    }
   ],
   "source": [
    "def plot_loss(history):\n",
    "    plt.plot(np.sqrt(history.history['loss']), label='loss')\n",
    "    plt.plot(np.sqrt(history.history['val_loss']), label='val_loss')\n",
    "    plt.xlabel('Epoch')\n",
    "    plt.ylabel('Error')\n",
    "    plt.legend()\n",
    "    plt.grid(True)\n",
    "plot_loss(history)"
   ]
  },
  {
   "cell_type": "code",
   "execution_count": 99,
   "metadata": {
    "collapsed": false,
    "pycharm": {
     "name": "#%%\n"
    }
   },
   "outputs": [
    {
     "name": "stdout",
     "output_type": "stream",
     "text": [
      "1403/1403 [==============================] - 1s 1ms/step\n"
     ]
    },
    {
     "data": {
      "image/png": "[encoded data removed]",
      "text/plain": [
       "<Figure size 432x288 with 1 Axes>"
      ]
     },
     "metadata": {
      "needs_background": "light"
     },
     "output_type": "display_data"
    }
   ],
   "source": [
    "y_pred_dnn = dnn_model.predict(X_test).flatten()\n",
    "\n",
    "plt.scatter(y_test, y_pred_dnn)\n",
    "plt.xlabel('True Values')\n",
    "plt.ylabel('Predictions')\n",
    "plt.show()"
   ]
  },
  {
   "cell_type": "markdown",
   "metadata": {
    "collapsed": false,
    "pycharm": {
     "name": "#%% md\n"
    }
   },
   "source": [
    "# Model evaluation"
   ]
  },
  {
   "cell_type": "code",
   "execution_count": 100,
   "metadata": {
    "collapsed": false,
    "pycharm": {
     "name": "#%%\n"
    }
   },
   "outputs": [
    {
     "name": "stdout",
     "output_type": "stream",
     "text": [
      "Scores for XGB\n",
      "Mean absolute error: 18265.141304657744\n",
      "RMSE: 25077.435798475002\n",
      "R score: 0.9722922999595943\n",
      "\n",
      "Scores for RF\n",
      "Mean absolute error: 18525.23689644646\n",
      "RMSE: 26366.759998909878\n",
      "R score: 0.9693699465204636\n",
      "\n",
      "Scores for DNN\n",
      "Mean absolute error: 29535.983189458824\n",
      "RMSE: 41229.84987138979\n",
      "R score: 0.9251041541777736\n",
      "\n"
     ]
    },
    {
     "data": {
      "text/plain": [
       "{'Model': 'DNN',\n",
       " 'MAE': 29535.983189458824,\n",
       " 'RMSE': 41229.84987138979,\n",
       " 'R score': 0.9251041541777736}"
      ]
     },
     "execution_count": 100,
     "metadata": {},
     "output_type": "execute_result"
    }
   ],
   "source": [
    "# XGB\n",
    "print_metrics(y_test,y_pred_xgb,\"XGB\")\n",
    "print_metrics(y_test,y_pred_rf,\"RF\")\n",
    "print_metrics(y_test,y_pred_dnn,\"DNN\")"
   ]
  },
  {
   "cell_type": "code",
   "execution_count": 101,
   "metadata": {
    "collapsed": false,
    "pycharm": {
     "name": "#%%\n"
    }
   },
   "outputs": [
    {
     "data": {
      "text/plain": [
       "<AxesSubplot:title={'center':'DNN'}, xlabel='resale_price', ylabel='Count'>"
      ]
     },
     "execution_count": 101,
     "metadata": {},
     "output_type": "execute_result"
    },
    {
     "data": {
      "image/png": "[encoded data removed]",
      "text/plain": [
       "<Figure size 1440x720 with 3 Axes>"
      ]
     },
     "metadata": {
      "needs_background": "light"
     },
     "output_type": "display_data"
    }
   ],
   "source": [
    "# Print the histplot of XGBoost and Random forest pred values for comparison\n",
    "fig, (ax1,ax2,ax3) = plt.subplots(1,3,figsize = (20,10))\n",
    "ax1.set_title('Random Forest')\n",
    "ax2.set_title('XGBoost')\n",
    "ax3.set_title('DNN')\n",
    "sns.histplot(y_pred_rf-y_test,ax=ax1,)\n",
    "sns.histplot(y_pred_xgb-y_test,ax=ax2)\n",
    "sns.histplot(y_pred_dnn-y_test, ax= ax3)"
   ]
  },
  {
   "cell_type": "code",
   "execution_count": 102,
   "metadata": {
    "collapsed": false,
    "pycharm": {
     "name": "#%%\n"
    }
   },
   "outputs": [],
   "source": [
    "# Make into a dataframe\n",
    "d = {\"Random Forest\": y_pred_rf, \"XGBRegressor\": y_pred_xgb, \"DNN\":y_pred_dnn, \"Actual\":y_test}\n",
    "df_y = pd.DataFrame.from_dict(d)"
   ]
  },
  {
   "cell_type": "code",
   "execution_count": 103,
   "metadata": {
    "collapsed": false,
    "pycharm": {
     "name": "#%%\n"
    }
   },
   "outputs": [
    {
     "data": {
      "text/html": [
       "<div>\n",
       "<style scoped>\n",
       "    .dataframe tbody tr th:only-of-type {\n",
       "        vertical-align: middle;\n",
       "    }\n",
       "\n",
       "    .dataframe tbody tr th {\n",
       "        vertical-align: top;\n",
       "    }\n",
       "\n",
       "    .dataframe thead th {\n",
       "        text-align: right;\n",
       "    }\n",
       "</style>\n",
       "<table border=\"1\" class=\"dataframe\">\n",
       "  <thead>\n",
       "    <tr style=\"text-align: right;\">\n",
       "      <th></th>\n",
       "      <th>Random Forest</th>\n",
       "      <th>XGBRegressor</th>\n",
       "      <th>DNN</th>\n",
       "      <th>Actual</th>\n",
       "    </tr>\n",
       "  </thead>\n",
       "  <tbody>\n",
       "    <tr>\n",
       "      <th>194164</th>\n",
       "      <td>308393.320000</td>\n",
       "      <td>306604.3750</td>\n",
       "      <td>294450.65625</td>\n",
       "      <td>328000.0</td>\n",
       "    </tr>\n",
       "    <tr>\n",
       "      <th>213663</th>\n",
       "      <td>573155.440000</td>\n",
       "      <td>589493.9375</td>\n",
       "      <td>572840.56250</td>\n",
       "      <td>588000.0</td>\n",
       "    </tr>\n",
       "    <tr>\n",
       "      <th>102744</th>\n",
       "      <td>301664.593333</td>\n",
       "      <td>292516.3750</td>\n",
       "      <td>279863.46875</td>\n",
       "      <td>288888.0</td>\n",
       "    </tr>\n",
       "    <tr>\n",
       "      <th>53513</th>\n",
       "      <td>622118.210000</td>\n",
       "      <td>631209.3125</td>\n",
       "      <td>622003.56250</td>\n",
       "      <td>635000.0</td>\n",
       "    </tr>\n",
       "    <tr>\n",
       "      <th>36192</th>\n",
       "      <td>346204.000000</td>\n",
       "      <td>340014.9375</td>\n",
       "      <td>350501.71875</td>\n",
       "      <td>345000.0</td>\n",
       "    </tr>\n",
       "  </tbody>\n",
       "</table>\n",
       "</div>"
      ],
      "text/plain": [
       "        Random Forest  XGBRegressor           DNN    Actual\n",
       "194164  308393.320000   306604.3750  294450.65625  328000.0\n",
       "213663  573155.440000   589493.9375  572840.56250  588000.0\n",
       "102744  301664.593333   292516.3750  279863.46875  288888.0\n",
       "53513   622118.210000   631209.3125  622003.56250  635000.0\n",
       "36192   346204.000000   340014.9375  350501.71875  345000.0"
      ]
     },
     "execution_count": 103,
     "metadata": {},
     "output_type": "execute_result"
    }
   ],
   "source": [
    "df_y.head()"
   ]
  },
  {
   "cell_type": "code",
   "execution_count": 104,
   "metadata": {
    "collapsed": false,
    "pycharm": {
     "name": "#%%\n"
    }
   },
   "outputs": [
    {
     "name": "stdout",
     "output_type": "stream",
     "text": [
      "Max difference in price for random forest is :  0.6129698598130842 \n",
      "Max difference in price for XGB is :  0.536390625 \n",
      "Max difference in price for DNN is :  0.5876460700757575\n"
     ]
    }
   ],
   "source": [
    "# This finds the absolute biggest % difference between the models\n",
    "\n",
    "max_diff_rt = ((df_y['Actual']-df_y['Random Forest'])/(df_y['Actual'])).abs().max()\n",
    "max_diff_xgb =((df_y['Actual']-df_y['XGBRegressor'])/(df_y['Actual'])).abs().max()\n",
    "max_diff_dnn =((df_y['Actual']-df_y['DNN'])/(df_y['Actual'])).abs().max()\n",
    "\n",
    "print(\"Max difference in price for random forest is : \",max_diff_rt\n",
    "     ,\"\\nMax difference in price for XGB is : \" , max_diff_xgb\n",
    "      ,\"\\nMax difference in price for DNN is : \" , max_diff_dnn)"
   ]
  },
  {
   "cell_type": "code",
   "execution_count": 105,
   "metadata": {
    "collapsed": false,
    "pycharm": {
     "name": "#%%\n"
    }
   },
   "outputs": [
    {
     "name": "stdout",
     "output_type": "stream",
     "text": [
      "Row with greatest difference:\n",
      "        Random Forest  XGBRegressor         DNN    Actual\n",
      "215247     862938.875    686481.125  724734.625  535000.0\n",
      "        Random Forest  XGBRegressor           DNN    Actual\n",
      "106621       322735.0   338005.9375  349007.71875  220000.0\n",
      "       Random Forest  XGBRegressor         DNN    Actual\n",
      "46893      561449.14     546963.75  838277.125  528000.0\n"
     ]
    }
   ],
   "source": [
    "# This finds and prints the row with the biggest % difference\n",
    "# after that compares how differently they predict the values\n",
    "\n",
    "rt_diff_index = ((df_y['Actual']-df_y['Random Forest'])/(df_y['Actual'])).abs().idxmax()\n",
    "xgb_diff_index =((df_y['Actual']-df_y['XGBRegressor'])/(df_y['Actual'])).abs().idxmax()\n",
    "dnn_diff_index = ((df_y['Actual']-df_y['DNN'])/(df_y['Actual'])).abs().idxmax()\n",
    "print(\"Row with greatest difference:\")\n",
    "print(df_y.loc[[rt_diff_index]])\n",
    "print(df_y.loc[[xgb_diff_index]])\n",
    "print(df_y.loc[[dnn_diff_index]])\n"
   ]
  },
  {
   "cell_type": "markdown",
   "metadata": {
    "collapsed": false,
    "pycharm": {
     "name": "#%% md\n"
    }
   },
   "source": [
    "## Experimentation and learning keras-tuner"
   ]
  },
  {
   "cell_type": "code",
   "execution_count": 78,
   "metadata": {
    "collapsed": false,
    "pycharm": {
     "name": "#%%\n"
    }
   },
   "outputs": [],
   "source": [
    "import keras_tuner as kt"
   ]
  },
  {
   "cell_type": "code",
   "execution_count": 80,
   "metadata": {
    "collapsed": false,
    "pycharm": {
     "name": "#%%\n"
    }
   },
   "outputs": [],
   "source": [
    "def model_builder(hp,norm=normalizer):\n",
    "    model = keras.Sequential()\n",
    "\n",
    "    model.add(norm)\n",
    "\n",
    "    hp_units = hp.Int('units', min_value=32, max_value=512, step=32)\n",
    "    model.add(keras.layers.Dense(units=hp_units, activation='relu'))\n",
    "    model.add(keras.layers.Dense(1))\n",
    "\n",
    "    # Tune the learning rate for the optimizer\n",
    "    # Choose an optimal value from 0.01, 0.001, or 0.0001\n",
    "    hp_learning_rate = hp.Choice('learning_rate', values=[1e-2, 1e-3, 1e-4])\n",
    "\n",
    "    model.compile(optimizer=keras.optimizers.Adam(learning_rate=hp_learning_rate),\n",
    "                  loss=\"mean_squared_error\",\n",
    "                  metrics = \"mean_squared_error\")\n",
    "\n",
    "    return model"
   ]
  },
  {
   "cell_type": "code",
   "execution_count": 81,
   "metadata": {
    "collapsed": false,
    "pycharm": {
     "name": "#%%\n"
    }
   },
   "outputs": [],
   "source": [
    "hyperband = kt.Hyperband(model_builder,\n",
    "                     objective= \"mean_squared_error\",\n",
    "                     max_epochs=10,\n",
    "                     factor=3,\n",
    "                     directory='my_dir',\n",
    "                     project_name='intro_to_kt1')\n",
    "early_stopping = EarlyStopping(monitor= 'mean_squared_error',patience=5)"
   ]
  },
  {
   "cell_type": "code",
   "execution_count": 82,
   "metadata": {
    "collapsed": false,
    "pycharm": {
     "name": "#%%\n"
    }
   },
   "outputs": [
    {
     "name": "stdout",
     "output_type": "stream",
     "text": [
      "Trial 30 Complete [00h 01m 56s]\n",
      "mean_squared_error: 8358725120.0\n",
      "\n",
      "Best mean_squared_error So Far: 2922392576.0\n",
      "Total elapsed time: 00h 24m 18s\n",
      "INFO:tensorflow:Oracle triggered exit\n"
     ]
    }
   ],
   "source": [
    "hyperband.search(X_train,\n",
    "             y_train,\n",
    "             epochs = 50,\n",
    "             validation_split=0.2,\n",
    "             callbacks=[early_stopping])"
   ]
  },
  {
   "cell_type": "code",
   "execution_count": 83,
   "metadata": {
    "collapsed": false,
    "pycharm": {
     "name": "#%%\n"
    }
   },
   "outputs": [
    {
     "name": "stdout",
     "output_type": "stream",
     "text": [
      "\n",
      "The hyperparameter search is complete. The optimal number of units in the first densely-connected\n",
      "layer is 320 and the optimal learning rate for the optimizer\n",
      "is 0.01.\n",
      "\n"
     ]
    }
   ],
   "source": [
    "# Get the optimal hyperparameters\n",
    "best_hps=hyperband.get_best_hyperparameters(num_trials=1)[0]\n",
    "\n",
    "print(f\"\"\"\n",
    "The hyperparameter search is complete. The optimal number of units in the first densely-connected\n",
    "layer is {best_hps.get('units')} and the optimal learning rate for the optimizer\n",
    "is {best_hps.get('learning_rate')}.\n",
    "\"\"\")"
   ]
  },
  {
   "cell_type": "markdown",
   "metadata": {
    "collapsed": false,
    "pycharm": {
     "name": "#%% md\n"
    }
   },
   "source": [
    "## Build model with parameters"
   ]
  },
  {
   "cell_type": "code",
   "execution_count": 84,
   "metadata": {
    "collapsed": false,
    "pycharm": {
     "name": "#%%\n"
    }
   },
   "outputs": [
    {
     "name": "stdout",
     "output_type": "stream",
     "text": [
      "Epoch 1/100\n",
      "1123/1123 [==============================] - 3s 2ms/step - loss: 183309320192.0000 - mean_squared_error: 183309320192.0000 - val_loss: 99473940480.0000 - val_mean_squared_error: 99473940480.0000\n",
      "Epoch 2/100\n",
      "1123/1123 [==============================] - 3s 2ms/step - loss: 51943727104.0000 - mean_squared_error: 51943727104.0000 - val_loss: 27461466112.0000 - val_mean_squared_error: 27461466112.0000\n",
      "Epoch 3/100\n",
      "1123/1123 [==============================] - 3s 2ms/step - loss: 20259309568.0000 - mean_squared_error: 20259309568.0000 - val_loss: 14622630912.0000 - val_mean_squared_error: 14622630912.0000\n",
      "Epoch 4/100\n",
      "1123/1123 [==============================] - 3s 2ms/step - loss: 10867665920.0000 - mean_squared_error: 10867665920.0000 - val_loss: 7953088000.0000 - val_mean_squared_error: 7953088000.0000\n",
      "Epoch 5/100\n",
      "1123/1123 [==============================] - 3s 2ms/step - loss: 6343052288.0000 - mean_squared_error: 6343052288.0000 - val_loss: 5162886656.0000 - val_mean_squared_error: 5162886656.0000\n",
      "Epoch 6/100\n",
      "1123/1123 [==============================] - 3s 2ms/step - loss: 4612118016.0000 - mean_squared_error: 4612118016.0000 - val_loss: 4186537216.0000 - val_mean_squared_error: 4186537216.0000\n",
      "Epoch 7/100\n",
      "1123/1123 [==============================] - 3s 2ms/step - loss: 4036377600.0000 - mean_squared_error: 4036377600.0000 - val_loss: 3858262784.0000 - val_mean_squared_error: 3858262784.0000\n",
      "Epoch 8/100\n",
      "1123/1123 [==============================] - 3s 2ms/step - loss: 3813939968.0000 - mean_squared_error: 3813939968.0000 - val_loss: 3702403328.0000 - val_mean_squared_error: 3702403328.0000\n",
      "Epoch 9/100\n",
      "1123/1123 [==============================] - 3s 2ms/step - loss: 3687807232.0000 - mean_squared_error: 3687807232.0000 - val_loss: 3594391296.0000 - val_mean_squared_error: 3594391296.0000\n",
      "Epoch 10/100\n",
      "1123/1123 [==============================] - 3s 2ms/step - loss: 3592699904.0000 - mean_squared_error: 3592699904.0000 - val_loss: 3509587968.0000 - val_mean_squared_error: 3509587968.0000\n",
      "Epoch 11/100\n",
      "1123/1123 [==============================] - 3s 2ms/step - loss: 3509928960.0000 - mean_squared_error: 3509928960.0000 - val_loss: 3433555712.0000 - val_mean_squared_error: 3433555712.0000\n",
      "Epoch 12/100\n",
      "1123/1123 [==============================] - 3s 2ms/step - loss: 3437358336.0000 - mean_squared_error: 3437358336.0000 - val_loss: 3367164160.0000 - val_mean_squared_error: 3367164160.0000\n",
      "Epoch 13/100\n",
      "1123/1123 [==============================] - 3s 2ms/step - loss: 3372936448.0000 - mean_squared_error: 3372936448.0000 - val_loss: 3305902848.0000 - val_mean_squared_error: 3305902848.0000\n",
      "Epoch 14/100\n",
      "1123/1123 [==============================] - 3s 2ms/step - loss: 3313635072.0000 - mean_squared_error: 3313635072.0000 - val_loss: 3251299072.0000 - val_mean_squared_error: 3251299072.0000\n",
      "Epoch 15/100\n",
      "1123/1123 [==============================] - 3s 2ms/step - loss: 3259270656.0000 - mean_squared_error: 3259270656.0000 - val_loss: 3199423488.0000 - val_mean_squared_error: 3199423488.0000\n",
      "Epoch 16/100\n",
      "1123/1123 [==============================] - 3s 2ms/step - loss: 3209811456.0000 - mean_squared_error: 3209811456.0000 - val_loss: 3157741056.0000 - val_mean_squared_error: 3157741056.0000\n",
      "Epoch 17/100\n",
      "1123/1123 [==============================] - 3s 2ms/step - loss: 3162672128.0000 - mean_squared_error: 3162672128.0000 - val_loss: 3110117376.0000 - val_mean_squared_error: 3110117376.0000\n",
      "Epoch 18/100\n",
      "1123/1123 [==============================] - 3s 2ms/step - loss: 3122254336.0000 - mean_squared_error: 3122254336.0000 - val_loss: 3073943296.0000 - val_mean_squared_error: 3073943296.0000\n",
      "Epoch 19/100\n",
      "1123/1123 [==============================] - 3s 2ms/step - loss: 3085729280.0000 - mean_squared_error: 3085729280.0000 - val_loss: 3035928320.0000 - val_mean_squared_error: 3035928320.0000\n",
      "Epoch 20/100\n",
      "1123/1123 [==============================] - 3s 2ms/step - loss: 3053487104.0000 - mean_squared_error: 3053487104.0000 - val_loss: 3005042688.0000 - val_mean_squared_error: 3005042688.0000\n",
      "Epoch 21/100\n",
      "1123/1123 [==============================] - 3s 2ms/step - loss: 3024185088.0000 - mean_squared_error: 3024185088.0000 - val_loss: 2977180416.0000 - val_mean_squared_error: 2977180416.0000\n",
      "Epoch 22/100\n",
      "1123/1123 [==============================] - 3s 2ms/step - loss: 2998752768.0000 - mean_squared_error: 2998752768.0000 - val_loss: 2953974528.0000 - val_mean_squared_error: 2953974528.0000\n",
      "Epoch 23/100\n",
      "1123/1123 [==============================] - 3s 2ms/step - loss: 2975313920.0000 - mean_squared_error: 2975313920.0000 - val_loss: 2934145536.0000 - val_mean_squared_error: 2934145536.0000\n",
      "Epoch 24/100\n",
      "1123/1123 [==============================] - 3s 2ms/step - loss: 2955135744.0000 - mean_squared_error: 2955135744.0000 - val_loss: 2913142016.0000 - val_mean_squared_error: 2913142016.0000\n",
      "Epoch 25/100\n",
      "1123/1123 [==============================] - 3s 2ms/step - loss: 2936841984.0000 - mean_squared_error: 2936841984.0000 - val_loss: 2897039104.0000 - val_mean_squared_error: 2897039104.0000\n",
      "Epoch 26/100\n",
      "1123/1123 [==============================] - 3s 2ms/step - loss: 2920332032.0000 - mean_squared_error: 2920332032.0000 - val_loss: 2878566400.0000 - val_mean_squared_error: 2878566400.0000\n",
      "Epoch 27/100\n",
      "1123/1123 [==============================] - 3s 2ms/step - loss: 2905525248.0000 - mean_squared_error: 2905525248.0000 - val_loss: 2864711424.0000 - val_mean_squared_error: 2864711424.0000\n",
      "Epoch 28/100\n",
      "1123/1123 [==============================] - 3s 2ms/step - loss: 2891058176.0000 - mean_squared_error: 2891058176.0000 - val_loss: 2852084224.0000 - val_mean_squared_error: 2852084224.0000\n",
      "Epoch 29/100\n",
      "1123/1123 [==============================] - 3s 2ms/step - loss: 2878080512.0000 - mean_squared_error: 2878080512.0000 - val_loss: 2841022720.0000 - val_mean_squared_error: 2841022720.0000\n",
      "Epoch 30/100\n",
      "1123/1123 [==============================] - 3s 2ms/step - loss: 2867500800.0000 - mean_squared_error: 2867500800.0000 - val_loss: 2831328000.0000 - val_mean_squared_error: 2831328000.0000\n",
      "Epoch 31/100\n",
      "1123/1123 [==============================] - 3s 2ms/step - loss: 2856662784.0000 - mean_squared_error: 2856662784.0000 - val_loss: 2820602624.0000 - val_mean_squared_error: 2820602624.0000\n",
      "Epoch 32/100\n",
      "1123/1123 [==============================] - 3s 2ms/step - loss: 2846817536.0000 - mean_squared_error: 2846817536.0000 - val_loss: 2810912256.0000 - val_mean_squared_error: 2810912256.0000\n",
      "Epoch 33/100\n",
      "1123/1123 [==============================] - 3s 2ms/step - loss: 2837514496.0000 - mean_squared_error: 2837514496.0000 - val_loss: 2802393600.0000 - val_mean_squared_error: 2802393600.0000\n",
      "Epoch 34/100\n",
      "1123/1123 [==============================] - 3s 2ms/step - loss: 2828852736.0000 - mean_squared_error: 2828852736.0000 - val_loss: 2796120064.0000 - val_mean_squared_error: 2796120064.0000\n",
      "Epoch 35/100\n",
      "1123/1123 [==============================] - 3s 2ms/step - loss: 2820795904.0000 - mean_squared_error: 2820795904.0000 - val_loss: 2786493440.0000 - val_mean_squared_error: 2786493440.0000\n",
      "Epoch 36/100\n",
      "1123/1123 [==============================] - 3s 2ms/step - loss: 2812982016.0000 - mean_squared_error: 2812982016.0000 - val_loss: 2779169792.0000 - val_mean_squared_error: 2779169792.0000\n",
      "Epoch 37/100\n",
      "1123/1123 [==============================] - 3s 2ms/step - loss: 2805475584.0000 - mean_squared_error: 2805475584.0000 - val_loss: 2771659520.0000 - val_mean_squared_error: 2771659520.0000\n",
      "Epoch 38/100\n",
      "1123/1123 [==============================] - 3s 2ms/step - loss: 2797735936.0000 - mean_squared_error: 2797735936.0000 - val_loss: 2764180224.0000 - val_mean_squared_error: 2764180224.0000\n",
      "Epoch 39/100\n",
      "1123/1123 [==============================] - 3s 2ms/step - loss: 2791132672.0000 - mean_squared_error: 2791132672.0000 - val_loss: 2759986432.0000 - val_mean_squared_error: 2759986432.0000\n",
      "Epoch 40/100\n",
      "1123/1123 [==============================] - 3s 2ms/step - loss: 2784412160.0000 - mean_squared_error: 2784412160.0000 - val_loss: 2752548352.0000 - val_mean_squared_error: 2752548352.0000\n",
      "Epoch 41/100\n",
      "1123/1123 [==============================] - 3s 2ms/step - loss: 2777653760.0000 - mean_squared_error: 2777653760.0000 - val_loss: 2747623424.0000 - val_mean_squared_error: 2747623424.0000\n",
      "Epoch 42/100\n",
      "1123/1123 [==============================] - 3s 2ms/step - loss: 2771777792.0000 - mean_squared_error: 2771777792.0000 - val_loss: 2740317440.0000 - val_mean_squared_error: 2740317440.0000\n",
      "Epoch 43/100\n",
      "1123/1123 [==============================] - 3s 2ms/step - loss: 2765777664.0000 - mean_squared_error: 2765777664.0000 - val_loss: 2734023680.0000 - val_mean_squared_error: 2734023680.0000\n",
      "Epoch 44/100\n",
      "1123/1123 [==============================] - 3s 2ms/step - loss: 2759542272.0000 - mean_squared_error: 2759542272.0000 - val_loss: 2729403136.0000 - val_mean_squared_error: 2729403136.0000\n",
      "Epoch 45/100\n",
      "1123/1123 [==============================] - 3s 2ms/step - loss: 2754561024.0000 - mean_squared_error: 2754561024.0000 - val_loss: 2722988800.0000 - val_mean_squared_error: 2722988800.0000\n",
      "Epoch 46/100\n",
      "1123/1123 [==============================] - 3s 2ms/step - loss: 2748695808.0000 - mean_squared_error: 2748695808.0000 - val_loss: 2718062336.0000 - val_mean_squared_error: 2718062336.0000\n",
      "Epoch 47/100\n",
      "1123/1123 [==============================] - 3s 2ms/step - loss: 2743182080.0000 - mean_squared_error: 2743182080.0000 - val_loss: 2713964544.0000 - val_mean_squared_error: 2713964544.0000\n",
      "Epoch 48/100\n",
      "1123/1123 [==============================] - 3s 2ms/step - loss: 2738871040.0000 - mean_squared_error: 2738871040.0000 - val_loss: 2709501952.0000 - val_mean_squared_error: 2709501952.0000\n",
      "Epoch 49/100\n",
      "1123/1123 [==============================] - 3s 2ms/step - loss: 2733999872.0000 - mean_squared_error: 2733999872.0000 - val_loss: 2705158144.0000 - val_mean_squared_error: 2705158144.0000\n",
      "Epoch 50/100\n",
      "1123/1123 [==============================] - 3s 2ms/step - loss: 2729547520.0000 - mean_squared_error: 2729547520.0000 - val_loss: 2702040064.0000 - val_mean_squared_error: 2702040064.0000\n",
      "Epoch 51/100\n",
      "1123/1123 [==============================] - 3s 2ms/step - loss: 2725038080.0000 - mean_squared_error: 2725038080.0000 - val_loss: 2695213568.0000 - val_mean_squared_error: 2695213568.0000\n",
      "Epoch 52/100\n",
      "1123/1123 [==============================] - 3s 2ms/step - loss: 2720907008.0000 - mean_squared_error: 2720907008.0000 - val_loss: 2692591872.0000 - val_mean_squared_error: 2692591872.0000\n",
      "Epoch 53/100\n",
      "1123/1123 [==============================] - 3s 2ms/step - loss: 2717354240.0000 - mean_squared_error: 2717354240.0000 - val_loss: 2689244416.0000 - val_mean_squared_error: 2689244416.0000\n",
      "Epoch 54/100\n",
      "1123/1123 [==============================] - 3s 2ms/step - loss: 2713252096.0000 - mean_squared_error: 2713252096.0000 - val_loss: 2684785664.0000 - val_mean_squared_error: 2684785664.0000\n",
      "Epoch 55/100\n",
      "1123/1123 [==============================] - 3s 2ms/step - loss: 2709929984.0000 - mean_squared_error: 2709929984.0000 - val_loss: 2679838464.0000 - val_mean_squared_error: 2679838464.0000\n",
      "Epoch 56/100\n",
      "1123/1123 [==============================] - 3s 2ms/step - loss: 2706154240.0000 - mean_squared_error: 2706154240.0000 - val_loss: 2677741056.0000 - val_mean_squared_error: 2677741056.0000\n",
      "Epoch 57/100\n",
      "1123/1123 [==============================] - 3s 2ms/step - loss: 2703047936.0000 - mean_squared_error: 2703047936.0000 - val_loss: 2674211584.0000 - val_mean_squared_error: 2674211584.0000\n",
      "Epoch 58/100\n",
      "1123/1123 [==============================] - 3s 2ms/step - loss: 2699966208.0000 - mean_squared_error: 2699966208.0000 - val_loss: 2669394688.0000 - val_mean_squared_error: 2669394688.0000\n",
      "Epoch 59/100\n",
      "1123/1123 [==============================] - 3s 2ms/step - loss: 2696470784.0000 - mean_squared_error: 2696470784.0000 - val_loss: 2667324928.0000 - val_mean_squared_error: 2667324928.0000\n",
      "Epoch 60/100\n",
      "1123/1123 [==============================] - 3s 2ms/step - loss: 2693016576.0000 - mean_squared_error: 2693016576.0000 - val_loss: 2662421760.0000 - val_mean_squared_error: 2662421760.0000\n",
      "Epoch 61/100\n",
      "1123/1123 [==============================] - 3s 2ms/step - loss: 2690293248.0000 - mean_squared_error: 2690293248.0000 - val_loss: 2659192320.0000 - val_mean_squared_error: 2659192320.0000\n",
      "Epoch 62/100\n",
      "1123/1123 [==============================] - 3s 2ms/step - loss: 2686963968.0000 - mean_squared_error: 2686963968.0000 - val_loss: 2660668928.0000 - val_mean_squared_error: 2660668928.0000\n",
      "Epoch 63/100\n",
      "1123/1123 [==============================] - 3s 2ms/step - loss: 2684241408.0000 - mean_squared_error: 2684241408.0000 - val_loss: 2653944576.0000 - val_mean_squared_error: 2653944576.0000\n",
      "Epoch 64/100\n",
      "1123/1123 [==============================] - 3s 2ms/step - loss: 2681737472.0000 - mean_squared_error: 2681737472.0000 - val_loss: 2651078656.0000 - val_mean_squared_error: 2651078656.0000\n",
      "Epoch 65/100\n",
      "1123/1123 [==============================] - 3s 2ms/step - loss: 2678301440.0000 - mean_squared_error: 2678301440.0000 - val_loss: 2646322432.0000 - val_mean_squared_error: 2646322432.0000\n",
      "Epoch 66/100\n",
      "1123/1123 [==============================] - 3s 2ms/step - loss: 2675566848.0000 - mean_squared_error: 2675566848.0000 - val_loss: 2645661952.0000 - val_mean_squared_error: 2645661952.0000\n",
      "Epoch 67/100\n",
      "1123/1123 [==============================] - 3s 2ms/step - loss: 2672593152.0000 - mean_squared_error: 2672593152.0000 - val_loss: 2641531904.0000 - val_mean_squared_error: 2641531904.0000\n",
      "Epoch 68/100\n",
      "1123/1123 [==============================] - 3s 2ms/step - loss: 2669523456.0000 - mean_squared_error: 2669523456.0000 - val_loss: 2642481664.0000 - val_mean_squared_error: 2642481664.0000\n",
      "Epoch 69/100\n",
      "1123/1123 [==============================] - 3s 2ms/step - loss: 2666699008.0000 - mean_squared_error: 2666699008.0000 - val_loss: 2639218432.0000 - val_mean_squared_error: 2639218432.0000\n",
      "Epoch 70/100\n",
      "1123/1123 [==============================] - 3s 2ms/step - loss: 2664420096.0000 - mean_squared_error: 2664420096.0000 - val_loss: 2636758528.0000 - val_mean_squared_error: 2636758528.0000\n",
      "Epoch 71/100\n",
      "1123/1123 [==============================] - 3s 2ms/step - loss: 2661767168.0000 - mean_squared_error: 2661767168.0000 - val_loss: 2631377664.0000 - val_mean_squared_error: 2631377664.0000\n",
      "Epoch 72/100\n",
      "1123/1123 [==============================] - 3s 2ms/step - loss: 2659047680.0000 - mean_squared_error: 2659047680.0000 - val_loss: 2627707392.0000 - val_mean_squared_error: 2627707392.0000\n",
      "Epoch 73/100\n",
      "1123/1123 [==============================] - 3s 2ms/step - loss: 2656283648.0000 - mean_squared_error: 2656283648.0000 - val_loss: 2627818752.0000 - val_mean_squared_error: 2627818752.0000\n",
      "Epoch 74/100\n",
      "1123/1123 [==============================] - 3s 2ms/step - loss: 2653673984.0000 - mean_squared_error: 2653673984.0000 - val_loss: 2622946560.0000 - val_mean_squared_error: 2622946560.0000\n",
      "Epoch 75/100\n",
      "1123/1123 [==============================] - 3s 2ms/step - loss: 2651320832.0000 - mean_squared_error: 2651320832.0000 - val_loss: 2620699136.0000 - val_mean_squared_error: 2620699136.0000\n",
      "Epoch 76/100\n",
      "1123/1123 [==============================] - 3s 2ms/step - loss: 2648944640.0000 - mean_squared_error: 2648944640.0000 - val_loss: 2616314368.0000 - val_mean_squared_error: 2616314368.0000\n",
      "Epoch 77/100\n",
      "1123/1123 [==============================] - 3s 2ms/step - loss: 2646077952.0000 - mean_squared_error: 2646077952.0000 - val_loss: 2613821696.0000 - val_mean_squared_error: 2613821696.0000\n",
      "Epoch 78/100\n",
      "1123/1123 [==============================] - 3s 2ms/step - loss: 2643716096.0000 - mean_squared_error: 2643716096.0000 - val_loss: 2613859072.0000 - val_mean_squared_error: 2613859072.0000\n",
      "Epoch 79/100\n",
      "1123/1123 [==============================] - 3s 2ms/step - loss: 2641565952.0000 - mean_squared_error: 2641565952.0000 - val_loss: 2611809792.0000 - val_mean_squared_error: 2611809792.0000\n",
      "Epoch 80/100\n",
      "1123/1123 [==============================] - 3s 2ms/step - loss: 2639046912.0000 - mean_squared_error: 2639046912.0000 - val_loss: 2607460352.0000 - val_mean_squared_error: 2607460352.0000\n",
      "Epoch 81/100\n",
      "1123/1123 [==============================] - 3s 2ms/step - loss: 2636885504.0000 - mean_squared_error: 2636885504.0000 - val_loss: 2604565760.0000 - val_mean_squared_error: 2604565760.0000\n",
      "Epoch 82/100\n",
      "1123/1123 [==============================] - 3s 2ms/step - loss: 2633987328.0000 - mean_squared_error: 2633987328.0000 - val_loss: 2605863168.0000 - val_mean_squared_error: 2605863168.0000\n",
      "Epoch 83/100\n",
      "1123/1123 [==============================] - 3s 2ms/step - loss: 2632284160.0000 - mean_squared_error: 2632284160.0000 - val_loss: 2599797760.0000 - val_mean_squared_error: 2599797760.0000\n",
      "Epoch 84/100\n",
      "1123/1123 [==============================] - 3s 2ms/step - loss: 2630312448.0000 - mean_squared_error: 2630312448.0000 - val_loss: 2598844416.0000 - val_mean_squared_error: 2598844416.0000\n",
      "Epoch 85/100\n",
      "1123/1123 [==============================] - 3s 2ms/step - loss: 2628259328.0000 - mean_squared_error: 2628259328.0000 - val_loss: 2598269440.0000 - val_mean_squared_error: 2598269440.0000\n",
      "Epoch 86/100\n",
      "1123/1123 [==============================] - 3s 2ms/step - loss: 2626000384.0000 - mean_squared_error: 2626000384.0000 - val_loss: 2593635584.0000 - val_mean_squared_error: 2593635584.0000\n",
      "Epoch 87/100\n",
      "1123/1123 [==============================] - 3s 2ms/step - loss: 2624240128.0000 - mean_squared_error: 2624240128.0000 - val_loss: 2591907072.0000 - val_mean_squared_error: 2591907072.0000\n",
      "Epoch 88/100\n",
      "1123/1123 [==============================] - 3s 2ms/step - loss: 2622034944.0000 - mean_squared_error: 2622034944.0000 - val_loss: 2592049152.0000 - val_mean_squared_error: 2592049152.0000\n",
      "Epoch 89/100\n",
      "1123/1123 [==============================] - 3s 2ms/step - loss: 2619998720.0000 - mean_squared_error: 2619998720.0000 - val_loss: 2588464896.0000 - val_mean_squared_error: 2588464896.0000\n",
      "Epoch 90/100\n",
      "1123/1123 [==============================] - 3s 2ms/step - loss: 2618551808.0000 - mean_squared_error: 2618551808.0000 - val_loss: 2588303360.0000 - val_mean_squared_error: 2588303360.0000\n",
      "Epoch 91/100\n",
      "1123/1123 [==============================] - 3s 2ms/step - loss: 2616437760.0000 - mean_squared_error: 2616437760.0000 - val_loss: 2584613632.0000 - val_mean_squared_error: 2584613632.0000\n",
      "Epoch 92/100\n",
      "1123/1123 [==============================] - 3s 2ms/step - loss: 2614481920.0000 - mean_squared_error: 2614481920.0000 - val_loss: 2582551040.0000 - val_mean_squared_error: 2582551040.0000\n",
      "Epoch 93/100\n",
      "1123/1123 [==============================] - 3s 2ms/step - loss: 2612909056.0000 - mean_squared_error: 2612909056.0000 - val_loss: 2580424448.0000 - val_mean_squared_error: 2580424448.0000\n",
      "Epoch 94/100\n",
      "1123/1123 [==============================] - 3s 2ms/step - loss: 2611158272.0000 - mean_squared_error: 2611158272.0000 - val_loss: 2577340672.0000 - val_mean_squared_error: 2577340672.0000\n",
      "Epoch 95/100\n",
      "1123/1123 [==============================] - 3s 2ms/step - loss: 2609085184.0000 - mean_squared_error: 2609085184.0000 - val_loss: 2576652032.0000 - val_mean_squared_error: 2576652032.0000\n",
      "Epoch 96/100\n",
      "1123/1123 [==============================] - 3s 2ms/step - loss: 2607807488.0000 - mean_squared_error: 2607807488.0000 - val_loss: 2575562752.0000 - val_mean_squared_error: 2575562752.0000\n",
      "Epoch 97/100\n",
      "1123/1123 [==============================] - 3s 3ms/step - loss: 2606028032.0000 - mean_squared_error: 2606028032.0000 - val_loss: 2572342016.0000 - val_mean_squared_error: 2572342016.0000\n",
      "Epoch 98/100\n",
      "1123/1123 [==============================] - 3s 2ms/step - loss: 2604694272.0000 - mean_squared_error: 2604694272.0000 - val_loss: 2571833856.0000 - val_mean_squared_error: 2571833856.0000\n",
      "Epoch 99/100\n",
      "1123/1123 [==============================] - 3s 2ms/step - loss: 2603022592.0000 - mean_squared_error: 2603022592.0000 - val_loss: 2569645568.0000 - val_mean_squared_error: 2569645568.0000\n",
      "Epoch 100/100\n",
      "1123/1123 [==============================] - 2s 2ms/step - loss: 2601146880.0000 - mean_squared_error: 2601146880.0000 - val_loss: 2571049472.0000 - val_mean_squared_error: 2571049472.0000\n"
     ]
    }
   ],
   "source": [
    "hyperband_model = hyperband.hypermodel.build(best_hps)\n",
    "history_hyperband = hyperband_model.fit(X_train,\n",
    "                                        y_train,\n",
    "                                        epochs = 100,\n",
    "                                        validation_split = 0.2,\n",
    "                                        batch_size= 128)\n",
    "\n"
   ]
  },
  {
   "cell_type": "code",
   "execution_count": 85,
   "metadata": {
    "collapsed": false,
    "pycharm": {
     "name": "#%%\n"
    }
   },
   "outputs": [
    {
     "name": "stdout",
     "output_type": "stream",
     "text": [
      "Best epoch: 99\n"
     ]
    }
   ],
   "source": [
    "val_loss_per_epoch = history_hyperband.history['val_mean_squared_error']\n",
    "best_epoch = val_loss_per_epoch.index(min(val_loss_per_epoch)) + 1\n",
    "print('Best epoch: %d' % (best_epoch,))"
   ]
  },
  {
   "cell_type": "code",
   "execution_count": 86,
   "metadata": {
    "collapsed": false,
    "pycharm": {
     "name": "#%%\n"
    }
   },
   "outputs": [
    {
     "data": {
      "image/png": "[encoded data removed]",
      "text/plain": [
       "<Figure size 432x288 with 1 Axes>"
      ]
     },
     "metadata": {
      "needs_background": "light"
     },
     "output_type": "display_data"
    }
   ],
   "source": [
    "plot_loss(history_hyperband)"
   ]
  },
  {
   "cell_type": "code",
   "execution_count": 87,
   "metadata": {
    "collapsed": false,
    "pycharm": {
     "name": "#%%\n"
    }
   },
   "outputs": [
    {
     "name": "stdout",
     "output_type": "stream",
     "text": [
      "1403/1403 [==============================] - 1s 767us/step\n"
     ]
    }
   ],
   "source": [
    "y_pred_hyperband = hyperband_model.predict(X_test)"
   ]
  },
  {
   "cell_type": "code",
   "execution_count": 97,
   "metadata": {
    "collapsed": false,
    "pycharm": {
     "name": "#%%\n"
    }
   },
   "outputs": [
    {
     "name": "stdout",
     "output_type": "stream",
     "text": [
      "Scores for HYPERBAND\n",
      "Mean absolute error: 37017.3765812042\n",
      "RMSE: 51668.7352835755\n",
      "R score: 0.8823776409393271\n",
      "\n"
     ]
    },
    {
     "data": {
      "text/plain": [
       "{'Model': 'HYPERBAND',\n",
       " 'MAE': 37017.3765812042,\n",
       " 'RMSE': 51668.7352835755,\n",
       " 'R score': 0.8823776409393271}"
      ]
     },
     "execution_count": 97,
     "metadata": {},
     "output_type": "execute_result"
    }
   ],
   "source": [
    "print_metrics(y_test,y_pred_hyperband,\"hyperband\")"
   ]
  },
  {
   "cell_type": "markdown",
   "metadata": {
    "collapsed": false,
    "pycharm": {
     "name": "#%% md\n"
    }
   },
   "source": [
    "# Conclusion + Summary of models"
   ]
  },
  {
   "cell_type": "markdown",
   "metadata": {
    "collapsed": false,
    "pycharm": {
     "name": "#%% md\n"
    }
   },
   "source": [
    "It doesn't seem that NN is worth the effort and computing power to train a NN, perhaps my knowledge of NN is not deep enough"
   ]
  },
  {
   "cell_type": "markdown",
   "metadata": {
    "collapsed": false,
    "pycharm": {
     "name": "#%% md\n"
    }
   },
   "source": [
    "## Comparison of scores"
   ]
  },
  {
   "cell_type": "code",
   "execution_count": 91,
   "metadata": {
    "collapsed": false,
    "pycharm": {
     "name": "#%%\n"
    }
   },
   "outputs": [],
   "source": [
    "list_of_predictions = [y_pred_rf,y_pred_xgb,y_pred_dnn,y_pred_hyperband]\n",
    "name = ['rf','xgb','dnn','hyperband']"
   ]
  },
  {
   "cell_type": "code",
   "execution_count": 92,
   "metadata": {
    "collapsed": false,
    "pycharm": {
     "name": "#%%\n"
    }
   },
   "outputs": [
    {
     "name": "stdout",
     "output_type": "stream",
     "text": [
      "Scores for RF\n",
      "Mean absolute error: 18525.23689644646\n",
      "RMSE: 26366.759998909878\n",
      "R score: 0.9693699465204636\n",
      "\n",
      "Scores for XGB\n",
      "Mean absolute error: 18265.141304657744\n",
      "RMSE: 25077.435798475002\n",
      "R score: 0.9722922999595943\n",
      "\n",
      "Scores for DNN\n",
      "Mean absolute error: 29535.980728398634\n",
      "RMSE: 41229.847236843096\n",
      "R score: 0.9251041637493145\n",
      "\n",
      "Scores for HYPERBAND\n",
      "Mean absolute error: 37017.3765812042\n",
      "RMSE: 51668.7352835755\n",
      "R score: 0.8823776409393271\n",
      "\n"
     ]
    }
   ],
   "source": [
    "metrics_combined = []\n",
    "for i in range(len(name)):\n",
    "    metrics_combined.append(print_metrics(y_test,list_of_predictions[i],name[i]))"
   ]
  },
  {
   "cell_type": "code",
   "execution_count": 95,
   "metadata": {
    "collapsed": false,
    "pycharm": {
     "name": "#%%\n"
    }
   },
   "outputs": [],
   "source": [
    "Summary = pd.DataFrame(metrics_combined).set_index('Model')"
   ]
  },
  {
   "cell_type": "code",
   "execution_count": 96,
   "metadata": {
    "collapsed": false,
    "pycharm": {
     "name": "#%%\n"
    }
   },
   "outputs": [
    {
     "data": {
      "text/html": [
       "<div>\n",
       "<style scoped>\n",
       "    .dataframe tbody tr th:only-of-type {\n",
       "        vertical-align: middle;\n",
       "    }\n",
       "\n",
       "    .dataframe tbody tr th {\n",
       "        vertical-align: top;\n",
       "    }\n",
       "\n",
       "    .dataframe thead th {\n",
       "        text-align: right;\n",
       "    }\n",
       "</style>\n",
       "<table border=\"1\" class=\"dataframe\">\n",
       "  <thead>\n",
       "    <tr style=\"text-align: right;\">\n",
       "      <th>Model</th>\n",
       "      <th>RF</th>\n",
       "      <th>XGB</th>\n",
       "      <th>DNN</th>\n",
       "      <th>HYPERBAND</th>\n",
       "    </tr>\n",
       "  </thead>\n",
       "  <tbody>\n",
       "    <tr>\n",
       "      <th>MAE</th>\n",
       "      <td>18525.236896</td>\n",
       "      <td>18265.141305</td>\n",
       "      <td>29535.980728</td>\n",
       "      <td>37017.376581</td>\n",
       "    </tr>\n",
       "    <tr>\n",
       "      <th>RMSE</th>\n",
       "      <td>26366.759999</td>\n",
       "      <td>25077.435798</td>\n",
       "      <td>41229.847237</td>\n",
       "      <td>51668.735284</td>\n",
       "    </tr>\n",
       "    <tr>\n",
       "      <th>R score</th>\n",
       "      <td>0.969370</td>\n",
       "      <td>0.972292</td>\n",
       "      <td>0.925104</td>\n",
       "      <td>0.882378</td>\n",
       "    </tr>\n",
       "  </tbody>\n",
       "</table>\n",
       "</div>"
      ],
      "text/plain": [
       "Model              RF           XGB           DNN     HYPERBAND\n",
       "MAE      18525.236896  18265.141305  29535.980728  37017.376581\n",
       "RMSE     26366.759999  25077.435798  41229.847237  51668.735284\n",
       "R score      0.969370      0.972292      0.925104      0.882378"
      ]
     },
     "execution_count": 96,
     "metadata": {},
     "output_type": "execute_result"
    }
   ],
   "source": [
    "Summary.transpose()"
   ]
  },
  {
   "cell_type": "code",
   "execution_count": null,
   "metadata": {
    "collapsed": false,
    "pycharm": {
     "name": "#%%\n"
    }
   },
   "outputs": [],
   "source": []
  }
 ],
 "metadata": {
  "kernelspec": {
   "display_name": "Python 3",
   "language": "python",
   "name": "python3"
  },
  "language_info": {
   "codemirror_mode": {
    "name": "ipython",
    "version": 3
   },
   "file_extension": ".py",
   "mimetype": "text/x-python",
   "name": "python",
   "nbconvert_exporter": "python",
   "pygments_lexer": "ipython3",
   "version": "3.8.5"
  }
 },
 "nbformat": 4,
 "nbformat_minor": 4
}
