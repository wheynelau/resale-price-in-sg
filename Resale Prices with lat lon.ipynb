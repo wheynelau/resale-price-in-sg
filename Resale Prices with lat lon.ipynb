{
 "cells": [
  {
   "cell_type": "markdown",
   "metadata": {
    "pycharm": {
     "name": "#%% md\n"
    }
   },
   "source": [
    "# Resale price with latitude and longitude data\n",
    "\n",
    "Using knowledge that I found on openmaps API article, I decided to give it a try to see if inputting raw latitude and longitude data can assist in making the model more robust. The csv was prepared for in \"write new csv.py\" , this was to save the latitude and longitude data so there will not be a need to request for lat and lon data every time.\n",
    "\n",
    "I also intend to use this knowledge to further improve by adding new features such as distance to mrt, distance to malls, number of nearby malls, distance to town."
   ]
  },
  {
   "cell_type": "markdown",
   "source": [
    "## 1. Import packages and getting the data"
   ],
   "metadata": {
    "collapsed": false,
    "pycharm": {
     "name": "#%% md\n"
    }
   }
  },
  {
   "cell_type": "code",
   "execution_count": 150,
   "metadata": {
    "pycharm": {
     "name": "#%%\n"
    }
   },
   "outputs": [
    {
     "name": "stdout",
     "output_type": "stream",
     "text": [
      "Num GPUs Available:  1\n"
     ]
    }
   ],
   "source": [
    "import pandas as pd\n",
    "import numpy as np\n",
    "import seaborn as sns\n",
    "import matplotlib.pyplot as plt\n",
    "from sklearn.model_selection import train_test_split\n",
    "import datetime\n",
    "%matplotlib inline\n",
    "print(\"Num GPUs Available: \", len(tf.config.list_physical_devices('GPU')))"
   ]
  },
  {
   "cell_type": "code",
   "execution_count": 383,
   "metadata": {
    "pycharm": {
     "name": "#%%\n"
    }
   },
   "outputs": [],
   "source": [
    "# Read csv as dataframe\n",
    "\n",
    "data = pd.read_csv('model/datawithlatlong.csv', parse_dates=True,index_col=0 )"
   ]
  },
  {
   "cell_type": "code",
   "execution_count": 384,
   "metadata": {
    "scrolled": true,
    "pycharm": {
     "name": "#%%\n"
    }
   },
   "outputs": [],
   "source": [
    "# get the correct dtypes\n",
    "\n",
    "data = data.infer_objects()"
   ]
  },
  {
   "cell_type": "code",
   "execution_count": 385,
   "outputs": [
    {
     "name": "stdout",
     "output_type": "stream",
     "text": [
      "<class 'pandas.core.frame.DataFrame'>\n",
      "Int64Index: 196957 entries, 0 to 197403\n",
      "Data columns (total 11 columns):\n",
      " #   Column                Non-Null Count   Dtype  \n",
      "---  ------                --------------   -----  \n",
      " 0   month                 196957 non-null  object \n",
      " 1   town                  196957 non-null  object \n",
      " 2   flat_type             196957 non-null  object \n",
      " 3   floor_area_sqm        196957 non-null  float64\n",
      " 4   flat_model            196957 non-null  object \n",
      " 5   resale_price          196957 non-null  float64\n",
      " 6   Storey                196957 non-null  float64\n",
      " 7   lease_commence_dt     196957 non-null  object \n",
      " 8   remaining_lease_year  196957 non-null  float64\n",
      " 9   Latitude              196957 non-null  float64\n",
      " 10  Longitude             196957 non-null  float64\n",
      "dtypes: float64(6), object(5)\n",
      "memory usage: 18.0+ MB\n"
     ]
    }
   ],
   "source": [
    "# check for NA and type\n",
    "data.info()"
   ],
   "metadata": {
    "collapsed": false,
    "pycharm": {
     "name": "#%%\n"
    }
   }
  },
  {
   "cell_type": "code",
   "execution_count": 386,
   "outputs": [
    {
     "data": {
      "text/plain": "                         count           mean            std            min  \\\nfloor_area_sqm        196957.0      97.285769      24.384450      31.000000   \nresale_price          196957.0  452896.508552  145220.840165  140000.000000   \nStorey                196957.0       8.327538       5.554750       2.000000   \nremaining_lease_year  196957.0      74.531873      12.058751      44.083061   \nLatitude              196957.0       1.366232       0.042789       1.270380   \nLongitude             196957.0     103.839909       0.072476     103.685228   \n\n                                25%            50%            75%  \\\nfloor_area_sqm            76.000000      95.000000     112.000000   \nresale_price          350000.000000  425000.000000  525000.000000   \nStorey                     5.000000       8.000000      11.000000   \nremaining_lease_year      65.085546      73.671622      83.916870   \nLatitude                   1.336373       1.363939       1.393394   \nLongitude                103.775400     103.845206     103.899199   \n\n                               max  \nfloor_area_sqm        2.800000e+02  \nresale_price          1.295000e+06  \nStorey                5.000000e+01  \nremaining_lease_year  9.783639e+01  \nLatitude              1.457071e+00  \nLongitude             1.039881e+02  ",
      "text/html": "<div>\n<style scoped>\n    .dataframe tbody tr th:only-of-type {\n        vertical-align: middle;\n    }\n\n    .dataframe tbody tr th {\n        vertical-align: top;\n    }\n\n    .dataframe thead th {\n        text-align: right;\n    }\n</style>\n<table border=\"1\" class=\"dataframe\">\n  <thead>\n    <tr style=\"text-align: right;\">\n      <th></th>\n      <th>count</th>\n      <th>mean</th>\n      <th>std</th>\n      <th>min</th>\n      <th>25%</th>\n      <th>50%</th>\n      <th>75%</th>\n      <th>max</th>\n    </tr>\n  </thead>\n  <tbody>\n    <tr>\n      <th>floor_area_sqm</th>\n      <td>196957.0</td>\n      <td>97.285769</td>\n      <td>24.384450</td>\n      <td>31.000000</td>\n      <td>76.000000</td>\n      <td>95.000000</td>\n      <td>112.000000</td>\n      <td>2.800000e+02</td>\n    </tr>\n    <tr>\n      <th>resale_price</th>\n      <td>196957.0</td>\n      <td>452896.508552</td>\n      <td>145220.840165</td>\n      <td>140000.000000</td>\n      <td>350000.000000</td>\n      <td>425000.000000</td>\n      <td>525000.000000</td>\n      <td>1.295000e+06</td>\n    </tr>\n    <tr>\n      <th>Storey</th>\n      <td>196957.0</td>\n      <td>8.327538</td>\n      <td>5.554750</td>\n      <td>2.000000</td>\n      <td>5.000000</td>\n      <td>8.000000</td>\n      <td>11.000000</td>\n      <td>5.000000e+01</td>\n    </tr>\n    <tr>\n      <th>remaining_lease_year</th>\n      <td>196957.0</td>\n      <td>74.531873</td>\n      <td>12.058751</td>\n      <td>44.083061</td>\n      <td>65.085546</td>\n      <td>73.671622</td>\n      <td>83.916870</td>\n      <td>9.783639e+01</td>\n    </tr>\n    <tr>\n      <th>Latitude</th>\n      <td>196957.0</td>\n      <td>1.366232</td>\n      <td>0.042789</td>\n      <td>1.270380</td>\n      <td>1.336373</td>\n      <td>1.363939</td>\n      <td>1.393394</td>\n      <td>1.457071e+00</td>\n    </tr>\n    <tr>\n      <th>Longitude</th>\n      <td>196957.0</td>\n      <td>103.839909</td>\n      <td>0.072476</td>\n      <td>103.685228</td>\n      <td>103.775400</td>\n      <td>103.845206</td>\n      <td>103.899199</td>\n      <td>1.039881e+02</td>\n    </tr>\n  </tbody>\n</table>\n</div>"
     },
     "execution_count": 386,
     "metadata": {},
     "output_type": "execute_result"
    }
   ],
   "source": [
    "#  describe data\n",
    "data.describe().transpose()"
   ],
   "metadata": {
    "collapsed": false,
    "pycharm": {
     "name": "#%%\n"
    }
   }
  },
  {
   "cell_type": "code",
   "execution_count": 387,
   "metadata": {
    "pycharm": {
     "name": "#%%\n"
    }
   },
   "outputs": [
    {
     "data": {
      "text/plain": "        month        town flat_type  floor_area_sqm      flat_model  \\\n0  2012-03-01  ANG MO KIO    2 ROOM            45.0        Improved   \n1  2012-03-01  ANG MO KIO    2 ROOM            44.0        Improved   \n2  2012-03-01  ANG MO KIO    3 ROOM            68.0  New Generation   \n3  2012-03-01  ANG MO KIO    3 ROOM            67.0  New Generation   \n4  2012-03-01  ANG MO KIO    3 ROOM            67.0  New Generation   \n\n   resale_price  Storey lease_commence_dt  remaining_lease_year  Latitude  \\\n0      250000.0     8.0        1986-01-01             72.836561  1.374694   \n1      265000.0     3.0        1980-01-01             66.835068  1.373401   \n2      315000.0     8.0        1980-01-01             66.835068  1.379395   \n3      320000.0     3.0        1984-01-01             70.835151  1.362758   \n4      321000.0     8.0        1980-01-01             66.835068  1.379867   \n\n    Longitude  \n0  103.836463  \n1  103.849073  \n2  103.839157  \n3  103.858015  \n4  103.835977  ",
      "text/html": "<div>\n<style scoped>\n    .dataframe tbody tr th:only-of-type {\n        vertical-align: middle;\n    }\n\n    .dataframe tbody tr th {\n        vertical-align: top;\n    }\n\n    .dataframe thead th {\n        text-align: right;\n    }\n</style>\n<table border=\"1\" class=\"dataframe\">\n  <thead>\n    <tr style=\"text-align: right;\">\n      <th></th>\n      <th>month</th>\n      <th>town</th>\n      <th>flat_type</th>\n      <th>floor_area_sqm</th>\n      <th>flat_model</th>\n      <th>resale_price</th>\n      <th>Storey</th>\n      <th>lease_commence_dt</th>\n      <th>remaining_lease_year</th>\n      <th>Latitude</th>\n      <th>Longitude</th>\n    </tr>\n  </thead>\n  <tbody>\n    <tr>\n      <th>0</th>\n      <td>2012-03-01</td>\n      <td>ANG MO KIO</td>\n      <td>2 ROOM</td>\n      <td>45.0</td>\n      <td>Improved</td>\n      <td>250000.0</td>\n      <td>8.0</td>\n      <td>1986-01-01</td>\n      <td>72.836561</td>\n      <td>1.374694</td>\n      <td>103.836463</td>\n    </tr>\n    <tr>\n      <th>1</th>\n      <td>2012-03-01</td>\n      <td>ANG MO KIO</td>\n      <td>2 ROOM</td>\n      <td>44.0</td>\n      <td>Improved</td>\n      <td>265000.0</td>\n      <td>3.0</td>\n      <td>1980-01-01</td>\n      <td>66.835068</td>\n      <td>1.373401</td>\n      <td>103.849073</td>\n    </tr>\n    <tr>\n      <th>2</th>\n      <td>2012-03-01</td>\n      <td>ANG MO KIO</td>\n      <td>3 ROOM</td>\n      <td>68.0</td>\n      <td>New Generation</td>\n      <td>315000.0</td>\n      <td>8.0</td>\n      <td>1980-01-01</td>\n      <td>66.835068</td>\n      <td>1.379395</td>\n      <td>103.839157</td>\n    </tr>\n    <tr>\n      <th>3</th>\n      <td>2012-03-01</td>\n      <td>ANG MO KIO</td>\n      <td>3 ROOM</td>\n      <td>67.0</td>\n      <td>New Generation</td>\n      <td>320000.0</td>\n      <td>3.0</td>\n      <td>1984-01-01</td>\n      <td>70.835151</td>\n      <td>1.362758</td>\n      <td>103.858015</td>\n    </tr>\n    <tr>\n      <th>4</th>\n      <td>2012-03-01</td>\n      <td>ANG MO KIO</td>\n      <td>3 ROOM</td>\n      <td>67.0</td>\n      <td>New Generation</td>\n      <td>321000.0</td>\n      <td>8.0</td>\n      <td>1980-01-01</td>\n      <td>66.835068</td>\n      <td>1.379867</td>\n      <td>103.835977</td>\n    </tr>\n  </tbody>\n</table>\n</div>"
     },
     "execution_count": 387,
     "metadata": {},
     "output_type": "execute_result"
    }
   ],
   "source": [
    "data.head(5)"
   ]
  },
  {
   "cell_type": "code",
   "execution_count": 397,
   "outputs": [
    {
     "data": {
      "text/plain": "                   resale_price           floor_area_sqm       \n                           mean    median           mean median\nflat_type                                                      \n1 ROOM            206845.764706  208500.0      31.000000   31.0\n2 ROOM            246952.981732  245000.0      45.817315   46.0\n3 ROOM            328056.845945  318000.0      68.207909   67.0\n4 ROOM            448900.628387  423000.0      95.586363   93.0\n5 ROOM            541482.437272  505000.0     118.165137  119.0\nEXECUTIVE         637686.520188  620000.0     144.206434  145.0\nMULTI-GENERATION  788980.000000  779000.0     160.256410  164.0",
      "text/html": "<div>\n<style scoped>\n    .dataframe tbody tr th:only-of-type {\n        vertical-align: middle;\n    }\n\n    .dataframe tbody tr th {\n        vertical-align: top;\n    }\n\n    .dataframe thead tr th {\n        text-align: left;\n    }\n\n    .dataframe thead tr:last-of-type th {\n        text-align: right;\n    }\n</style>\n<table border=\"1\" class=\"dataframe\">\n  <thead>\n    <tr>\n      <th></th>\n      <th colspan=\"2\" halign=\"left\">resale_price</th>\n      <th colspan=\"2\" halign=\"left\">floor_area_sqm</th>\n    </tr>\n    <tr>\n      <th></th>\n      <th>mean</th>\n      <th>median</th>\n      <th>mean</th>\n      <th>median</th>\n    </tr>\n    <tr>\n      <th>flat_type</th>\n      <th></th>\n      <th></th>\n      <th></th>\n      <th></th>\n    </tr>\n  </thead>\n  <tbody>\n    <tr>\n      <th>1 ROOM</th>\n      <td>206845.764706</td>\n      <td>208500.0</td>\n      <td>31.000000</td>\n      <td>31.0</td>\n    </tr>\n    <tr>\n      <th>2 ROOM</th>\n      <td>246952.981732</td>\n      <td>245000.0</td>\n      <td>45.817315</td>\n      <td>46.0</td>\n    </tr>\n    <tr>\n      <th>3 ROOM</th>\n      <td>328056.845945</td>\n      <td>318000.0</td>\n      <td>68.207909</td>\n      <td>67.0</td>\n    </tr>\n    <tr>\n      <th>4 ROOM</th>\n      <td>448900.628387</td>\n      <td>423000.0</td>\n      <td>95.586363</td>\n      <td>93.0</td>\n    </tr>\n    <tr>\n      <th>5 ROOM</th>\n      <td>541482.437272</td>\n      <td>505000.0</td>\n      <td>118.165137</td>\n      <td>119.0</td>\n    </tr>\n    <tr>\n      <th>EXECUTIVE</th>\n      <td>637686.520188</td>\n      <td>620000.0</td>\n      <td>144.206434</td>\n      <td>145.0</td>\n    </tr>\n    <tr>\n      <th>MULTI-GENERATION</th>\n      <td>788980.000000</td>\n      <td>779000.0</td>\n      <td>160.256410</td>\n      <td>164.0</td>\n    </tr>\n  </tbody>\n</table>\n</div>"
     },
     "execution_count": 397,
     "metadata": {},
     "output_type": "execute_result"
    }
   ],
   "source": [
    "data.groupby(\"flat_type\")[['resale_price','floor_area_sqm']].agg([np.mean,np.median])"
   ],
   "metadata": {
    "collapsed": false,
    "pycharm": {
     "name": "#%%\n"
    }
   }
  },
  {
   "cell_type": "code",
   "execution_count": 405,
   "outputs": [
    {
     "data": {
      "text/plain": "<Figure size 360x360 with 1 Axes>",
      "image/png": "[encoded data removed]"
     },
     "metadata": {
      "needs_background": "light"
     },
     "output_type": "display_data"
    }
   ],
   "source": [
    "\n",
    "ax = sns.catplot(x='flat_type',y='resale_price',data = data,kind ='box')"
   ],
   "metadata": {
    "collapsed": false,
    "pycharm": {
     "name": "#%%\n"
    }
   }
  },
  {
   "cell_type": "markdown",
   "source": [
    "### Creating the distance from lat and lon\n",
    "\n",
    "Latitude and longitude of central area is about 1.300556, 103.821667 (source:wiki), using this info we can calculate the distance to town"
   ],
   "metadata": {
    "collapsed": false,
    "pycharm": {
     "name": "#%% md\n"
    }
   }
  },
  {
   "cell_type": "code",
   "execution_count": 41,
   "outputs": [],
   "source": [
    "lat = 1.300556\n",
    "lon = 103.821667\n",
    "# find distance to town\n",
    "\n",
    "data['distance'] = np.sqrt((data['Latitude']-lat)**2 + (data['Longitude'] - lon)**2)"
   ],
   "metadata": {
    "collapsed": false,
    "pycharm": {
     "name": "#%%\n"
    }
   }
  },
  {
   "cell_type": "code",
   "execution_count": 42,
   "outputs": [],
   "source": [
    "#Drop lease_commence_dt\n",
    "\n",
    "data_final = data.drop(columns=['lease_commence_dt','month','resale_price','Latitude','Longitude'],axis=1)"
   ],
   "metadata": {
    "collapsed": false,
    "pycharm": {
     "name": "#%%\n"
    }
   }
  },
  {
   "cell_type": "code",
   "execution_count": 43,
   "metadata": {
    "pycharm": {
     "name": "#%%\n"
    }
   },
   "outputs": [
    {
     "data": {
      "text/plain": "         town flat_type  floor_area_sqm      flat_model  Storey  \\\n0  ANG MO KIO    2 ROOM            45.0        Improved     8.0   \n1  ANG MO KIO    2 ROOM            44.0        Improved     3.0   \n2  ANG MO KIO    3 ROOM            68.0  New Generation     8.0   \n3  ANG MO KIO    3 ROOM            67.0  New Generation     3.0   \n4  ANG MO KIO    3 ROOM            67.0  New Generation     8.0   \n\n   remaining_lease_year  distance  \n0             72.836561  0.075600  \n1             66.835068  0.077830  \n2             66.835068  0.080755  \n3             70.835151  0.072044  \n4             66.835068  0.080591  ",
      "text/html": "<div>\n<style scoped>\n    .dataframe tbody tr th:only-of-type {\n        vertical-align: middle;\n    }\n\n    .dataframe tbody tr th {\n        vertical-align: top;\n    }\n\n    .dataframe thead th {\n        text-align: right;\n    }\n</style>\n<table border=\"1\" class=\"dataframe\">\n  <thead>\n    <tr style=\"text-align: right;\">\n      <th></th>\n      <th>town</th>\n      <th>flat_type</th>\n      <th>floor_area_sqm</th>\n      <th>flat_model</th>\n      <th>Storey</th>\n      <th>remaining_lease_year</th>\n      <th>distance</th>\n    </tr>\n  </thead>\n  <tbody>\n    <tr>\n      <th>0</th>\n      <td>ANG MO KIO</td>\n      <td>2 ROOM</td>\n      <td>45.0</td>\n      <td>Improved</td>\n      <td>8.0</td>\n      <td>72.836561</td>\n      <td>0.075600</td>\n    </tr>\n    <tr>\n      <th>1</th>\n      <td>ANG MO KIO</td>\n      <td>2 ROOM</td>\n      <td>44.0</td>\n      <td>Improved</td>\n      <td>3.0</td>\n      <td>66.835068</td>\n      <td>0.077830</td>\n    </tr>\n    <tr>\n      <th>2</th>\n      <td>ANG MO KIO</td>\n      <td>3 ROOM</td>\n      <td>68.0</td>\n      <td>New Generation</td>\n      <td>8.0</td>\n      <td>66.835068</td>\n      <td>0.080755</td>\n    </tr>\n    <tr>\n      <th>3</th>\n      <td>ANG MO KIO</td>\n      <td>3 ROOM</td>\n      <td>67.0</td>\n      <td>New Generation</td>\n      <td>3.0</td>\n      <td>70.835151</td>\n      <td>0.072044</td>\n    </tr>\n    <tr>\n      <th>4</th>\n      <td>ANG MO KIO</td>\n      <td>3 ROOM</td>\n      <td>67.0</td>\n      <td>New Generation</td>\n      <td>8.0</td>\n      <td>66.835068</td>\n      <td>0.080591</td>\n    </tr>\n  </tbody>\n</table>\n</div>"
     },
     "execution_count": 43,
     "metadata": {},
     "output_type": "execute_result"
    }
   ],
   "source": [
    "data_final.head()"
   ]
  },
  {
   "cell_type": "code",
   "execution_count": 398,
   "metadata": {
    "pycharm": {
     "name": "#%%\n"
    }
   },
   "outputs": [
    {
     "ename": "KeyError",
     "evalue": "\"None of [Index(['town', 'flat_model'], dtype='object')] are in the [columns]\"",
     "output_type": "error",
     "traceback": [
      "\u001B[1;31m---------------------------------------------------------------------------\u001B[0m",
      "\u001B[1;31mKeyError\u001B[0m                                  Traceback (most recent call last)",
      "Input \u001B[1;32mIn [398]\u001B[0m, in \u001B[0;36m<cell line: 6>\u001B[1;34m()\u001B[0m\n\u001B[0;32m      1\u001B[0m \u001B[38;5;66;03m# Create dummies variables and map room sizes to number. The room numbers are found on the hdb website.\u001B[39;00m\n\u001B[0;32m      2\u001B[0m \u001B[38;5;66;03m# For 5 rooms, there's an additional area catered for a study room, however due to its size, I mapped it to\u001B[39;00m\n\u001B[0;32m      3\u001B[0m \u001B[38;5;66;03m# the value of 4.5\u001B[39;00m\n\u001B[0;32m      4\u001B[0m \u001B[38;5;66;03m# \u001B[39;00m\n\u001B[0;32m      5\u001B[0m dummies \u001B[38;5;241m=\u001B[39m [\u001B[38;5;124m'\u001B[39m\u001B[38;5;124mtown\u001B[39m\u001B[38;5;124m'\u001B[39m,\u001B[38;5;124m'\u001B[39m\u001B[38;5;124mflat_model\u001B[39m\u001B[38;5;124m'\u001B[39m]\n\u001B[1;32m----> 6\u001B[0m data_final \u001B[38;5;241m=\u001B[39m \u001B[43mpd\u001B[49m\u001B[38;5;241;43m.\u001B[39;49m\u001B[43mget_dummies\u001B[49m\u001B[43m(\u001B[49m\u001B[43mdata_final\u001B[49m\u001B[43m,\u001B[49m\u001B[43mcolumns\u001B[49m\u001B[38;5;241;43m=\u001B[39;49m\u001B[43mdummies\u001B[49m\u001B[43m,\u001B[49m\u001B[43mdrop_first\u001B[49m\u001B[38;5;241;43m=\u001B[39;49m\u001B[38;5;28;43;01mTrue\u001B[39;49;00m\u001B[43m)\u001B[49m\n\u001B[0;32m      7\u001B[0m data_final[\u001B[38;5;124m'\u001B[39m\u001B[38;5;124mflat_cat\u001B[39m\u001B[38;5;124m'\u001B[39m] \u001B[38;5;241m=\u001B[39m data_final\u001B[38;5;241m.\u001B[39mflat_type\u001B[38;5;241m.\u001B[39mmap({\u001B[38;5;124m'\u001B[39m\u001B[38;5;124m2 ROOM\u001B[39m\u001B[38;5;124m'\u001B[39m:\u001B[38;5;241m2\u001B[39m,\n\u001B[0;32m      8\u001B[0m                                                    \u001B[38;5;124m'\u001B[39m\u001B[38;5;124m3 ROOM\u001B[39m\u001B[38;5;124m'\u001B[39m:\u001B[38;5;241m3\u001B[39m,\n\u001B[0;32m      9\u001B[0m                                                    \u001B[38;5;124m'\u001B[39m\u001B[38;5;124m4 ROOM\u001B[39m\u001B[38;5;124m'\u001B[39m:\u001B[38;5;241m4\u001B[39m,\n\u001B[1;32m   (...)\u001B[0m\n\u001B[0;32m     12\u001B[0m                                                    \u001B[38;5;124m'\u001B[39m\u001B[38;5;124mEXECUTIVE\u001B[39m\u001B[38;5;124m'\u001B[39m: \u001B[38;5;241m6\u001B[39m,\n\u001B[0;32m     13\u001B[0m                                                     \u001B[38;5;124m'\u001B[39m\u001B[38;5;124mMULTI-GENERATION\u001B[39m\u001B[38;5;124m'\u001B[39m:\u001B[38;5;241m7\u001B[39m})\n",
      "File \u001B[1;32m~\\anaconda3\\lib\\site-packages\\pandas\\core\\reshape\\reshape.py:931\u001B[0m, in \u001B[0;36mget_dummies\u001B[1;34m(data, prefix, prefix_sep, dummy_na, columns, sparse, drop_first, dtype)\u001B[0m\n\u001B[0;32m    929\u001B[0m     \u001B[38;5;28;01mraise\u001B[39;00m \u001B[38;5;167;01mTypeError\u001B[39;00m(\u001B[38;5;124m\"\u001B[39m\u001B[38;5;124mInput must be a list-like for parameter `columns`\u001B[39m\u001B[38;5;124m\"\u001B[39m)\n\u001B[0;32m    930\u001B[0m \u001B[38;5;28;01melse\u001B[39;00m:\n\u001B[1;32m--> 931\u001B[0m     data_to_encode \u001B[38;5;241m=\u001B[39m \u001B[43mdata\u001B[49m\u001B[43m[\u001B[49m\u001B[43mcolumns\u001B[49m\u001B[43m]\u001B[49m\n\u001B[0;32m    933\u001B[0m \u001B[38;5;66;03m# validate prefixes and separator to avoid silently dropping cols\u001B[39;00m\n\u001B[0;32m    934\u001B[0m \u001B[38;5;28;01mdef\u001B[39;00m \u001B[38;5;21mcheck_len\u001B[39m(item, name):\n",
      "File \u001B[1;32m~\\anaconda3\\lib\\site-packages\\pandas\\core\\frame.py:3511\u001B[0m, in \u001B[0;36mDataFrame.__getitem__\u001B[1;34m(self, key)\u001B[0m\n\u001B[0;32m   3509\u001B[0m     \u001B[38;5;28;01mif\u001B[39;00m is_iterator(key):\n\u001B[0;32m   3510\u001B[0m         key \u001B[38;5;241m=\u001B[39m \u001B[38;5;28mlist\u001B[39m(key)\n\u001B[1;32m-> 3511\u001B[0m     indexer \u001B[38;5;241m=\u001B[39m \u001B[38;5;28;43mself\u001B[39;49m\u001B[38;5;241;43m.\u001B[39;49m\u001B[43mcolumns\u001B[49m\u001B[38;5;241;43m.\u001B[39;49m\u001B[43m_get_indexer_strict\u001B[49m\u001B[43m(\u001B[49m\u001B[43mkey\u001B[49m\u001B[43m,\u001B[49m\u001B[43m \u001B[49m\u001B[38;5;124;43m\"\u001B[39;49m\u001B[38;5;124;43mcolumns\u001B[39;49m\u001B[38;5;124;43m\"\u001B[39;49m\u001B[43m)\u001B[49m[\u001B[38;5;241m1\u001B[39m]\n\u001B[0;32m   3513\u001B[0m \u001B[38;5;66;03m# take() does not accept boolean indexers\u001B[39;00m\n\u001B[0;32m   3514\u001B[0m \u001B[38;5;28;01mif\u001B[39;00m \u001B[38;5;28mgetattr\u001B[39m(indexer, \u001B[38;5;124m\"\u001B[39m\u001B[38;5;124mdtype\u001B[39m\u001B[38;5;124m\"\u001B[39m, \u001B[38;5;28;01mNone\u001B[39;00m) \u001B[38;5;241m==\u001B[39m \u001B[38;5;28mbool\u001B[39m:\n",
      "File \u001B[1;32m~\\anaconda3\\lib\\site-packages\\pandas\\core\\indexes\\base.py:5782\u001B[0m, in \u001B[0;36mIndex._get_indexer_strict\u001B[1;34m(self, key, axis_name)\u001B[0m\n\u001B[0;32m   5779\u001B[0m \u001B[38;5;28;01melse\u001B[39;00m:\n\u001B[0;32m   5780\u001B[0m     keyarr, indexer, new_indexer \u001B[38;5;241m=\u001B[39m \u001B[38;5;28mself\u001B[39m\u001B[38;5;241m.\u001B[39m_reindex_non_unique(keyarr)\n\u001B[1;32m-> 5782\u001B[0m \u001B[38;5;28;43mself\u001B[39;49m\u001B[38;5;241;43m.\u001B[39;49m\u001B[43m_raise_if_missing\u001B[49m\u001B[43m(\u001B[49m\u001B[43mkeyarr\u001B[49m\u001B[43m,\u001B[49m\u001B[43m \u001B[49m\u001B[43mindexer\u001B[49m\u001B[43m,\u001B[49m\u001B[43m \u001B[49m\u001B[43maxis_name\u001B[49m\u001B[43m)\u001B[49m\n\u001B[0;32m   5784\u001B[0m keyarr \u001B[38;5;241m=\u001B[39m \u001B[38;5;28mself\u001B[39m\u001B[38;5;241m.\u001B[39mtake(indexer)\n\u001B[0;32m   5785\u001B[0m \u001B[38;5;28;01mif\u001B[39;00m \u001B[38;5;28misinstance\u001B[39m(key, Index):\n\u001B[0;32m   5786\u001B[0m     \u001B[38;5;66;03m# GH 42790 - Preserve name from an Index\u001B[39;00m\n",
      "File \u001B[1;32m~\\anaconda3\\lib\\site-packages\\pandas\\core\\indexes\\base.py:5842\u001B[0m, in \u001B[0;36mIndex._raise_if_missing\u001B[1;34m(self, key, indexer, axis_name)\u001B[0m\n\u001B[0;32m   5840\u001B[0m     \u001B[38;5;28;01mif\u001B[39;00m use_interval_msg:\n\u001B[0;32m   5841\u001B[0m         key \u001B[38;5;241m=\u001B[39m \u001B[38;5;28mlist\u001B[39m(key)\n\u001B[1;32m-> 5842\u001B[0m     \u001B[38;5;28;01mraise\u001B[39;00m \u001B[38;5;167;01mKeyError\u001B[39;00m(\u001B[38;5;124mf\u001B[39m\u001B[38;5;124m\"\u001B[39m\u001B[38;5;124mNone of [\u001B[39m\u001B[38;5;132;01m{\u001B[39;00mkey\u001B[38;5;132;01m}\u001B[39;00m\u001B[38;5;124m] are in the [\u001B[39m\u001B[38;5;132;01m{\u001B[39;00maxis_name\u001B[38;5;132;01m}\u001B[39;00m\u001B[38;5;124m]\u001B[39m\u001B[38;5;124m\"\u001B[39m)\n\u001B[0;32m   5844\u001B[0m not_found \u001B[38;5;241m=\u001B[39m \u001B[38;5;28mlist\u001B[39m(ensure_index(key)[missing_mask\u001B[38;5;241m.\u001B[39mnonzero()[\u001B[38;5;241m0\u001B[39m]]\u001B[38;5;241m.\u001B[39munique())\n\u001B[0;32m   5845\u001B[0m \u001B[38;5;28;01mraise\u001B[39;00m \u001B[38;5;167;01mKeyError\u001B[39;00m(\u001B[38;5;124mf\u001B[39m\u001B[38;5;124m\"\u001B[39m\u001B[38;5;132;01m{\u001B[39;00mnot_found\u001B[38;5;132;01m}\u001B[39;00m\u001B[38;5;124m not in index\u001B[39m\u001B[38;5;124m\"\u001B[39m)\n",
      "\u001B[1;31mKeyError\u001B[0m: \"None of [Index(['town', 'flat_model'], dtype='object')] are in the [columns]\""
     ]
    }
   ],
   "source": [
    "# Create dummies variables and map room sizes to number. The room numbers are found on the hdb website.\n",
    "# For 5 rooms, there's an additional area catered for a study room, however due to its size, I mapped it to\n",
    "# the value of 4.5\n",
    "#\n",
    "dummies = ['town','flat_model']\n",
    "data_final = pd.get_dummies(data_final,columns=dummies,drop_first=True)\n",
    "data_final['flat_cat'] = data_final.flat_type.map({'2 ROOM':2,\n",
    "                                                   '3 ROOM':3,\n",
    "                                                   '4 ROOM':4,\n",
    "                                                   '5 ROOM': 5,\n",
    "                                                   '1 ROOM':1,\n",
    "                                                   'EXECUTIVE': 6,\n",
    "                                                    'MULTI-GENERATION':7})"
   ]
  },
  {
   "cell_type": "code",
   "execution_count": 45,
   "metadata": {
    "scrolled": false,
    "pycharm": {
     "name": "#%%\n"
    }
   },
   "outputs": [
    {
     "data": {
      "text/plain": "   floor_area_sqm  Storey  remaining_lease_year  distance  town_BEDOK  \\\n0            45.0     8.0             72.836561  0.075600           0   \n1            44.0     3.0             66.835068  0.077830           0   \n2            68.0     8.0             66.835068  0.080755           0   \n3            67.0     3.0             70.835151  0.072044           0   \n4            67.0     8.0             66.835068  0.080591           0   \n\n   town_BISHAN  town_BUKIT BATOK  town_BUKIT MERAH  town_BUKIT PANJANG  \\\n0            0                 0                 0                   0   \n1            0                 0                 0                   0   \n2            0                 0                 0                   0   \n3            0                 0                 0                   0   \n4            0                 0                 0                   0   \n\n   town_BUKIT TIMAH  ...  flat_model_Premium Apartment  \\\n0                 0  ...                             0   \n1                 0  ...                             0   \n2                 0  ...                             0   \n3                 0  ...                             0   \n4                 0  ...                             0   \n\n   flat_model_Premium Apartment Loft  flat_model_Premium Maisonette  \\\n0                                  0                              0   \n1                                  0                              0   \n2                                  0                              0   \n3                                  0                              0   \n4                                  0                              0   \n\n   flat_model_Simplified  flat_model_Standard  flat_model_Terrace  \\\n0                      0                    0                   0   \n1                      0                    0                   0   \n2                      0                    0                   0   \n3                      0                    0                   0   \n4                      0                    0                   0   \n\n   flat_model_Type S1  flat_model_Type S2  flat_cat  Is_executive  \n0                   0                   0       2.0           0.0  \n1                   0                   0       2.0           0.0  \n2                   0                   0       3.0           0.0  \n3                   0                   0       3.0           0.0  \n4                   0                   0       3.0           0.0  \n\n[5 rows x 50 columns]",
      "text/html": "<div>\n<style scoped>\n    .dataframe tbody tr th:only-of-type {\n        vertical-align: middle;\n    }\n\n    .dataframe tbody tr th {\n        vertical-align: top;\n    }\n\n    .dataframe thead th {\n        text-align: right;\n    }\n</style>\n<table border=\"1\" class=\"dataframe\">\n  <thead>\n    <tr style=\"text-align: right;\">\n      <th></th>\n      <th>floor_area_sqm</th>\n      <th>Storey</th>\n      <th>remaining_lease_year</th>\n      <th>distance</th>\n      <th>town_BEDOK</th>\n      <th>town_BISHAN</th>\n      <th>town_BUKIT BATOK</th>\n      <th>town_BUKIT MERAH</th>\n      <th>town_BUKIT PANJANG</th>\n      <th>town_BUKIT TIMAH</th>\n      <th>...</th>\n      <th>flat_model_Premium Apartment</th>\n      <th>flat_model_Premium Apartment Loft</th>\n      <th>flat_model_Premium Maisonette</th>\n      <th>flat_model_Simplified</th>\n      <th>flat_model_Standard</th>\n      <th>flat_model_Terrace</th>\n      <th>flat_model_Type S1</th>\n      <th>flat_model_Type S2</th>\n      <th>flat_cat</th>\n      <th>Is_executive</th>\n    </tr>\n  </thead>\n  <tbody>\n    <tr>\n      <th>0</th>\n      <td>45.0</td>\n      <td>8.0</td>\n      <td>72.836561</td>\n      <td>0.075600</td>\n      <td>0</td>\n      <td>0</td>\n      <td>0</td>\n      <td>0</td>\n      <td>0</td>\n      <td>0</td>\n      <td>...</td>\n      <td>0</td>\n      <td>0</td>\n      <td>0</td>\n      <td>0</td>\n      <td>0</td>\n      <td>0</td>\n      <td>0</td>\n      <td>0</td>\n      <td>2.0</td>\n      <td>0.0</td>\n    </tr>\n    <tr>\n      <th>1</th>\n      <td>44.0</td>\n      <td>3.0</td>\n      <td>66.835068</td>\n      <td>0.077830</td>\n      <td>0</td>\n      <td>0</td>\n      <td>0</td>\n      <td>0</td>\n      <td>0</td>\n      <td>0</td>\n      <td>...</td>\n      <td>0</td>\n      <td>0</td>\n      <td>0</td>\n      <td>0</td>\n      <td>0</td>\n      <td>0</td>\n      <td>0</td>\n      <td>0</td>\n      <td>2.0</td>\n      <td>0.0</td>\n    </tr>\n    <tr>\n      <th>2</th>\n      <td>68.0</td>\n      <td>8.0</td>\n      <td>66.835068</td>\n      <td>0.080755</td>\n      <td>0</td>\n      <td>0</td>\n      <td>0</td>\n      <td>0</td>\n      <td>0</td>\n      <td>0</td>\n      <td>...</td>\n      <td>0</td>\n      <td>0</td>\n      <td>0</td>\n      <td>0</td>\n      <td>0</td>\n      <td>0</td>\n      <td>0</td>\n      <td>0</td>\n      <td>3.0</td>\n      <td>0.0</td>\n    </tr>\n    <tr>\n      <th>3</th>\n      <td>67.0</td>\n      <td>3.0</td>\n      <td>70.835151</td>\n      <td>0.072044</td>\n      <td>0</td>\n      <td>0</td>\n      <td>0</td>\n      <td>0</td>\n      <td>0</td>\n      <td>0</td>\n      <td>...</td>\n      <td>0</td>\n      <td>0</td>\n      <td>0</td>\n      <td>0</td>\n      <td>0</td>\n      <td>0</td>\n      <td>0</td>\n      <td>0</td>\n      <td>3.0</td>\n      <td>0.0</td>\n    </tr>\n    <tr>\n      <th>4</th>\n      <td>67.0</td>\n      <td>8.0</td>\n      <td>66.835068</td>\n      <td>0.080591</td>\n      <td>0</td>\n      <td>0</td>\n      <td>0</td>\n      <td>0</td>\n      <td>0</td>\n      <td>0</td>\n      <td>...</td>\n      <td>0</td>\n      <td>0</td>\n      <td>0</td>\n      <td>0</td>\n      <td>0</td>\n      <td>0</td>\n      <td>0</td>\n      <td>0</td>\n      <td>3.0</td>\n      <td>0.0</td>\n    </tr>\n  </tbody>\n</table>\n<p>5 rows × 50 columns</p>\n</div>"
     },
     "execution_count": 45,
     "metadata": {},
     "output_type": "execute_result"
    }
   ],
   "source": [
    "# Create a variable \"is_executive\"\n",
    "\n",
    "data_final['Is_executive'] = data_final.flat_type.map({'EXECUTIVE': 1})\n",
    "\n",
    "# Replace nan with 0\n",
    "data_final[['Is_executive','flat_cat']] = data_final[['Is_executive','flat_cat']].replace(np.nan,0)\n",
    "\n",
    "data_final = data_final.drop(columns='flat_type') # Drop 'flat_type'\n",
    "data_final.head(5)"
   ]
  },
  {
   "cell_type": "code",
   "execution_count": 46,
   "metadata": {
    "pycharm": {
     "name": "#%%\n"
    }
   },
   "outputs": [],
   "source": [
    "# Create X and y variables\n",
    "X= data_final\n",
    "y = data['resale_price']"
   ]
  },
  {
   "cell_type": "code",
   "execution_count": 47,
   "metadata": {
    "scrolled": true,
    "pycharm": {
     "name": "#%%\n"
    }
   },
   "outputs": [
    {
     "data": {
      "text/plain": "   floor_area_sqm  Storey  remaining_lease_year  distance  town_BEDOK  \\\n0            45.0     8.0             72.836561  0.075600           0   \n1            44.0     3.0             66.835068  0.077830           0   \n2            68.0     8.0             66.835068  0.080755           0   \n3            67.0     3.0             70.835151  0.072044           0   \n4            67.0     8.0             66.835068  0.080591           0   \n\n   town_BISHAN  town_BUKIT BATOK  town_BUKIT MERAH  town_BUKIT PANJANG  \\\n0            0                 0                 0                   0   \n1            0                 0                 0                   0   \n2            0                 0                 0                   0   \n3            0                 0                 0                   0   \n4            0                 0                 0                   0   \n\n   town_BUKIT TIMAH  ...  flat_model_Premium Apartment  \\\n0                 0  ...                             0   \n1                 0  ...                             0   \n2                 0  ...                             0   \n3                 0  ...                             0   \n4                 0  ...                             0   \n\n   flat_model_Premium Apartment Loft  flat_model_Premium Maisonette  \\\n0                                  0                              0   \n1                                  0                              0   \n2                                  0                              0   \n3                                  0                              0   \n4                                  0                              0   \n\n   flat_model_Simplified  flat_model_Standard  flat_model_Terrace  \\\n0                      0                    0                   0   \n1                      0                    0                   0   \n2                      0                    0                   0   \n3                      0                    0                   0   \n4                      0                    0                   0   \n\n   flat_model_Type S1  flat_model_Type S2  flat_cat  Is_executive  \n0                   0                   0       2.0           0.0  \n1                   0                   0       2.0           0.0  \n2                   0                   0       3.0           0.0  \n3                   0                   0       3.0           0.0  \n4                   0                   0       3.0           0.0  \n\n[5 rows x 50 columns]",
      "text/html": "<div>\n<style scoped>\n    .dataframe tbody tr th:only-of-type {\n        vertical-align: middle;\n    }\n\n    .dataframe tbody tr th {\n        vertical-align: top;\n    }\n\n    .dataframe thead th {\n        text-align: right;\n    }\n</style>\n<table border=\"1\" class=\"dataframe\">\n  <thead>\n    <tr style=\"text-align: right;\">\n      <th></th>\n      <th>floor_area_sqm</th>\n      <th>Storey</th>\n      <th>remaining_lease_year</th>\n      <th>distance</th>\n      <th>town_BEDOK</th>\n      <th>town_BISHAN</th>\n      <th>town_BUKIT BATOK</th>\n      <th>town_BUKIT MERAH</th>\n      <th>town_BUKIT PANJANG</th>\n      <th>town_BUKIT TIMAH</th>\n      <th>...</th>\n      <th>flat_model_Premium Apartment</th>\n      <th>flat_model_Premium Apartment Loft</th>\n      <th>flat_model_Premium Maisonette</th>\n      <th>flat_model_Simplified</th>\n      <th>flat_model_Standard</th>\n      <th>flat_model_Terrace</th>\n      <th>flat_model_Type S1</th>\n      <th>flat_model_Type S2</th>\n      <th>flat_cat</th>\n      <th>Is_executive</th>\n    </tr>\n  </thead>\n  <tbody>\n    <tr>\n      <th>0</th>\n      <td>45.0</td>\n      <td>8.0</td>\n      <td>72.836561</td>\n      <td>0.075600</td>\n      <td>0</td>\n      <td>0</td>\n      <td>0</td>\n      <td>0</td>\n      <td>0</td>\n      <td>0</td>\n      <td>...</td>\n      <td>0</td>\n      <td>0</td>\n      <td>0</td>\n      <td>0</td>\n      <td>0</td>\n      <td>0</td>\n      <td>0</td>\n      <td>0</td>\n      <td>2.0</td>\n      <td>0.0</td>\n    </tr>\n    <tr>\n      <th>1</th>\n      <td>44.0</td>\n      <td>3.0</td>\n      <td>66.835068</td>\n      <td>0.077830</td>\n      <td>0</td>\n      <td>0</td>\n      <td>0</td>\n      <td>0</td>\n      <td>0</td>\n      <td>0</td>\n      <td>...</td>\n      <td>0</td>\n      <td>0</td>\n      <td>0</td>\n      <td>0</td>\n      <td>0</td>\n      <td>0</td>\n      <td>0</td>\n      <td>0</td>\n      <td>2.0</td>\n      <td>0.0</td>\n    </tr>\n    <tr>\n      <th>2</th>\n      <td>68.0</td>\n      <td>8.0</td>\n      <td>66.835068</td>\n      <td>0.080755</td>\n      <td>0</td>\n      <td>0</td>\n      <td>0</td>\n      <td>0</td>\n      <td>0</td>\n      <td>0</td>\n      <td>...</td>\n      <td>0</td>\n      <td>0</td>\n      <td>0</td>\n      <td>0</td>\n      <td>0</td>\n      <td>0</td>\n      <td>0</td>\n      <td>0</td>\n      <td>3.0</td>\n      <td>0.0</td>\n    </tr>\n    <tr>\n      <th>3</th>\n      <td>67.0</td>\n      <td>3.0</td>\n      <td>70.835151</td>\n      <td>0.072044</td>\n      <td>0</td>\n      <td>0</td>\n      <td>0</td>\n      <td>0</td>\n      <td>0</td>\n      <td>0</td>\n      <td>...</td>\n      <td>0</td>\n      <td>0</td>\n      <td>0</td>\n      <td>0</td>\n      <td>0</td>\n      <td>0</td>\n      <td>0</td>\n      <td>0</td>\n      <td>3.0</td>\n      <td>0.0</td>\n    </tr>\n    <tr>\n      <th>4</th>\n      <td>67.0</td>\n      <td>8.0</td>\n      <td>66.835068</td>\n      <td>0.080591</td>\n      <td>0</td>\n      <td>0</td>\n      <td>0</td>\n      <td>0</td>\n      <td>0</td>\n      <td>0</td>\n      <td>...</td>\n      <td>0</td>\n      <td>0</td>\n      <td>0</td>\n      <td>0</td>\n      <td>0</td>\n      <td>0</td>\n      <td>0</td>\n      <td>0</td>\n      <td>3.0</td>\n      <td>0.0</td>\n    </tr>\n  </tbody>\n</table>\n<p>5 rows × 50 columns</p>\n</div>"
     },
     "execution_count": 47,
     "metadata": {},
     "output_type": "execute_result"
    }
   ],
   "source": [
    "X.head()"
   ]
  },
  {
   "cell_type": "markdown",
   "metadata": {
    "pycharm": {
     "name": "#%% md\n"
    }
   },
   "source": [
    "## Feature importances using ExtraTreesRegressor"
   ]
  },
  {
   "cell_type": "code",
   "execution_count": 54,
   "metadata": {
    "pycharm": {
     "name": "#%%\n"
    }
   },
   "outputs": [
    {
     "data": {
      "text/plain": "ExtraTreesRegressor(n_estimators=50)"
     },
     "execution_count": 54,
     "metadata": {},
     "output_type": "execute_result"
    }
   ],
   "source": [
    "from sklearn.ensemble import ExtraTreesRegressor\n",
    "\n",
    "sel=ExtraTreesRegressor(n_estimators=50)\n",
    "\n",
    "sel.fit(X,y)"
   ]
  },
  {
   "cell_type": "code",
   "execution_count": 55,
   "metadata": {
    "pycharm": {
     "name": "#%%\n"
    }
   },
   "outputs": [
    {
     "data": {
      "text/plain": "<Figure size 720x288 with 1 Axes>",
      "image/png": "[encoded data removed]"
     },
     "metadata": {
      "needs_background": "light"
     },
     "output_type": "display_data"
    }
   ],
   "source": [
    "plt.figure(figsize = (10,4))\n",
    "feat_impt = pd.Series(sel.feature_importances_, index=X.columns)\n",
    "feat_impt.nlargest(10).plot(kind='bar')\n",
    "plt.show()"
   ]
  },
  {
   "cell_type": "markdown",
   "metadata": {
    "pycharm": {
     "name": "#%% md\n"
    }
   },
   "source": [
    "We can observe that distance has the highest importance, which seems logical as houses get more expensive the nearer to town."
   ]
  },
  {
   "cell_type": "markdown",
   "source": [
    "## Features selection"
   ],
   "metadata": {
    "collapsed": false,
    "pycharm": {
     "name": "#%% md\n"
    }
   }
  },
  {
   "cell_type": "code",
   "execution_count": 58,
   "outputs": [
    {
     "name": "stdout",
     "output_type": "stream",
     "text": [
      "(196957, 6) (196957,)\n"
     ]
    }
   ],
   "source": [
    "# take the top 6 important variables\n",
    "\n",
    "top6 = list(feat_impt.sort_values(ascending=False).head(6).index)\n",
    "X1 = data_final[top6]\n",
    "# we will be using the same y from above\n",
    "print(X1.shape, y.shape)"
   ],
   "metadata": {
    "collapsed": false,
    "pycharm": {
     "name": "#%%\n"
    }
   }
  },
  {
   "cell_type": "code",
   "execution_count": 59,
   "outputs": [],
   "source": [
    "from sklearn.model_selection import train_test_split\n",
    "\n",
    "X_train,X_test,y_train,y_test = train_test_split(X1,y,test_size=0.2)"
   ],
   "metadata": {
    "collapsed": false,
    "pycharm": {
     "name": "#%%\n"
    }
   }
  },
  {
   "cell_type": "markdown",
   "source": [
    "# Model building"
   ],
   "metadata": {
    "collapsed": false,
    "pycharm": {
     "name": "#%% md\n"
    }
   }
  },
  {
   "cell_type": "markdown",
   "metadata": {
    "pycharm": {
     "name": "#%% md\n"
    }
   },
   "source": [
    "## Random Forest Regressor"
   ]
  },
  {
   "cell_type": "code",
   "execution_count": 177,
   "metadata": {
    "pycharm": {
     "name": "#%%\n"
    }
   },
   "outputs": [],
   "source": [
    "from sklearn.ensemble import RandomForestRegressor\n",
    "rtree=RandomForestRegressor(n_estimators=200,random_state=42)"
   ]
  },
  {
   "cell_type": "code",
   "execution_count": 178,
   "metadata": {
    "pycharm": {
     "name": "#%%\n"
    }
   },
   "outputs": [
    {
     "data": {
      "text/plain": "RandomForestRegressor(n_estimators=200, random_state=42)"
     },
     "execution_count": 178,
     "metadata": {},
     "output_type": "execute_result"
    }
   ],
   "source": [
    "rtree.fit(X_train,y_train)"
   ]
  },
  {
   "cell_type": "code",
   "execution_count": 203,
   "metadata": {
    "pycharm": {
     "name": "#%%\n"
    }
   },
   "outputs": [
    {
     "data": {
      "text/plain": "array([539818.02, 480330.34, 434129.44, 547666.5 , 441081.4 ])"
     },
     "execution_count": 203,
     "metadata": {},
     "output_type": "execute_result"
    }
   ],
   "source": [
    "y_pred_rf = rtree.predict(X_test)\n",
    "y_pred_rf[:5]"
   ]
  },
  {
   "cell_type": "markdown",
   "source": [
    "### Get metrics"
   ],
   "metadata": {
    "collapsed": false,
    "pycharm": {
     "name": "#%% md\n"
    }
   }
  },
  {
   "cell_type": "code",
   "execution_count": 343,
   "outputs": [],
   "source": [
    "from sklearn.metrics import mean_squared_error,mean_absolute_error,r2_score\n",
    "def print_metrics(actual:pd.DataFrame,pred:pd.DataFrame,model_name:str) -> dict:\n",
    "    mae = mean_absolute_error(actual,pred)\n",
    "    rmse = np.sqrt(mean_squared_error(actual,pred))\n",
    "    rs = r2_score(actual,pred)\n",
    "    print(f\"Scores for {model_name.upper()}\\n\"\n",
    "          f\"Mean absolute error: {mae}\\n\"\n",
    "          f\"RMSE: {rmse}\\n\"\n",
    "          f\"R score: {rs}\\n\")\n",
    "    return {\"Model\": model_name.upper(),\"MAE\": mae, \"RMSE\": rmse, \"R score\": rs}"
   ],
   "metadata": {
    "collapsed": false,
    "pycharm": {
     "name": "#%%\n"
    }
   }
  },
  {
   "cell_type": "code",
   "execution_count": 344,
   "outputs": [
    {
     "name": "stdout",
     "output_type": "stream",
     "text": [
      "Scores for RANDOM FOREST\n",
      "Mean absolute error: 24718.733830375437\n",
      "RMSE: 35133.708017160425\n",
      "R score: 0.9419136784374361\n",
      "\n"
     ]
    },
    {
     "data": {
      "text/plain": "{'Model': 'RANDOM FOREST',\n 'MAE': 24718.733830375437,\n 'RMSE': 35133.708017160425,\n 'R score': 0.9419136784374361}"
     },
     "execution_count": 344,
     "metadata": {},
     "output_type": "execute_result"
    }
   ],
   "source": [
    "print_metrics(y_test,y_pred_rf,\"Random Forest\")"
   ],
   "metadata": {
    "collapsed": false,
    "pycharm": {
     "name": "#%%\n"
    }
   }
  },
  {
   "cell_type": "code",
   "execution_count": 183,
   "metadata": {
    "pycharm": {
     "name": "#%%\n"
    }
   },
   "outputs": [
    {
     "name": "stdout",
     "output_type": "stream",
     "text": [
      "0.9918259487764448\n",
      "0.9419136784374361\n"
     ]
    }
   ],
   "source": [
    "# Overfit check\n",
    "\n",
    "print(rtree.score(X_train,y_train))\n",
    "print(rtree.score(X_test,y_test))"
   ]
  },
  {
   "cell_type": "markdown",
   "metadata": {
    "pycharm": {
     "name": "#%% md\n"
    }
   },
   "source": [
    "## Hyper-Parameter tuning with XGBoost and HalvingGridSearchCV"
   ]
  },
  {
   "cell_type": "code",
   "execution_count": 69,
   "metadata": {
    "pycharm": {
     "name": "#%%\n"
    }
   },
   "outputs": [],
   "source": [
    "#Using halving grid\n",
    "from sklearn.experimental import enable_halving_search_cv\n",
    "from sklearn.model_selection import HalvingGridSearchCV\n",
    "params = {\n",
    "        'colsample_bytree': [0.5, 0.7,0.9],\n",
    "        'max_depth': [7,9,11],\n",
    "        'n_estimators' : [300, 400, 500, 600],\n",
    "        'subsample' : [0.7,0.8,0.9],\n",
    "        'objective': ['reg:squarederror']\n",
    "    \n",
    "        }"
   ]
  },
  {
   "cell_type": "code",
   "execution_count": 321,
   "metadata": {
    "pycharm": {
     "name": "#%%\n"
    }
   },
   "outputs": [
    {
     "name": "stdout",
     "output_type": "stream",
     "text": [
      "n_iterations: 5\n",
      "n_required_iterations: 5\n",
      "n_possible_iterations: 5\n",
      "min_resources_: 1945\n",
      "max_resources_: 157565\n",
      "aggressive_elimination: False\n",
      "factor: 3\n",
      "----------\n",
      "iter: 0\n",
      "n_candidates: 108\n",
      "n_resources: 1945\n",
      "Fitting 3 folds for each of 108 candidates, totalling 324 fits\n",
      "----------\n",
      "iter: 1\n",
      "n_candidates: 36\n",
      "n_resources: 5835\n",
      "Fitting 3 folds for each of 36 candidates, totalling 108 fits\n",
      "----------\n",
      "iter: 2\n",
      "n_candidates: 12\n",
      "n_resources: 17505\n",
      "Fitting 3 folds for each of 12 candidates, totalling 36 fits\n",
      "----------\n",
      "iter: 3\n",
      "n_candidates: 4\n",
      "n_resources: 52515\n",
      "Fitting 3 folds for each of 4 candidates, totalling 12 fits\n",
      "----------\n",
      "iter: 4\n",
      "n_candidates: 2\n",
      "n_resources: 157545\n",
      "Fitting 3 folds for each of 2 candidates, totalling 6 fits\n"
     ]
    },
    {
     "data": {
      "text/plain": "{'colsample_bytree': 0.9,\n 'max_depth': 9,\n 'n_estimators': 400,\n 'objective': 'reg:squarederror',\n 'subsample': 0.9}"
     },
     "execution_count": 321,
     "metadata": {},
     "output_type": "execute_result"
    }
   ],
   "source": [
    "from xgboost import XGBRegressor\n",
    "xgbooster = XGBRegressor()\n",
    "gridxg = HalvingGridSearchCV(\n",
    "                    estimator=xgbooster,\n",
    "                    param_grid=params,\n",
    "                    cv=3,\n",
    "                    n_jobs=6,\n",
    "                    verbose=1,\n",
    "                    min_resources='exhaust',\n",
    "    error_score ='raise'\n",
    ")\n",
    "gridxg.fit(X_train,y_train)\n",
    "\n",
    "gridxg.best_params_"
   ]
  },
  {
   "cell_type": "code",
   "execution_count": 322,
   "metadata": {
    "scrolled": true,
    "pycharm": {
     "name": "#%%\n"
    }
   },
   "outputs": [
    {
     "name": "stdout",
     "output_type": "stream",
     "text": [
      "CPU times: total: 19.5 s\n",
      "Wall time: 18.3 s\n"
     ]
    },
    {
     "data": {
      "text/plain": "XGBRegressor(base_score=0.5, booster='gbtree', colsample_bylevel=1,\n             colsample_bynode=1, colsample_bytree=0.9, gamma=0, gpu_id=0,\n             importance_type='gain', interaction_constraints='',\n             learning_rate=0.1, max_delta_step=0, max_depth=9,\n             min_child_weight=1, missing=nan, monotone_constraints='()',\n             n_estimators=600, n_jobs=12, num_parallel_tree=1, random_state=0,\n             reg_alpha=0, reg_lambda=1, scale_pos_weight=1, subsample=0.9,\n             tree_method='gpu_hist', validate_parameters=1, verbosity=None)"
     },
     "execution_count": 322,
     "metadata": {},
     "output_type": "execute_result"
    }
   ],
   "source": [
    "xgb_model = XGBRegressor(\n",
    "                tree_method='gpu_hist',\n",
    "                gpu_id=0,\n",
    "                objective='reg:squarederror',\n",
    "                colsample_bytree=0.9,\n",
    "                learning_rate=0.1,\n",
    "                max_depth=9,\n",
    "                n_estimators=600,\n",
    "                subsample=0.9\n",
    "                )\n",
    "%time xgb_model.fit(X_train,y_train,early_stopping_rounds=5,eval_set=[(X_test,y_test)],verbose=False)"
   ]
  },
  {
   "cell_type": "code",
   "execution_count": 323,
   "metadata": {
    "pycharm": {
     "name": "#%%\n"
    }
   },
   "outputs": [],
   "source": [
    "y_pred_xgb = xgb_model.predict(X_test) # Fit model\n"
   ]
  },
  {
   "cell_type": "code",
   "execution_count": 324,
   "outputs": [
    {
     "name": "stdout",
     "output_type": "stream",
     "text": [
      "0.9636251856179975\n",
      "0.9364102475640359\n"
     ]
    }
   ],
   "source": [
    "#Overfit check\n",
    "\n",
    "print(xgb_model.score(X_train,y_train))\n",
    "\n",
    "print(xgb_model.score(X_test,y_test))"
   ],
   "metadata": {
    "collapsed": false,
    "pycharm": {
     "name": "#%%\n"
    }
   }
  },
  {
   "cell_type": "markdown",
   "source": [
    "# Let's try out DNN"
   ],
   "metadata": {
    "collapsed": false,
    "pycharm": {
     "name": "#%% md\n"
    }
   }
  },
  {
   "cell_type": "code",
   "execution_count": 217,
   "outputs": [],
   "source": [
    "import tensorflow as tf\n",
    "from tensorflow import keras\n",
    "from tensorflow.keras import layers\n",
    "\n",
    "def build_and_compile_model(norm):\n",
    "    model = keras.Sequential([\n",
    "        norm,\n",
    "        layers.Dense(64, activation='relu'),\n",
    "        layers.Dense(64, activation='relu'),\n",
    "        layers.Dense(64, activation='relu'),\n",
    "        layers.Dense(1)\n",
    "    ])\n",
    "\n",
    "    model.compile(loss='mean_squared_error',\n",
    "                  optimizer=tf.keras.optimizers.Adam(0.001))\n",
    "\n",
    "    return model"
   ],
   "metadata": {
    "collapsed": false,
    "pycharm": {
     "name": "#%%\n"
    }
   }
  },
  {
   "cell_type": "code",
   "execution_count": 218,
   "outputs": [
    {
     "name": "stdout",
     "output_type": "stream",
     "text": [
      "[[1.0197416e-01 3.5228634e+00 9.7275284e+01 7.9097733e-02 7.4543716e+01\n",
      "  8.3223572e+00]]\n",
      "Model: \"sequential_11\"\n",
      "_________________________________________________________________\n",
      "Layer (type)                 Output Shape              Param #   \n",
      "=================================================================\n",
      "normalization_11 (Normalizat (None, 6)                 13        \n",
      "_________________________________________________________________\n",
      "dense_36 (Dense)             (None, 64)                448       \n",
      "_________________________________________________________________\n",
      "dense_37 (Dense)             (None, 64)                4160      \n",
      "_________________________________________________________________\n",
      "dense_38 (Dense)             (None, 64)                4160      \n",
      "_________________________________________________________________\n",
      "dense_39 (Dense)             (None, 1)                 65        \n",
      "=================================================================\n",
      "Total params: 8,846\n",
      "Trainable params: 8,833\n",
      "Non-trainable params: 13\n",
      "_________________________________________________________________\n"
     ]
    }
   ],
   "source": [
    "normalizer = tf.keras.layers.Normalization(axis=-1)\n",
    "normalizer.adapt(np.array(X_train))\n",
    "print(normalizer.mean.numpy())\n",
    "dnn_model = build_and_compile_model(normalizer)\n",
    "dnn_model.summary()"
   ],
   "metadata": {
    "collapsed": false,
    "pycharm": {
     "name": "#%%\n"
    }
   }
  },
  {
   "cell_type": "code",
   "execution_count": 219,
   "outputs": [],
   "source": [
    "from tensorflow.keras.callbacks import EarlyStopping\n",
    "\n",
    "\n",
    "early_stopping = EarlyStopping(monitor= 'val_loss',patience=5)"
   ],
   "metadata": {
    "collapsed": false,
    "pycharm": {
     "name": "#%%\n"
    }
   }
  },
  {
   "cell_type": "code",
   "execution_count": 220,
   "outputs": [
    {
     "name": "stdout",
     "output_type": "stream",
     "text": [
      "Epoch 1/100\n",
      "924/924 [==============================] - 3s 3ms/step - loss: 103555276800.0000 - val_loss: 8318208000.0000\n",
      "Epoch 2/100\n",
      "924/924 [==============================] - 3s 3ms/step - loss: 6630790656.0000 - val_loss: 5527578112.0000\n",
      "Epoch 3/100\n",
      "924/924 [==============================] - 3s 3ms/step - loss: 5097924096.0000 - val_loss: 4818625024.0000\n",
      "Epoch 4/100\n",
      "924/924 [==============================] - 3s 3ms/step - loss: 4691069952.0000 - val_loss: 4587819520.0000\n",
      "Epoch 5/100\n",
      "924/924 [==============================] - 3s 3ms/step - loss: 4521020928.0000 - val_loss: 4466924544.0000\n",
      "Epoch 6/100\n",
      "924/924 [==============================] - 3s 3ms/step - loss: 4424088064.0000 - val_loss: 4393664000.0000\n",
      "Epoch 7/100\n",
      "924/924 [==============================] - 3s 3ms/step - loss: 4359018496.0000 - val_loss: 4340838912.0000\n",
      "Epoch 8/100\n",
      "924/924 [==============================] - 3s 3ms/step - loss: 4309280768.0000 - val_loss: 4297420800.0000\n",
      "Epoch 9/100\n",
      "924/924 [==============================] - 3s 3ms/step - loss: 4276813568.0000 - val_loss: 4263941376.0000\n",
      "Epoch 10/100\n",
      "924/924 [==============================] - 3s 3ms/step - loss: 4253904384.0000 - val_loss: 4250588928.0000\n",
      "Epoch 11/100\n",
      "924/924 [==============================] - 3s 3ms/step - loss: 4235151616.0000 - val_loss: 4227617792.0000\n",
      "Epoch 12/100\n",
      "924/924 [==============================] - 3s 3ms/step - loss: 4216457472.0000 - val_loss: 4223365888.0000\n",
      "Epoch 13/100\n",
      "924/924 [==============================] - 3s 3ms/step - loss: 4200316672.0000 - val_loss: 4192439040.0000\n",
      "Epoch 14/100\n",
      "924/924 [==============================] - 3s 3ms/step - loss: 4186646528.0000 - val_loss: 4200518912.0000\n",
      "Epoch 15/100\n",
      "924/924 [==============================] - 3s 3ms/step - loss: 4178848512.0000 - val_loss: 4180422912.0000\n",
      "Epoch 16/100\n",
      "924/924 [==============================] - 3s 3ms/step - loss: 4173699072.0000 - val_loss: 4176941568.0000\n",
      "Epoch 17/100\n",
      "924/924 [==============================] - 3s 3ms/step - loss: 4166416896.0000 - val_loss: 4173118208.0000\n",
      "Epoch 18/100\n",
      "924/924 [==============================] - 3s 3ms/step - loss: 4156418816.0000 - val_loss: 4149987072.0000\n",
      "Epoch 19/100\n",
      "924/924 [==============================] - 3s 3ms/step - loss: 4146371328.0000 - val_loss: 4146027264.0000\n",
      "Epoch 20/100\n",
      "924/924 [==============================] - 3s 3ms/step - loss: 4138169088.0000 - val_loss: 4157016576.0000\n",
      "Epoch 21/100\n",
      "924/924 [==============================] - 3s 3ms/step - loss: 4133077504.0000 - val_loss: 4137897984.0000\n",
      "Epoch 22/100\n",
      "924/924 [==============================] - 3s 3ms/step - loss: 4127730688.0000 - val_loss: 4125988864.0000\n",
      "Epoch 23/100\n",
      "924/924 [==============================] - 3s 3ms/step - loss: 4125054976.0000 - val_loss: 4122405888.0000\n",
      "Epoch 24/100\n",
      "924/924 [==============================] - 3s 3ms/step - loss: 4120245248.0000 - val_loss: 4132425728.0000\n",
      "Epoch 25/100\n",
      "924/924 [==============================] - 3s 3ms/step - loss: 4118455296.0000 - val_loss: 4144306688.0000\n",
      "Epoch 26/100\n",
      "924/924 [==============================] - 3s 3ms/step - loss: 4113991936.0000 - val_loss: 4132349952.0000\n",
      "Epoch 27/100\n",
      "924/924 [==============================] - 3s 3ms/step - loss: 4110407168.0000 - val_loss: 4121442816.0000\n",
      "Epoch 28/100\n",
      "924/924 [==============================] - 3s 3ms/step - loss: 4106802944.0000 - val_loss: 4116878336.0000\n",
      "Epoch 29/100\n",
      "924/924 [==============================] - 3s 3ms/step - loss: 4105056000.0000 - val_loss: 4106770944.0000\n",
      "Epoch 30/100\n",
      "924/924 [==============================] - 3s 3ms/step - loss: 4101874432.0000 - val_loss: 4117458944.0000\n",
      "Epoch 31/100\n",
      "924/924 [==============================] - 3s 3ms/step - loss: 4097412096.0000 - val_loss: 4108911872.0000\n",
      "Epoch 32/100\n",
      "924/924 [==============================] - 3s 3ms/step - loss: 4095437568.0000 - val_loss: 4103419392.0000\n",
      "Epoch 33/100\n",
      "924/924 [==============================] - 3s 3ms/step - loss: 4091931904.0000 - val_loss: 4091639808.0000\n",
      "Epoch 34/100\n",
      "924/924 [==============================] - 3s 3ms/step - loss: 4087485696.0000 - val_loss: 4090569472.0000\n",
      "Epoch 35/100\n",
      "924/924 [==============================] - 3s 3ms/step - loss: 4082961664.0000 - val_loss: 4080973056.0000\n",
      "Epoch 36/100\n",
      "924/924 [==============================] - 3s 3ms/step - loss: 4080922624.0000 - val_loss: 4079392512.0000\n",
      "Epoch 37/100\n",
      "924/924 [==============================] - 3s 3ms/step - loss: 4077091584.0000 - val_loss: 4076957184.0000\n",
      "Epoch 38/100\n",
      "924/924 [==============================] - 3s 3ms/step - loss: 4076021248.0000 - val_loss: 4083142912.0000\n",
      "Epoch 39/100\n",
      "924/924 [==============================] - 3s 3ms/step - loss: 4070133504.0000 - val_loss: 4066272000.0000\n",
      "Epoch 40/100\n",
      "924/924 [==============================] - 3s 3ms/step - loss: 4067198208.0000 - val_loss: 4070801152.0000\n",
      "Epoch 41/100\n",
      "924/924 [==============================] - 3s 3ms/step - loss: 4065000448.0000 - val_loss: 4060031744.0000\n",
      "Epoch 42/100\n",
      "924/924 [==============================] - 3s 3ms/step - loss: 4062205440.0000 - val_loss: 4058905600.0000\n",
      "Epoch 43/100\n",
      "924/924 [==============================] - 3s 3ms/step - loss: 4060888064.0000 - val_loss: 4052206592.0000\n",
      "Epoch 44/100\n",
      "924/924 [==============================] - 3s 3ms/step - loss: 4059521792.0000 - val_loss: 4063403520.0000\n",
      "Epoch 45/100\n",
      "924/924 [==============================] - 3s 3ms/step - loss: 4056522496.0000 - val_loss: 4057357056.0000\n",
      "Epoch 46/100\n",
      "924/924 [==============================] - 3s 3ms/step - loss: 4053070336.0000 - val_loss: 4046784512.0000\n",
      "Epoch 47/100\n",
      "924/924 [==============================] - 3s 3ms/step - loss: 4053044224.0000 - val_loss: 4056576000.0000\n",
      "Epoch 48/100\n",
      "924/924 [==============================] - 3s 3ms/step - loss: 4049106432.0000 - val_loss: 4049700608.0000\n",
      "Epoch 49/100\n",
      "924/924 [==============================] - 3s 3ms/step - loss: 4049777408.0000 - val_loss: 4043789824.0000\n",
      "Epoch 50/100\n",
      "924/924 [==============================] - 3s 3ms/step - loss: 4045859072.0000 - val_loss: 4038027776.0000\n",
      "Epoch 51/100\n",
      "924/924 [==============================] - 3s 3ms/step - loss: 4044396800.0000 - val_loss: 4039787776.0000\n",
      "Epoch 52/100\n",
      "924/924 [==============================] - 3s 3ms/step - loss: 4042836224.0000 - val_loss: 4059042048.0000\n",
      "Epoch 53/100\n",
      "924/924 [==============================] - 3s 3ms/step - loss: 4041842688.0000 - val_loss: 4032363008.0000\n",
      "Epoch 54/100\n",
      "924/924 [==============================] - 3s 3ms/step - loss: 4039724800.0000 - val_loss: 4035883776.0000\n",
      "Epoch 55/100\n",
      "924/924 [==============================] - 3s 3ms/step - loss: 4038000384.0000 - val_loss: 4035667456.0000\n",
      "Epoch 56/100\n",
      "924/924 [==============================] - 3s 3ms/step - loss: 4035609344.0000 - val_loss: 4031144448.0000\n",
      "Epoch 57/100\n",
      "924/924 [==============================] - 3s 3ms/step - loss: 4034343424.0000 - val_loss: 4042045952.0000\n",
      "Epoch 58/100\n",
      "924/924 [==============================] - 3s 3ms/step - loss: 4033363456.0000 - val_loss: 4029716736.0000\n",
      "Epoch 59/100\n",
      "924/924 [==============================] - 3s 3ms/step - loss: 4032702720.0000 - val_loss: 4043799808.0000\n",
      "Epoch 60/100\n",
      "924/924 [==============================] - 3s 3ms/step - loss: 4033156352.0000 - val_loss: 4034448896.0000\n",
      "Epoch 61/100\n",
      "924/924 [==============================] - 3s 3ms/step - loss: 4029426432.0000 - val_loss: 4022506240.0000\n",
      "Epoch 62/100\n",
      "924/924 [==============================] - 3s 3ms/step - loss: 4028898560.0000 - val_loss: 4023854592.0000\n",
      "Epoch 63/100\n",
      "924/924 [==============================] - 3s 3ms/step - loss: 4027757312.0000 - val_loss: 4021831168.0000\n",
      "Epoch 64/100\n",
      "924/924 [==============================] - 3s 3ms/step - loss: 4026063616.0000 - val_loss: 4023764224.0000\n",
      "Epoch 65/100\n",
      "924/924 [==============================] - 3s 3ms/step - loss: 4024976128.0000 - val_loss: 4021124608.0000\n",
      "Epoch 66/100\n",
      "924/924 [==============================] - 3s 3ms/step - loss: 4022741248.0000 - val_loss: 4022378496.0000\n",
      "Epoch 67/100\n",
      "924/924 [==============================] - 3s 3ms/step - loss: 4022581504.0000 - val_loss: 4027278848.0000\n",
      "Epoch 68/100\n",
      "924/924 [==============================] - 3s 3ms/step - loss: 4023472128.0000 - val_loss: 4016649984.0000\n",
      "Epoch 69/100\n",
      "924/924 [==============================] - 3s 3ms/step - loss: 4022230272.0000 - val_loss: 4013839872.0000\n",
      "Epoch 70/100\n",
      "924/924 [==============================] - 3s 3ms/step - loss: 4020875008.0000 - val_loss: 4012829184.0000\n",
      "Epoch 71/100\n",
      "924/924 [==============================] - 3s 3ms/step - loss: 4019383296.0000 - val_loss: 4019754752.0000\n",
      "Epoch 72/100\n",
      "924/924 [==============================] - 2s 3ms/step - loss: 4019094528.0000 - val_loss: 4012804096.0000\n",
      "Epoch 73/100\n",
      "924/924 [==============================] - 3s 3ms/step - loss: 4018004992.0000 - val_loss: 4020819712.0000\n",
      "Epoch 74/100\n",
      "924/924 [==============================] - 3s 3ms/step - loss: 4016142848.0000 - val_loss: 4021172224.0000\n",
      "Epoch 75/100\n",
      "924/924 [==============================] - 3s 3ms/step - loss: 4014110720.0000 - val_loss: 4011497728.0000\n",
      "Epoch 76/100\n",
      "924/924 [==============================] - 3s 3ms/step - loss: 4014318592.0000 - val_loss: 4003695616.0000\n",
      "Epoch 77/100\n",
      "924/924 [==============================] - 3s 3ms/step - loss: 4013875456.0000 - val_loss: 4010066432.0000\n",
      "Epoch 78/100\n",
      "924/924 [==============================] - 3s 3ms/step - loss: 4014092800.0000 - val_loss: 4004753664.0000\n",
      "Epoch 79/100\n",
      "924/924 [==============================] - 2s 3ms/step - loss: 4012385792.0000 - val_loss: 4012080896.0000\n",
      "Epoch 80/100\n",
      "924/924 [==============================] - 3s 3ms/step - loss: 4011096576.0000 - val_loss: 4010884096.0000\n",
      "Epoch 81/100\n",
      "924/924 [==============================] - 3s 3ms/step - loss: 4013447680.0000 - val_loss: 3999554304.0000\n",
      "Epoch 82/100\n",
      "924/924 [==============================] - 3s 3ms/step - loss: 4011073280.0000 - val_loss: 4002725120.0000\n",
      "Epoch 83/100\n",
      "924/924 [==============================] - 3s 3ms/step - loss: 4010128640.0000 - val_loss: 4002026240.0000\n",
      "Epoch 84/100\n",
      "924/924 [==============================] - 3s 3ms/step - loss: 4007508224.0000 - val_loss: 4020457472.0000\n",
      "Epoch 85/100\n",
      "924/924 [==============================] - 3s 3ms/step - loss: 4008548608.0000 - val_loss: 4003132160.0000\n",
      "Epoch 86/100\n",
      "924/924 [==============================] - 3s 3ms/step - loss: 4006265856.0000 - val_loss: 4004086784.0000\n",
      "CPU times: total: 4min 51s\n",
      "Wall time: 3min 47s\n"
     ]
    }
   ],
   "source": [
    "%%time\n",
    "history = dnn_model.fit(\n",
    "    X_train,\n",
    "    y_train,\n",
    "    validation_split=0.25,\n",
    "    verbose=1,\n",
    "    epochs=100,\n",
    "    batch_size = 128,\n",
    "    callbacks=[early_stopping])"
   ],
   "metadata": {
    "collapsed": false,
    "pycharm": {
     "name": "#%%\n"
    }
   }
  },
  {
   "cell_type": "code",
   "execution_count": 221,
   "outputs": [
    {
     "data": {
      "text/plain": "<Figure size 432x288 with 1 Axes>",
      "image/png": "[encoded data removed]"
     },
     "metadata": {
      "needs_background": "light"
     },
     "output_type": "display_data"
    }
   ],
   "source": [
    "def plot_loss(history):\n",
    "    plt.plot(np.sqrt(history.history['loss']), label='loss')\n",
    "    plt.plot(np.sqrt(history.history['val_loss']), label='val_loss')\n",
    "    plt.xlabel('Epoch')\n",
    "    plt.ylabel('Error')\n",
    "    plt.legend()\n",
    "    plt.grid(True)\n",
    "plot_loss(history)"
   ],
   "metadata": {
    "collapsed": false,
    "pycharm": {
     "name": "#%%\n"
    }
   }
  },
  {
   "cell_type": "code",
   "execution_count": 222,
   "outputs": [
    {
     "data": {
      "text/plain": "<Figure size 432x288 with 1 Axes>",
      "image/png": "[encoded data removed]"
     },
     "metadata": {
      "needs_background": "light"
     },
     "output_type": "display_data"
    }
   ],
   "source": [
    "y_pred_dnn = dnn_model.predict(X_test).flatten()\n",
    "\n",
    "plt.scatter(y_test, y_pred_dnn)\n",
    "plt.xlabel('True Values')\n",
    "plt.ylabel('Predictions')\n",
    "plt.show()"
   ],
   "metadata": {
    "collapsed": false,
    "pycharm": {
     "name": "#%%\n"
    }
   }
  },
  {
   "cell_type": "code",
   "execution_count": 223,
   "outputs": [
    {
     "data": {
      "text/plain": "array([544209., 449626., 399818., ..., 404328., 781929., 551347.],\n      dtype=float32)"
     },
     "execution_count": 223,
     "metadata": {},
     "output_type": "execute_result"
    }
   ],
   "source": [
    "y_pred_dnn =  y_pred_dnn.round(0)\n",
    "y_pred_dnn"
   ],
   "metadata": {
    "collapsed": false,
    "pycharm": {
     "name": "#%%\n"
    }
   }
  },
  {
   "cell_type": "markdown",
   "source": [
    "# Model evaluation"
   ],
   "metadata": {
    "collapsed": false,
    "pycharm": {
     "name": "#%% md\n"
    }
   }
  },
  {
   "cell_type": "code",
   "execution_count": 345,
   "outputs": [
    {
     "name": "stdout",
     "output_type": "stream",
     "text": [
      "Scores for XGB\n",
      "Mean absolute error: 26706.323901601212\n",
      "RMSE: 36760.43292982519\n",
      "R score: 0.9364102475640359\n",
      "\n",
      "Scores for RF\n",
      "Mean absolute error: 24718.733830375437\n",
      "RMSE: 35133.708017160425\n",
      "R score: 0.9419136784374361\n",
      "\n",
      "Scores for DNN\n",
      "Mean absolute error: 47779.15612840171\n",
      "RMSE: 63156.035940917696\n",
      "R score: 0.8123037371074675\n",
      "\n"
     ]
    },
    {
     "data": {
      "text/plain": "{'Model': 'DNN',\n 'MAE': 47779.15612840171,\n 'RMSE': 63156.035940917696,\n 'R score': 0.8123037371074675}"
     },
     "execution_count": 345,
     "metadata": {},
     "output_type": "execute_result"
    }
   ],
   "source": [
    "# XGB\n",
    "print_metrics(y_test,y_pred_xgb,\"XGB\")\n",
    "print_metrics(y_test,y_pred_rf,\"RF\")\n",
    "print_metrics(y_test,y_pred_dnn,\"DNN\")"
   ],
   "metadata": {
    "collapsed": false,
    "pycharm": {
     "name": "#%%\n"
    }
   }
  },
  {
   "cell_type": "code",
   "execution_count": 289,
   "outputs": [
    {
     "data": {
      "text/plain": "<AxesSubplot:title={'center':'DNN'}, xlabel='resale_price', ylabel='Count'>"
     },
     "execution_count": 289,
     "metadata": {},
     "output_type": "execute_result"
    },
    {
     "data": {
      "text/plain": "<Figure size 1440x720 with 3 Axes>",
      "image/png": "[encoded data removed]"
     },
     "metadata": {
      "needs_background": "light"
     },
     "output_type": "display_data"
    }
   ],
   "source": [
    "# Print the histplot of XGBoost and Random forest pred values for comparison\n",
    "fig, (ax1,ax2,ax3) = plt.subplots(1,3,figsize = (20,10))\n",
    "ax1.set_title('Random Forest')\n",
    "ax2.set_title('XGBoost')\n",
    "ax3.set_title('DNN')\n",
    "sns.histplot(y_pred_rf-y_test,ax=ax1,)\n",
    "sns.histplot(y_pred_xgb-y_test,ax=ax2)\n",
    "sns.histplot(y_pred_dnn-y_test, ax= ax3)"
   ],
   "metadata": {
    "collapsed": false,
    "pycharm": {
     "name": "#%%\n"
    }
   }
  },
  {
   "cell_type": "code",
   "execution_count": 243,
   "outputs": [],
   "source": [
    "# Make into a dataframe\n",
    "d = {\"Random Forest\": y_pred_rf, \"XGBRegressor\": y_pred_xgb, \"DNN\":y_pred_dnn, \"Actual\":y_test}\n",
    "df_y = pd.DataFrame.from_dict(d)"
   ],
   "metadata": {
    "collapsed": false,
    "pycharm": {
     "name": "#%%\n"
    }
   }
  },
  {
   "cell_type": "code",
   "execution_count": 244,
   "outputs": [
    {
     "data": {
      "text/plain": "        Random Forest  XGBRegressor       DNN    Actual\n52432       539818.02  555608.25000  544209.0  622000.0\n194803      480330.34  478001.84375  449626.0  485000.0\n3552        434129.44  429585.50000  399818.0  450000.0\n151953      547666.50  547036.87500  476312.0  528000.0\n73574       441081.40  432384.75000  451219.0  450000.0",
      "text/html": "<div>\n<style scoped>\n    .dataframe tbody tr th:only-of-type {\n        vertical-align: middle;\n    }\n\n    .dataframe tbody tr th {\n        vertical-align: top;\n    }\n\n    .dataframe thead th {\n        text-align: right;\n    }\n</style>\n<table border=\"1\" class=\"dataframe\">\n  <thead>\n    <tr style=\"text-align: right;\">\n      <th></th>\n      <th>Random Forest</th>\n      <th>XGBRegressor</th>\n      <th>DNN</th>\n      <th>Actual</th>\n    </tr>\n  </thead>\n  <tbody>\n    <tr>\n      <th>52432</th>\n      <td>539818.02</td>\n      <td>555608.25000</td>\n      <td>544209.0</td>\n      <td>622000.0</td>\n    </tr>\n    <tr>\n      <th>194803</th>\n      <td>480330.34</td>\n      <td>478001.84375</td>\n      <td>449626.0</td>\n      <td>485000.0</td>\n    </tr>\n    <tr>\n      <th>3552</th>\n      <td>434129.44</td>\n      <td>429585.50000</td>\n      <td>399818.0</td>\n      <td>450000.0</td>\n    </tr>\n    <tr>\n      <th>151953</th>\n      <td>547666.50</td>\n      <td>547036.87500</td>\n      <td>476312.0</td>\n      <td>528000.0</td>\n    </tr>\n    <tr>\n      <th>73574</th>\n      <td>441081.40</td>\n      <td>432384.75000</td>\n      <td>451219.0</td>\n      <td>450000.0</td>\n    </tr>\n  </tbody>\n</table>\n</div>"
     },
     "execution_count": 244,
     "metadata": {},
     "output_type": "execute_result"
    }
   ],
   "source": [
    "df_y.head()"
   ],
   "metadata": {
    "collapsed": false,
    "pycharm": {
     "name": "#%%\n"
    }
   }
  },
  {
   "cell_type": "code",
   "execution_count": 249,
   "outputs": [
    {
     "name": "stdout",
     "output_type": "stream",
     "text": [
      "Max difference in price for random forest is :  0.7984703111111111 \n",
      "Max difference in price for XGB is :  0.8919409722222222 \n",
      "Max difference in price for DNN is :  0.8083714285714285\n"
     ]
    }
   ],
   "source": [
    "# This finds the absolute biggest % difference between the models\n",
    "\n",
    "max_diff_rt = ((df_y['Actual']-df_y['Random Forest'])/(df_y['Actual'])).abs().max()\n",
    "max_diff_xgb =((df_y['Actual']-df_y['XGBRegressor'])/(df_y['Actual'])).abs().max()\n",
    "max_diff_dnn =((df_y['Actual']-df_y['DNN'])/(df_y['Actual'])).abs().max()\n",
    "\n",
    "print(\"Max difference in price for random forest is : \",max_diff_rt\n",
    "     ,\"\\nMax difference in price for XGB is : \" , max_diff_xgb\n",
    "      ,\"\\nMax difference in price for DNN is : \" , max_diff_dnn)"
   ],
   "metadata": {
    "collapsed": false,
    "pycharm": {
     "name": "#%%\n"
    }
   }
  },
  {
   "cell_type": "code",
   "execution_count": 246,
   "outputs": [
    {
     "name": "stdout",
     "output_type": "stream",
     "text": [
      "Row with greatest difference:\n",
      "        Random Forest  XGBRegressor       DNN    Actual\n",
      "184691      404655.82   347149.0625  317151.0  225000.0\n",
      "        Random Forest  XGBRegressor       DNN    Actual\n",
      "145412      282401.04    340549.375  309729.0  180000.0\n",
      "        Random Forest  XGBRegressor       DNN    Actual\n",
      "159479       366487.2   354051.3125  506344.0  280000.0\n"
     ]
    }
   ],
   "source": [
    "# This finds and prints the row with the biggest % difference\n",
    "\n",
    "rt_diff_index = ((df_y['Actual']-df_y['Random Forest'])/(df_y['Actual'])).abs().idxmax()\n",
    "xgb_diff_index =((df_y['Actual']-df_y['XGBRegressor'])/(df_y['Actual'])).abs().idxmax()\n",
    "dnn_diff_index = ((df_y['Actual']-df_y['DNN'])/(df_y['Actual'])).abs().idxmax()\n",
    "print(\"Row with greatest difference:\")\n",
    "print(df_y.loc[[rt_diff_index]])\n",
    "print(df_y.loc[[xgb_diff_index]])\n",
    "print(df_y.loc[[dnn_diff_index]])\n"
   ],
   "metadata": {
    "collapsed": false,
    "pycharm": {
     "name": "#%%\n"
    }
   }
  },
  {
   "cell_type": "markdown",
   "source": [
    "## Experimentation and learning keras-tuner"
   ],
   "metadata": {
    "collapsed": false,
    "pycharm": {
     "name": "#%% md\n"
    }
   }
  },
  {
   "cell_type": "code",
   "execution_count": 251,
   "outputs": [],
   "source": [
    "import keras_tuner as kt"
   ],
   "metadata": {
    "collapsed": false,
    "pycharm": {
     "name": "#%%\n"
    }
   }
  },
  {
   "cell_type": "code",
   "execution_count": 286,
   "outputs": [],
   "source": [
    "def model_builder(hp,norm=normalizer):\n",
    "    model = keras.Sequential()\n",
    "\n",
    "    model.add(norm)\n",
    "\n",
    "    hp_units = hp.Int('units', min_value=32, max_value=512, step=32)\n",
    "    model.add(keras.layers.Dense(units=hp_units, activation='relu'))\n",
    "    model.add(keras.layers.Dense(1))\n",
    "\n",
    "    # Tune the learning rate for the optimizer\n",
    "    # Choose an optimal value from 0.01, 0.001, or 0.0001\n",
    "    hp_learning_rate = hp.Choice('learning_rate', values=[1e-2, 1e-3, 1e-4])\n",
    "\n",
    "    model.compile(optimizer=keras.optimizers.Adam(learning_rate=hp_learning_rate),\n",
    "                  loss=\"mean_squared_error\",\n",
    "                  metrics = \"mean_squared_error\")\n",
    "\n",
    "    return model"
   ],
   "metadata": {
    "collapsed": false,
    "pycharm": {
     "name": "#%%\n"
    }
   }
  },
  {
   "cell_type": "code",
   "execution_count": 287,
   "outputs": [
    {
     "name": "stdout",
     "output_type": "stream",
     "text": [
      "INFO:tensorflow:Reloading Oracle from existing project my_dir\\intro_to_kt1\\oracle.json\n"
     ]
    }
   ],
   "source": [
    "hyperband = kt.Hyperband(model_builder,\n",
    "                     objective= \"mean_squared_error\",\n",
    "                     max_epochs=10,\n",
    "                     factor=3,\n",
    "                     directory='my_dir',\n",
    "                     project_name='intro_to_kt1')\n",
    "early_stopping = EarlyStopping(monitor= 'mean_squared_error',patience=5)"
   ],
   "metadata": {
    "collapsed": false,
    "pycharm": {
     "name": "#%%\n"
    }
   }
  },
  {
   "cell_type": "code",
   "execution_count": 288,
   "outputs": [
    {
     "name": "stdout",
     "output_type": "stream",
     "text": [
      "Trial 30 Complete [00h 01m 41s]\n",
      "mean_squared_error: 4296901632.0\n",
      "\n",
      "Best mean_squared_error So Far: 4285548288.0\n",
      "Total elapsed time: 00h 20m 25s\n",
      "INFO:tensorflow:Oracle triggered exit\n"
     ]
    }
   ],
   "source": [
    "hyperband.search(X_train,\n",
    "             y_train,\n",
    "             epochs = 50,\n",
    "             validation_split=0.2,\n",
    "             callbacks=[early_stopping])"
   ],
   "metadata": {
    "collapsed": false,
    "pycharm": {
     "name": "#%%\n"
    }
   }
  },
  {
   "cell_type": "code",
   "execution_count": 290,
   "outputs": [
    {
     "name": "stdout",
     "output_type": "stream",
     "text": [
      "\n",
      "The hyperparameter search is complete. The optimal number of units in the first densely-connected\n",
      "layer is 320 and the optimal learning rate for the optimizer\n",
      "is 0.01.\n",
      "\n"
     ]
    }
   ],
   "source": [
    "# Get the optimal hyper parameters\n",
    "best_hps=hyperband.get_best_hyperparameters(num_trials=1)[0]\n",
    "\n",
    "print(f\"\"\"\n",
    "The hyperparameter search is complete. The optimal number of units in the first densely-connected\n",
    "layer is {best_hps.get('units')} and the optimal learning rate for the optimizer\n",
    "is {best_hps.get('learning_rate')}.\n",
    "\"\"\")"
   ],
   "metadata": {
    "collapsed": false,
    "pycharm": {
     "name": "#%%\n"
    }
   }
  },
  {
   "cell_type": "markdown",
   "source": [
    "## Build model with parameters"
   ],
   "metadata": {
    "collapsed": false,
    "pycharm": {
     "name": "#%% md\n"
    }
   }
  },
  {
   "cell_type": "code",
   "execution_count": 292,
   "outputs": [
    {
     "name": "stdout",
     "output_type": "stream",
     "text": [
      "Epoch 1/100\n",
      "985/985 [==============================] - 3s 3ms/step - loss: 189663346688.0000 - mean_squared_error: 189663346688.0000 - val_loss: 127103533056.0000 - val_mean_squared_error: 127103533056.0000\n",
      "Epoch 2/100\n",
      "985/985 [==============================] - 2s 2ms/step - loss: 68298174464.0000 - mean_squared_error: 68298174464.0000 - val_loss: 27309516800.0000 - val_mean_squared_error: 27309516800.0000\n",
      "Epoch 3/100\n",
      "985/985 [==============================] - 2s 2ms/step - loss: 15260404736.0000 - mean_squared_error: 15260404736.0000 - val_loss: 9714469888.0000 - val_mean_squared_error: 9714469888.0000\n",
      "Epoch 4/100\n",
      "985/985 [==============================] - 2s 2ms/step - loss: 8478457856.0000 - mean_squared_error: 8478457856.0000 - val_loss: 7503640064.0000 - val_mean_squared_error: 7503640064.0000\n",
      "Epoch 5/100\n",
      "985/985 [==============================] - 2s 2ms/step - loss: 6856179200.0000 - mean_squared_error: 6856179200.0000 - val_loss: 6262088704.0000 - val_mean_squared_error: 6262088704.0000\n",
      "Epoch 6/100\n",
      "985/985 [==============================] - 3s 3ms/step - loss: 5857636864.0000 - mean_squared_error: 5857636864.0000 - val_loss: 5495077376.0000 - val_mean_squared_error: 5495077376.0000\n",
      "Epoch 7/100\n",
      "985/985 [==============================] - 2s 2ms/step - loss: 5258715648.0000 - mean_squared_error: 5258715648.0000 - val_loss: 5034494464.0000 - val_mean_squared_error: 5034494464.0000\n",
      "Epoch 8/100\n",
      "985/985 [==============================] - 2s 2ms/step - loss: 4899581440.0000 - mean_squared_error: 4899581440.0000 - val_loss: 4768155648.0000 - val_mean_squared_error: 4768155648.0000\n",
      "Epoch 9/100\n",
      "985/985 [==============================] - 2s 2ms/step - loss: 4698505216.0000 - mean_squared_error: 4698505216.0000 - val_loss: 4615810048.0000 - val_mean_squared_error: 4615810048.0000\n",
      "Epoch 10/100\n",
      "985/985 [==============================] - 2s 3ms/step - loss: 4577609728.0000 - mean_squared_error: 4577609728.0000 - val_loss: 4520956928.0000 - val_mean_squared_error: 4520956928.0000\n",
      "Epoch 11/100\n",
      "985/985 [==============================] - 2s 2ms/step - loss: 4498755072.0000 - mean_squared_error: 4498755072.0000 - val_loss: 4457715200.0000 - val_mean_squared_error: 4457715200.0000\n",
      "Epoch 12/100\n",
      "985/985 [==============================] - 2s 2ms/step - loss: 4444213760.0000 - mean_squared_error: 4444213760.0000 - val_loss: 4409618432.0000 - val_mean_squared_error: 4409618432.0000\n",
      "Epoch 13/100\n",
      "985/985 [==============================] - 2s 2ms/step - loss: 4404427776.0000 - mean_squared_error: 4404427776.0000 - val_loss: 4379803648.0000 - val_mean_squared_error: 4379803648.0000\n",
      "Epoch 14/100\n",
      "985/985 [==============================] - 2s 2ms/step - loss: 4375283200.0000 - mean_squared_error: 4375283200.0000 - val_loss: 4351721472.0000 - val_mean_squared_error: 4351721472.0000\n",
      "Epoch 15/100\n",
      "985/985 [==============================] - 2s 2ms/step - loss: 4351096320.0000 - mean_squared_error: 4351096320.0000 - val_loss: 4330332160.0000 - val_mean_squared_error: 4330332160.0000\n",
      "Epoch 16/100\n",
      "985/985 [==============================] - 2s 2ms/step - loss: 4332346368.0000 - mean_squared_error: 4332346368.0000 - val_loss: 4315528704.0000 - val_mean_squared_error: 4315528704.0000\n",
      "Epoch 17/100\n",
      "985/985 [==============================] - 2s 2ms/step - loss: 4316122112.0000 - mean_squared_error: 4316122112.0000 - val_loss: 4297056768.0000 - val_mean_squared_error: 4297056768.0000\n",
      "Epoch 18/100\n",
      "985/985 [==============================] - 2s 3ms/step - loss: 4301707776.0000 - mean_squared_error: 4301707776.0000 - val_loss: 4283010048.0000 - val_mean_squared_error: 4283010048.0000\n",
      "Epoch 19/100\n",
      "985/985 [==============================] - 2s 2ms/step - loss: 4288709632.0000 - mean_squared_error: 4288709632.0000 - val_loss: 4268147456.0000 - val_mean_squared_error: 4268147456.0000\n",
      "Epoch 20/100\n",
      "985/985 [==============================] - 2s 2ms/step - loss: 4276250624.0000 - mean_squared_error: 4276250624.0000 - val_loss: 4259861504.0000 - val_mean_squared_error: 4259861504.0000\n",
      "Epoch 21/100\n",
      "985/985 [==============================] - 2s 2ms/step - loss: 4264628224.0000 - mean_squared_error: 4264628224.0000 - val_loss: 4246690816.0000 - val_mean_squared_error: 4246690816.0000\n",
      "Epoch 22/100\n",
      "985/985 [==============================] - 2s 2ms/step - loss: 4253269504.0000 - mean_squared_error: 4253269504.0000 - val_loss: 4232950528.0000 - val_mean_squared_error: 4232950528.0000\n",
      "Epoch 23/100\n",
      "985/985 [==============================] - 2s 2ms/step - loss: 4240593408.0000 - mean_squared_error: 4240593408.0000 - val_loss: 4223240448.0000 - val_mean_squared_error: 4223240448.0000\n",
      "Epoch 24/100\n",
      "985/985 [==============================] - 2s 2ms/step - loss: 4228348160.0000 - mean_squared_error: 4228348160.0000 - val_loss: 4211409664.0000 - val_mean_squared_error: 4211409664.0000\n",
      "Epoch 25/100\n",
      "985/985 [==============================] - 2s 2ms/step - loss: 4219212288.0000 - mean_squared_error: 4219212288.0000 - val_loss: 4203504896.0000 - val_mean_squared_error: 4203504896.0000\n",
      "Epoch 26/100\n",
      "985/985 [==============================] - 2s 3ms/step - loss: 4209946624.0000 - mean_squared_error: 4209946624.0000 - val_loss: 4189612800.0000 - val_mean_squared_error: 4189612800.0000\n",
      "Epoch 27/100\n",
      "985/985 [==============================] - 2s 3ms/step - loss: 4200006656.0000 - mean_squared_error: 4200006656.0000 - val_loss: 4179984640.0000 - val_mean_squared_error: 4179984640.0000\n",
      "Epoch 28/100\n",
      "985/985 [==============================] - 2s 2ms/step - loss: 4189924096.0000 - mean_squared_error: 4189924096.0000 - val_loss: 4180075776.0000 - val_mean_squared_error: 4180075776.0000\n",
      "Epoch 29/100\n",
      "985/985 [==============================] - 2s 2ms/step - loss: 4180153344.0000 - mean_squared_error: 4180153344.0000 - val_loss: 4159688448.0000 - val_mean_squared_error: 4159688448.0000\n",
      "Epoch 30/100\n",
      "985/985 [==============================] - 2s 2ms/step - loss: 4170188800.0000 - mean_squared_error: 4170188800.0000 - val_loss: 4148145408.0000 - val_mean_squared_error: 4148145408.0000\n",
      "Epoch 31/100\n",
      "985/985 [==============================] - 2s 2ms/step - loss: 4159488000.0000 - mean_squared_error: 4159488000.0000 - val_loss: 4141075456.0000 - val_mean_squared_error: 4141075456.0000\n",
      "Epoch 32/100\n",
      "985/985 [==============================] - 3s 3ms/step - loss: 4148372992.0000 - mean_squared_error: 4148372992.0000 - val_loss: 4125469952.0000 - val_mean_squared_error: 4125469952.0000\n",
      "Epoch 33/100\n",
      "985/985 [==============================] - 2s 3ms/step - loss: 4138346240.0000 - mean_squared_error: 4138346240.0000 - val_loss: 4120966912.0000 - val_mean_squared_error: 4120966912.0000\n",
      "Epoch 34/100\n",
      "985/985 [==============================] - 3s 3ms/step - loss: 4129456128.0000 - mean_squared_error: 4129456128.0000 - val_loss: 4104759296.0000 - val_mean_squared_error: 4104759296.0000\n",
      "Epoch 35/100\n",
      "985/985 [==============================] - 2s 3ms/step - loss: 4120799488.0000 - mean_squared_error: 4120799488.0000 - val_loss: 4099031296.0000 - val_mean_squared_error: 4099031296.0000\n",
      "Epoch 36/100\n",
      "985/985 [==============================] - 2s 2ms/step - loss: 4111055616.0000 - mean_squared_error: 4111055616.0000 - val_loss: 4090623488.0000 - val_mean_squared_error: 4090623488.0000\n",
      "Epoch 37/100\n",
      "985/985 [==============================] - 2s 2ms/step - loss: 4103383552.0000 - mean_squared_error: 4103383552.0000 - val_loss: 4076941312.0000 - val_mean_squared_error: 4076941312.0000\n",
      "Epoch 38/100\n",
      "985/985 [==============================] - 2s 2ms/step - loss: 4094739712.0000 - mean_squared_error: 4094739712.0000 - val_loss: 4067787264.0000 - val_mean_squared_error: 4067787264.0000\n",
      "Epoch 39/100\n",
      "985/985 [==============================] - 2s 2ms/step - loss: 4087893504.0000 - mean_squared_error: 4087893504.0000 - val_loss: 4063393792.0000 - val_mean_squared_error: 4063393792.0000\n",
      "Epoch 40/100\n",
      "985/985 [==============================] - 2s 2ms/step - loss: 4080660480.0000 - mean_squared_error: 4080660480.0000 - val_loss: 4055149312.0000 - val_mean_squared_error: 4055149312.0000\n",
      "Epoch 41/100\n",
      "985/985 [==============================] - 2s 2ms/step - loss: 4073953792.0000 - mean_squared_error: 4073953792.0000 - val_loss: 4045886208.0000 - val_mean_squared_error: 4045886208.0000\n",
      "Epoch 42/100\n",
      "985/985 [==============================] - 2s 2ms/step - loss: 4067313408.0000 - mean_squared_error: 4067313408.0000 - val_loss: 4040132096.0000 - val_mean_squared_error: 4040132096.0000\n",
      "Epoch 43/100\n",
      "985/985 [==============================] - 2s 2ms/step - loss: 4061112832.0000 - mean_squared_error: 4061112832.0000 - val_loss: 4038929664.0000 - val_mean_squared_error: 4038929664.0000\n",
      "Epoch 44/100\n",
      "985/985 [==============================] - 2s 2ms/step - loss: 4055570176.0000 - mean_squared_error: 4055570176.0000 - val_loss: 4026459392.0000 - val_mean_squared_error: 4026459392.0000\n",
      "Epoch 45/100\n",
      "985/985 [==============================] - 2s 2ms/step - loss: 4049637888.0000 - mean_squared_error: 4049637888.0000 - val_loss: 4022077184.0000 - val_mean_squared_error: 4022077184.0000\n",
      "Epoch 46/100\n",
      "985/985 [==============================] - 2s 2ms/step - loss: 4044088576.0000 - mean_squared_error: 4044088576.0000 - val_loss: 4017193472.0000 - val_mean_squared_error: 4017193472.0000\n",
      "Epoch 47/100\n",
      "985/985 [==============================] - 2s 2ms/step - loss: 4038490880.0000 - mean_squared_error: 4038490880.0000 - val_loss: 4012894464.0000 - val_mean_squared_error: 4012894464.0000\n",
      "Epoch 48/100\n",
      "985/985 [==============================] - 2s 2ms/step - loss: 4033535488.0000 - mean_squared_error: 4033535488.0000 - val_loss: 4007113216.0000 - val_mean_squared_error: 4007113216.0000\n",
      "Epoch 49/100\n",
      "985/985 [==============================] - 2s 2ms/step - loss: 4027805440.0000 - mean_squared_error: 4027805440.0000 - val_loss: 3997991168.0000 - val_mean_squared_error: 3997991168.0000\n",
      "Epoch 50/100\n",
      "985/985 [==============================] - 2s 2ms/step - loss: 4022459904.0000 - mean_squared_error: 4022459904.0000 - val_loss: 3995498752.0000 - val_mean_squared_error: 3995498752.0000\n",
      "Epoch 51/100\n",
      "985/985 [==============================] - 2s 2ms/step - loss: 4017317120.0000 - mean_squared_error: 4017317120.0000 - val_loss: 3986191360.0000 - val_mean_squared_error: 3986191360.0000\n",
      "Epoch 52/100\n",
      "985/985 [==============================] - 2s 2ms/step - loss: 4011822336.0000 - mean_squared_error: 4011822336.0000 - val_loss: 3980163840.0000 - val_mean_squared_error: 3980163840.0000\n",
      "Epoch 53/100\n",
      "985/985 [==============================] - 2s 2ms/step - loss: 4005729792.0000 - mean_squared_error: 4005729792.0000 - val_loss: 3977522176.0000 - val_mean_squared_error: 3977522176.0000\n",
      "Epoch 54/100\n",
      "985/985 [==============================] - 2s 2ms/step - loss: 4000896000.0000 - mean_squared_error: 4000896000.0000 - val_loss: 3971665664.0000 - val_mean_squared_error: 3971665664.0000\n",
      "Epoch 55/100\n",
      "985/985 [==============================] - 2s 2ms/step - loss: 3996176640.0000 - mean_squared_error: 3996176640.0000 - val_loss: 3965110528.0000 - val_mean_squared_error: 3965110528.0000\n",
      "Epoch 56/100\n",
      "985/985 [==============================] - 2s 2ms/step - loss: 3991740928.0000 - mean_squared_error: 3991740928.0000 - val_loss: 3960071168.0000 - val_mean_squared_error: 3960071168.0000\n",
      "Epoch 57/100\n",
      "985/985 [==============================] - 2s 2ms/step - loss: 3986091520.0000 - mean_squared_error: 3986091520.0000 - val_loss: 3955914240.0000 - val_mean_squared_error: 3955914240.0000\n",
      "Epoch 58/100\n",
      "985/985 [==============================] - 2s 2ms/step - loss: 3981618944.0000 - mean_squared_error: 3981618944.0000 - val_loss: 3948493312.0000 - val_mean_squared_error: 3948493312.0000\n",
      "Epoch 59/100\n",
      "985/985 [==============================] - 2s 2ms/step - loss: 3976830208.0000 - mean_squared_error: 3976830208.0000 - val_loss: 3942990336.0000 - val_mean_squared_error: 3942990336.0000\n",
      "Epoch 60/100\n",
      "985/985 [==============================] - 2s 2ms/step - loss: 3972912896.0000 - mean_squared_error: 3972912896.0000 - val_loss: 3939422464.0000 - val_mean_squared_error: 3939422464.0000\n",
      "Epoch 61/100\n",
      "985/985 [==============================] - 2s 2ms/step - loss: 3968213248.0000 - mean_squared_error: 3968213248.0000 - val_loss: 3936747264.0000 - val_mean_squared_error: 3936747264.0000\n",
      "Epoch 62/100\n",
      "985/985 [==============================] - 2s 2ms/step - loss: 3964033280.0000 - mean_squared_error: 3964033280.0000 - val_loss: 3930084608.0000 - val_mean_squared_error: 3930084608.0000\n",
      "Epoch 63/100\n",
      "985/985 [==============================] - 2s 2ms/step - loss: 3960300032.0000 - mean_squared_error: 3960300032.0000 - val_loss: 3927649024.0000 - val_mean_squared_error: 3927649024.0000\n",
      "Epoch 64/100\n",
      "985/985 [==============================] - 2s 2ms/step - loss: 3955340032.0000 - mean_squared_error: 3955340032.0000 - val_loss: 3922474496.0000 - val_mean_squared_error: 3922474496.0000\n",
      "Epoch 65/100\n",
      "985/985 [==============================] - 2s 2ms/step - loss: 3951815168.0000 - mean_squared_error: 3951815168.0000 - val_loss: 3918758144.0000 - val_mean_squared_error: 3918758144.0000\n",
      "Epoch 66/100\n",
      "985/985 [==============================] - 2s 2ms/step - loss: 3948486656.0000 - mean_squared_error: 3948486656.0000 - val_loss: 3915819520.0000 - val_mean_squared_error: 3915819520.0000\n",
      "Epoch 67/100\n",
      "985/985 [==============================] - 2s 2ms/step - loss: 3945069056.0000 - mean_squared_error: 3945069056.0000 - val_loss: 3911849216.0000 - val_mean_squared_error: 3911849216.0000\n",
      "Epoch 68/100\n",
      "985/985 [==============================] - 2s 2ms/step - loss: 3941235712.0000 - mean_squared_error: 3941235712.0000 - val_loss: 3913606656.0000 - val_mean_squared_error: 3913606656.0000\n",
      "Epoch 69/100\n",
      "985/985 [==============================] - 2s 2ms/step - loss: 3937956096.0000 - mean_squared_error: 3937956096.0000 - val_loss: 3907658240.0000 - val_mean_squared_error: 3907658240.0000\n",
      "Epoch 70/100\n",
      "985/985 [==============================] - 2s 2ms/step - loss: 3935358208.0000 - mean_squared_error: 3935358208.0000 - val_loss: 3907651072.0000 - val_mean_squared_error: 3907651072.0000\n",
      "Epoch 71/100\n",
      "985/985 [==============================] - 2s 2ms/step - loss: 3931846912.0000 - mean_squared_error: 3931846912.0000 - val_loss: 3898679808.0000 - val_mean_squared_error: 3898679808.0000\n",
      "Epoch 72/100\n",
      "985/985 [==============================] - 2s 2ms/step - loss: 3929098752.0000 - mean_squared_error: 3929098752.0000 - val_loss: 3897810944.0000 - val_mean_squared_error: 3897810944.0000\n",
      "Epoch 73/100\n",
      "985/985 [==============================] - 2s 2ms/step - loss: 3925884160.0000 - mean_squared_error: 3925884160.0000 - val_loss: 3894274304.0000 - val_mean_squared_error: 3894274304.0000\n",
      "Epoch 74/100\n",
      "985/985 [==============================] - 2s 2ms/step - loss: 3923255040.0000 - mean_squared_error: 3923255040.0000 - val_loss: 3891175936.0000 - val_mean_squared_error: 3891175936.0000\n",
      "Epoch 75/100\n",
      "985/985 [==============================] - 2s 2ms/step - loss: 3920088576.0000 - mean_squared_error: 3920088576.0000 - val_loss: 3893185024.0000 - val_mean_squared_error: 3893185024.0000\n",
      "Epoch 76/100\n",
      "985/985 [==============================] - 2s 2ms/step - loss: 3917660160.0000 - mean_squared_error: 3917660160.0000 - val_loss: 3888804352.0000 - val_mean_squared_error: 3888804352.0000\n",
      "Epoch 77/100\n",
      "985/985 [==============================] - 2s 2ms/step - loss: 3915806208.0000 - mean_squared_error: 3915806208.0000 - val_loss: 3882288640.0000 - val_mean_squared_error: 3882288640.0000\n",
      "Epoch 78/100\n",
      "985/985 [==============================] - 2s 2ms/step - loss: 3912857344.0000 - mean_squared_error: 3912857344.0000 - val_loss: 3880184832.0000 - val_mean_squared_error: 3880184832.0000\n",
      "Epoch 79/100\n",
      "985/985 [==============================] - 2s 2ms/step - loss: 3910194432.0000 - mean_squared_error: 3910194432.0000 - val_loss: 3876030976.0000 - val_mean_squared_error: 3876030976.0000\n",
      "Epoch 80/100\n",
      "985/985 [==============================] - 2s 2ms/step - loss: 3907388160.0000 - mean_squared_error: 3907388160.0000 - val_loss: 3873269248.0000 - val_mean_squared_error: 3873269248.0000\n",
      "Epoch 81/100\n",
      "985/985 [==============================] - 2s 2ms/step - loss: 3904960256.0000 - mean_squared_error: 3904960256.0000 - val_loss: 3874418944.0000 - val_mean_squared_error: 3874418944.0000\n",
      "Epoch 82/100\n",
      "985/985 [==============================] - 2s 2ms/step - loss: 3902463488.0000 - mean_squared_error: 3902463488.0000 - val_loss: 3870997504.0000 - val_mean_squared_error: 3870997504.0000\n",
      "Epoch 83/100\n",
      "985/985 [==============================] - 2s 2ms/step - loss: 3900644608.0000 - mean_squared_error: 3900644608.0000 - val_loss: 3866071296.0000 - val_mean_squared_error: 3866071296.0000\n",
      "Epoch 84/100\n",
      "985/985 [==============================] - 2s 2ms/step - loss: 3897381120.0000 - mean_squared_error: 3897381120.0000 - val_loss: 3865003520.0000 - val_mean_squared_error: 3865003520.0000\n",
      "Epoch 85/100\n",
      "985/985 [==============================] - 2s 2ms/step - loss: 3894965760.0000 - mean_squared_error: 3894965760.0000 - val_loss: 3866564608.0000 - val_mean_squared_error: 3866564608.0000\n",
      "Epoch 86/100\n",
      "985/985 [==============================] - 2s 2ms/step - loss: 3893087488.0000 - mean_squared_error: 3893087488.0000 - val_loss: 3861569536.0000 - val_mean_squared_error: 3861569536.0000\n",
      "Epoch 87/100\n",
      "985/985 [==============================] - 2s 2ms/step - loss: 3890990848.0000 - mean_squared_error: 3890990848.0000 - val_loss: 3858554112.0000 - val_mean_squared_error: 3858554112.0000\n",
      "Epoch 88/100\n",
      "985/985 [==============================] - 2s 2ms/step - loss: 3887629312.0000 - mean_squared_error: 3887629312.0000 - val_loss: 3856164864.0000 - val_mean_squared_error: 3856164864.0000\n",
      "Epoch 89/100\n",
      "985/985 [==============================] - 2s 2ms/step - loss: 3885317888.0000 - mean_squared_error: 3885317888.0000 - val_loss: 3854371328.0000 - val_mean_squared_error: 3854371328.0000\n",
      "Epoch 90/100\n",
      "985/985 [==============================] - 2s 2ms/step - loss: 3883552768.0000 - mean_squared_error: 3883552768.0000 - val_loss: 3849809152.0000 - val_mean_squared_error: 3849809152.0000\n",
      "Epoch 91/100\n",
      "985/985 [==============================] - 2s 2ms/step - loss: 3881067008.0000 - mean_squared_error: 3881067008.0000 - val_loss: 3849209600.0000 - val_mean_squared_error: 3849209600.0000\n",
      "Epoch 92/100\n",
      "985/985 [==============================] - 2s 2ms/step - loss: 3878323968.0000 - mean_squared_error: 3878323968.0000 - val_loss: 3846212864.0000 - val_mean_squared_error: 3846212864.0000\n",
      "Epoch 93/100\n",
      "985/985 [==============================] - 2s 2ms/step - loss: 3876338432.0000 - mean_squared_error: 3876338432.0000 - val_loss: 3849279744.0000 - val_mean_squared_error: 3849279744.0000\n",
      "Epoch 94/100\n",
      "985/985 [==============================] - 2s 2ms/step - loss: 3874079232.0000 - mean_squared_error: 3874079232.0000 - val_loss: 3841836288.0000 - val_mean_squared_error: 3841836288.0000\n",
      "Epoch 95/100\n",
      "985/985 [==============================] - 2s 2ms/step - loss: 3870866432.0000 - mean_squared_error: 3870866432.0000 - val_loss: 3838028288.0000 - val_mean_squared_error: 3838028288.0000\n",
      "Epoch 96/100\n",
      "985/985 [==============================] - 2s 2ms/step - loss: 3869270016.0000 - mean_squared_error: 3869270016.0000 - val_loss: 3837253120.0000 - val_mean_squared_error: 3837253120.0000\n",
      "Epoch 97/100\n",
      "985/985 [==============================] - 2s 2ms/step - loss: 3866412032.0000 - mean_squared_error: 3866412032.0000 - val_loss: 3836214528.0000 - val_mean_squared_error: 3836214528.0000\n",
      "Epoch 98/100\n",
      "985/985 [==============================] - 2s 2ms/step - loss: 3864272896.0000 - mean_squared_error: 3864272896.0000 - val_loss: 3832176896.0000 - val_mean_squared_error: 3832176896.0000\n",
      "Epoch 99/100\n",
      "985/985 [==============================] - 2s 2ms/step - loss: 3862089984.0000 - mean_squared_error: 3862089984.0000 - val_loss: 3828792064.0000 - val_mean_squared_error: 3828792064.0000\n",
      "Epoch 100/100\n",
      "985/985 [==============================] - 2s 2ms/step - loss: 3859195904.0000 - mean_squared_error: 3859195904.0000 - val_loss: 3827569664.0000 - val_mean_squared_error: 3827569664.0000\n"
     ]
    },
    {
     "ename": "KeyError",
     "evalue": "'val_accuracy'",
     "output_type": "error",
     "traceback": [
      "\u001B[1;31m---------------------------------------------------------------------------\u001B[0m",
      "\u001B[1;31mKeyError\u001B[0m                                  Traceback (most recent call last)",
      "Input \u001B[1;32mIn [292]\u001B[0m, in \u001B[0;36m<cell line: 8>\u001B[1;34m()\u001B[0m\n\u001B[0;32m      1\u001B[0m hyperband_model \u001B[38;5;241m=\u001B[39m hyperband\u001B[38;5;241m.\u001B[39mhypermodel\u001B[38;5;241m.\u001B[39mbuild(best_hps)\n\u001B[0;32m      2\u001B[0m history_hyperband \u001B[38;5;241m=\u001B[39m hyperband_model\u001B[38;5;241m.\u001B[39mfit(X_train,\n\u001B[0;32m      3\u001B[0m                                         y_train,\n\u001B[0;32m      4\u001B[0m                                         epochs \u001B[38;5;241m=\u001B[39m \u001B[38;5;241m100\u001B[39m,\n\u001B[0;32m      5\u001B[0m                                         validation_split \u001B[38;5;241m=\u001B[39m \u001B[38;5;241m0.2\u001B[39m,\n\u001B[0;32m      6\u001B[0m                                         batch_size\u001B[38;5;241m=\u001B[39m \u001B[38;5;241m128\u001B[39m)\n\u001B[1;32m----> 8\u001B[0m val_acc_per_epoch \u001B[38;5;241m=\u001B[39m \u001B[43mhistory_hyperband\u001B[49m\u001B[38;5;241;43m.\u001B[39;49m\u001B[43mhistory\u001B[49m\u001B[43m[\u001B[49m\u001B[38;5;124;43m'\u001B[39;49m\u001B[38;5;124;43mval_accuracy\u001B[39;49m\u001B[38;5;124;43m'\u001B[39;49m\u001B[43m]\u001B[49m\n\u001B[0;32m      9\u001B[0m best_epoch \u001B[38;5;241m=\u001B[39m val_acc_per_epoch\u001B[38;5;241m.\u001B[39mindex(\u001B[38;5;28mmax\u001B[39m(val_acc_per_epoch)) \u001B[38;5;241m+\u001B[39m \u001B[38;5;241m1\u001B[39m\n\u001B[0;32m     10\u001B[0m \u001B[38;5;28mprint\u001B[39m(\u001B[38;5;124m'\u001B[39m\u001B[38;5;124mBest epoch: \u001B[39m\u001B[38;5;132;01m%d\u001B[39;00m\u001B[38;5;124m'\u001B[39m \u001B[38;5;241m%\u001B[39m (best_epoch,))\n",
      "\u001B[1;31mKeyError\u001B[0m: 'val_accuracy'"
     ]
    }
   ],
   "source": [
    "hyperband_model = hyperband.hypermodel.build(best_hps)\n",
    "history_hyperband = hyperband_model.fit(X_train,\n",
    "                                        y_train,\n",
    "                                        epochs = 100,\n",
    "                                        validation_split = 0.2,\n",
    "                                        batch_size= 128)\n",
    "\n"
   ],
   "metadata": {
    "collapsed": false,
    "pycharm": {
     "name": "#%%\n"
    }
   }
  },
  {
   "cell_type": "code",
   "execution_count": 298,
   "outputs": [
    {
     "name": "stdout",
     "output_type": "stream",
     "text": [
      "Best epoch: 100\n"
     ]
    }
   ],
   "source": [
    "val_loss_per_epoch = history_hyperband.history['val_mean_squared_error']\n",
    "best_epoch = val_loss_per_epoch.index(min(val_loss_per_epoch)) + 1\n",
    "print('Best epoch: %d' % (best_epoch,))"
   ],
   "metadata": {
    "collapsed": false,
    "pycharm": {
     "name": "#%%\n"
    }
   }
  },
  {
   "cell_type": "code",
   "execution_count": 296,
   "outputs": [
    {
     "data": {
      "text/plain": "<Figure size 432x288 with 1 Axes>",
      "image/png": "[encoded data removed]"
     },
     "metadata": {
      "needs_background": "light"
     },
     "output_type": "display_data"
    }
   ],
   "source": [
    "plot_loss(history_hyperband)"
   ],
   "metadata": {
    "collapsed": false,
    "pycharm": {
     "name": "#%%\n"
    }
   }
  },
  {
   "cell_type": "code",
   "execution_count": 315,
   "outputs": [],
   "source": [
    "y_pred_hyperband = hyperband_model.predict(X_test)"
   ],
   "metadata": {
    "collapsed": false,
    "pycharm": {
     "name": "#%%\n"
    }
   }
  },
  {
   "cell_type": "code",
   "execution_count": 316,
   "outputs": [
    {
     "name": "stdout",
     "output_type": "stream",
     "text": [
      "Mean absolute error: 46817.23286590551\n",
      "RMSE: 61936.14429648954\n",
      "R score: 0.8194846112971954\n"
     ]
    }
   ],
   "source": [
    "print_metrics(y_test,y_pred_hyperband)"
   ],
   "metadata": {
    "collapsed": false,
    "pycharm": {
     "name": "#%%\n"
    }
   }
  },
  {
   "cell_type": "markdown",
   "source": [
    "# Conclusion + Summary of models"
   ],
   "metadata": {
    "collapsed": false,
    "pycharm": {
     "name": "#%% md\n"
    }
   }
  },
  {
   "cell_type": "markdown",
   "source": [
    "It doesn't seem that NN is worth the effort and computing power to train a NN, perhaps my knowledge of NN is not deep enough"
   ],
   "metadata": {
    "collapsed": false,
    "pycharm": {
     "name": "#%% md\n"
    }
   }
  },
  {
   "cell_type": "markdown",
   "source": [
    "## Comparison of scores"
   ],
   "metadata": {
    "collapsed": false,
    "pycharm": {
     "name": "#%% md\n"
    }
   }
  },
  {
   "cell_type": "code",
   "execution_count": 347,
   "outputs": [],
   "source": [
    "list_of_predictions = [y_pred_rf,y_pred_xgb,y_pred_dnn,y_pred_hyperband]\n",
    "name = ['rf','xgb','dnn','hyperband']"
   ],
   "metadata": {
    "collapsed": false,
    "pycharm": {
     "name": "#%%\n"
    }
   }
  },
  {
   "cell_type": "code",
   "execution_count": 349,
   "outputs": [
    {
     "name": "stdout",
     "output_type": "stream",
     "text": [
      "Scores for RF\n",
      "Mean absolute error: 24718.733830375437\n",
      "RMSE: 35133.708017160425\n",
      "R score: 0.9419136784374361\n",
      "\n",
      "Scores for XGB\n",
      "Mean absolute error: 26706.323901601212\n",
      "RMSE: 36760.43292982519\n",
      "R score: 0.9364102475640359\n",
      "\n",
      "Scores for DNN\n",
      "Mean absolute error: 47779.15612840171\n",
      "RMSE: 63156.035940917696\n",
      "R score: 0.8123037371074675\n",
      "\n",
      "Scores for HYPERBAND\n",
      "Mean absolute error: 46817.23286590551\n",
      "RMSE: 61936.14429648954\n",
      "R score: 0.8194846112971954\n",
      "\n"
     ]
    },
    {
     "data": {
      "text/plain": "[{'Model': 'RF',\n  'MAE': 24718.733830375437,\n  'RMSE': 35133.708017160425,\n  'R score': 0.9419136784374361},\n {'Model': 'XGB',\n  'MAE': 26706.323901601212,\n  'RMSE': 36760.43292982519,\n  'R score': 0.9364102475640359},\n {'Model': 'DNN',\n  'MAE': 47779.15612840171,\n  'RMSE': 63156.035940917696,\n  'R score': 0.8123037371074675},\n {'Model': 'HYPERBAND',\n  'MAE': 46817.23286590551,\n  'RMSE': 61936.14429648954,\n  'R score': 0.8194846112971954}]"
     },
     "execution_count": 349,
     "metadata": {},
     "output_type": "execute_result"
    }
   ],
   "source": [
    "metrics_combined = []\n",
    "for i in range(len(name)):\n",
    "    metrics_combined.append(print_metrics(y_test,list_of_predictions[i],name[i]))"
   ],
   "metadata": {
    "collapsed": false,
    "pycharm": {
     "name": "#%%\n"
    }
   }
  },
  {
   "cell_type": "code",
   "execution_count": 355,
   "outputs": [],
   "source": [
    "Summary = pd.DataFrame(metrics_combined).set_index('Model')"
   ],
   "metadata": {
    "collapsed": false,
    "pycharm": {
     "name": "#%%\n"
    }
   }
  },
  {
   "cell_type": "code",
   "execution_count": 357,
   "outputs": [
    {
     "data": {
      "text/plain": "Model              RF           XGB           DNN     HYPERBAND\nMAE      24718.733830  26706.323902  47779.156128  46817.232866\nRMSE     35133.708017  36760.432930  63156.035941  61936.144296\nR score      0.941914      0.936410      0.812304      0.819485",
      "text/html": "<div>\n<style scoped>\n    .dataframe tbody tr th:only-of-type {\n        vertical-align: middle;\n    }\n\n    .dataframe tbody tr th {\n        vertical-align: top;\n    }\n\n    .dataframe thead th {\n        text-align: right;\n    }\n</style>\n<table border=\"1\" class=\"dataframe\">\n  <thead>\n    <tr style=\"text-align: right;\">\n      <th>Model</th>\n      <th>RF</th>\n      <th>XGB</th>\n      <th>DNN</th>\n      <th>HYPERBAND</th>\n    </tr>\n  </thead>\n  <tbody>\n    <tr>\n      <th>MAE</th>\n      <td>24718.733830</td>\n      <td>26706.323902</td>\n      <td>47779.156128</td>\n      <td>46817.232866</td>\n    </tr>\n    <tr>\n      <th>RMSE</th>\n      <td>35133.708017</td>\n      <td>36760.432930</td>\n      <td>63156.035941</td>\n      <td>61936.144296</td>\n    </tr>\n    <tr>\n      <th>R score</th>\n      <td>0.941914</td>\n      <td>0.936410</td>\n      <td>0.812304</td>\n      <td>0.819485</td>\n    </tr>\n  </tbody>\n</table>\n</div>"
     },
     "execution_count": 357,
     "metadata": {},
     "output_type": "execute_result"
    }
   ],
   "source": [
    "Summary.transpose()"
   ],
   "metadata": {
    "collapsed": false,
    "pycharm": {
     "name": "#%%\n"
    }
   }
  },
  {
   "cell_type": "markdown",
   "source": [
    "# Deployment example"
   ],
   "metadata": {
    "collapsed": false,
    "pycharm": {
     "name": "#%% md\n"
    }
   }
  },
  {
   "cell_type": "code",
   "execution_count": 367,
   "outputs": [],
   "source": [
    "import requests\n",
    "def getcoordinates(address):\n",
    "    address = str(address)\n",
    "    req = requests.get('https://developers.onemap.sg/commonapi/search?searchVal='+address+'&returnGeom=Y&getAddrDetails=Y&pageNum=1')\n",
    "    resultsdict = eval(req.text)\n",
    "    if len(resultsdict['results'])>0:\n",
    "        return [resultsdict['results'][0]['LATITUDE'], resultsdict['results'][0]['LONGITUDE']]\n",
    "    else:\n",
    "        pass"
   ],
   "metadata": {
    "collapsed": false,
    "pycharm": {
     "name": "#%%\n"
    }
   }
  },
  {
   "cell_type": "code",
   "execution_count": 368,
   "outputs": [
    {
     "data": {
      "text/plain": "['1.37554033809538', '103.887475138873']"
     },
     "execution_count": 368,
     "metadata": {},
     "output_type": "execute_result"
    }
   ],
   "source": [
    "getcoordinates(530697)"
   ],
   "metadata": {
    "collapsed": false,
    "pycharm": {
     "name": "#%%\n"
    }
   }
  },
  {
   "cell_type": "code",
   "execution_count": 375,
   "outputs": [
    {
     "data": {
      "text/plain": "0.0"
     },
     "execution_count": 375,
     "metadata": {},
     "output_type": "execute_result"
    }
   ],
   "source": [
    "max(X_train[X_train['Is_executive'] == 1.0]['flat_cat'])"
   ],
   "metadata": {
    "collapsed": false,
    "pycharm": {
     "name": "#%%\n"
    }
   }
  },
  {
   "cell_type": "code",
   "execution_count": null,
   "outputs": [],
   "source": [
    "req_inputs = {\"Postal\": 530699,\n",
    "            \"Lease year\": 1998,\n",
    "              \"Storey\": 10,\n",
    "              \"Floor_area_sqm\": 100,\n",
    "              \"Rooms\": 4,\n",
    "              \"Executive\": True}\n",
    "\n",
    "def parse_inputs(inputs:dict):\n"
   ],
   "metadata": {
    "collapsed": false,
    "pycharm": {
     "name": "#%%\n"
    }
   }
  },
  {
   "cell_type": "code",
   "execution_count": null,
   "outputs": [],
   "source": [],
   "metadata": {
    "collapsed": false,
    "pycharm": {
     "name": "#%%\n"
    }
   }
  }
 ],
 "metadata": {
  "kernelspec": {
   "display_name": "Python 3",
   "language": "python",
   "name": "python3"
  },
  "language_info": {
   "codemirror_mode": {
    "name": "ipython",
    "version": 3
   },
   "file_extension": ".py",
   "mimetype": "text/x-python",
   "name": "python",
   "nbconvert_exporter": "python",
   "pygments_lexer": "ipython3",
   "version": "3.8.5"
  }
 },
 "nbformat": 4,
 "nbformat_minor": 4
}