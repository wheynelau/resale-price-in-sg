{
 "cells": [
  {
   "cell_type": "markdown",
   "source": [
    "# Import libraries"
   ],
   "metadata": {
    "collapsed": false,
    "pycharm": {
     "name": "#%% md\n"
    }
   }
  },
  {
   "cell_type": "code",
   "execution_count": 1,
   "outputs": [],
   "source": [
    "import pandas as pd\n",
    "import numpy as np\n",
    "from common_func import *\n",
    "from datetime import datetime,timedelta\n",
    "import time"
   ],
   "metadata": {
    "collapsed": false,
    "pycharm": {
     "name": "#%%\n"
    }
   }
  },
  {
   "cell_type": "markdown",
   "source": [
    "## Import data files, available on data.gov.sg"
   ],
   "metadata": {
    "collapsed": false,
    "pycharm": {
     "name": "#%% md\n"
    }
   }
  },
  {
   "cell_type": "code",
   "execution_count": 3,
   "metadata": {
    "pycharm": {
     "name": "#%%\n"
    }
   },
   "outputs": [],
   "source": [
    "resale_2012_2014 = pd.read_csv('resale-flat-prices/resale-flat-prices-based-on-registration-date-from-mar-2012-to-dec-2014.csv',\n",
    "                               parse_dates=True)\n",
    "resale_2015_2016 = pd.read_csv('resale-flat-prices/resale-flat-prices-based-on-registration-date-from-jan-2015-to-dec-2016.csv',\n",
    "                               parse_dates=True)\n",
    "resale_2017 = pd.read_csv('resale-flat-prices/resale-flat-prices-based-on-registration-date-from-jan-2017-onwards.csv',\n",
    "                               parse_dates=True)"
   ]
  },
  {
   "cell_type": "code",
   "execution_count": 4,
   "metadata": {
    "pycharm": {
     "name": "#%%\n"
    }
   },
   "outputs": [
    {
     "data": {
      "text/plain": "     month        town flat_type block        street_name storey_range  \\\n0  2012-03  ANG MO KIO    2 ROOM   172   ANG MO KIO AVE 4     06 TO 10   \n1  2012-03  ANG MO KIO    2 ROOM   510   ANG MO KIO AVE 8     01 TO 05   \n2  2012-03  ANG MO KIO    3 ROOM   610   ANG MO KIO AVE 4     06 TO 10   \n3  2012-03  ANG MO KIO    3 ROOM   474  ANG MO KIO AVE 10     01 TO 05   \n4  2012-03  ANG MO KIO    3 ROOM   604   ANG MO KIO AVE 5     06 TO 10   \n\n   floor_area_sqm      flat_model  lease_commence_date  resale_price  \\\n0            45.0        Improved                 1986      250000.0   \n1            44.0        Improved                 1980      265000.0   \n2            68.0  New Generation                 1980      315000.0   \n3            67.0  New Generation                 1984      320000.0   \n4            67.0  New Generation                 1980      321000.0   \n\n  remaining_lease  \n0             NaN  \n1             NaN  \n2             NaN  \n3             NaN  \n4             NaN  ",
      "text/html": "<div>\n<style scoped>\n    .dataframe tbody tr th:only-of-type {\n        vertical-align: middle;\n    }\n\n    .dataframe tbody tr th {\n        vertical-align: top;\n    }\n\n    .dataframe thead th {\n        text-align: right;\n    }\n</style>\n<table border=\"1\" class=\"dataframe\">\n  <thead>\n    <tr style=\"text-align: right;\">\n      <th></th>\n      <th>month</th>\n      <th>town</th>\n      <th>flat_type</th>\n      <th>block</th>\n      <th>street_name</th>\n      <th>storey_range</th>\n      <th>floor_area_sqm</th>\n      <th>flat_model</th>\n      <th>lease_commence_date</th>\n      <th>resale_price</th>\n      <th>remaining_lease</th>\n    </tr>\n  </thead>\n  <tbody>\n    <tr>\n      <th>0</th>\n      <td>2012-03</td>\n      <td>ANG MO KIO</td>\n      <td>2 ROOM</td>\n      <td>172</td>\n      <td>ANG MO KIO AVE 4</td>\n      <td>06 TO 10</td>\n      <td>45.0</td>\n      <td>Improved</td>\n      <td>1986</td>\n      <td>250000.0</td>\n      <td>NaN</td>\n    </tr>\n    <tr>\n      <th>1</th>\n      <td>2012-03</td>\n      <td>ANG MO KIO</td>\n      <td>2 ROOM</td>\n      <td>510</td>\n      <td>ANG MO KIO AVE 8</td>\n      <td>01 TO 05</td>\n      <td>44.0</td>\n      <td>Improved</td>\n      <td>1980</td>\n      <td>265000.0</td>\n      <td>NaN</td>\n    </tr>\n    <tr>\n      <th>2</th>\n      <td>2012-03</td>\n      <td>ANG MO KIO</td>\n      <td>3 ROOM</td>\n      <td>610</td>\n      <td>ANG MO KIO AVE 4</td>\n      <td>06 TO 10</td>\n      <td>68.0</td>\n      <td>New Generation</td>\n      <td>1980</td>\n      <td>315000.0</td>\n      <td>NaN</td>\n    </tr>\n    <tr>\n      <th>3</th>\n      <td>2012-03</td>\n      <td>ANG MO KIO</td>\n      <td>3 ROOM</td>\n      <td>474</td>\n      <td>ANG MO KIO AVE 10</td>\n      <td>01 TO 05</td>\n      <td>67.0</td>\n      <td>New Generation</td>\n      <td>1984</td>\n      <td>320000.0</td>\n      <td>NaN</td>\n    </tr>\n    <tr>\n      <th>4</th>\n      <td>2012-03</td>\n      <td>ANG MO KIO</td>\n      <td>3 ROOM</td>\n      <td>604</td>\n      <td>ANG MO KIO AVE 5</td>\n      <td>06 TO 10</td>\n      <td>67.0</td>\n      <td>New Generation</td>\n      <td>1980</td>\n      <td>321000.0</td>\n      <td>NaN</td>\n    </tr>\n  </tbody>\n</table>\n</div>"
     },
     "execution_count": 4,
     "metadata": {},
     "output_type": "execute_result"
    }
   ],
   "source": [
    "# concat all files together\n",
    "\n",
    "df = pd.concat([resale_2012_2014,resale_2015_2016,resale_2017],ignore_index = True)\n",
    "df.head()"
   ]
  },
  {
   "cell_type": "code",
   "execution_count": 5,
   "metadata": {
    "pycharm": {
     "name": "#%%\n"
    }
   },
   "outputs": [
    {
     "data": {
      "text/plain": "0    8.0\n1    3.0\n2    8.0\n3    3.0\n4    8.0\ndtype: float64"
     },
     "execution_count": 5,
     "metadata": {},
     "output_type": "execute_result"
    }
   ],
   "source": [
    "# the floor level is given in X TO Y. Split by 'TO' to get the storey\n",
    "# thereafter, find the mean\n",
    "\n",
    "df_storey =df['storey_range'].str.split(pat = \" TO \", expand=True)\n",
    "df_storey = df_storey.astype(float)\n",
    "df_storeyrange =(df_storey[1] + df_storey[0])/2\n",
    "df_storeyrange.head()"
   ]
  },
  {
   "cell_type": "code",
   "execution_count": 6,
   "outputs": [],
   "source": [
    "df['storey_range'] = df_storeyrange"
   ],
   "metadata": {
    "collapsed": false,
    "pycharm": {
     "name": "#%%\n"
    }
   }
  },
  {
   "cell_type": "code",
   "execution_count": 7,
   "metadata": {
    "pycharm": {
     "name": "#%%\n"
    }
   },
   "outputs": [
    {
     "data": {
      "text/plain": "     month        town flat_type block        street_name  storey_range  \\\n0  2012-03  ANG MO KIO    2 ROOM   172   ANG MO KIO AVE 4           8.0   \n1  2012-03  ANG MO KIO    2 ROOM   510   ANG MO KIO AVE 8           3.0   \n2  2012-03  ANG MO KIO    3 ROOM   610   ANG MO KIO AVE 4           8.0   \n3  2012-03  ANG MO KIO    3 ROOM   474  ANG MO KIO AVE 10           3.0   \n4  2012-03  ANG MO KIO    3 ROOM   604   ANG MO KIO AVE 5           8.0   \n\n   floor_area_sqm      flat_model  lease_commence_date  resale_price  \n0            45.0        Improved                 1986      250000.0  \n1            44.0        Improved                 1980      265000.0  \n2            68.0  New Generation                 1980      315000.0  \n3            67.0  New Generation                 1984      320000.0  \n4            67.0  New Generation                 1980      321000.0  ",
      "text/html": "<div>\n<style scoped>\n    .dataframe tbody tr th:only-of-type {\n        vertical-align: middle;\n    }\n\n    .dataframe tbody tr th {\n        vertical-align: top;\n    }\n\n    .dataframe thead th {\n        text-align: right;\n    }\n</style>\n<table border=\"1\" class=\"dataframe\">\n  <thead>\n    <tr style=\"text-align: right;\">\n      <th></th>\n      <th>month</th>\n      <th>town</th>\n      <th>flat_type</th>\n      <th>block</th>\n      <th>street_name</th>\n      <th>storey_range</th>\n      <th>floor_area_sqm</th>\n      <th>flat_model</th>\n      <th>lease_commence_date</th>\n      <th>resale_price</th>\n    </tr>\n  </thead>\n  <tbody>\n    <tr>\n      <th>0</th>\n      <td>2012-03</td>\n      <td>ANG MO KIO</td>\n      <td>2 ROOM</td>\n      <td>172</td>\n      <td>ANG MO KIO AVE 4</td>\n      <td>8.0</td>\n      <td>45.0</td>\n      <td>Improved</td>\n      <td>1986</td>\n      <td>250000.0</td>\n    </tr>\n    <tr>\n      <th>1</th>\n      <td>2012-03</td>\n      <td>ANG MO KIO</td>\n      <td>2 ROOM</td>\n      <td>510</td>\n      <td>ANG MO KIO AVE 8</td>\n      <td>3.0</td>\n      <td>44.0</td>\n      <td>Improved</td>\n      <td>1980</td>\n      <td>265000.0</td>\n    </tr>\n    <tr>\n      <th>2</th>\n      <td>2012-03</td>\n      <td>ANG MO KIO</td>\n      <td>3 ROOM</td>\n      <td>610</td>\n      <td>ANG MO KIO AVE 4</td>\n      <td>8.0</td>\n      <td>68.0</td>\n      <td>New Generation</td>\n      <td>1980</td>\n      <td>315000.0</td>\n    </tr>\n    <tr>\n      <th>3</th>\n      <td>2012-03</td>\n      <td>ANG MO KIO</td>\n      <td>3 ROOM</td>\n      <td>474</td>\n      <td>ANG MO KIO AVE 10</td>\n      <td>3.0</td>\n      <td>67.0</td>\n      <td>New Generation</td>\n      <td>1984</td>\n      <td>320000.0</td>\n    </tr>\n    <tr>\n      <th>4</th>\n      <td>2012-03</td>\n      <td>ANG MO KIO</td>\n      <td>3 ROOM</td>\n      <td>604</td>\n      <td>ANG MO KIO AVE 5</td>\n      <td>8.0</td>\n      <td>67.0</td>\n      <td>New Generation</td>\n      <td>1980</td>\n      <td>321000.0</td>\n    </tr>\n  </tbody>\n</table>\n</div>"
     },
     "execution_count": 7,
     "metadata": {},
     "output_type": "execute_result"
    }
   ],
   "source": [
    "# drop remaining_lease\n",
    "\n",
    "features = df.drop(columns = ['remaining_lease'], axis = 1)\n",
    "features.head()"
   ]
  },
  {
   "cell_type": "code",
   "execution_count": 8,
   "metadata": {
    "pycharm": {
     "name": "#%%\n"
    }
   },
   "outputs": [
    {
     "data": {
      "text/plain": "     month        town flat_type block        street_name  storey_range  \\\n0  2012-03  ANG MO KIO    2 ROOM   172   ANG MO KIO AVE 4           8.0   \n1  2012-03  ANG MO KIO    2 ROOM   510   ANG MO KIO AVE 8           3.0   \n2  2012-03  ANG MO KIO    3 ROOM   610   ANG MO KIO AVE 4           8.0   \n3  2012-03  ANG MO KIO    3 ROOM   474  ANG MO KIO AVE 10           3.0   \n4  2012-03  ANG MO KIO    3 ROOM   604   ANG MO KIO AVE 5           8.0   \n\n   floor_area_sqm      flat_model  lease_commence_date  resale_price  \\\n0            45.0        Improved                 1986      250000.0   \n1            44.0        Improved                 1980      265000.0   \n2            68.0  New Generation                 1980      315000.0   \n3            67.0  New Generation                 1984      320000.0   \n4            67.0  New Generation                 1980      321000.0   \n\n                 address  \n0   172 ANG MO KIO AVE 4  \n1   510 ANG MO KIO AVE 8  \n2   610 ANG MO KIO AVE 4  \n3  474 ANG MO KIO AVE 10  \n4   604 ANG MO KIO AVE 5  ",
      "text/html": "<div>\n<style scoped>\n    .dataframe tbody tr th:only-of-type {\n        vertical-align: middle;\n    }\n\n    .dataframe tbody tr th {\n        vertical-align: top;\n    }\n\n    .dataframe thead th {\n        text-align: right;\n    }\n</style>\n<table border=\"1\" class=\"dataframe\">\n  <thead>\n    <tr style=\"text-align: right;\">\n      <th></th>\n      <th>month</th>\n      <th>town</th>\n      <th>flat_type</th>\n      <th>block</th>\n      <th>street_name</th>\n      <th>storey_range</th>\n      <th>floor_area_sqm</th>\n      <th>flat_model</th>\n      <th>lease_commence_date</th>\n      <th>resale_price</th>\n      <th>address</th>\n    </tr>\n  </thead>\n  <tbody>\n    <tr>\n      <th>0</th>\n      <td>2012-03</td>\n      <td>ANG MO KIO</td>\n      <td>2 ROOM</td>\n      <td>172</td>\n      <td>ANG MO KIO AVE 4</td>\n      <td>8.0</td>\n      <td>45.0</td>\n      <td>Improved</td>\n      <td>1986</td>\n      <td>250000.0</td>\n      <td>172 ANG MO KIO AVE 4</td>\n    </tr>\n    <tr>\n      <th>1</th>\n      <td>2012-03</td>\n      <td>ANG MO KIO</td>\n      <td>2 ROOM</td>\n      <td>510</td>\n      <td>ANG MO KIO AVE 8</td>\n      <td>3.0</td>\n      <td>44.0</td>\n      <td>Improved</td>\n      <td>1980</td>\n      <td>265000.0</td>\n      <td>510 ANG MO KIO AVE 8</td>\n    </tr>\n    <tr>\n      <th>2</th>\n      <td>2012-03</td>\n      <td>ANG MO KIO</td>\n      <td>3 ROOM</td>\n      <td>610</td>\n      <td>ANG MO KIO AVE 4</td>\n      <td>8.0</td>\n      <td>68.0</td>\n      <td>New Generation</td>\n      <td>1980</td>\n      <td>315000.0</td>\n      <td>610 ANG MO KIO AVE 4</td>\n    </tr>\n    <tr>\n      <th>3</th>\n      <td>2012-03</td>\n      <td>ANG MO KIO</td>\n      <td>3 ROOM</td>\n      <td>474</td>\n      <td>ANG MO KIO AVE 10</td>\n      <td>3.0</td>\n      <td>67.0</td>\n      <td>New Generation</td>\n      <td>1984</td>\n      <td>320000.0</td>\n      <td>474 ANG MO KIO AVE 10</td>\n    </tr>\n    <tr>\n      <th>4</th>\n      <td>2012-03</td>\n      <td>ANG MO KIO</td>\n      <td>3 ROOM</td>\n      <td>604</td>\n      <td>ANG MO KIO AVE 5</td>\n      <td>8.0</td>\n      <td>67.0</td>\n      <td>New Generation</td>\n      <td>1980</td>\n      <td>321000.0</td>\n      <td>604 ANG MO KIO AVE 5</td>\n    </tr>\n  </tbody>\n</table>\n</div>"
     },
     "execution_count": 8,
     "metadata": {},
     "output_type": "execute_result"
    }
   ],
   "source": [
    "# Get address from block and street name\n",
    "\n",
    "features['address'] = features['block'] + \" \" + features['street_name']\n",
    "features.head()"
   ]
  },
  {
   "cell_type": "code",
   "execution_count": 9,
   "metadata": {
    "pycharm": {
     "name": "#%%\n"
    }
   },
   "outputs": [
    {
     "data": {
      "text/plain": "       month        town flat_type block        street_name  storey_range  \\\n0 2012-03-01  ANG MO KIO    2 ROOM   172   ANG MO KIO AVE 4           8.0   \n1 2012-03-01  ANG MO KIO    2 ROOM   510   ANG MO KIO AVE 8           3.0   \n2 2012-03-01  ANG MO KIO    3 ROOM   610   ANG MO KIO AVE 4           8.0   \n3 2012-03-01  ANG MO KIO    3 ROOM   474  ANG MO KIO AVE 10           3.0   \n4 2012-03-01  ANG MO KIO    3 ROOM   604   ANG MO KIO AVE 5           8.0   \n\n   floor_area_sqm      flat_model  lease_commence_date  resale_price  \\\n0            45.0        Improved                 1986      250000.0   \n1            44.0        Improved                 1980      265000.0   \n2            68.0  New Generation                 1980      315000.0   \n3            67.0  New Generation                 1984      320000.0   \n4            67.0  New Generation                 1980      321000.0   \n\n                 address lease_commence_dt  \n0   172 ANG MO KIO AVE 4        1986-01-01  \n1   510 ANG MO KIO AVE 8        1980-01-01  \n2   610 ANG MO KIO AVE 4        1980-01-01  \n3  474 ANG MO KIO AVE 10        1984-01-01  \n4   604 ANG MO KIO AVE 5        1980-01-01  ",
      "text/html": "<div>\n<style scoped>\n    .dataframe tbody tr th:only-of-type {\n        vertical-align: middle;\n    }\n\n    .dataframe tbody tr th {\n        vertical-align: top;\n    }\n\n    .dataframe thead th {\n        text-align: right;\n    }\n</style>\n<table border=\"1\" class=\"dataframe\">\n  <thead>\n    <tr style=\"text-align: right;\">\n      <th></th>\n      <th>month</th>\n      <th>town</th>\n      <th>flat_type</th>\n      <th>block</th>\n      <th>street_name</th>\n      <th>storey_range</th>\n      <th>floor_area_sqm</th>\n      <th>flat_model</th>\n      <th>lease_commence_date</th>\n      <th>resale_price</th>\n      <th>address</th>\n      <th>lease_commence_dt</th>\n    </tr>\n  </thead>\n  <tbody>\n    <tr>\n      <th>0</th>\n      <td>2012-03-01</td>\n      <td>ANG MO KIO</td>\n      <td>2 ROOM</td>\n      <td>172</td>\n      <td>ANG MO KIO AVE 4</td>\n      <td>8.0</td>\n      <td>45.0</td>\n      <td>Improved</td>\n      <td>1986</td>\n      <td>250000.0</td>\n      <td>172 ANG MO KIO AVE 4</td>\n      <td>1986-01-01</td>\n    </tr>\n    <tr>\n      <th>1</th>\n      <td>2012-03-01</td>\n      <td>ANG MO KIO</td>\n      <td>2 ROOM</td>\n      <td>510</td>\n      <td>ANG MO KIO AVE 8</td>\n      <td>3.0</td>\n      <td>44.0</td>\n      <td>Improved</td>\n      <td>1980</td>\n      <td>265000.0</td>\n      <td>510 ANG MO KIO AVE 8</td>\n      <td>1980-01-01</td>\n    </tr>\n    <tr>\n      <th>2</th>\n      <td>2012-03-01</td>\n      <td>ANG MO KIO</td>\n      <td>3 ROOM</td>\n      <td>610</td>\n      <td>ANG MO KIO AVE 4</td>\n      <td>8.0</td>\n      <td>68.0</td>\n      <td>New Generation</td>\n      <td>1980</td>\n      <td>315000.0</td>\n      <td>610 ANG MO KIO AVE 4</td>\n      <td>1980-01-01</td>\n    </tr>\n    <tr>\n      <th>3</th>\n      <td>2012-03-01</td>\n      <td>ANG MO KIO</td>\n      <td>3 ROOM</td>\n      <td>474</td>\n      <td>ANG MO KIO AVE 10</td>\n      <td>3.0</td>\n      <td>67.0</td>\n      <td>New Generation</td>\n      <td>1984</td>\n      <td>320000.0</td>\n      <td>474 ANG MO KIO AVE 10</td>\n      <td>1984-01-01</td>\n    </tr>\n    <tr>\n      <th>4</th>\n      <td>2012-03-01</td>\n      <td>ANG MO KIO</td>\n      <td>3 ROOM</td>\n      <td>604</td>\n      <td>ANG MO KIO AVE 5</td>\n      <td>8.0</td>\n      <td>67.0</td>\n      <td>New Generation</td>\n      <td>1980</td>\n      <td>321000.0</td>\n      <td>604 ANG MO KIO AVE 5</td>\n      <td>1980-01-01</td>\n    </tr>\n  </tbody>\n</table>\n</div>"
     },
     "execution_count": 9,
     "metadata": {},
     "output_type": "execute_result"
    }
   ],
   "source": [
    "# convert lease commence date to datetime object\n",
    "\n",
    "features['lease_commence_dt']=pd.to_datetime(features['lease_commence_date'],format=\"%Y\")\n",
    "features['month'] = pd.to_datetime(features['month'],format=\"%Y-%m\")\n",
    "features.head()"
   ]
  },
  {
   "cell_type": "code",
   "execution_count": 10,
   "metadata": {
    "pycharm": {
     "name": "#%%\n"
    }
   },
   "outputs": [
    {
     "data": {
      "text/plain": "       month        town flat_type block        street_name  storey_range  \\\n0 2012-03-01  ANG MO KIO    2 ROOM   172   ANG MO KIO AVE 4           8.0   \n1 2012-03-01  ANG MO KIO    2 ROOM   510   ANG MO KIO AVE 8           3.0   \n2 2012-03-01  ANG MO KIO    3 ROOM   610   ANG MO KIO AVE 4           8.0   \n3 2012-03-01  ANG MO KIO    3 ROOM   474  ANG MO KIO AVE 10           3.0   \n4 2012-03-01  ANG MO KIO    3 ROOM   604   ANG MO KIO AVE 5           8.0   \n\n   floor_area_sqm      flat_model  lease_commence_date  resale_price  \\\n0            45.0        Improved                 1986      250000.0   \n1            44.0        Improved                 1980      265000.0   \n2            68.0  New Generation                 1980      315000.0   \n3            67.0  New Generation                 1984      320000.0   \n4            67.0  New Generation                 1980      321000.0   \n\n                 address lease_commence_dt current_lease_dt  \\\n0   172 ANG MO KIO AVE 4        1986-01-01        9556 days   \n1   510 ANG MO KIO AVE 8        1980-01-01       11748 days   \n2   610 ANG MO KIO AVE 4        1980-01-01       11748 days   \n3  474 ANG MO KIO AVE 10        1984-01-01       10287 days   \n4   604 ANG MO KIO AVE 5        1980-01-01       11748 days   \n\n   current_lease_year  remaining_lease_year  \n0           26.163439             72.836561  \n1           32.164932             66.835068  \n2           32.164932             66.835068  \n3           28.164849             70.835151  \n4           32.164932             66.835068  ",
      "text/html": "<div>\n<style scoped>\n    .dataframe tbody tr th:only-of-type {\n        vertical-align: middle;\n    }\n\n    .dataframe tbody tr th {\n        vertical-align: top;\n    }\n\n    .dataframe thead th {\n        text-align: right;\n    }\n</style>\n<table border=\"1\" class=\"dataframe\">\n  <thead>\n    <tr style=\"text-align: right;\">\n      <th></th>\n      <th>month</th>\n      <th>town</th>\n      <th>flat_type</th>\n      <th>block</th>\n      <th>street_name</th>\n      <th>storey_range</th>\n      <th>floor_area_sqm</th>\n      <th>flat_model</th>\n      <th>lease_commence_date</th>\n      <th>resale_price</th>\n      <th>address</th>\n      <th>lease_commence_dt</th>\n      <th>current_lease_dt</th>\n      <th>current_lease_year</th>\n      <th>remaining_lease_year</th>\n    </tr>\n  </thead>\n  <tbody>\n    <tr>\n      <th>0</th>\n      <td>2012-03-01</td>\n      <td>ANG MO KIO</td>\n      <td>2 ROOM</td>\n      <td>172</td>\n      <td>ANG MO KIO AVE 4</td>\n      <td>8.0</td>\n      <td>45.0</td>\n      <td>Improved</td>\n      <td>1986</td>\n      <td>250000.0</td>\n      <td>172 ANG MO KIO AVE 4</td>\n      <td>1986-01-01</td>\n      <td>9556 days</td>\n      <td>26.163439</td>\n      <td>72.836561</td>\n    </tr>\n    <tr>\n      <th>1</th>\n      <td>2012-03-01</td>\n      <td>ANG MO KIO</td>\n      <td>2 ROOM</td>\n      <td>510</td>\n      <td>ANG MO KIO AVE 8</td>\n      <td>3.0</td>\n      <td>44.0</td>\n      <td>Improved</td>\n      <td>1980</td>\n      <td>265000.0</td>\n      <td>510 ANG MO KIO AVE 8</td>\n      <td>1980-01-01</td>\n      <td>11748 days</td>\n      <td>32.164932</td>\n      <td>66.835068</td>\n    </tr>\n    <tr>\n      <th>2</th>\n      <td>2012-03-01</td>\n      <td>ANG MO KIO</td>\n      <td>3 ROOM</td>\n      <td>610</td>\n      <td>ANG MO KIO AVE 4</td>\n      <td>8.0</td>\n      <td>68.0</td>\n      <td>New Generation</td>\n      <td>1980</td>\n      <td>315000.0</td>\n      <td>610 ANG MO KIO AVE 4</td>\n      <td>1980-01-01</td>\n      <td>11748 days</td>\n      <td>32.164932</td>\n      <td>66.835068</td>\n    </tr>\n    <tr>\n      <th>3</th>\n      <td>2012-03-01</td>\n      <td>ANG MO KIO</td>\n      <td>3 ROOM</td>\n      <td>474</td>\n      <td>ANG MO KIO AVE 10</td>\n      <td>3.0</td>\n      <td>67.0</td>\n      <td>New Generation</td>\n      <td>1984</td>\n      <td>320000.0</td>\n      <td>474 ANG MO KIO AVE 10</td>\n      <td>1984-01-01</td>\n      <td>10287 days</td>\n      <td>28.164849</td>\n      <td>70.835151</td>\n    </tr>\n    <tr>\n      <th>4</th>\n      <td>2012-03-01</td>\n      <td>ANG MO KIO</td>\n      <td>3 ROOM</td>\n      <td>604</td>\n      <td>ANG MO KIO AVE 5</td>\n      <td>8.0</td>\n      <td>67.0</td>\n      <td>New Generation</td>\n      <td>1980</td>\n      <td>321000.0</td>\n      <td>604 ANG MO KIO AVE 5</td>\n      <td>1980-01-01</td>\n      <td>11748 days</td>\n      <td>32.164932</td>\n      <td>66.835068</td>\n    </tr>\n  </tbody>\n</table>\n</div>"
     },
     "execution_count": 10,
     "metadata": {},
     "output_type": "execute_result"
    }
   ],
   "source": [
    "# get current lease and remaining lease in terms of year\n",
    "\n",
    "features['current_lease_dt']=features['month']-features['lease_commence_dt']\n",
    "features['current_lease_year'] = features['current_lease_dt'] / np.timedelta64(1, 'Y')\n",
    "features['remaining_lease_year'] = 99-features['current_lease_year']\n",
    "features.head()"
   ]
  },
  {
   "cell_type": "code",
   "execution_count": 11,
   "metadata": {
    "pycharm": {
     "name": "#%%\n"
    }
   },
   "outputs": [
    {
     "data": {
      "text/plain": "       month        town flat_type block        street_name  storey_range  \\\n0 2012-03-01  ANG MO KIO    2 ROOM   172   ANG MO KIO AVE 4           8.0   \n1 2012-03-01  ANG MO KIO    2 ROOM   510   ANG MO KIO AVE 8           3.0   \n2 2012-03-01  ANG MO KIO    3 ROOM   610   ANG MO KIO AVE 4           8.0   \n3 2012-03-01  ANG MO KIO    3 ROOM   474  ANG MO KIO AVE 10           3.0   \n4 2012-03-01  ANG MO KIO    3 ROOM   604   ANG MO KIO AVE 5           8.0   \n\n   floor_area_sqm      flat_model  resale_price                address  \\\n0            45.0        Improved      250000.0   172 ANG MO KIO AVE 4   \n1            44.0        Improved      265000.0   510 ANG MO KIO AVE 8   \n2            68.0  New Generation      315000.0   610 ANG MO KIO AVE 4   \n3            67.0  New Generation      320000.0  474 ANG MO KIO AVE 10   \n4            67.0  New Generation      321000.0   604 ANG MO KIO AVE 5   \n\n  lease_commence_dt  remaining_lease_year  \n0        1986-01-01             72.836561  \n1        1980-01-01             66.835068  \n2        1980-01-01             66.835068  \n3        1984-01-01             70.835151  \n4        1980-01-01             66.835068  ",
      "text/html": "<div>\n<style scoped>\n    .dataframe tbody tr th:only-of-type {\n        vertical-align: middle;\n    }\n\n    .dataframe tbody tr th {\n        vertical-align: top;\n    }\n\n    .dataframe thead th {\n        text-align: right;\n    }\n</style>\n<table border=\"1\" class=\"dataframe\">\n  <thead>\n    <tr style=\"text-align: right;\">\n      <th></th>\n      <th>month</th>\n      <th>town</th>\n      <th>flat_type</th>\n      <th>block</th>\n      <th>street_name</th>\n      <th>storey_range</th>\n      <th>floor_area_sqm</th>\n      <th>flat_model</th>\n      <th>resale_price</th>\n      <th>address</th>\n      <th>lease_commence_dt</th>\n      <th>remaining_lease_year</th>\n    </tr>\n  </thead>\n  <tbody>\n    <tr>\n      <th>0</th>\n      <td>2012-03-01</td>\n      <td>ANG MO KIO</td>\n      <td>2 ROOM</td>\n      <td>172</td>\n      <td>ANG MO KIO AVE 4</td>\n      <td>8.0</td>\n      <td>45.0</td>\n      <td>Improved</td>\n      <td>250000.0</td>\n      <td>172 ANG MO KIO AVE 4</td>\n      <td>1986-01-01</td>\n      <td>72.836561</td>\n    </tr>\n    <tr>\n      <th>1</th>\n      <td>2012-03-01</td>\n      <td>ANG MO KIO</td>\n      <td>2 ROOM</td>\n      <td>510</td>\n      <td>ANG MO KIO AVE 8</td>\n      <td>3.0</td>\n      <td>44.0</td>\n      <td>Improved</td>\n      <td>265000.0</td>\n      <td>510 ANG MO KIO AVE 8</td>\n      <td>1980-01-01</td>\n      <td>66.835068</td>\n    </tr>\n    <tr>\n      <th>2</th>\n      <td>2012-03-01</td>\n      <td>ANG MO KIO</td>\n      <td>3 ROOM</td>\n      <td>610</td>\n      <td>ANG MO KIO AVE 4</td>\n      <td>8.0</td>\n      <td>68.0</td>\n      <td>New Generation</td>\n      <td>315000.0</td>\n      <td>610 ANG MO KIO AVE 4</td>\n      <td>1980-01-01</td>\n      <td>66.835068</td>\n    </tr>\n    <tr>\n      <th>3</th>\n      <td>2012-03-01</td>\n      <td>ANG MO KIO</td>\n      <td>3 ROOM</td>\n      <td>474</td>\n      <td>ANG MO KIO AVE 10</td>\n      <td>3.0</td>\n      <td>67.0</td>\n      <td>New Generation</td>\n      <td>320000.0</td>\n      <td>474 ANG MO KIO AVE 10</td>\n      <td>1984-01-01</td>\n      <td>70.835151</td>\n    </tr>\n    <tr>\n      <th>4</th>\n      <td>2012-03-01</td>\n      <td>ANG MO KIO</td>\n      <td>3 ROOM</td>\n      <td>604</td>\n      <td>ANG MO KIO AVE 5</td>\n      <td>8.0</td>\n      <td>67.0</td>\n      <td>New Generation</td>\n      <td>321000.0</td>\n      <td>604 ANG MO KIO AVE 5</td>\n      <td>1980-01-01</td>\n      <td>66.835068</td>\n    </tr>\n  </tbody>\n</table>\n</div>"
     },
     "execution_count": 11,
     "metadata": {},
     "output_type": "execute_result"
    }
   ],
   "source": [
    "features = features.drop(columns = ['current_lease_year','current_lease_dt','lease_commence_date']\n",
    "                         ,axis=1)\n",
    "features.head()"
   ]
  },
  {
   "cell_type": "code",
   "execution_count": 13,
   "outputs": [
    {
     "data": {
      "text/plain": "       month        town flat_type block        street_name  storey_range  \\\n0 2012-03-01  ANG MO KIO    2 ROOM   172   ANG MO KIO AVE 4           8.0   \n1 2012-03-01  ANG MO KIO    2 ROOM   510   ANG MO KIO AVE 8           3.0   \n2 2012-03-01  ANG MO KIO    3 ROOM   610   ANG MO KIO AVE 4           8.0   \n3 2012-03-01  ANG MO KIO    3 ROOM   474  ANG MO KIO AVE 10           3.0   \n4 2012-03-01  ANG MO KIO    3 ROOM   604   ANG MO KIO AVE 5           8.0   \n\n   floor_area_sqm      flat_model  resale_price                address  \\\n0            45.0        Improved      250000.0   172 ANG MO KIO AVE 4   \n1            44.0        Improved      265000.0   510 ANG MO KIO AVE 8   \n2            68.0  New Generation      315000.0   610 ANG MO KIO AVE 4   \n3            67.0  New Generation      320000.0  474 ANG MO KIO AVE 10   \n4            67.0  New Generation      321000.0   604 ANG MO KIO AVE 5   \n\n  lease_commence_dt  remaining_lease_year  Coords  \n0        1986-01-01             72.836561     NaN  \n1        1980-01-01             66.835068     NaN  \n2        1980-01-01             66.835068     NaN  \n3        1984-01-01             70.835151     NaN  \n4        1980-01-01             66.835068     NaN  ",
      "text/html": "<div>\n<style scoped>\n    .dataframe tbody tr th:only-of-type {\n        vertical-align: middle;\n    }\n\n    .dataframe tbody tr th {\n        vertical-align: top;\n    }\n\n    .dataframe thead th {\n        text-align: right;\n    }\n</style>\n<table border=\"1\" class=\"dataframe\">\n  <thead>\n    <tr style=\"text-align: right;\">\n      <th></th>\n      <th>month</th>\n      <th>town</th>\n      <th>flat_type</th>\n      <th>block</th>\n      <th>street_name</th>\n      <th>storey_range</th>\n      <th>floor_area_sqm</th>\n      <th>flat_model</th>\n      <th>resale_price</th>\n      <th>address</th>\n      <th>lease_commence_dt</th>\n      <th>remaining_lease_year</th>\n      <th>Coords</th>\n    </tr>\n  </thead>\n  <tbody>\n    <tr>\n      <th>0</th>\n      <td>2012-03-01</td>\n      <td>ANG MO KIO</td>\n      <td>2 ROOM</td>\n      <td>172</td>\n      <td>ANG MO KIO AVE 4</td>\n      <td>8.0</td>\n      <td>45.0</td>\n      <td>Improved</td>\n      <td>250000.0</td>\n      <td>172 ANG MO KIO AVE 4</td>\n      <td>1986-01-01</td>\n      <td>72.836561</td>\n      <td>NaN</td>\n    </tr>\n    <tr>\n      <th>1</th>\n      <td>2012-03-01</td>\n      <td>ANG MO KIO</td>\n      <td>2 ROOM</td>\n      <td>510</td>\n      <td>ANG MO KIO AVE 8</td>\n      <td>3.0</td>\n      <td>44.0</td>\n      <td>Improved</td>\n      <td>265000.0</td>\n      <td>510 ANG MO KIO AVE 8</td>\n      <td>1980-01-01</td>\n      <td>66.835068</td>\n      <td>NaN</td>\n    </tr>\n    <tr>\n      <th>2</th>\n      <td>2012-03-01</td>\n      <td>ANG MO KIO</td>\n      <td>3 ROOM</td>\n      <td>610</td>\n      <td>ANG MO KIO AVE 4</td>\n      <td>8.0</td>\n      <td>68.0</td>\n      <td>New Generation</td>\n      <td>315000.0</td>\n      <td>610 ANG MO KIO AVE 4</td>\n      <td>1980-01-01</td>\n      <td>66.835068</td>\n      <td>NaN</td>\n    </tr>\n    <tr>\n      <th>3</th>\n      <td>2012-03-01</td>\n      <td>ANG MO KIO</td>\n      <td>3 ROOM</td>\n      <td>474</td>\n      <td>ANG MO KIO AVE 10</td>\n      <td>3.0</td>\n      <td>67.0</td>\n      <td>New Generation</td>\n      <td>320000.0</td>\n      <td>474 ANG MO KIO AVE 10</td>\n      <td>1984-01-01</td>\n      <td>70.835151</td>\n      <td>NaN</td>\n    </tr>\n    <tr>\n      <th>4</th>\n      <td>2012-03-01</td>\n      <td>ANG MO KIO</td>\n      <td>3 ROOM</td>\n      <td>604</td>\n      <td>ANG MO KIO AVE 5</td>\n      <td>8.0</td>\n      <td>67.0</td>\n      <td>New Generation</td>\n      <td>321000.0</td>\n      <td>604 ANG MO KIO AVE 5</td>\n      <td>1980-01-01</td>\n      <td>66.835068</td>\n      <td>NaN</td>\n    </tr>\n  </tbody>\n</table>\n</div>"
     },
     "execution_count": 13,
     "metadata": {},
     "output_type": "execute_result"
    }
   ],
   "source": [
    "# initialise an empty column for slicing\n",
    "\n",
    "features = features.assign(Coords = np.NaN)\n",
    "features.head()"
   ],
   "metadata": {
    "collapsed": false,
    "pycharm": {
     "name": "#%%\n"
    }
   }
  },
  {
   "cell_type": "code",
   "execution_count": 14,
   "outputs": [
    {
     "data": {
      "text/plain": "14.9642"
     },
     "execution_count": 14,
     "metadata": {},
     "output_type": "execute_result"
    }
   ],
   "source": [
    "# estimated time just for calculation\n",
    "len(features)/(250*60)"
   ],
   "metadata": {
    "collapsed": false,
    "pycharm": {
     "name": "#%%\n"
    }
   }
  },
  {
   "cell_type": "code",
   "execution_count": null,
   "outputs": [],
   "source": [
    "%%time\n",
    "# plus 1 to get last part as the quotient*250 will be smaller than the length of the dataframe\n",
    "\n",
    "x= (len(features) // 250) + 1\n",
    "\n",
    "for i in range(x):\n",
    "    # slice dataframe into blocks of 250\n",
    "    # set min and max to prevent out of bounds error\n",
    "    a = max(i*250,0)\n",
    "    b = min((i+1)*250,len(features))\n",
    "\n",
    "    # control limit to 250 per minute\n",
    "\n",
    "    start_time = datetime.now()\n",
    "    plus_1_min = start_time + timedelta(minutes = 1)\n",
    "\n",
    "    features.iloc[a:b,-1] = features.iloc[a:b]['address'].apply(getcoordinates)\n",
    "    difference = plus_1_min - datetime.now()\n",
    "\n",
    "    # if loop takes longer than 1 min, do not wait\n",
    "\n",
    "    if difference.days < 0:\n",
    "        continue\n",
    "    else:\n",
    "        time.sleep(difference.seconds/60)\n",
    "\n",
    "# save before cleaning due to the long processing time\n",
    "\n",
    "features.to_csv('geo_coords_data.csv')"
   ],
   "metadata": {
    "collapsed": false,
    "pycharm": {
     "name": "#%%\n",
     "is_executing": true
    }
   }
  },
  {
   "cell_type": "code",
   "execution_count": 41,
   "outputs": [],
   "source": [
    "features = pd.read_csv('geo_coords_data.csv',index_col=\"Unnamed: 0\")"
   ],
   "metadata": {
    "collapsed": false,
    "pycharm": {
     "name": "#%%\n"
    }
   }
  },
  {
   "cell_type": "code",
   "execution_count": 42,
   "outputs": [],
   "source": [
    "import re\n",
    "def string_to_array(coords:str):\n",
    "    split = coords.split(' ')\n",
    "    list_of_digits = [re.findall(\"[+-]?[0-9]*[.]*[0-9]+\",x) for x in split]\n",
    "    coords = []\n",
    "    for i in list_of_digits:\n",
    "        try:\n",
    "            float(i[0])\n",
    "            coords.append(i[0])\n",
    "        except Exception as e:\n",
    "            pass\n",
    "    return coords"
   ],
   "metadata": {
    "collapsed": false,
    "pycharm": {
     "name": "#%%\n"
    }
   }
  },
  {
   "cell_type": "code",
   "execution_count": 43,
   "outputs": [],
   "source": [
    "features['Coords'] = features['Coords'].apply(string_to_array)"
   ],
   "metadata": {
    "collapsed": false,
    "pycharm": {
     "name": "#%%\n"
    }
   }
  },
  {
   "cell_type": "code",
   "execution_count": 44,
   "outputs": [],
   "source": [
    "features = pd.merge(features,pd.DataFrame(features['Coords'].tolist()),on=features.index)"
   ],
   "metadata": {
    "collapsed": false,
    "pycharm": {
     "name": "#%%\n"
    }
   }
  },
  {
   "cell_type": "code",
   "execution_count": 45,
   "outputs": [],
   "source": [
    "features = features.iloc[:,2:]"
   ],
   "metadata": {
    "collapsed": false,
    "pycharm": {
     "name": "#%%\n"
    }
   }
  },
  {
   "cell_type": "code",
   "execution_count": 47,
   "outputs": [],
   "source": [
    "features.rename(columns = {0:'LAT',1:'LONG'},inplace=True)"
   ],
   "metadata": {
    "collapsed": false,
    "pycharm": {
     "name": "#%%\n"
    }
   }
  },
  {
   "cell_type": "code",
   "execution_count": 50,
   "outputs": [],
   "source": [
    "features.drop(columns='Coords',inplace=True)"
   ],
   "metadata": {
    "collapsed": false,
    "pycharm": {
     "name": "#%%\n"
    }
   }
  },
  {
   "cell_type": "code",
   "execution_count": 51,
   "outputs": [
    {
     "data": {
      "text/plain": "             month        town  flat_type  storey_range  floor_area_sqm  \\\n0       2012-03-01  ANG MO KIO     2 ROOM           8.0            45.0   \n1       2012-03-01  ANG MO KIO     2 ROOM           3.0            44.0   \n2       2012-03-01  ANG MO KIO     3 ROOM           8.0            68.0   \n3       2012-03-01  ANG MO KIO     3 ROOM           3.0            67.0   \n4       2012-03-01  ANG MO KIO     3 ROOM           8.0            67.0   \n...            ...         ...        ...           ...             ...   \n224458  2022-09-01      YISHUN     5 ROOM          14.0           113.0   \n224459  2022-09-01      YISHUN     5 ROOM           8.0           113.0   \n224460  2022-09-01      YISHUN     5 ROOM           5.0           131.0   \n224461  2022-09-01      YISHUN     5 ROOM           5.0           122.0   \n224462  2022-09-01      YISHUN  EXECUTIVE           2.0           146.0   \n\n            flat_model  resale_price lease_commence_dt  remaining_lease_year  \\\n0             Improved      250000.0        1986-01-01             72.836561   \n1             Improved      265000.0        1980-01-01             66.835068   \n2       New Generation      315000.0        1980-01-01             66.835068   \n3       New Generation      320000.0        1984-01-01             70.835151   \n4       New Generation      321000.0        1980-01-01             66.835068   \n...                ...           ...               ...                   ...   \n224458        Improved      716000.0        2018-01-01             94.334606   \n224459        Improved      636000.0        2016-01-01             92.333196   \n224460        Improved      600000.0        1987-01-01             63.333285   \n224461        Improved      532000.0        1987-01-01             63.333285   \n224462      Maisonette      798000.0        1987-01-01             63.333285   \n\n               LAT          LONG  \n0       1.37469423  103.83646287  \n1       1.37340093  103.84907324  \n2        1.3793947  103.83915723  \n3       1.36275785  103.85801532  \n4       1.37986658  103.83597665  \n...            ...           ...  \n224458  1.41572236  103.84364845  \n224459  1.41924161  103.84494165  \n224460  1.42612489  103.82751257  \n224461  1.42752812  103.82741659  \n224462  1.41982907   103.8360325  \n\n[224463 rows x 11 columns]",
      "text/html": "<div>\n<style scoped>\n    .dataframe tbody tr th:only-of-type {\n        vertical-align: middle;\n    }\n\n    .dataframe tbody tr th {\n        vertical-align: top;\n    }\n\n    .dataframe thead th {\n        text-align: right;\n    }\n</style>\n<table border=\"1\" class=\"dataframe\">\n  <thead>\n    <tr style=\"text-align: right;\">\n      <th></th>\n      <th>month</th>\n      <th>town</th>\n      <th>flat_type</th>\n      <th>storey_range</th>\n      <th>floor_area_sqm</th>\n      <th>flat_model</th>\n      <th>resale_price</th>\n      <th>lease_commence_dt</th>\n      <th>remaining_lease_year</th>\n      <th>LAT</th>\n      <th>LONG</th>\n    </tr>\n  </thead>\n  <tbody>\n    <tr>\n      <th>0</th>\n      <td>2012-03-01</td>\n      <td>ANG MO KIO</td>\n      <td>2 ROOM</td>\n      <td>8.0</td>\n      <td>45.0</td>\n      <td>Improved</td>\n      <td>250000.0</td>\n      <td>1986-01-01</td>\n      <td>72.836561</td>\n      <td>1.37469423</td>\n      <td>103.83646287</td>\n    </tr>\n    <tr>\n      <th>1</th>\n      <td>2012-03-01</td>\n      <td>ANG MO KIO</td>\n      <td>2 ROOM</td>\n      <td>3.0</td>\n      <td>44.0</td>\n      <td>Improved</td>\n      <td>265000.0</td>\n      <td>1980-01-01</td>\n      <td>66.835068</td>\n      <td>1.37340093</td>\n      <td>103.84907324</td>\n    </tr>\n    <tr>\n      <th>2</th>\n      <td>2012-03-01</td>\n      <td>ANG MO KIO</td>\n      <td>3 ROOM</td>\n      <td>8.0</td>\n      <td>68.0</td>\n      <td>New Generation</td>\n      <td>315000.0</td>\n      <td>1980-01-01</td>\n      <td>66.835068</td>\n      <td>1.3793947</td>\n      <td>103.83915723</td>\n    </tr>\n    <tr>\n      <th>3</th>\n      <td>2012-03-01</td>\n      <td>ANG MO KIO</td>\n      <td>3 ROOM</td>\n      <td>3.0</td>\n      <td>67.0</td>\n      <td>New Generation</td>\n      <td>320000.0</td>\n      <td>1984-01-01</td>\n      <td>70.835151</td>\n      <td>1.36275785</td>\n      <td>103.85801532</td>\n    </tr>\n    <tr>\n      <th>4</th>\n      <td>2012-03-01</td>\n      <td>ANG MO KIO</td>\n      <td>3 ROOM</td>\n      <td>8.0</td>\n      <td>67.0</td>\n      <td>New Generation</td>\n      <td>321000.0</td>\n      <td>1980-01-01</td>\n      <td>66.835068</td>\n      <td>1.37986658</td>\n      <td>103.83597665</td>\n    </tr>\n    <tr>\n      <th>...</th>\n      <td>...</td>\n      <td>...</td>\n      <td>...</td>\n      <td>...</td>\n      <td>...</td>\n      <td>...</td>\n      <td>...</td>\n      <td>...</td>\n      <td>...</td>\n      <td>...</td>\n      <td>...</td>\n    </tr>\n    <tr>\n      <th>224458</th>\n      <td>2022-09-01</td>\n      <td>YISHUN</td>\n      <td>5 ROOM</td>\n      <td>14.0</td>\n      <td>113.0</td>\n      <td>Improved</td>\n      <td>716000.0</td>\n      <td>2018-01-01</td>\n      <td>94.334606</td>\n      <td>1.41572236</td>\n      <td>103.84364845</td>\n    </tr>\n    <tr>\n      <th>224459</th>\n      <td>2022-09-01</td>\n      <td>YISHUN</td>\n      <td>5 ROOM</td>\n      <td>8.0</td>\n      <td>113.0</td>\n      <td>Improved</td>\n      <td>636000.0</td>\n      <td>2016-01-01</td>\n      <td>92.333196</td>\n      <td>1.41924161</td>\n      <td>103.84494165</td>\n    </tr>\n    <tr>\n      <th>224460</th>\n      <td>2022-09-01</td>\n      <td>YISHUN</td>\n      <td>5 ROOM</td>\n      <td>5.0</td>\n      <td>131.0</td>\n      <td>Improved</td>\n      <td>600000.0</td>\n      <td>1987-01-01</td>\n      <td>63.333285</td>\n      <td>1.42612489</td>\n      <td>103.82751257</td>\n    </tr>\n    <tr>\n      <th>224461</th>\n      <td>2022-09-01</td>\n      <td>YISHUN</td>\n      <td>5 ROOM</td>\n      <td>5.0</td>\n      <td>122.0</td>\n      <td>Improved</td>\n      <td>532000.0</td>\n      <td>1987-01-01</td>\n      <td>63.333285</td>\n      <td>1.42752812</td>\n      <td>103.82741659</td>\n    </tr>\n    <tr>\n      <th>224462</th>\n      <td>2022-09-01</td>\n      <td>YISHUN</td>\n      <td>EXECUTIVE</td>\n      <td>2.0</td>\n      <td>146.0</td>\n      <td>Maisonette</td>\n      <td>798000.0</td>\n      <td>1987-01-01</td>\n      <td>63.333285</td>\n      <td>1.41982907</td>\n      <td>103.8360325</td>\n    </tr>\n  </tbody>\n</table>\n<p>224463 rows × 11 columns</p>\n</div>"
     },
     "execution_count": 51,
     "metadata": {},
     "output_type": "execute_result"
    }
   ],
   "source": [
    "features"
   ],
   "metadata": {
    "collapsed": false,
    "pycharm": {
     "name": "#%%\n"
    }
   }
  },
  {
   "cell_type": "code",
   "execution_count": 52,
   "outputs": [],
   "source": [
    "features.to_csv(\"geo_coords_data.csv\")"
   ],
   "metadata": {
    "collapsed": false,
    "pycharm": {
     "name": "#%%\n"
    }
   }
  },
  {
   "cell_type": "code",
   "execution_count": null,
   "outputs": [],
   "source": [],
   "metadata": {
    "collapsed": false,
    "pycharm": {
     "name": "#%%\n"
    }
   }
  }
 ],
 "metadata": {
  "kernelspec": {
   "display_name": "Python 3",
   "language": "python",
   "name": "python3"
  },
  "language_info": {
   "codemirror_mode": {
    "name": "ipython",
    "version": 3
   },
   "file_extension": ".py",
   "mimetype": "text/x-python",
   "name": "python",
   "nbconvert_exporter": "python",
   "pygments_lexer": "ipython3",
   "version": "3.8.5"
  }
 },
 "nbformat": 4,
 "nbformat_minor": 4
}