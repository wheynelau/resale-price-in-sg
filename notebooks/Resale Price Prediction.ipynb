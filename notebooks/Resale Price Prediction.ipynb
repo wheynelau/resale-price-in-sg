{
 "cells": [
  {
   "cell_type": "code",
   "execution_count": 1,
   "metadata": {},
   "outputs": [],
   "source": [
    "import pandas as pd\n",
    "import numpy as np\n",
    "import seaborn as sns\n",
    "import matplotlib.pyplot as plt\n",
    "from sklearn.model_selection import train_test_split\n",
    "import datetime\n",
    "import sys\n",
    "sys.path.append('..')\n",
    "\n",
    "features = pd.read_csv('model/features.csv', parse_dates=True, index_col=0) #load features as dataframe"
   ]
  },
  {
   "cell_type": "code",
   "execution_count": 2,
   "metadata": {},
   "outputs": [],
   "source": [
    "#Create target variable \"price\"\n",
    "\n",
    "price = features['resale_price']"
   ]
  },
  {
   "cell_type": "code",
   "execution_count": 3,
   "metadata": {},
   "outputs": [
    {
     "data": {
      "text/html": [
       "<div>\n",
       "<style scoped>\n",
       "    .dataframe tbody tr th:only-of-type {\n",
       "        vertical-align: middle;\n",
       "    }\n",
       "\n",
       "    .dataframe tbody tr th {\n",
       "        vertical-align: top;\n",
       "    }\n",
       "\n",
       "    .dataframe thead th {\n",
       "        text-align: right;\n",
       "    }\n",
       "</style>\n",
       "<table border=\"1\" class=\"dataframe\">\n",
       "  <thead>\n",
       "    <tr style=\"text-align: right;\">\n",
       "      <th></th>\n",
       "      <th>month</th>\n",
       "      <th>town</th>\n",
       "      <th>flat_type</th>\n",
       "      <th>floor_area_sqm</th>\n",
       "      <th>flat_model</th>\n",
       "      <th>resale_price</th>\n",
       "      <th>Storey</th>\n",
       "      <th>lease_commence_dt</th>\n",
       "      <th>remaining_lease_year</th>\n",
       "    </tr>\n",
       "  </thead>\n",
       "  <tbody>\n",
       "    <tr>\n",
       "      <th>0</th>\n",
       "      <td>2012-03-01</td>\n",
       "      <td>ANG MO KIO</td>\n",
       "      <td>2 ROOM</td>\n",
       "      <td>45.0</td>\n",
       "      <td>Improved</td>\n",
       "      <td>250000.0</td>\n",
       "      <td>8.0</td>\n",
       "      <td>1986-01-01</td>\n",
       "      <td>72.836561</td>\n",
       "    </tr>\n",
       "    <tr>\n",
       "      <th>1</th>\n",
       "      <td>2012-03-01</td>\n",
       "      <td>ANG MO KIO</td>\n",
       "      <td>2 ROOM</td>\n",
       "      <td>44.0</td>\n",
       "      <td>Improved</td>\n",
       "      <td>265000.0</td>\n",
       "      <td>3.0</td>\n",
       "      <td>1980-01-01</td>\n",
       "      <td>66.835068</td>\n",
       "    </tr>\n",
       "    <tr>\n",
       "      <th>2</th>\n",
       "      <td>2012-03-01</td>\n",
       "      <td>ANG MO KIO</td>\n",
       "      <td>3 ROOM</td>\n",
       "      <td>68.0</td>\n",
       "      <td>New Generation</td>\n",
       "      <td>315000.0</td>\n",
       "      <td>8.0</td>\n",
       "      <td>1980-01-01</td>\n",
       "      <td>66.835068</td>\n",
       "    </tr>\n",
       "    <tr>\n",
       "      <th>3</th>\n",
       "      <td>2012-03-01</td>\n",
       "      <td>ANG MO KIO</td>\n",
       "      <td>3 ROOM</td>\n",
       "      <td>67.0</td>\n",
       "      <td>New Generation</td>\n",
       "      <td>320000.0</td>\n",
       "      <td>3.0</td>\n",
       "      <td>1984-01-01</td>\n",
       "      <td>70.835151</td>\n",
       "    </tr>\n",
       "    <tr>\n",
       "      <th>4</th>\n",
       "      <td>2012-03-01</td>\n",
       "      <td>ANG MO KIO</td>\n",
       "      <td>3 ROOM</td>\n",
       "      <td>67.0</td>\n",
       "      <td>New Generation</td>\n",
       "      <td>321000.0</td>\n",
       "      <td>8.0</td>\n",
       "      <td>1980-01-01</td>\n",
       "      <td>66.835068</td>\n",
       "    </tr>\n",
       "  </tbody>\n",
       "</table>\n",
       "</div>"
      ],
      "text/plain": [
       "        month        town flat_type  floor_area_sqm      flat_model  \\\n",
       "0  2012-03-01  ANG MO KIO    2 ROOM            45.0        Improved   \n",
       "1  2012-03-01  ANG MO KIO    2 ROOM            44.0        Improved   \n",
       "2  2012-03-01  ANG MO KIO    3 ROOM            68.0  New Generation   \n",
       "3  2012-03-01  ANG MO KIO    3 ROOM            67.0  New Generation   \n",
       "4  2012-03-01  ANG MO KIO    3 ROOM            67.0  New Generation   \n",
       "\n",
       "   resale_price  Storey lease_commence_dt  remaining_lease_year  \n",
       "0      250000.0     8.0        1986-01-01             72.836561  \n",
       "1      265000.0     3.0        1980-01-01             66.835068  \n",
       "2      315000.0     8.0        1980-01-01             66.835068  \n",
       "3      320000.0     3.0        1984-01-01             70.835151  \n",
       "4      321000.0     8.0        1980-01-01             66.835068  "
      ]
     },
     "execution_count": 3,
     "metadata": {},
     "output_type": "execute_result"
    }
   ],
   "source": [
    "#Check output of features\n",
    "features.head()"
   ]
  },
  {
   "cell_type": "code",
   "execution_count": 4,
   "metadata": {},
   "outputs": [],
   "source": [
    "#Create dummy variable and drop unncessary columns\n",
    "\n",
    "dummies = ['town','flat_model']\n",
    "final_df = features.drop(columns = ['month','resale_price','lease_commence_dt'])\n",
    "final_df = pd.get_dummies(final_df,columns=dummies,drop_first=True)"
   ]
  },
  {
   "cell_type": "code",
   "execution_count": 5,
   "metadata": {},
   "outputs": [],
   "source": [
    "# Map flat types to float values\n",
    "# 5 room is 4.5 as the 5th room is smaller and optional\n",
    "# No of rooms are official from hdb\n",
    "\n",
    "final_df['flat_cat'] = final_df.flat_type.map({'2 ROOM':2, '3 ROOM':3, '4 ROOM':4,'5 ROOM': 4.5,\n",
    "                                               '1 ROOM':1,'MULTI-GENERATION':5})"
   ]
  },
  {
   "cell_type": "code",
   "execution_count": 6,
   "metadata": {},
   "outputs": [
    {
     "data": {
      "text/html": [
       "<div>\n",
       "<style scoped>\n",
       "    .dataframe tbody tr th:only-of-type {\n",
       "        vertical-align: middle;\n",
       "    }\n",
       "\n",
       "    .dataframe tbody tr th {\n",
       "        vertical-align: top;\n",
       "    }\n",
       "\n",
       "    .dataframe thead th {\n",
       "        text-align: right;\n",
       "    }\n",
       "</style>\n",
       "<table border=\"1\" class=\"dataframe\">\n",
       "  <thead>\n",
       "    <tr style=\"text-align: right;\">\n",
       "      <th></th>\n",
       "      <th>floor_area_sqm</th>\n",
       "      <th>Storey</th>\n",
       "      <th>remaining_lease_year</th>\n",
       "      <th>town_BEDOK</th>\n",
       "      <th>town_BISHAN</th>\n",
       "      <th>town_BUKIT BATOK</th>\n",
       "      <th>town_BUKIT MERAH</th>\n",
       "      <th>town_BUKIT PANJANG</th>\n",
       "      <th>town_BUKIT TIMAH</th>\n",
       "      <th>town_CENTRAL AREA</th>\n",
       "      <th>...</th>\n",
       "      <th>flat_model_Premium Apartment</th>\n",
       "      <th>flat_model_Premium Apartment Loft</th>\n",
       "      <th>flat_model_Premium Maisonette</th>\n",
       "      <th>flat_model_Simplified</th>\n",
       "      <th>flat_model_Standard</th>\n",
       "      <th>flat_model_Terrace</th>\n",
       "      <th>flat_model_Type S1</th>\n",
       "      <th>flat_model_Type S2</th>\n",
       "      <th>flat_cat</th>\n",
       "      <th>Is_executive</th>\n",
       "    </tr>\n",
       "  </thead>\n",
       "  <tbody>\n",
       "    <tr>\n",
       "      <th>114942</th>\n",
       "      <td>59.0</td>\n",
       "      <td>5.0</td>\n",
       "      <td>54.752685</td>\n",
       "      <td>0</td>\n",
       "      <td>0</td>\n",
       "      <td>0</td>\n",
       "      <td>0</td>\n",
       "      <td>0</td>\n",
       "      <td>0</td>\n",
       "      <td>0</td>\n",
       "      <td>...</td>\n",
       "      <td>0</td>\n",
       "      <td>0</td>\n",
       "      <td>0</td>\n",
       "      <td>0</td>\n",
       "      <td>0</td>\n",
       "      <td>0</td>\n",
       "      <td>0</td>\n",
       "      <td>0</td>\n",
       "      <td>3.0</td>\n",
       "      <td>0.0</td>\n",
       "    </tr>\n",
       "    <tr>\n",
       "      <th>20899</th>\n",
       "      <td>95.0</td>\n",
       "      <td>2.0</td>\n",
       "      <td>89.997762</td>\n",
       "      <td>0</td>\n",
       "      <td>0</td>\n",
       "      <td>0</td>\n",
       "      <td>0</td>\n",
       "      <td>0</td>\n",
       "      <td>0</td>\n",
       "      <td>0</td>\n",
       "      <td>...</td>\n",
       "      <td>1</td>\n",
       "      <td>0</td>\n",
       "      <td>0</td>\n",
       "      <td>0</td>\n",
       "      <td>0</td>\n",
       "      <td>0</td>\n",
       "      <td>0</td>\n",
       "      <td>0</td>\n",
       "      <td>4.0</td>\n",
       "      <td>0.0</td>\n",
       "    </tr>\n",
       "    <tr>\n",
       "      <th>88355</th>\n",
       "      <td>60.0</td>\n",
       "      <td>14.0</td>\n",
       "      <td>63.084136</td>\n",
       "      <td>0</td>\n",
       "      <td>0</td>\n",
       "      <td>0</td>\n",
       "      <td>0</td>\n",
       "      <td>0</td>\n",
       "      <td>0</td>\n",
       "      <td>1</td>\n",
       "      <td>...</td>\n",
       "      <td>0</td>\n",
       "      <td>0</td>\n",
       "      <td>0</td>\n",
       "      <td>0</td>\n",
       "      <td>0</td>\n",
       "      <td>0</td>\n",
       "      <td>0</td>\n",
       "      <td>0</td>\n",
       "      <td>3.0</td>\n",
       "      <td>0.0</td>\n",
       "    </tr>\n",
       "    <tr>\n",
       "      <th>22497</th>\n",
       "      <td>93.0</td>\n",
       "      <td>2.0</td>\n",
       "      <td>70.914550</td>\n",
       "      <td>0</td>\n",
       "      <td>0</td>\n",
       "      <td>0</td>\n",
       "      <td>0</td>\n",
       "      <td>0</td>\n",
       "      <td>0</td>\n",
       "      <td>0</td>\n",
       "      <td>...</td>\n",
       "      <td>0</td>\n",
       "      <td>0</td>\n",
       "      <td>0</td>\n",
       "      <td>0</td>\n",
       "      <td>0</td>\n",
       "      <td>0</td>\n",
       "      <td>0</td>\n",
       "      <td>0</td>\n",
       "      <td>4.0</td>\n",
       "      <td>0.0</td>\n",
       "    </tr>\n",
       "    <tr>\n",
       "      <th>40897</th>\n",
       "      <td>67.0</td>\n",
       "      <td>5.0</td>\n",
       "      <td>68.751603</td>\n",
       "      <td>0</td>\n",
       "      <td>0</td>\n",
       "      <td>0</td>\n",
       "      <td>0</td>\n",
       "      <td>0</td>\n",
       "      <td>0</td>\n",
       "      <td>0</td>\n",
       "      <td>...</td>\n",
       "      <td>0</td>\n",
       "      <td>0</td>\n",
       "      <td>0</td>\n",
       "      <td>0</td>\n",
       "      <td>0</td>\n",
       "      <td>0</td>\n",
       "      <td>0</td>\n",
       "      <td>0</td>\n",
       "      <td>3.0</td>\n",
       "      <td>0.0</td>\n",
       "    </tr>\n",
       "  </tbody>\n",
       "</table>\n",
       "<p>5 rows × 49 columns</p>\n",
       "</div>"
      ],
      "text/plain": [
       "        floor_area_sqm  Storey  remaining_lease_year  town_BEDOK  town_BISHAN  \\\n",
       "114942            59.0     5.0             54.752685           0            0   \n",
       "20899             95.0     2.0             89.997762           0            0   \n",
       "88355             60.0    14.0             63.084136           0            0   \n",
       "22497             93.0     2.0             70.914550           0            0   \n",
       "40897             67.0     5.0             68.751603           0            0   \n",
       "\n",
       "        town_BUKIT BATOK  town_BUKIT MERAH  town_BUKIT PANJANG  \\\n",
       "114942                 0                 0                   0   \n",
       "20899                  0                 0                   0   \n",
       "88355                  0                 0                   0   \n",
       "22497                  0                 0                   0   \n",
       "40897                  0                 0                   0   \n",
       "\n",
       "        town_BUKIT TIMAH  town_CENTRAL AREA  ...  \\\n",
       "114942                 0                  0  ...   \n",
       "20899                  0                  0  ...   \n",
       "88355                  0                  1  ...   \n",
       "22497                  0                  0  ...   \n",
       "40897                  0                  0  ...   \n",
       "\n",
       "        flat_model_Premium Apartment  flat_model_Premium Apartment Loft  \\\n",
       "114942                             0                                  0   \n",
       "20899                              1                                  0   \n",
       "88355                              0                                  0   \n",
       "22497                              0                                  0   \n",
       "40897                              0                                  0   \n",
       "\n",
       "        flat_model_Premium Maisonette  flat_model_Simplified  \\\n",
       "114942                              0                      0   \n",
       "20899                               0                      0   \n",
       "88355                               0                      0   \n",
       "22497                               0                      0   \n",
       "40897                               0                      0   \n",
       "\n",
       "        flat_model_Standard  flat_model_Terrace  flat_model_Type S1  \\\n",
       "114942                    0                   0                   0   \n",
       "20899                     0                   0                   0   \n",
       "88355                     0                   0                   0   \n",
       "22497                     0                   0                   0   \n",
       "40897                     0                   0                   0   \n",
       "\n",
       "        flat_model_Type S2  flat_cat  Is_executive  \n",
       "114942                   0       3.0           0.0  \n",
       "20899                    0       4.0           0.0  \n",
       "88355                    0       3.0           0.0  \n",
       "22497                    0       4.0           0.0  \n",
       "40897                    0       3.0           0.0  \n",
       "\n",
       "[5 rows x 49 columns]"
      ]
     },
     "execution_count": 6,
     "metadata": {},
     "output_type": "execute_result"
    }
   ],
   "source": [
    "# Create a variable \"is_executive\"\n",
    "\n",
    "final_df['Is_executive'] = final_df.flat_type.map({'EXECUTIVE': 1}) \n",
    "final_df[['Is_executive','flat_cat']]=final_df[['Is_executive','flat_cat']].replace(np.nan,0) #replace nan with 0\n",
    "final_df = final_df.drop(columns = 'flat_type') # drop flat type here\n",
    "final_df.sample(5) #sample "
   ]
  },
  {
   "cell_type": "code",
   "execution_count": 7,
   "metadata": {},
   "outputs": [],
   "source": [
    "# Prepare training and testing data\n",
    "\n",
    "from sklearn.model_selection import train_test_split\n",
    "\n",
    "X= final_df\n",
    "y= price\n",
    "\n",
    "\n",
    "X_train,X_test,y_train,y_test = train_test_split(X,y,test_size=0.2)"
   ]
  },
  {
   "cell_type": "markdown",
   "metadata": {},
   "source": [
    "## Feature Engineering"
   ]
  },
  {
   "cell_type": "code",
   "execution_count": 8,
   "metadata": {},
   "outputs": [
    {
     "data": {
      "text/plain": [
       "ExtraTreesRegressor()"
      ]
     },
     "execution_count": 8,
     "metadata": {},
     "output_type": "execute_result"
    }
   ],
   "source": [
    "from sklearn.ensemble import ExtraTreesRegressor\n",
    "sel=ExtraTreesRegressor(n_estimators=100)\n",
    "sel.fit(X_train,y_train)"
   ]
  },
  {
   "cell_type": "code",
   "execution_count": 9,
   "metadata": {},
   "outputs": [
    {
     "data": {
      "image/png": "[encoded data removed]",
      "text/plain": [
       "<Figure size 864x576 with 1 Axes>"
      ]
     },
     "metadata": {
      "needs_background": "light"
     },
     "output_type": "display_data"
    }
   ],
   "source": [
    "plt.figure(figsize = (12,8))\n",
    "feat_impt = pd.Series(sel.feature_importances_, index=X.columns)\n",
    "feat_impt.nlargest(20).plot(kind='bar')\n",
    "plt.show()"
   ]
  },
  {
   "cell_type": "markdown",
   "metadata": {},
   "source": [
    "## Random Forest Regressor"
   ]
  },
  {
   "cell_type": "code",
   "execution_count": 10,
   "metadata": {},
   "outputs": [],
   "source": [
    "from sklearn.ensemble import RandomForestRegressor\n",
    "\n",
    "rtree=RandomForestRegressor(n_estimators=300, random_state=42)"
   ]
  },
  {
   "cell_type": "code",
   "execution_count": 11,
   "metadata": {},
   "outputs": [
    {
     "data": {
      "text/plain": [
       "RandomForestRegressor(n_estimators=300, random_state=42)"
      ]
     },
     "execution_count": 11,
     "metadata": {},
     "output_type": "execute_result"
    }
   ],
   "source": [
    "# train model\n",
    "    \n",
    "rtree.fit(X_train,y_train)"
   ]
  },
  {
   "cell_type": "code",
   "execution_count": 12,
   "metadata": {},
   "outputs": [],
   "source": [
    "# test model\n",
    "\n",
    "y_pred = rtree.predict(X_test)"
   ]
  },
  {
   "cell_type": "code",
   "execution_count": 14,
   "metadata": {},
   "outputs": [
    {
     "name": "stdout",
     "output_type": "stream",
     "text": [
      "Mean absolute error: 27553.14383956683\n",
      "RMSE: 38654.46288236293\n",
      "R score: 0.9290879513167196\n"
     ]
    }
   ],
   "source": [
    "from sklearn.metrics import mean_squared_error,mean_absolute_error,r2_score,max_error\n",
    "mae = mean_absolute_error(y_test,y_pred)\n",
    "rmse = np.sqrt(mean_squared_error(y_test,y_pred))\n",
    "rs = r2_score(y_test,y_pred)\n",
    "print(\"Mean absolute error: \" + str(mae)\n",
    "     + \"\\nRMSE: \" + str(rmse)\n",
    "     + \"\\nR score: \" +str(rs))        #print mae rmse and r2 score"
   ]
  },
  {
   "cell_type": "code",
   "execution_count": 15,
   "metadata": {},
   "outputs": [
    {
     "name": "stdout",
     "output_type": "stream",
     "text": [
      "0.9859341742709792\n",
      "0.9290879513167196\n"
     ]
    }
   ],
   "source": [
    "# Overfit check\n",
    "print(rtree.score(X_train,y_train))\n",
    "print(rtree.score(X_test,y_test))"
   ]
  },
  {
   "cell_type": "markdown",
   "metadata": {},
   "source": [
    "## Hyper-Parameter tuning with XGBoost and halvinggridsearchCV"
   ]
  },
  {
   "cell_type": "code",
   "execution_count": 16,
   "metadata": {},
   "outputs": [],
   "source": [
    "#Using halving grid\n",
    "from sklearn.experimental import enable_halving_search_cv\n",
    "from sklearn.model_selection import HalvingGridSearchCV\n",
    "params = {\n",
    "        'colsample_bytree': [0.5, 0.7,0.9],\n",
    "        'max_depth': [7,9,11],\n",
    "        'n_estimators' : [300, 400, 500, 600],\n",
    "        'subsample' : [0.7,0.8,0.9],\n",
    "        'objective': ['reg:squarederror']\n",
    "    \n",
    "        }"
   ]
  },
  {
   "cell_type": "code",
   "execution_count": 17,
   "metadata": {},
   "outputs": [
    {
     "name": "stdout",
     "output_type": "stream",
     "text": [
      "n_iterations: 5\n",
      "n_required_iterations: 5\n",
      "n_possible_iterations: 5\n",
      "min_resources_: 1949\n",
      "max_resources_: 157923\n",
      "aggressive_elimination: False\n",
      "factor: 3\n",
      "----------\n",
      "iter: 0\n",
      "n_candidates: 108\n",
      "n_resources: 1949\n",
      "Fitting 5 folds for each of 108 candidates, totalling 540 fits\n",
      "----------\n",
      "iter: 1\n",
      "n_candidates: 36\n",
      "n_resources: 5847\n",
      "Fitting 5 folds for each of 36 candidates, totalling 180 fits\n",
      "----------\n",
      "iter: 2\n",
      "n_candidates: 12\n",
      "n_resources: 17541\n",
      "Fitting 5 folds for each of 12 candidates, totalling 60 fits\n",
      "----------\n",
      "iter: 3\n",
      "n_candidates: 4\n",
      "n_resources: 52623\n",
      "Fitting 5 folds for each of 4 candidates, totalling 20 fits\n",
      "----------\n",
      "iter: 4\n",
      "n_candidates: 2\n",
      "n_resources: 157869\n",
      "Fitting 5 folds for each of 2 candidates, totalling 10 fits\n",
      "Wall time: 9min 40s\n"
     ]
    },
    {
     "data": {
      "text/plain": [
       "{'colsample_bytree': 0.5,\n",
       " 'max_depth': 7,\n",
       " 'n_estimators': 400,\n",
       " 'objective': 'reg:squarederror',\n",
       " 'subsample': 0.9}"
      ]
     },
     "execution_count": 17,
     "metadata": {},
     "output_type": "execute_result"
    }
   ],
   "source": [
    "# Use halving grid search on xgboost\n",
    "\n",
    "from xgboost import XGBRegressor\n",
    "import time\n",
    "xgbooster = XGBRegressor()\n",
    "gridxg = HalvingGridSearchCV(\n",
    "                    estimator=xgbooster,\n",
    "                    param_grid=params,\n",
    "                    cv=5,\n",
    "                    n_jobs=6,\n",
    "                    verbose=1,\n",
    "                    min_resources='exhaust',\n",
    "                    error_score ='raise'\n",
    ")\n",
    "%time gridxg.fit(X_train,y_train)\n",
    "\n",
    "gridxg.best_params_"
   ]
  },
  {
   "cell_type": "code",
   "execution_count": 29,
   "metadata": {},
   "outputs": [
    {
     "name": "stdout",
     "output_type": "stream",
     "text": [
      "Wall time: 23.6 s\n",
      "Mean absolute error: 26024.038357041994\n",
      "RMSE: 36037.47840847168\n",
      "r2 Score: 0.9383646967649487\n"
     ]
    }
   ],
   "source": [
    "# Predict values with model\n",
    "\n",
    "xgb_model = XGBRegressor(\n",
    "                objective='reg:squarederror',\n",
    "                colsample_bytree=0.5,\n",
    "                learning_rate=0.1,\n",
    "                max_depth=12,\n",
    "                n_estimators=500,\n",
    "                subsample=0.9\n",
    "                )\n",
    "%time xgb_model.fit(X_train,y_train,early_stopping_rounds=5,eval_set=[(X_test,y_test)],verbose=False)\n",
    "\n",
    "y_pred2 = xgb_model.predict(X_test)\n",
    "mae2 = mean_absolute_error(y_test,y_pred2)\n",
    "rmse2 = np.sqrt(mean_squared_error(y_test,y_pred2))\n",
    "rs2 = r2_score(y_test,y_pred2)\n",
    "\n",
    "# Print scores\n",
    "\n",
    "print(\"Mean absolute error: \" + str(mae2)\n",
    "     + \"\\nRMSE: \" + str(rmse2) +\n",
    "     \"\\nr2 Score: \" + str(rs2))"
   ]
  },
  {
   "cell_type": "code",
   "execution_count": 30,
   "metadata": {},
   "outputs": [
    {
     "name": "stdout",
     "output_type": "stream",
     "text": [
      "0.9623734455756948\n",
      "0.9383646967649487\n"
     ]
    }
   ],
   "source": [
    "#Overfit check\n",
    "\n",
    "print(xgb_model.score(X_train,y_train))\n",
    "\n",
    "print(xgb_model.score(X_test,y_test))"
   ]
  },
  {
   "cell_type": "code",
   "execution_count": 31,
   "metadata": {},
   "outputs": [
    {
     "name": "stderr",
     "output_type": "stream",
     "text": [
      "<ipython-input-31-73f78c501c15>:6: UserWarning: Matplotlib is currently using module://ipykernel.pylab.backend_inline, which is a non-GUI backend, so cannot show the figure.\n",
      "  fig.show()\n"
     ]
    },
    {
     "data": {
      "image/png": "[encoded data removed]",
      "text/plain": [
       "<Figure size 432x288 with 2 Axes>"
      ]
     },
     "metadata": {
      "needs_background": "light"
     },
     "output_type": "display_data"
    }
   ],
   "source": [
    "fig, (ax1,ax2) = plt.subplots(1,2) #print the histplot of XGBoost and Random forest pred values for comparison\n",
    "ax1.set_title('Random Forest')\n",
    "ax2.set_title('XGBoost')\n",
    "sns.histplot(y_pred-y_test,ax=ax1,)\n",
    "sns.histplot(y_pred2-y_test,ax=ax2)\n",
    "fig.show()"
   ]
  },
  {
   "cell_type": "code",
   "execution_count": 32,
   "metadata": {},
   "outputs": [],
   "source": [
    "# Prepare values to concat\n",
    "\n",
    "df_ypred = pd.DataFrame(y_pred, columns = ['Random Forest'])\n",
    "df_ypred2 = pd.DataFrame(y_pred2, columns =['XGBRegressor'])\n",
    "df_ytest = pd.DataFrame(y_test, columns = ['resale_price'])\n",
    "df_ypred.reset_index(drop=True, inplace=True)\n",
    "df_ypred2.reset_index(drop=True, inplace=True)\n",
    "df_ytest.reset_index(drop=True, inplace=True)"
   ]
  },
  {
   "cell_type": "code",
   "execution_count": 33,
   "metadata": {},
   "outputs": [],
   "source": [
    "# Round values\n",
    "\n",
    "df_ypred =df_ypred.round(0)\n",
    "df_ypred2=df_ypred2.round(0)"
   ]
  },
  {
   "cell_type": "code",
   "execution_count": 34,
   "metadata": {},
   "outputs": [
    {
     "data": {
      "text/html": [
       "<div>\n",
       "<style scoped>\n",
       "    .dataframe tbody tr th:only-of-type {\n",
       "        vertical-align: middle;\n",
       "    }\n",
       "\n",
       "    .dataframe tbody tr th {\n",
       "        vertical-align: top;\n",
       "    }\n",
       "\n",
       "    .dataframe thead th {\n",
       "        text-align: right;\n",
       "    }\n",
       "</style>\n",
       "<table border=\"1\" class=\"dataframe\">\n",
       "  <thead>\n",
       "    <tr style=\"text-align: right;\">\n",
       "      <th></th>\n",
       "      <th>resale_price</th>\n",
       "      <th>Random Forest</th>\n",
       "      <th>XGBRegressor</th>\n",
       "    </tr>\n",
       "  </thead>\n",
       "  <tbody>\n",
       "    <tr>\n",
       "      <th>0</th>\n",
       "      <td>350000.0</td>\n",
       "      <td>323726.0</td>\n",
       "      <td>353375.0</td>\n",
       "    </tr>\n",
       "    <tr>\n",
       "      <th>1</th>\n",
       "      <td>870000.0</td>\n",
       "      <td>866839.0</td>\n",
       "      <td>846428.0</td>\n",
       "    </tr>\n",
       "    <tr>\n",
       "      <th>2</th>\n",
       "      <td>428000.0</td>\n",
       "      <td>481109.0</td>\n",
       "      <td>464422.0</td>\n",
       "    </tr>\n",
       "    <tr>\n",
       "      <th>3</th>\n",
       "      <td>280000.0</td>\n",
       "      <td>324156.0</td>\n",
       "      <td>341826.0</td>\n",
       "    </tr>\n",
       "    <tr>\n",
       "      <th>4</th>\n",
       "      <td>290000.0</td>\n",
       "      <td>291339.0</td>\n",
       "      <td>289215.0</td>\n",
       "    </tr>\n",
       "    <tr>\n",
       "      <th>...</th>\n",
       "      <td>...</td>\n",
       "      <td>...</td>\n",
       "      <td>...</td>\n",
       "    </tr>\n",
       "    <tr>\n",
       "      <th>39476</th>\n",
       "      <td>755888.0</td>\n",
       "      <td>677113.0</td>\n",
       "      <td>716402.0</td>\n",
       "    </tr>\n",
       "    <tr>\n",
       "      <th>39477</th>\n",
       "      <td>245000.0</td>\n",
       "      <td>262322.0</td>\n",
       "      <td>259320.0</td>\n",
       "    </tr>\n",
       "    <tr>\n",
       "      <th>39478</th>\n",
       "      <td>550000.0</td>\n",
       "      <td>467468.0</td>\n",
       "      <td>449598.0</td>\n",
       "    </tr>\n",
       "    <tr>\n",
       "      <th>39479</th>\n",
       "      <td>270000.0</td>\n",
       "      <td>260637.0</td>\n",
       "      <td>257809.0</td>\n",
       "    </tr>\n",
       "    <tr>\n",
       "      <th>39480</th>\n",
       "      <td>370000.0</td>\n",
       "      <td>398939.0</td>\n",
       "      <td>384959.0</td>\n",
       "    </tr>\n",
       "  </tbody>\n",
       "</table>\n",
       "<p>39481 rows × 3 columns</p>\n",
       "</div>"
      ],
      "text/plain": [
       "       resale_price  Random Forest  XGBRegressor\n",
       "0          350000.0       323726.0      353375.0\n",
       "1          870000.0       866839.0      846428.0\n",
       "2          428000.0       481109.0      464422.0\n",
       "3          280000.0       324156.0      341826.0\n",
       "4          290000.0       291339.0      289215.0\n",
       "...             ...            ...           ...\n",
       "39476      755888.0       677113.0      716402.0\n",
       "39477      245000.0       262322.0      259320.0\n",
       "39478      550000.0       467468.0      449598.0\n",
       "39479      270000.0       260637.0      257809.0\n",
       "39480      370000.0       398939.0      384959.0\n",
       "\n",
       "[39481 rows x 3 columns]"
      ]
     },
     "execution_count": 34,
     "metadata": {},
     "output_type": "execute_result"
    }
   ],
   "source": [
    "# Concat into new list of y values\n",
    "\n",
    "concat_list = [df_ytest,df_ypred,df_ypred2]\n",
    "df_y = pd.concat([df_ytest,df_ypred,df_ypred2], axis=1)\n",
    "df_y"
   ]
  },
  {
   "cell_type": "code",
   "execution_count": 35,
   "metadata": {},
   "outputs": [
    {
     "name": "stdout",
     "output_type": "stream",
     "text": [
      "Max difference in price for random forest is : 0.675880217785844\n",
      "Max difference in price for XGB is : 0.5130495867768595\n"
     ]
    }
   ],
   "source": [
    "# This finds the absolute biggest % difference between the models \n",
    "\n",
    "maxdiffrt = ((df_y['resale_price']-df_y['Random Forest'])/(df_y['resale_price'])).abs().max()\n",
    "maxdiffxgb =((df_y['resale_price']-df_y['XGBRegressor'])/(df_y['resale_price'])).abs().max()\n",
    "\n",
    "print(\"Max difference in price for random forest is : \" + str(maxdiffrt)\n",
    "     +\"\\nMax difference in price for XGB is : \" + str(maxdiffxgb))"
   ]
  },
  {
   "cell_type": "code",
   "execution_count": 36,
   "metadata": {},
   "outputs": [
    {
     "name": "stdout",
     "output_type": "stream",
     "text": [
      "Row with greatest difference:\n",
      "       resale_price  Random Forest  XGBRegressor\n",
      "31477      275500.0       461705.0      413138.0\n",
      "       resale_price  Random Forest  XGBRegressor\n",
      "17802      242000.0       340100.0      366158.0\n"
     ]
    }
   ],
   "source": [
    "# This finds and prints the row with the biggest % difference\n",
    "\n",
    "rtdiffindex = ((df_y['resale_price']-df_y['Random Forest'])/(df_y['resale_price'])).abs().idxmax()\n",
    "xgbdiffindex =((df_y['resale_price']-df_y['XGBRegressor'])/(df_y['resale_price'])).abs().idxmax()\n",
    "print(\"Row with greatest difference:\")\n",
    "print(df_y.loc[[rtdiffindex]])\n",
    "print(df_y.loc[[xgbdiffindex]])"
   ]
  }
 ],
 "metadata": {
  "kernelspec": {
   "display_name": "Python 3",
   "language": "python",
   "name": "python3"
  },
  "language_info": {
   "codemirror_mode": {
    "name": "ipython",
    "version": 3
   },
   "file_extension": ".py",
   "mimetype": "text/x-python",
   "name": "python",
   "nbconvert_exporter": "python",
   "pygments_lexer": "ipython3",
   "version": "3.8.5"
  }
 },
 "nbformat": 4,
 "nbformat_minor": 4
}
